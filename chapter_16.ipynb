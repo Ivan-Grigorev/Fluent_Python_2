{
 "cells": [
  {
   "cell_type": "markdown",
   "id": "5b38aa20-2b65-44fa-b5b4-57992967721d",
   "metadata": {},
   "source": [
    "<h1>Chapter 16. Overload of Operators</h1>"
   ]
  },
  {
   "cell_type": "markdown",
   "id": "bac03671-3450-4a5d-a40c-1111bac5bd5e",
   "metadata": {},
   "source": [
    "**Operator Overloading** in Python allows user-defined classes to redefine the behavior of built-in operators (e.g., `+`, `-`, `*`, etc.) when applied to their instances. This is done by implementing special methods, also known as magic methods, in the class.\n",
    "\n",
    "Each operator has a corresponding magic method, which is automatically invoked when the operator is used. For example, `+` invokes the `__add__()` method, `-` invokes `__sub__()`, and so on. This feature allows custom objects to behave like built-in types in arithmetic, comparison, and other operations."
   ]
  },
  {
   "cell_type": "markdown",
   "id": "2fbd085d-b682-40aa-826f-f170e193c2e8",
   "metadata": {},
   "source": [
    "<h2>Unary Operators</h2>"
   ]
  },
  {
   "cell_type": "markdown",
   "id": "af83398d-9612-4c9d-b10f-844cba799f68",
   "metadata": {},
   "source": [
    "Unary operators that operate on a single operand. In Python, unary operators include `-` (unary minus), `+` (unary plus) and `~` (bitwise NOT). "
   ]
  },
  {
   "cell_type": "markdown",
   "id": "07fe2090-72ca-4a29-8544-9f7ffdbfd8ed",
   "metadata": {},
   "source": [
    "`-` implemented with `__neg__`. Unary arithmetic minus. If `x` is `-2`, then `-x == 2`"
   ]
  },
  {
   "cell_type": "code",
   "execution_count": 1,
   "id": "f30a8a47-31bb-47e0-a520-6d06eb616339",
   "metadata": {},
   "outputs": [
    {
     "data": {
      "text/plain": [
       "2"
      ]
     },
     "execution_count": 1,
     "metadata": {},
     "output_type": "execute_result"
    }
   ],
   "source": [
    "class Number:\n",
    "    def __init__(self, value):\n",
    "        self.value = value\n",
    "\n",
    "    def __neg__(self):\n",
    "        return Number(-self.value)\n",
    "\n",
    "\n",
    "x = Number(-2)\n",
    "(-x).value"
   ]
  },
  {
   "cell_type": "markdown",
   "id": "3a568367-c69e-49c0-a874-f24286f76217",
   "metadata": {},
   "source": [
    "`+` implemeted with `__pos__`. Unary arithmetic plus. Normally `x == +x`, but there are a few special cases where this is incorrect."
   ]
  },
  {
   "cell_type": "code",
   "execution_count": 2,
   "id": "2c0497f9-ef62-422e-a00e-ed9534f10ca1",
   "metadata": {},
   "outputs": [
    {
     "data": {
      "text/plain": [
       "2"
      ]
     },
     "execution_count": 2,
     "metadata": {},
     "output_type": "execute_result"
    }
   ],
   "source": [
    "class Number:\n",
    "    def __init__(self, value):\n",
    "        self.value = value\n",
    "\n",
    "    def __pos__(self):\n",
    "        return Number(+self.value)\n",
    "\n",
    "\n",
    "x = Number(2)\n",
    "(+x).value"
   ]
  },
  {
   "cell_type": "markdown",
   "id": "520c4042-67a9-4610-953f-232326f9339c",
   "metadata": {},
   "source": [
    "`~` implemetned with `__invert__`. Bitwise inversion of an integer, defined as `~x == -(x + 1)`. If `x` is `2`, then `~x == -3`."
   ]
  },
  {
   "cell_type": "code",
   "execution_count": 3,
   "id": "ede105c4-3886-456d-885e-965a86955f29",
   "metadata": {},
   "outputs": [
    {
     "data": {
      "text/plain": [
       "-3"
      ]
     },
     "execution_count": 3,
     "metadata": {},
     "output_type": "execute_result"
    }
   ],
   "source": [
    "class Number:\n",
    "    def __init__(self, value):\n",
    "        self.value = value\n",
    "\n",
    "    def __invert__(self):\n",
    "        return Number(~self.value)\n",
    "\n",
    "\n",
    "x = Number(2)\n",
    "(~x).value"
   ]
  },
  {
   "cell_type": "markdown",
   "id": "5b3afa9b-5691-427e-9397-606219fdb04f",
   "metadata": {},
   "source": [
    "<h3>When `x` is not equal to `+x`</h3>"
   ]
  },
  {
   "cell_type": "markdown",
   "id": "527756dd-1acb-4430-902c-530c4acccd1e",
   "metadata": {},
   "source": [
    "Changing precision in an arithmetic context can cause `x` to be different from `+x`"
   ]
  },
  {
   "cell_type": "code",
   "execution_count": 4,
   "id": "0b8c0083-1358-4577-99f1-0b6b0496342f",
   "metadata": {},
   "outputs": [
    {
     "data": {
      "text/plain": [
       "Decimal('0.3333333333333333333333333333333333333333')"
      ]
     },
     "execution_count": 4,
     "metadata": {},
     "output_type": "execute_result"
    }
   ],
   "source": [
    "import decimal\n",
    "\n",
    "# Get a reference to the current global arithmetic context\n",
    "ctx = decimal.getcontext()\n",
    "# Set the precision of the arithmetic context to 40\n",
    "ctx.prec = 40\n",
    "# Calculate 1/3 with the current precision\n",
    "one_third = decimal.Decimal('1') / decimal.Decimal('3')\n",
    "# Print the result - 40 digits after the dot\n",
    "one_third"
   ]
  },
  {
   "cell_type": "code",
   "execution_count": 5,
   "id": "1fc8e6dc-b6f7-46be-8a0b-d80dd00e0290",
   "metadata": {},
   "outputs": [
    {
     "data": {
      "text/plain": [
       "True"
      ]
     },
     "execution_count": 5,
     "metadata": {},
     "output_type": "execute_result"
    }
   ],
   "source": [
    "one_third == +one_third"
   ]
  },
  {
   "cell_type": "code",
   "execution_count": 6,
   "id": "6322cf93-1dd2-4913-88fa-6e7b5eb3bce6",
   "metadata": {},
   "outputs": [
    {
     "data": {
      "text/plain": [
       "False"
      ]
     },
     "execution_count": 6,
     "metadata": {},
     "output_type": "execute_result"
    }
   ],
   "source": [
    "# Decrease precision to 28 - the default value for the Decimal class\n",
    "ctx.prec = 28\n",
    "one_third == +one_third"
   ]
  },
  {
   "cell_type": "code",
   "execution_count": 7,
   "id": "8dc5843a-dd78-4f68-b345-52f99bb13e9f",
   "metadata": {},
   "outputs": [
    {
     "data": {
      "text/plain": [
       "Decimal('0.3333333333333333333333333333')"
      ]
     },
     "execution_count": 7,
     "metadata": {},
     "output_type": "execute_result"
    }
   ],
   "source": [
    "+one_third"
   ]
  },
  {
   "cell_type": "markdown",
   "id": "69ddbbcd-7cc5-45f9-b9ba-072796ca53d4",
   "metadata": {},
   "source": [
    "Unary `+` generates a new `Counter` object, which does not include elements with zero and negative counters"
   ]
  },
  {
   "cell_type": "code",
   "execution_count": 8,
   "id": "f182aaf0-7d3f-47c8-9318-84d9705a4294",
   "metadata": {},
   "outputs": [
    {
     "data": {
      "text/plain": [
       "Counter({'a': 5, 'b': 2, 'r': 2, 'c': 1, 'd': 1})"
      ]
     },
     "execution_count": 8,
     "metadata": {},
     "output_type": "execute_result"
    }
   ],
   "source": [
    "from collections import Counter\n",
    "\n",
    "ct = Counter('abracadabra')\n",
    "ct"
   ]
  },
  {
   "cell_type": "code",
   "execution_count": 9,
   "id": "8998a9f8-b4e2-4b89-acc5-5d3b5c2e3a51",
   "metadata": {},
   "outputs": [
    {
     "data": {
      "text/plain": [
       "Counter({'a': 5, 'b': 2, 'c': 1, 'd': 0, 'r': -3})"
      ]
     },
     "execution_count": 9,
     "metadata": {},
     "output_type": "execute_result"
    }
   ],
   "source": [
    "ct['r'] = -3\n",
    "ct['d'] = 0\n",
    "ct"
   ]
  },
  {
   "cell_type": "code",
   "execution_count": 10,
   "id": "f19a68ca-e50b-4a34-a4c4-42409b650115",
   "metadata": {},
   "outputs": [
    {
     "data": {
      "text/plain": [
       "Counter({'a': 5, 'b': 2, 'c': 1})"
      ]
     },
     "execution_count": 10,
     "metadata": {},
     "output_type": "execute_result"
    }
   ],
   "source": [
    "+ct"
   ]
  }
 ],
 "metadata": {
  "kernelspec": {
   "display_name": "Python 3 (ipykernel)",
   "language": "python",
   "name": "python3"
  },
  "language_info": {
   "codemirror_mode": {
    "name": "ipython",
    "version": 3
   },
   "file_extension": ".py",
   "mimetype": "text/x-python",
   "name": "python",
   "nbconvert_exporter": "python",
   "pygments_lexer": "ipython3",
   "version": "3.12.1"
  }
 },
 "nbformat": 4,
 "nbformat_minor": 5
}
