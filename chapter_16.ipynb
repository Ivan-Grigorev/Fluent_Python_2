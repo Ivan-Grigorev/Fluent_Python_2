{
 "cells": [
  {
   "cell_type": "markdown",
   "id": "5b38aa20-2b65-44fa-b5b4-57992967721d",
   "metadata": {},
   "source": [
    "<h1>Chapter 16. Overload of Opterators</h1>"
   ]
  },
  {
   "cell_type": "code",
   "execution_count": null,
   "id": "cb91abc4-ae66-4a6f-8351-a7d3aeccde57",
   "metadata": {},
   "outputs": [],
   "source": []
  }
 ],
 "metadata": {
  "kernelspec": {
   "display_name": "Python 3 (ipykernel)",
   "language": "python",
   "name": "python3"
  },
  "language_info": {
   "codemirror_mode": {
    "name": "ipython",
    "version": 3
   },
   "file_extension": ".py",
   "mimetype": "text/x-python",
   "name": "python",
   "nbconvert_exporter": "python",
   "pygments_lexer": "ipython3",
   "version": "3.12.1"
  }
 },
 "nbformat": 4,
 "nbformat_minor": 5
}
