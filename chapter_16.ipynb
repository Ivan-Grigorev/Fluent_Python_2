{
 "cells": [
  {
   "cell_type": "markdown",
   "id": "5b38aa20-2b65-44fa-b5b4-57992967721d",
   "metadata": {},
   "source": [
    "<h1>Chapter 16. Overload of Operators</h1>"
   ]
  },
  {
   "cell_type": "markdown",
   "id": "bac03671-3450-4a5d-a40c-1111bac5bd5e",
   "metadata": {},
   "source": [
    "**Operator Overloading** in Python allows user-defined classes to redefine the behavior of built-in operators (e.g., `+`, `-`, `*`, etc.) when applied to their instances. This is done by implementing special methods, also known as magic methods, in the class.\n",
    "\n",
    "Each operator has a corresponding magic method, which is automatically invoked when the operator is used. For example, `+` invokes the `__add__()` method, `-` invokes `__sub__()`, and so on. This feature allows custom objects to behave like built-in types in arithmetic, comparison, and other operations."
   ]
  },
  {
   "cell_type": "markdown",
   "id": "2fbd085d-b682-40aa-826f-f170e193c2e8",
   "metadata": {},
   "source": [
    "<h2>Unary Operators</h2>"
   ]
  },
  {
   "cell_type": "markdown",
   "id": "af83398d-9612-4c9d-b10f-844cba799f68",
   "metadata": {},
   "source": [
    "Unary operators that operate on a single operand. In Python, unary operators include `-` (unary minus), `+` (unary plus) and `~` (bitwise NOT). "
   ]
  },
  {
   "cell_type": "markdown",
   "id": "07fe2090-72ca-4a29-8544-9f7ffdbfd8ed",
   "metadata": {},
   "source": [
    "`-` implemented with `__neg__`. Unary arithmetic minus. If `x` is `-2`, then `-x == 2`"
   ]
  },
  {
   "cell_type": "code",
   "execution_count": 1,
   "id": "f30a8a47-31bb-47e0-a520-6d06eb616339",
   "metadata": {},
   "outputs": [
    {
     "data": {
      "text/plain": [
       "2"
      ]
     },
     "execution_count": 1,
     "metadata": {},
     "output_type": "execute_result"
    }
   ],
   "source": [
    "class Number:\n",
    "    def __init__(self, value):\n",
    "        self.value = value\n",
    "\n",
    "    def __neg__(self):\n",
    "        return Number(-self.value)\n",
    "\n",
    "\n",
    "x = Number(-2)\n",
    "(-x).value"
   ]
  },
  {
   "cell_type": "markdown",
   "id": "3a568367-c69e-49c0-a874-f24286f76217",
   "metadata": {},
   "source": [
    "`+` implemeted with `__pos__`. Unary arithmetic plus. Normally `x == +x`, but there are a few special cases where this is incorrect."
   ]
  },
  {
   "cell_type": "code",
   "execution_count": 2,
   "id": "2c0497f9-ef62-422e-a00e-ed9534f10ca1",
   "metadata": {},
   "outputs": [
    {
     "data": {
      "text/plain": [
       "2"
      ]
     },
     "execution_count": 2,
     "metadata": {},
     "output_type": "execute_result"
    }
   ],
   "source": [
    "class Number:\n",
    "    def __init__(self, value):\n",
    "        self.value = value\n",
    "\n",
    "    def __pos__(self):\n",
    "        return Number(+self.value)\n",
    "\n",
    "\n",
    "x = Number(2)\n",
    "(+x).value"
   ]
  },
  {
   "cell_type": "markdown",
   "id": "520c4042-67a9-4610-953f-232326f9339c",
   "metadata": {},
   "source": [
    "`~` implemetned with `__invert__`. Bitwise inversion of an integer, defined as `~x == -(x + 1)`. If `x` is `2`, then `~x == -3`."
   ]
  },
  {
   "cell_type": "code",
   "execution_count": 3,
   "id": "ede105c4-3886-456d-885e-965a86955f29",
   "metadata": {},
   "outputs": [
    {
     "data": {
      "text/plain": [
       "-3"
      ]
     },
     "execution_count": 3,
     "metadata": {},
     "output_type": "execute_result"
    }
   ],
   "source": [
    "class Number:\n",
    "    def __init__(self, value):\n",
    "        self.value = value\n",
    "\n",
    "    def __invert__(self):\n",
    "        return Number(~self.value)\n",
    "\n",
    "\n",
    "x = Number(2)\n",
    "(~x).value"
   ]
  },
  {
   "cell_type": "markdown",
   "id": "5b3afa9b-5691-427e-9397-606219fdb04f",
   "metadata": {},
   "source": [
    "<h3>When `x` is not equal to `+x`</h3>"
   ]
  },
  {
   "cell_type": "markdown",
   "id": "527756dd-1acb-4430-902c-530c4acccd1e",
   "metadata": {},
   "source": [
    "Changing precision in an arithmetic context can cause `x` to be different from `+x`"
   ]
  },
  {
   "cell_type": "code",
   "execution_count": 4,
   "id": "0b8c0083-1358-4577-99f1-0b6b0496342f",
   "metadata": {},
   "outputs": [
    {
     "data": {
      "text/plain": [
       "Decimal('0.3333333333333333333333333333333333333333')"
      ]
     },
     "execution_count": 4,
     "metadata": {},
     "output_type": "execute_result"
    }
   ],
   "source": [
    "import decimal\n",
    "\n",
    "# Get a reference to the current global arithmetic context\n",
    "ctx = decimal.getcontext()\n",
    "# Set the precision of the arithmetic context to 40\n",
    "ctx.prec = 40\n",
    "# Calculate 1/3 with the current precision\n",
    "one_third = decimal.Decimal('1') / decimal.Decimal('3')\n",
    "# Print the result - 40 digits after the dot\n",
    "one_third"
   ]
  },
  {
   "cell_type": "code",
   "execution_count": 5,
   "id": "1fc8e6dc-b6f7-46be-8a0b-d80dd00e0290",
   "metadata": {},
   "outputs": [
    {
     "data": {
      "text/plain": [
       "True"
      ]
     },
     "execution_count": 5,
     "metadata": {},
     "output_type": "execute_result"
    }
   ],
   "source": [
    "one_third == +one_third"
   ]
  },
  {
   "cell_type": "code",
   "execution_count": 6,
   "id": "6322cf93-1dd2-4913-88fa-6e7b5eb3bce6",
   "metadata": {},
   "outputs": [
    {
     "data": {
      "text/plain": [
       "False"
      ]
     },
     "execution_count": 6,
     "metadata": {},
     "output_type": "execute_result"
    }
   ],
   "source": [
    "# Decrease precision to 28 - the default value for the Decimal class\n",
    "ctx.prec = 28\n",
    "one_third == +one_third"
   ]
  },
  {
   "cell_type": "code",
   "execution_count": 7,
   "id": "8dc5843a-dd78-4f68-b345-52f99bb13e9f",
   "metadata": {},
   "outputs": [
    {
     "data": {
      "text/plain": [
       "Decimal('0.3333333333333333333333333333')"
      ]
     },
     "execution_count": 7,
     "metadata": {},
     "output_type": "execute_result"
    }
   ],
   "source": [
    "+one_third"
   ]
  },
  {
   "cell_type": "markdown",
   "id": "69ddbbcd-7cc5-45f9-b9ba-072796ca53d4",
   "metadata": {},
   "source": [
    "Unary `+` generates a new `Counter` object, which does not include elements with zero and negative counters"
   ]
  },
  {
   "cell_type": "code",
   "execution_count": 8,
   "id": "f182aaf0-7d3f-47c8-9318-84d9705a4294",
   "metadata": {},
   "outputs": [
    {
     "data": {
      "text/plain": [
       "Counter({'a': 5, 'b': 2, 'r': 2, 'c': 1, 'd': 1})"
      ]
     },
     "execution_count": 8,
     "metadata": {},
     "output_type": "execute_result"
    }
   ],
   "source": [
    "from collections import Counter\n",
    "\n",
    "ct = Counter('abracadabra')\n",
    "ct"
   ]
  },
  {
   "cell_type": "code",
   "execution_count": 9,
   "id": "8998a9f8-b4e2-4b89-acc5-5d3b5c2e3a51",
   "metadata": {},
   "outputs": [
    {
     "data": {
      "text/plain": [
       "Counter({'a': 5, 'b': 2, 'c': 1, 'd': 0, 'r': -3})"
      ]
     },
     "execution_count": 9,
     "metadata": {},
     "output_type": "execute_result"
    }
   ],
   "source": [
    "ct['r'] = -3\n",
    "ct['d'] = 0\n",
    "ct"
   ]
  },
  {
   "cell_type": "code",
   "execution_count": 10,
   "id": "f19a68ca-e50b-4a34-a4c4-42409b650115",
   "metadata": {},
   "outputs": [
    {
     "data": {
      "text/plain": [
       "Counter({'a': 5, 'b': 2, 'c': 1})"
      ]
     },
     "execution_count": 10,
     "metadata": {},
     "output_type": "execute_result"
    }
   ],
   "source": [
    "+ct"
   ]
  },
  {
   "cell_type": "markdown",
   "id": "ea8a6a74-b8a1-4fff-8b2d-9b2b68cbf19e",
   "metadata": {},
   "source": [
    "<h2>Overloading of the Vector Addition Operator <code>+</code></h2>"
   ]
  },
  {
   "cell_type": "markdown",
   "id": "e2757f7d-4360-4bae-987f-9978f05dcc34",
   "metadata": {},
   "source": [
    "This `Vector` class represents a multidimensional vector with support for several commomn operations."
   ]
  },
  {
   "cell_type": "code",
   "execution_count": 11,
   "id": "947155e9-d622-41a5-a0c1-52bb532ad21b",
   "metadata": {},
   "outputs": [],
   "source": [
    "import functools\n",
    "import itertools\n",
    "import math\n",
    "import operator\n",
    "import reprlib\n",
    "from array import array\n",
    "from collections import abc\n",
    "\n",
    "\n",
    "class Vector:\n",
    "    typecode = 'd'\n",
    "\n",
    "    def __init__(self, components):\n",
    "        self._components = array(self.typecode, components)\n",
    "\n",
    "    def __iter__(self):\n",
    "        return iter(self._components)\n",
    "\n",
    "    def __repr__(self):\n",
    "        components = reprlib.repr(self._components)\n",
    "        components = components[components.find('['): -1]\n",
    "        return f'Vector({components})'\n",
    "\n",
    "    def __str__(self):\n",
    "        return str(tuple(self))\n",
    "\n",
    "    def __bytes__(self):\n",
    "        return bytes([ord(self.typecode)]) + bytes(self._components)\n",
    "\n",
    "    def __eq__(self, other):\n",
    "        return len(self) == len(other) and all(a == b for a, b in zip(self, other))\n",
    "\n",
    "    def __hash__(self):\n",
    "        hashes = (hash(x) for x in self)\n",
    "        return functools.reduce(operator.xor, hashes, 0)\n",
    "\n",
    "    def __abs__(self):\n",
    "        return math.hypot(*self)\n",
    "\n",
    "    def __neg__(self):\n",
    "        return Vector(-x for x in self)\n",
    "\n",
    "    def __pos__(self):\n",
    "        return Vector(self)\n",
    "\n",
    "    def __bool__(self):\n",
    "        return bool(abs(self))\n",
    "\n",
    "    def __len__(self):\n",
    "        return len(self._components)\n",
    "\n",
    "    def __getitem__(self, key):\n",
    "        if isinstance(key, slice):\n",
    "            cls = type(self)\n",
    "            return cls(self._components[key])\n",
    "        index = operator.index(key)\n",
    "        return self._components[index]\n",
    "\n",
    "    __match_args__ = ('x', 'y', 'z', 't')\n",
    "\n",
    "    def __getattr__(self, name):\n",
    "        cls = type(self)\n",
    "        try:\n",
    "            pos = cls.__match_args__.index(name)\n",
    "        except ValueError:\n",
    "            pos = -1\n",
    "        if 0 <= pos < len(self._components):\n",
    "            return self._components[pos]\n",
    "        msg = f'{cls.__name__!r} object has no attribute {name!r}'\n",
    "        raise AttributeError(msg)\n",
    "\n",
    "    def angle(self, n):\n",
    "        r = math.hypot(*self[n:])\n",
    "        a = math.atan2(r, self[n - 1])\n",
    "        if (n == len(self) - 1) and (self[-1] < 0):\n",
    "            return math.pi * 2 - a\n",
    "        else:\n",
    "            return a\n",
    "\n",
    "    def angles(self):\n",
    "        return (self.angle(n) for n in range(1, len(self)))\n",
    "\n",
    "    def __format__(self, fmt_spec=''):\n",
    "        if fmt_spec.endswith('h'):  # hyperspherical coordinates\n",
    "            fmt_spec = fmt_spec[:-1]\n",
    "            coords = itertools.chain([abs(self)], self.angles())\n",
    "            outer_fmt = '<{}>'\n",
    "        else:\n",
    "            coords = self\n",
    "            outer_fmt = '({})'\n",
    "        components = (format(c, fmt_spec) for c in coords)\n",
    "        return outer_fmt.format(', '.join(components))\n",
    "\n",
    "    @classmethod\n",
    "    def frombytes(cls, octets):\n",
    "        typecode = chr(octets[0])\n",
    "        memv = memoryview(octets[1:]).cast(typecode)\n",
    "        return cls(memv)\n",
    "\n",
    "    def __add__(self, other):\n",
    "        try:\n",
    "            pairs = itertools.zip_longest(self, other, fillvalue=0.0)\n",
    "            return Vector(a + b for a, b in pairs)\n",
    "        except TypeError:\n",
    "            return NotImplemented\n",
    "\n",
    "    def __radd__(self, other):\n",
    "        return self + other\n",
    "\n",
    "    def __mul__(self, scalar):\n",
    "        try:\n",
    "            factor = float(scalar)\n",
    "        except TypeError:\n",
    "            return NotImplemented\n",
    "        return Vector(n * factor for n in self)\n",
    "\n",
    "    def __rmul__(self, scalar):\n",
    "        return self * scalar\n",
    "\n",
    "    def __matmul__(self, other):\n",
    "        if isinstance(other, abc.Sized) and isinstance(other, abc.Iterable):\n",
    "            if len(self) == len(other):\n",
    "                return sum(a * b for a, b in zip(self, other))\n",
    "            else:\n",
    "                raise ValueError('@ requires vectors of equal length.')\n",
    "        else:\n",
    "            return NotImplemented\n",
    "\n",
    "    def __rmatmul__(self, other):\n",
    "        return self @ other"
   ]
  },
  {
   "cell_type": "markdown",
   "id": "b55d52fb-ddd2-437d-98c9-d2be5bfea1dc",
   "metadata": {},
   "source": [
    "The addition of two vectors gives a new vector whose components are sums of the corresponding components of the summands"
   ]
  },
  {
   "cell_type": "code",
   "execution_count": 12,
   "id": "0c7a68e2-2804-4fa4-92a7-6e0f3f6a7f15",
   "metadata": {},
   "outputs": [
    {
     "data": {
      "text/plain": [
       "Vector([5.0, 7.0, 9.0])"
      ]
     },
     "execution_count": 12,
     "metadata": {},
     "output_type": "execute_result"
    }
   ],
   "source": [
    "v1 = Vector([1, 2, 3])\n",
    "v2 = Vector([4, 5, 6])\n",
    "\n",
    "v1 + v2"
   ]
  },
  {
   "cell_type": "code",
   "execution_count": 13,
   "id": "bbb2c02a-372a-4272-a50e-0f2cd1ea81d6",
   "metadata": {},
   "outputs": [
    {
     "data": {
      "text/plain": [
       "True"
      ]
     },
     "execution_count": 13,
     "metadata": {},
     "output_type": "execute_result"
    }
   ],
   "source": [
    "v1 + v2 == Vector([1 + 4, 2 + 5, 3 + 6])"
   ]
  },
  {
   "cell_type": "markdown",
   "id": "bed10245-28e6-4c3a-83dc-ad2f0eb0cb34",
   "metadata": {},
   "source": [
    "Add two `Vector` instances of different lengths"
   ]
  },
  {
   "cell_type": "code",
   "execution_count": 14,
   "id": "faf21702-ab05-4c60-9e9b-0cac8d8183f3",
   "metadata": {},
   "outputs": [
    {
     "data": {
      "text/plain": [
       "Vector([6.0, 8.0, 3.0, 4.0])"
      ]
     },
     "execution_count": 14,
     "metadata": {},
     "output_type": "execute_result"
    }
   ],
   "source": [
    "v1 = Vector([1, 2, 3, 4])\n",
    "v2 = Vector([5, 6])\n",
    "\n",
    "v1 + v2"
   ]
  },
  {
   "cell_type": "markdown",
   "id": "787030e4-0cb3-4c53-ad83-bf4c567f06b4",
   "metadata": {},
   "source": [
    "Addition with objects other than `Vector`"
   ]
  },
  {
   "cell_type": "code",
   "execution_count": 15,
   "id": "8366b3f8-ac77-410d-999e-57af1ad192b8",
   "metadata": {},
   "outputs": [
    {
     "data": {
      "text/plain": [
       "Vector([11.0, 22.0, 33.0])"
      ]
     },
     "execution_count": 15,
     "metadata": {},
     "output_type": "execute_result"
    }
   ],
   "source": [
    "v1 = Vector([1, 2, 3])\n",
    "v1 + (10, 20, 30)"
   ]
  },
  {
   "cell_type": "markdown",
   "id": "a938d6be-27c2-4c91-98cc-6dcd1eae3f62",
   "metadata": {},
   "source": [
    "The `+` operator's `__add__` and `__radd__` methods are safely overloaded. The `__radd__` method simply has its work delegated to the `__add__` method. If the operator's special method cannot return the correct result due to type incompatibility, `NotImplemented` should be returned instead of raising a `TypeError` exception."
   ]
  },
  {
   "cell_type": "code",
   "execution_count": 16,
   "id": "514609ad-536a-42f4-a52e-96c723c4567c",
   "metadata": {},
   "outputs": [],
   "source": [
    "def __add__(self, other):\n",
    "    try:\n",
    "        pairs = itertools.zip_longest(self, other, fillvalue=0.0)\n",
    "        return Vector(a + b for a, b in pairs)\n",
    "    except TypeError:\n",
    "        return NotImplemented\n",
    "\n",
    "\n",
    "def __radd__(self, other):\n",
    "    return self + other"
   ]
  },
  {
   "cell_type": "markdown",
   "id": "6f001a92-5522-487e-a8e7-dd3dd320fd59",
   "metadata": {},
   "source": [
    "<h2>Multiplication Operator Overload on a Scalar <code>*</code></h2>"
   ]
  },
  {
   "cell_type": "code",
   "execution_count": 17,
   "id": "ad28cf58-0752-4bb9-8ab2-a3f4d1c57afb",
   "metadata": {},
   "outputs": [
    {
     "data": {
      "text/plain": [
       "Vector([10.0, 20.0, 30.0])"
      ]
     },
     "execution_count": 17,
     "metadata": {},
     "output_type": "execute_result"
    }
   ],
   "source": [
    "v1 = Vector([1, 2, 3])\n",
    "\n",
    "v1 * 10"
   ]
  },
  {
   "cell_type": "code",
   "execution_count": 18,
   "id": "349e14a5-bc9a-4b04-8831-d0d28371d38a",
   "metadata": {},
   "outputs": [
    {
     "data": {
      "text/plain": [
       "Vector([11.0, 22.0, 33.0])"
      ]
     },
     "execution_count": 18,
     "metadata": {},
     "output_type": "execute_result"
    }
   ],
   "source": [
    "11 * v1"
   ]
  },
  {
   "cell_type": "markdown",
   "id": "67c3bf85-3613-4a82-bd07-c4466b8386c4",
   "metadata": {},
   "source": [
    "Multiplication operations work if the operand types are compatible. The `scalar` argument must be a number that when multiplied by `float` gives `float` (because the internal represantation of the `Vector` class uses an array of numbers of type `float`) "
   ]
  },
  {
   "cell_type": "code",
   "execution_count": 19,
   "id": "5a36951f-478b-4b84-9bb8-d59db04b961e",
   "metadata": {},
   "outputs": [],
   "source": [
    "def __mul__(self, scalar):\n",
    "    try:\n",
    "        factor = float(scalar)\n",
    "    except TypeError:\n",
    "        return NotImplemented\n",
    "    return Vector(n * factor for n in self)\n",
    "\n",
    "\n",
    "def __rmul__(self, scalar):\n",
    "    return self * scalar"
   ]
  },
  {
   "cell_type": "markdown",
   "id": "f9196889-1ed6-483e-a663-d335f3fe890b",
   "metadata": {},
   "source": [
    "If the `scalar` cannot be converted to a `float`, it is not known how to process it, so `NotImplemented` is returned to allow Python to try the `scalar` operand's `__rmul__` operator. The `__rmul__` method simply has the product of `self * scalar` computed, with all the work delegated to the `__mul__` method."
   ]
  },
  {
   "cell_type": "markdown",
   "id": "31d71964-6cf2-4b76-9f0d-fd1a652fa4ce",
   "metadata": {},
   "source": [
    "Multiplication of vectors by `scalar` values of common and not-so-common numeric types"
   ]
  },
  {
   "cell_type": "code",
   "execution_count": 20,
   "id": "3fefd943-ad7f-441a-afa4-efc55599f501",
   "metadata": {},
   "outputs": [
    {
     "data": {
      "text/plain": [
       "Vector([14.0, 28.0, 42.0])"
      ]
     },
     "execution_count": 20,
     "metadata": {},
     "output_type": "execute_result"
    }
   ],
   "source": [
    "v1 = Vector([1.0, 2.0, 3.0])\n",
    "\n",
    "14 * v1"
   ]
  },
  {
   "cell_type": "code",
   "execution_count": 21,
   "id": "a6bcecd5-6df4-4213-8889-4cadacfd4af8",
   "metadata": {},
   "outputs": [
    {
     "data": {
      "text/plain": [
       "Vector([1.0, 2.0, 3.0])"
      ]
     },
     "execution_count": 21,
     "metadata": {},
     "output_type": "execute_result"
    }
   ],
   "source": [
    "v1 * True"
   ]
  },
  {
   "cell_type": "code",
   "execution_count": 22,
   "id": "9afd6e60-ca2c-42de-99a4-cb29686e4005",
   "metadata": {},
   "outputs": [
    {
     "data": {
      "text/plain": [
       "Vector([0.3333333333333333, 0.6666666666666666, 1.0])"
      ]
     },
     "execution_count": 22,
     "metadata": {},
     "output_type": "execute_result"
    }
   ],
   "source": [
    "from fractions import Fraction\n",
    "\n",
    "v1 * Fraction(1, 3)"
   ]
  }
 ],
 "metadata": {
  "kernelspec": {
   "display_name": "Python 3 (ipykernel)",
   "language": "python",
   "name": "python3"
  },
  "language_info": {
   "codemirror_mode": {
    "name": "ipython",
    "version": 3
   },
   "file_extension": ".py",
   "mimetype": "text/x-python",
   "name": "python",
   "nbconvert_exporter": "python",
   "pygments_lexer": "ipython3",
   "version": "3.12.1"
  }
 },
 "nbformat": 4,
 "nbformat_minor": 5
}
