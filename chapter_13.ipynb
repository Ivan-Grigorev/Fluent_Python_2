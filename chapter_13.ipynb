{
 "cells": [
  {
   "cell_type": "markdown",
   "id": "cfc94217-077b-4f27-af17-0c67c368d351",
   "metadata": {},
   "source": [
    "<h1>Chapter 13. Interfaces, Protocols and ABC</h1>"
   ]
  },
  {
   "cell_type": "markdown",
   "id": "e79eb61f-c081-4740-af99-fe20af6c43af",
   "metadata": {},
   "source": [
    "Object-oriented programming is about interfaces. If you want to understand what a type does in Python, find out what methods it provides (its interface)."
   ]
  },
  {
   "cell_type": "markdown",
   "id": "f1e5d3f4-6df0-4d6f-aff1-fe4da4e8f7f0",
   "metadata": {},
   "source": [
    "<h2>Typing Types</h2>"
   ]
  },
  {
   "cell_type": "markdown",
   "id": "4cdeea73-e719-4ce2-9024-d16350215270",
   "metadata": {},
   "source": [
    "<p><b>Duck Typing</b>:<br>\n",
    "&emsp;&emsp;Definition: A programming style where an object's suitability is determined by the presence of certain methods and properties rather than the object's actual type.<br>\n",
    "&emsp;&emsp;Example: If an object has a <code>quack</code> method, it can be treated as a \"duck\" even if it doesn't inherit from a specific duck class.</p>\n",
    "<p><b>Goose Typing</b>:<br>\n",
    "&emsp;&emsp;Definition: A variation of duck typing that also considers the types of the object's methods and attributes, ensuring they match expected types.<br>\n",
    "&emsp;&emsp;Example: An object not only needs to have certain methods and attributes, but they must also adhere to specific types, e.g., method <code>quack</code> must take and return specific types.</p>\n",
    "<p><b>Static Typing</b>:<br>\n",
    "&emsp;&emsp;Definition: A programming style where variable types are explicitly declared and determined at compile-time.<br>\n",
    "&emsp;&emsp;Example: In languages like Java, you must declare a variable's type (e.g., `int x = 5;`), and it cannot change.</p>\n",
    "<p><b>Static Duck Typing</b>:<br>\n",
    "&emsp;&emsp;Definition: A hybrid approach that combines static typing with duck typing.<br>\n",
    "&emsp;&emsp;Example: A function can specify that it expects an object that has a particular method signature, allowing type-checking at compile time while maintaining flexibility in what kinds of objects can be passed in.</p>"
   ]
  },
  {
   "cell_type": "markdown",
   "id": "9ad267f5-df98-42f7-a297-f1cd138e515a",
   "metadata": {},
   "source": [
    "<h2>Two Types of Protocols</h2>"
   ]
  },
  {
   "cell_type": "markdown",
   "id": "503e9c74-670c-44c3-845e-a97dcfced4f7",
   "metadata": {},
   "source": [
    "<p><b>Dynamic Protocol</b>:<br>\n",
    "&emsp;&emsp;Definition: In Python, dynamic protocols are abstract base classes (ABCs) that define a set of methods and attributes that an object must implement to be considered compliant with the protocol. These protocols are typically defined in the <code>collections</code> or <code>typing</code> module.<br>\n",
    "&emsp;&emsp;Example: The <code>Sequence</code> protocol from the <code>collections</code> module defines a set of methods (<code>__getitem__</code>, <code>__len__</code>, etc.) that an object must implement to be considered a sequence.</p>\n",
    "\n",
    "<p><b>Static Protocol</b>:<br>\n",
    "&emsp;&emsp;Definition: Python static protocols are similar to dynamic protocols but make use of the <code>typing.Protocol</code> class from the <code>typing</code> module. These protocols use type hints to define the expected interface (methods and attributes) of a class at static type-checking time. Static protocols provide better tooling support and more explicit type checking.<br>\n",
    "&emsp;&emsp;Example: A protocol can define that an object must have certain methods and attributes. For instance, a <code>Printable</code> protocol may require an object to implement a <code>print</code> method.</p>"
   ]
  },
  {
   "cell_type": "markdown",
   "id": "281a89d3-1eee-4868-acd4-b4d62b4b0c7d",
   "metadata": {},
   "source": [
    "<h2>Monkey Patching as a Means of Implementing a Protocol at Runtime</h2>"
   ]
  },
  {
   "cell_type": "markdown",
   "id": "89bcd5c8-a7c1-423f-ae94-42e6a994736c",
   "metadata": {},
   "source": [
    "Monkey patching is a technique in which the behavior of existing code (classes, methods, functions, etc.) is modified at runtime. This can involve adding, modifying, or replacing existing methods or attributes."
   ]
  },
  {
   "cell_type": "code",
   "execution_count": 1,
   "id": "1671e002-8098-4ca4-8a31-9253bf954047",
   "metadata": {},
   "outputs": [],
   "source": [
    "import collections\n",
    "\n",
    "Card = collections.namedtuple('Card', ['rank', 'suit'])\n",
    "\n",
    "\n",
    "class FrenchDeck:\n",
    "    ranks = [str(n) for n in range(2, 11)] + list('JQKA')\n",
    "    suits = 'spades diamonds clubs hearts'.split()\n",
    "\n",
    "    def __init__(self):\n",
    "        self._cards = [Card(rank, suit) for suit in self.suits for rank in self.ranks]\n",
    "\n",
    "    def __len__(self):\n",
    "        return len(self._cards)\n",
    "\n",
    "    def __getitem__(self, position):\n",
    "        return self._cards[position]"
   ]
  },
  {
   "cell_type": "code",
   "execution_count": 2,
   "id": "6617f3d7-7d3d-4b35-8cda-74ba0667a471",
   "metadata": {},
   "outputs": [
    {
     "name": "stdout",
     "output_type": "stream",
     "text": [
      "TypeError(\"'FrenchDeck' object does not support item assignment\")\n"
     ]
    }
   ],
   "source": [
    "from random import shuffle\n",
    "\n",
    "try:\n",
    "    deck = FrenchDeck()\n",
    "    shuffle(deck)\n",
    "except TypeError as e:\n",
    "    print(e.__repr__())"
   ]
  },
  {
   "cell_type": "markdown",
   "id": "2d51fbe5-d553-4ccf-9bf7-8c785910ef04",
   "metadata": {},
   "source": [
    "Monkey patching of the `FrenchDeck` class to make it modifiable and compatible with the `rundom.shuffle` function"
   ]
  },
  {
   "cell_type": "code",
   "execution_count": 3,
   "id": "ecfa9c4b-805b-4db8-b80c-629cd51b8186",
   "metadata": {},
   "outputs": [],
   "source": [
    "def set_card(deck, position, card):\n",
    "    \"\"\"\n",
    "    Function that accepts deck, position, and card arguments.\n",
    "    \"\"\"\n",
    "    deck._cards[position] = card"
   ]
  },
  {
   "cell_type": "markdown",
   "id": "0b994f47-7cc0-485e-b279-96c1bfb17f9f",
   "metadata": {},
   "source": [
    "Assigning a function to the `__setitem__` attribute of the `FrenchDeck` class"
   ]
  },
  {
   "cell_type": "code",
   "execution_count": 4,
   "id": "2de46651-7123-49a5-95e8-4aaf51422388",
   "metadata": {},
   "outputs": [],
   "source": [
    "FrenchDeck.__setitem__ = set_card"
   ]
  },
  {
   "cell_type": "code",
   "execution_count": 5,
   "id": "7bddf9c2-5869-4d24-8504-0a32213ac09b",
   "metadata": {},
   "outputs": [
    {
     "data": {
      "text/plain": [
       "[Card(rank='9', suit='diamonds'),\n",
       " Card(rank='J', suit='clubs'),\n",
       " Card(rank='5', suit='hearts'),\n",
       " Card(rank='5', suit='diamonds'),\n",
       " Card(rank='K', suit='diamonds')]"
      ]
     },
     "execution_count": 5,
     "metadata": {},
     "output_type": "execute_result"
    }
   ],
   "source": [
    "shuffle(deck)\n",
    "deck[:5]"
   ]
  },
  {
   "cell_type": "markdown",
   "id": "bc5e9c65-5c8f-4e27-b38b-68d9e8af027a",
   "metadata": {},
   "source": [
    "<h2>ABC Subclass Creation</h2>"
   ]
  },
  {
   "cell_type": "markdown",
   "id": "14c7680a-0951-40bc-809f-b9a0498e63b9",
   "metadata": {},
   "source": [
    "`abc.MutableSequence` is an abstract base class (ABC). It serves as a blueprint for creating mutable sequence data types, such as lists, that can be modified after creation.<br>\n",
    "Purpose: Provides a standard set of methods that subclasses must implement to be considered mutable sequences."
   ]
  },
  {
   "cell_type": "code",
   "execution_count": 6,
   "id": "52a0ccfe-9d81-4845-9217-c7d5de306898",
   "metadata": {},
   "outputs": [],
   "source": [
    "from collections import abc, namedtuple\n",
    "\n",
    "Card = namedtuple('Card', ['rank', 'suit'])\n",
    "\n",
    "\n",
    "class FrenchDeck2(abc.MutableSequence):\n",
    "    ranks = [str(n) for n in range(2, 11)] + list('JQKA')\n",
    "    suits = 'spades diamonds clubs hearts'.split()\n",
    "\n",
    "    def __init_(self):\n",
    "        self._cards = [Card(rank, suit) for suit in self.suits for rank in self.rank]\n",
    "\n",
    "    def __len__(self):\n",
    "        return len(self._cards)\n",
    "\n",
    "    def __getitem__(self, position):\n",
    "        return self._cards[position]\n",
    "\n",
    "    def __setitem__(self, position, value):\n",
    "        self._cards[position] = value"
   ]
  },
  {
   "cell_type": "code",
   "execution_count": 7,
   "id": "f4e75e8f-dda7-4274-b654-d6f1c9e7ba2a",
   "metadata": {},
   "outputs": [
    {
     "name": "stdout",
     "output_type": "stream",
     "text": [
      "TypeError(\"Can't instantiate abstract class FrenchDeck2 without an implementation for abstract methods '__delitem__', 'insert'\")\n"
     ]
    }
   ],
   "source": [
    "try:\n",
    "    deck = FrenchDeck2()\n",
    "except TypeError as e:\n",
    "    print(e.__repr__())"
   ]
  },
  {
   "cell_type": "markdown",
   "id": "4bb053ad-86c9-4aec-b83a-ad6e604570e6",
   "metadata": {},
   "source": [
    "To create a subclass of `MutableSequence`, it is necessary to implement the `__delitem__`, `insert` abstract methods defined in this ABC."
   ]
  },
  {
   "cell_type": "code",
   "execution_count": 8,
   "id": "8d5a20e7-b5d9-4b73-8ffc-43e69ad98d66",
   "metadata": {},
   "outputs": [],
   "source": [
    "from collections import abc, namedtuple\n",
    "\n",
    "Card = namedtuple('Card', ['rank', 'suit'])\n",
    "\n",
    "\n",
    "class FrenchDeck2(abc.MutableSequence):\n",
    "    ranks = [str(n) for n in range(2, 11)] + list('JQKA')\n",
    "    suits = 'spades diamonds clubs hearts'.split()\n",
    "\n",
    "    def __init_(self):\n",
    "        self._cards = [Card(rank, suit) for suit in self.suits for rank in self.rank]\n",
    "\n",
    "    def __len__(self):\n",
    "        return len(self._cards)\n",
    "\n",
    "    def __getitem__(self, position):\n",
    "        return self._cards[position]\n",
    "\n",
    "    def __setitem__(self, position, value):\n",
    "        self._cards[position] = value\n",
    "\n",
    "    def __delitem__(self, position):\n",
    "        del self._cards[position]\n",
    "\n",
    "    def insert(self, position, value):\n",
    "        self._cards.insert(position, value)"
   ]
  },
  {
   "cell_type": "markdown",
   "id": "66ae6dce-a405-4979-8a5a-1950d37f65a2",
   "metadata": {},
   "source": [
    "<h2>Definition and Use of ABC</h2>"
   ]
  },
  {
   "cell_type": "markdown",
   "id": "c1c74f61-b20b-4350-8e09-c8eecf7f195e",
   "metadata": {},
   "source": [
    "`Tombola` is an `ABC` with two abstract and two concrete methods"
   ]
  },
  {
   "cell_type": "code",
   "execution_count": 9,
   "id": "da846f3f-a499-443a-871c-4a3df5a53d7d",
   "metadata": {},
   "outputs": [],
   "source": [
    "from abc import ABC, abstractmethod\n",
    "\n",
    "\n",
    "class Tombola(ABC):\n",
    "\n",
    "    @abstractmethod\n",
    "    def load(self, iterable):\n",
    "        \"\"\"Add items from an iterable.\"\"\"\n",
    "\n",
    "    @abstractmethod\n",
    "    def pick(self):\n",
    "        \"\"\"\n",
    "        Remove item at random, returning it.\n",
    "\n",
    "        This method should raise 'LookupError' when the instance is empty.\n",
    "        \"\"\"\n",
    "\n",
    "    def loaded(self):\n",
    "        \"\"\"Return 'True' if there is at least 1 item, 'False' otherwise.\"\"\"\n",
    "\n",
    "        return bool(self.inspect())\n",
    "\n",
    "    def inspect(self):\n",
    "        \"\"\"Return a sorted tuple with the items currently inside.\"\"\"\n",
    "\n",
    "        items = []\n",
    "        while True:\n",
    "            try:\n",
    "                items.append(self.pick())\n",
    "            except LookupError:\n",
    "                break\n",
    "        self.load(items)\n",
    "        return tuple(items)"
   ]
  },
  {
   "cell_type": "code",
   "execution_count": 10,
   "id": "27abead4-01cb-4a93-845b-eedbf8c2447e",
   "metadata": {},
   "outputs": [],
   "source": [
    "class Fake(Tombola):\n",
    "    def pick(self):\n",
    "        return 13"
   ]
  },
  {
   "cell_type": "code",
   "execution_count": 11,
   "id": "e657536f-e50f-4ce5-b247-4c96df9add43",
   "metadata": {},
   "outputs": [
    {
     "name": "stdout",
     "output_type": "stream",
     "text": [
      "TypeError(\"Can't instantiate abstract class Fake without an implementation for abstract method 'load'\")\n"
     ]
    }
   ],
   "source": [
    "try:\n",
    "    f = Fake()\n",
    "except TypeError as e:\n",
    "    print(e.__repr__())"
   ]
  },
  {
   "cell_type": "markdown",
   "id": "1ffe714f-0b09-4e6f-aa22-668125e87aa8",
   "metadata": {},
   "source": [
    "<h3>ABC Syntactic Details</h3>"
   ]
  },
  {
   "cell_type": "markdown",
   "id": "dfc62d5a-be48-4bfa-a327-148e33ef0cd2",
   "metadata": {},
   "source": [
    "If `abstractmethod()` is used in conjunction with other method descriptors, it must be the innermost one. There should be no other decorators between `@abstractmethod` and `def`."
   ]
  },
  {
   "cell_type": "code",
   "execution_count": 12,
   "id": "79d1a629-ccce-4ecc-aebb-706ddded4010",
   "metadata": {},
   "outputs": [],
   "source": [
    "class MyABC(ABC):\n",
    "    @classmethod\n",
    "    @abstractmethod\n",
    "    def an_abstract_classmethod(cls):\n",
    "        pass"
   ]
  },
  {
   "cell_type": "markdown",
   "id": "f2ffcb0a-d8a0-4436-ae54-9ebb86b9c19a",
   "metadata": {},
   "source": [
    "<h3>Creating ABC Subclasses</h3>"
   ]
  },
  {
   "cell_type": "markdown",
   "id": "89419c1a-9a4c-48b0-8fd1-ca2ae7eee25e",
   "metadata": {},
   "source": [
    "`BingoCage` is a specific subclass of `Tombola`"
   ]
  },
  {
   "cell_type": "code",
   "execution_count": 13,
   "id": "f0de61c0-7979-449f-acb9-dd3795a0387d",
   "metadata": {},
   "outputs": [],
   "source": [
    "import random\n",
    "\n",
    "\n",
    "class BingoCage(Tombola):\n",
    "\n",
    "    def __init__(self, items):\n",
    "        # Use SystemRandom for cryptographically secure randomization\n",
    "        self._randomizer = random.SystemRandom()\n",
    "        self._items = []\n",
    "        # Initialize the items by calling the load() method\n",
    "        self.load(items)\n",
    "\n",
    "    def load(self, items):\n",
    "        self._items.extend(items)\n",
    "        # Use the .shuffle() method of SystemRandom instance\n",
    "        self._randomizer.shuffle(self._items)\n",
    "\n",
    "    def pick(self):\n",
    "        try:\n",
    "            return self._items.pop()\n",
    "        except IndexError:\n",
    "            raise LookupError('pick from empty BingoCage')\n",
    "\n",
    "    def __call__(self):\n",
    "        self.pick()"
   ]
  },
  {
   "cell_type": "markdown",
   "id": "232e1b44-35cb-4d5e-be71-2a95d0f18ac9",
   "metadata": {},
   "source": [
    "`LotteryBlower` is a concrete subclass that overrides the `inspect` and `loaded` methods of ABC `Tombola`"
   ]
  },
  {
   "cell_type": "code",
   "execution_count": 14,
   "id": "19021891-c172-453a-ac10-b8df66b0c7f4",
   "metadata": {},
   "outputs": [],
   "source": [
    "class LottoBlower(Tombola):\n",
    "\n",
    "    def __init__(self, iterable):\n",
    "        self._balls = list(iterable)\n",
    "\n",
    "    def load(self, iterable):\n",
    "        self._balls.extend(iterable)\n",
    "\n",
    "    def pick(self):\n",
    "        \"\"\"\n",
    "        The random.randrange() function raises ValueError exception\n",
    "        if the range is empty, intercepts it and raises a LookupError exception\n",
    "        instead, preserving ABC Tombola compatibility.\n",
    "\n",
    "        Otherwise, a random element is selected from self._balls\n",
    "        \"\"\"\n",
    "        try:\n",
    "            position = random.randrange(len(self._balls))\n",
    "        except ValueError:\n",
    "            raise LookupError('pick from empty LottoBlower')\n",
    "        return self._balls.pop(position)\n",
    "\n",
    "    def loaded(self):\n",
    "        return bool(self._balls)\n",
    "\n",
    "    def inspect(self):\n",
    "        return tuple(self._balls)"
   ]
  },
  {
   "cell_type": "markdown",
   "id": "c922c517-6633-4b0c-8950-3271c85dab99",
   "metadata": {},
   "source": [
    "<h3>Virtual Subclass <code>Tombola</code></h3>"
   ]
  },
  {
   "cell_type": "markdown",
   "id": "4d8d140e-98e8-41a9-bf0b-c3c2b23a66f5",
   "metadata": {},
   "source": [
    "ABC virtual classes use the `register` function to declare a class as a virtual subclass, meaning it is recognized as a subclass without inheriting directly. This allows for flexible type checking and ensures the virtual subclass adheres to the ABC's interface."
   ]
  },
  {
   "cell_type": "code",
   "execution_count": 15,
   "id": "03bc8e82-27fe-48de-b1ad-81965f35cead",
   "metadata": {},
   "outputs": [],
   "source": [
    "# TomboList is registered as a virtual subclass of Tombola\n",
    "@Tombola.register\n",
    "class TomboList(list):  # TomboList expands the list\n",
    "\n",
    "    def pick(self):\n",
    "        \"\"\"\n",
    "        TomboList inherits the __bool__ method from list,\n",
    "        which returns True if the list is not empty.\n",
    "\n",
    "        The pick method calls the self.pop method inherited from list\n",
    "        passing the index of a random item.\n",
    "        \"\"\"\n",
    "        if self:\n",
    "            position = random.randrange(len(self))\n",
    "            return self.pop(position)\n",
    "        else:\n",
    "            raise LookupError('pop from empty TomboList')\n",
    "\n",
    "    # TomboList.load is the same as list.extend\n",
    "    load = list.extend\n",
    "\n",
    "    def loaded(self):\n",
    "        return bool(self)\n",
    "\n",
    "    def inspect(self):\n",
    "        return tuple(self)"
   ]
  },
  {
   "cell_type": "code",
   "execution_count": 16,
   "id": "627666e3-40a0-44b1-948f-20c203548c2d",
   "metadata": {},
   "outputs": [
    {
     "data": {
      "text/plain": [
       "True"
      ]
     },
     "execution_count": 16,
     "metadata": {},
     "output_type": "execute_result"
    }
   ],
   "source": [
    "issubclass(TomboList, Tombola)"
   ]
  },
  {
   "cell_type": "code",
   "execution_count": 17,
   "id": "55c06d3f-a65b-4195-9478-635610d38c46",
   "metadata": {},
   "outputs": [
    {
     "data": {
      "text/plain": [
       "True"
      ]
     },
     "execution_count": 17,
     "metadata": {},
     "output_type": "execute_result"
    }
   ],
   "source": [
    "t = TomboList(range(100))\n",
    "isinstance(t, Tombola)"
   ]
  },
  {
   "cell_type": "code",
   "execution_count": 18,
   "id": "d9022cf3-a90c-4f4b-9f86-381195d74cb4",
   "metadata": {},
   "outputs": [
    {
     "data": {
      "text/plain": [
       "(__main__.TomboList, list, object)"
      ]
     },
     "execution_count": 18,
     "metadata": {},
     "output_type": "execute_result"
    }
   ],
   "source": [
    "TomboList.__mro__"
   ]
  }
 ],
 "metadata": {
  "kernelspec": {
   "display_name": "Python 3 (ipykernel)",
   "language": "python",
   "name": "python3"
  },
  "language_info": {
   "codemirror_mode": {
    "name": "ipython",
    "version": 3
   },
   "file_extension": ".py",
   "mimetype": "text/x-python",
   "name": "python",
   "nbconvert_exporter": "python",
   "pygments_lexer": "ipython3",
   "version": "3.12.1"
  }
 },
 "nbformat": 4,
 "nbformat_minor": 5
}
