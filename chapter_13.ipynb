{
 "cells": [
  {
   "cell_type": "markdown",
   "id": "cfc94217-077b-4f27-af17-0c67c368d351",
   "metadata": {},
   "source": [
    "<h1>Chapter 13. Interfaces, Protocols and ABC</h1>"
   ]
  },
  {
   "cell_type": "markdown",
   "id": "e79eb61f-c081-4740-af99-fe20af6c43af",
   "metadata": {},
   "source": [
    "Object-oriented programming is about interfaces. If you want to understand what a type does in Python, find out what methods it provides (its interface)."
   ]
  },
  {
   "cell_type": "markdown",
   "id": "f1e5d3f4-6df0-4d6f-aff1-fe4da4e8f7f0",
   "metadata": {},
   "source": [
    "<h2>Typing Types</h2>"
   ]
  },
  {
   "cell_type": "markdown",
   "id": "3006f03f-50fd-4a27-8e1d-df1a2eaee57a",
   "metadata": {},
   "source": [
    "<p><b>Duck Typing</b>:<br>\n",
    "&emsp;&emsp;<b>Definition</b>: A programming style where an object's suitability is determined by the presence of certain methods and properties rather than the object's actual type.<br>\n",
    "&emsp;&emsp;<b>Example</b>: If an object has a <code>quack</code> method, it can be treated as a \"duck\" even if it doesn't inherit from a specific duck class.</p>\n",
    "<p><b>Goose Typing</b>:<br>\n",
    "&emsp;&emsp;<b>Definition</b>: A variation of duck typing that also considers the types of the object's methods and attributes, ensuring they match expected types.<br>\n",
    "&emsp;&emsp;<b>Example</b>: An object not only needs to have certain methods and attributes, but they must also adhere to specific types, e.g., method `quack` must take and return specific types.</p>\n",
    "<p><b>Static Typing</b>:<br>\n",
    "&emsp;&emsp;<b>Definition</b>: A programming style where variable types are explicitly declared and determined at compile-time.<br>\n",
    "&emsp;&emsp;<b>Example</b>: In languages like Java, you must declare a variable's type (e.g., `int x = 5;`), and it cannot change.</p>\n",
    "<p><b>Static Duck Typing</b>:<br>\n",
    "&emsp;&emsp;<b>Definition</b>: A hybrid approach that combines static typing with duck typing.<br>\n",
    "&emsp;&emsp;<b>Example</b>: A function can specify that it expects an object that has a particular method signature, allowing type-checking at compile time while maintaining flexibility in what kinds of objects can be passed in.</p>"
   ]
  },
  {
   "cell_type": "markdown",
   "id": "9ad267f5-df98-42f7-a297-f1cd138e515a",
   "metadata": {},
   "source": [
    "<h2>Two Types of Protocols</h2>"
   ]
  },
  {
   "cell_type": "markdown",
   "id": "cc0b0793-e248-448b-99aa-14e622a5dd12",
   "metadata": {},
   "source": [
    "<p><b>Dynamic Protocol</b>:<br>\n",
    "&emsp;&emsp;<b>Definition</b>: In Python, dynamic protocols are abstract base classes (ABCs) that define a set of methods and attributes that an object must implement to be considered compliant with the protocol. These protocols are typically defined in the <code>collections</code> or <code>typing</code> module.<br>\n",
    "&emsp;&emsp;<b>Example</b>: The <code>Sequence</code> protocol from the <code>collections</code> module defines a set of methods (<code>__getitem__</code>, <code>__len__</code>, etc.) that an object must implement to be considered a sequence.</p>\n",
    "\n",
    "<p><b>Static Protocol</b>:<br>\n",
    "&emsp;&emsp;<b>Definition</b>: Python static protocols are similar to dynamic protocols but make use of the <code>typing.Protocol</code> class from the <code>typing</code> module. These protocols use type hints to define the expected interface (methods and attributes) of a class at static type-checking time. Static protocols provide better tooling support and more explicit type checking.<br>\n",
    "&emsp;&emsp;<b>Example</b>: A protocol can define that an object must have certain methods and attributes. For instance, a <code>Printable</code> protocol may require an object to implement a <code>print</code> method.</p>"
   ]
  }
 ],
 "metadata": {
  "kernelspec": {
   "display_name": "Python 3 (ipykernel)",
   "language": "python",
   "name": "python3"
  },
  "language_info": {
   "codemirror_mode": {
    "name": "ipython",
    "version": 3
   },
   "file_extension": ".py",
   "mimetype": "text/x-python",
   "name": "python",
   "nbconvert_exporter": "python",
   "pygments_lexer": "ipython3",
   "version": "3.12.1"
  }
 },
 "nbformat": 4,
 "nbformat_minor": 5
}
