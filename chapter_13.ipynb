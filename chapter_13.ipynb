{
 "cells": [
  {
   "cell_type": "markdown",
   "id": "cfc94217-077b-4f27-af17-0c67c368d351",
   "metadata": {},
   "source": [
    "<h1>Chapter 13. Interfaces, Protocols and ABC</h1>"
   ]
  },
  {
   "cell_type": "markdown",
   "id": "e79eb61f-c081-4740-af99-fe20af6c43af",
   "metadata": {},
   "source": [
    "Object-oriented programming is about interfaces. If you want to understand what a type does in Python, find out what methods it provides (its interface)."
   ]
  },
  {
   "cell_type": "markdown",
   "id": "f1e5d3f4-6df0-4d6f-aff1-fe4da4e8f7f0",
   "metadata": {},
   "source": [
    "<h2>Typing Types</h2>"
   ]
  },
  {
   "cell_type": "markdown",
   "id": "3006f03f-50fd-4a27-8e1d-df1a2eaee57a",
   "metadata": {},
   "source": [
    "<p><b>Duck Typing</b>:<br>\n",
    "&emsp;&emsp;<b>Definition</b>: A programming style where an object's suitability is determined by the presence of certain methods and properties rather than the object's actual type.<br>\n",
    "&emsp;&emsp;<b>Example</b>: If an object has a <code>quack</code> method, it can be treated as a \"duck\" even if it doesn't inherit from a specific duck class.</p>\n",
    "<p><b>Goose Typing</b>:<br>\n",
    "&emsp;&emsp;<b>Definition</b>: A variation of duck typing that also considers the types of the object's methods and attributes, ensuring they match expected types.<br>\n",
    "&emsp;&emsp;<b>Example</b>: An object not only needs to have certain methods and attributes, but they must also adhere to specific types, e.g., method `quack` must take and return specific types.</p>\n",
    "<p><b>Static Typing</b>:<br>\n",
    "&emsp;&emsp;<b>Definition</b>: A programming style where variable types are explicitly declared and determined at compile-time.<br>\n",
    "&emsp;&emsp;<b>Example</b>: In languages like Java, you must declare a variable's type (e.g., `int x = 5;`), and it cannot change.</p>\n",
    "<p><b>Static Duck Typing</b>:<br>\n",
    "&emsp;&emsp;<b>Definition</b>: A hybrid approach that combines static typing with duck typing.<br>\n",
    "&emsp;&emsp;<b>Example</b>: A function can specify that it expects an object that has a particular method signature, allowing type-checking at compile time while maintaining flexibility in what kinds of objects can be passed in.</p>"
   ]
  },
  {
   "cell_type": "markdown",
   "id": "9ad267f5-df98-42f7-a297-f1cd138e515a",
   "metadata": {},
   "source": [
    "<h2>Two Types of Protocols</h2>"
   ]
  },
  {
   "cell_type": "markdown",
   "id": "cc0b0793-e248-448b-99aa-14e622a5dd12",
   "metadata": {},
   "source": [
    "<p><b>Dynamic Protocol</b>:<br>\n",
    "&emsp;&emsp;<b>Definition</b>: In Python, dynamic protocols are abstract base classes (ABCs) that define a set of methods and attributes that an object must implement to be considered compliant with the protocol. These protocols are typically defined in the <code>collections</code> or <code>typing</code> module.<br>\n",
    "&emsp;&emsp;<b>Example</b>: The <code>Sequence</code> protocol from the <code>collections</code> module defines a set of methods (<code>__getitem__</code>, <code>__len__</code>, etc.) that an object must implement to be considered a sequence.</p>\n",
    "\n",
    "<p><b>Static Protocol</b>:<br>\n",
    "&emsp;&emsp;<b>Definition</b>: Python static protocols are similar to dynamic protocols but make use of the <code>typing.Protocol</code> class from the <code>typing</code> module. These protocols use type hints to define the expected interface (methods and attributes) of a class at static type-checking time. Static protocols provide better tooling support and more explicit type checking.<br>\n",
    "&emsp;&emsp;<b>Example</b>: A protocol can define that an object must have certain methods and attributes. For instance, a <code>Printable</code> protocol may require an object to implement a <code>print</code> method.</p>"
   ]
  },
  {
   "cell_type": "markdown",
   "id": "281a89d3-1eee-4868-acd4-b4d62b4b0c7d",
   "metadata": {},
   "source": [
    "<h2>Monkey Patching as a Means of Implementing a Protocol at Runtime</h2>"
   ]
  },
  {
   "cell_type": "markdown",
   "id": "89bcd5c8-a7c1-423f-ae94-42e6a994736c",
   "metadata": {},
   "source": [
    "Monkey patching is a technique in which the behavior of existing code (classes, methods, functions, etc.) is modified at runtime. This can involve adding, modifying, or replacing existing methods or attributes."
   ]
  },
  {
   "cell_type": "code",
   "execution_count": 1,
   "id": "1671e002-8098-4ca4-8a31-9253bf954047",
   "metadata": {},
   "outputs": [],
   "source": [
    "import collections\n",
    "\n",
    "Card = collections.namedtuple('Card', ['rank', 'suit'])\n",
    "\n",
    "\n",
    "class FrenchDeck:\n",
    "    ranks = [str(n) for n in range(2, 11)] + list('JQKA')\n",
    "    suits = 'spades diamonds clubs hearts'.split()\n",
    "\n",
    "    def __init__(self):\n",
    "        self._cards = [Card(rank, suit) for suit in self.suits for rank in self.ranks]\n",
    "\n",
    "    def __len__(self):\n",
    "        return len(self._cards)\n",
    "\n",
    "    def __getitem__(self, position):\n",
    "        return self._cards[position]"
   ]
  },
  {
   "cell_type": "code",
   "execution_count": 2,
   "id": "6617f3d7-7d3d-4b35-8cda-74ba0667a471",
   "metadata": {},
   "outputs": [
    {
     "name": "stdout",
     "output_type": "stream",
     "text": [
      "TypeError(\"'FrenchDeck' object does not support item assignment\")\n"
     ]
    }
   ],
   "source": [
    "from random import shuffle\n",
    "\n",
    "try:\n",
    "    deck = FrenchDeck()\n",
    "    shuffle(deck)\n",
    "except TypeError as e:\n",
    "    print(e.__repr__())"
   ]
  },
  {
   "cell_type": "markdown",
   "id": "2d51fbe5-d553-4ccf-9bf7-8c785910ef04",
   "metadata": {},
   "source": [
    "Monkey patching of the `FrenchDeck` class to make it modifiable and compatible with the `rundom.shuffle` function"
   ]
  },
  {
   "cell_type": "code",
   "execution_count": 3,
   "id": "ecfa9c4b-805b-4db8-b80c-629cd51b8186",
   "metadata": {},
   "outputs": [],
   "source": [
    "def set_card(deck, position, card):\n",
    "    \"\"\"\n",
    "    Function that accepts deck, position, and card arguments.\n",
    "    \"\"\"\n",
    "    deck._cards[position] = card"
   ]
  },
  {
   "cell_type": "code",
   "execution_count": 4,
   "id": "2de46651-7123-49a5-95e8-4aaf51422388",
   "metadata": {},
   "outputs": [],
   "source": [
    "# Assign a function to the __setitem__ attribute of the FrenchDeck class\n",
    "FrenchDeck.__setitem__ = set_card"
   ]
  },
  {
   "cell_type": "code",
   "execution_count": 5,
   "id": "7bddf9c2-5869-4d24-8504-0a32213ac09b",
   "metadata": {},
   "outputs": [
    {
     "data": {
      "text/plain": [
       "[Card(rank='A', suit='diamonds'),\n",
       " Card(rank='2', suit='spades'),\n",
       " Card(rank='5', suit='clubs'),\n",
       " Card(rank='J', suit='diamonds'),\n",
       " Card(rank='3', suit='clubs')]"
      ]
     },
     "execution_count": 5,
     "metadata": {},
     "output_type": "execute_result"
    }
   ],
   "source": [
    "shuffle(deck)\n",
    "deck[:5]"
   ]
  }
 ],
 "metadata": {
  "kernelspec": {
   "display_name": "Python 3 (ipykernel)",
   "language": "python",
   "name": "python3"
  },
  "language_info": {
   "codemirror_mode": {
    "name": "ipython",
    "version": 3
   },
   "file_extension": ".py",
   "mimetype": "text/x-python",
   "name": "python",
   "nbconvert_exporter": "python",
   "pygments_lexer": "ipython3",
   "version": "3.12.1"
  }
 },
 "nbformat": 4,
 "nbformat_minor": 5
}
