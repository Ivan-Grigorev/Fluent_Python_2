{
 "cells": [
  {
   "cell_type": "markdown",
   "id": "a6caafd0-89a0-412c-a29d-13b680d4fafa",
   "metadata": {},
   "source": [
    "<h1>Interfaces, Protocols and ABC</h1>"
   ]
  },
  {
   "cell_type": "code",
   "execution_count": null,
   "id": "32ed5583-6c08-4914-bc7b-96c09541ca00",
   "metadata": {},
   "outputs": [],
   "source": []
  }
 ],
 "metadata": {
  "kernelspec": {
   "display_name": "Python 3 (ipykernel)",
   "language": "python",
   "name": "python3"
  },
  "language_info": {
   "codemirror_mode": {
    "name": "ipython",
    "version": 3
   },
   "file_extension": ".py",
   "mimetype": "text/x-python",
   "name": "python",
   "nbconvert_exporter": "python",
   "pygments_lexer": "ipython3",
   "version": "3.12.1"
  }
 },
 "nbformat": 4,
 "nbformat_minor": 5
}
