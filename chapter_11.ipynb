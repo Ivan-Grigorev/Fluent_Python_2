{
 "cells": [
  {
   "cell_type": "markdown",
   "id": "561acba2-2711-4963-b800-ae1fed126ecf",
   "metadata": {},
   "source": [
    "<h1>Chapter 11. Object in the Spirit of Python</h1>"
   ]
  },
  {
   "cell_type": "markdown",
   "id": "dd0dc91a-4802-478c-aa1f-cac845b752cf",
   "metadata": {},
   "source": [
    "The \"Spirit of Python\" encompasses Python's principles of simplicity, readability, versatility, and elegance, defining its philosophy and guiding values. When writing a library or framework, programmers anticipate that the classes they utilize will operate in a manner consistent with Python's own provided classes."
   ]
  },
  {
   "cell_type": "markdown",
   "id": "b9b492d4-4825-4c0b-8131-a104d85afb56",
   "metadata": {},
   "source": [
    "<h2>Object Presentation</h2>"
   ]
  },
  {
   "cell_type": "code",
   "execution_count": 1,
   "id": "9ed7f893-f1ef-4eca-afc5-8d227b4448e7",
   "metadata": {},
   "outputs": [],
   "source": [
    "import math\n",
    "from array import array\n",
    "\n",
    "\n",
    "class Vector2d:\n",
    "    # 'd' represents a double-precision floating-point number\n",
    "    typecode = 'd'\n",
    "\n",
    "    # Converting x and y to float type in __init__ method\n",
    "    # allows to detect errors at an early stage\n",
    "    def __init__(self, x, y):\n",
    "        self.x = float(x)\n",
    "        self.y = float(y)\n",
    "\n",
    "    # The presence of the __iter__ method makes Vector2d iterable\n",
    "    def __iter__(self):\n",
    "        return (i for i in (self.x, self.y))\n",
    "\n",
    "    def __repr__(self):\n",
    "        class_name = type(self).__name__\n",
    "        # Vector2d is an iterated object,\n",
    "        # *self supplies the x and y components of the format function\n",
    "        return '{}({!r}, {!r})'.format(class_name, *self)\n",
    "\n",
    "    def __str__(self):\n",
    "        return str(tuple(self))\n",
    "\n",
    "    def __bytes__(self):\n",
    "        # Convert the typecode to bytes and concatenate it with the bytes object\n",
    "        # obtained through array transformation, constructed by traversing the instance\n",
    "        return bytes([ord(self.typecode)]) + bytes(array(self.typecode, self))\n",
    "\n",
    "    def __eq__(self, other):\n",
    "        return tuple(self) == tuple(other)\n",
    "\n",
    "    def __abs__(self):\n",
    "        # The modulus of a vector is the length of the hypotenuse\n",
    "        # of a right triangle with cathetes x and y\n",
    "        return math.hypot(self.x, self.y)\n",
    "\n",
    "    def __bool__(self):\n",
    "        return bool(abs(self))"
   ]
  },
  {
   "cell_type": "code",
   "execution_count": 2,
   "id": "a4478507-cdaf-4375-857f-5b7c0e5c0999",
   "metadata": {},
   "outputs": [],
   "source": [
    "v1 = Vector2d(3, 4)"
   ]
  },
  {
   "cell_type": "markdown",
   "id": "bc85820a-8836-4994-990d-7de12edbec0c",
   "metadata": {},
   "source": [
    "`Vector2d` components can be accessed directly as attributes (no read methods)"
   ]
  },
  {
   "cell_type": "code",
   "execution_count": 3,
   "id": "4f49cbff-2d8a-4fd4-8547-3ea3e69d4a40",
   "metadata": {},
   "outputs": [
    {
     "name": "stdout",
     "output_type": "stream",
     "text": [
      "3.0 4.0\n"
     ]
    }
   ],
   "source": [
    "print(v1.x, v1.y)"
   ]
  },
  {
   "cell_type": "markdown",
   "id": "fce1de61-9d9c-41af-a7e8-8fb91216fbd3",
   "metadata": {},
   "source": [
    "A `Vector2d` object can be unpacked into a tuple of variables"
   ]
  },
  {
   "cell_type": "code",
   "execution_count": 4,
   "id": "14d31469-818b-41b0-99db-7dadd32e9d87",
   "metadata": {},
   "outputs": [],
   "source": [
    "x, y = v1"
   ]
  },
  {
   "cell_type": "markdown",
   "id": "48e0f9c6-b7f5-4b92-bbec-3a3a71759be8",
   "metadata": {},
   "source": [
    "`repr` for a `Vector2d` object mimics the source code for constructing an exemplar"
   ]
  },
  {
   "cell_type": "code",
   "execution_count": 5,
   "id": "587e4881-8985-4622-8246-6a91c01617fd",
   "metadata": {},
   "outputs": [
    {
     "data": {
      "text/plain": [
       "(3.0, 4.0)"
      ]
     },
     "execution_count": 5,
     "metadata": {},
     "output_type": "execute_result"
    }
   ],
   "source": [
    "x, y"
   ]
  },
  {
   "cell_type": "code",
   "execution_count": 6,
   "id": "f551169d-902e-4ef6-a4dd-e37d2f98f1fb",
   "metadata": {},
   "outputs": [
    {
     "data": {
      "text/plain": [
       "Vector2d(3.0, 4.0)"
      ]
     },
     "execution_count": 6,
     "metadata": {},
     "output_type": "execute_result"
    }
   ],
   "source": [
    "v1"
   ]
  },
  {
   "cell_type": "markdown",
   "id": "d7f0bbc6-4b25-4661-9de9-6abedf0e2149",
   "metadata": {},
   "source": [
    "Using `eval` shows that the result of `repr` for `Vector2d` is an exact representation of the constructor call "
   ]
  },
  {
   "cell_type": "code",
   "execution_count": 7,
   "id": "20e5caa1-6a35-42ee-8e34-d5a96129ee24",
   "metadata": {},
   "outputs": [],
   "source": [
    "v1_clone = eval(repr(v1))"
   ]
  },
  {
   "cell_type": "markdown",
   "id": "3024e2c8-6f46-46b4-adb5-53d2640baff2",
   "metadata": {},
   "source": [
    "`Vector2d` supports comparison with `==`; this is useful for testing"
   ]
  },
  {
   "cell_type": "code",
   "execution_count": 8,
   "id": "d5bb58f7-8ed2-4619-86df-2a5e80663df8",
   "metadata": {},
   "outputs": [
    {
     "data": {
      "text/plain": [
       "True"
      ]
     },
     "execution_count": 8,
     "metadata": {},
     "output_type": "execute_result"
    }
   ],
   "source": [
    "v1 == v1_clone"
   ]
  },
  {
   "cell_type": "markdown",
   "id": "3058677f-0b91-4592-88de-6bc9b21ab16b",
   "metadata": {},
   "source": [
    "`print` calls the `str` function, which generates an ordered pair for `Vector2d`"
   ]
  },
  {
   "cell_type": "code",
   "execution_count": 9,
   "id": "76559ce9-9c3c-4162-8585-a82e32e74fc3",
   "metadata": {},
   "outputs": [
    {
     "name": "stdout",
     "output_type": "stream",
     "text": [
      "(3.0, 4.0)\n"
     ]
    }
   ],
   "source": [
    "print(v1)"
   ]
  },
  {
   "cell_type": "markdown",
   "id": "29938092-d2fe-4929-aeb8-43833ede718d",
   "metadata": {},
   "source": [
    "`bytes` uses `__bytes__` method to get binary representation"
   ]
  },
  {
   "cell_type": "code",
   "execution_count": 10,
   "id": "1173a99c-709e-4d6e-9407-ee902c4cdd6e",
   "metadata": {},
   "outputs": [
    {
     "data": {
      "text/plain": [
       "b'd\\x00\\x00\\x00\\x00\\x00\\x00\\x08@\\x00\\x00\\x00\\x00\\x00\\x00\\x10@'"
      ]
     },
     "execution_count": 10,
     "metadata": {},
     "output_type": "execute_result"
    }
   ],
   "source": [
    "octets = bytes(v1)\n",
    "octets"
   ]
  },
  {
   "cell_type": "markdown",
   "id": "c8c8c485-394e-4290-99b0-3f076b7f63d8",
   "metadata": {},
   "source": [
    "`abs` calls the `__abs__` method to return the modulus of the vector"
   ]
  },
  {
   "cell_type": "code",
   "execution_count": 11,
   "id": "cbdf0421-65dc-4299-ae87-f067b075fdbb",
   "metadata": {},
   "outputs": [
    {
     "data": {
      "text/plain": [
       "5.0"
      ]
     },
     "execution_count": 11,
     "metadata": {},
     "output_type": "execute_result"
    }
   ],
   "source": [
    "abs(v1)"
   ]
  },
  {
   "cell_type": "markdown",
   "id": "b7b15a84-fba9-44ee-aba5-92e24b6397ca",
   "metadata": {},
   "source": [
    "`bool` uses the `__bool__` method to return `False` for a `Vector2d` object of zero length, and `True` otherwise"
   ]
  },
  {
   "cell_type": "code",
   "execution_count": 12,
   "id": "2c981e49-fc05-4720-9b14-8c3f0e71ce5c",
   "metadata": {},
   "outputs": [
    {
     "data": {
      "text/plain": [
       "(True, False)"
      ]
     },
     "execution_count": 12,
     "metadata": {},
     "output_type": "execute_result"
    }
   ],
   "source": [
    "bool(v1), bool(Vector2d(0, 0))"
   ]
  },
  {
   "cell_type": "markdown",
   "id": "e3d36e6a-9020-465e-8da2-b62cce90728f",
   "metadata": {},
   "source": [
    "<h2>Alternative Constructor</h2>"
   ]
  },
  {
   "cell_type": "markdown",
   "id": "528c3739-7f27-4730-9ff7-f56ef2d2f4d6",
   "metadata": {},
   "source": [
    "Constructing the `Vector2d` class from a binary sequence"
   ]
  },
  {
   "cell_type": "code",
   "execution_count": 13,
   "id": "5e697cc2-9612-4f2a-9e2b-cb3f65c5c387",
   "metadata": {},
   "outputs": [],
   "source": [
    "import math\n",
    "from array import array\n",
    "\n",
    "\n",
    "class Vector2d:\n",
    "    typecode = 'd'\n",
    "\n",
    "    def __init__(self, x, y):\n",
    "        self.x = float(x)\n",
    "        self.y = float(y)\n",
    "\n",
    "    def __iter__(self):\n",
    "        return (i for i in (self.x, self.y))\n",
    "\n",
    "    def __repr__(self):\n",
    "        class_name = type(self).__name__\n",
    "        return '{}({!r}, {!r})'.format(class_name, *self)\n",
    "\n",
    "    def __str__(self):\n",
    "        return str(tuple(self))\n",
    "\n",
    "    def __bytes__(self):\n",
    "        return bytes([ord(self.typecode)]) + bytes(array(self.typecode, self))\n",
    "\n",
    "    def __eq__(self, other):\n",
    "        return tuple(self) == tuple(other)\n",
    "\n",
    "    def __abs__(self):\n",
    "        return math.hypot(self.x, self.y)\n",
    "\n",
    "    def __bool__(self):\n",
    "        return bool(abs(self))\n",
    "\n",
    "    # Construct Vector2d from a binary sequence\n",
    "    @classmethod\n",
    "    def frombytes(cls, octets):  # the class itself is passed to cls instead of self\n",
    "        typecode = chr(octets[0])  # read typecode from the first byte\n",
    "        # Create a memoryview object from a binary sequence of octets\n",
    "        # and cast it to the typecode type\n",
    "        memv = memoryview(octets[1:]).cast(typecode)\n",
    "        return cls(*memv)"
   ]
  },
  {
   "cell_type": "code",
   "execution_count": 14,
   "id": "caaa1aa8-1907-434b-8824-d799df902015",
   "metadata": {},
   "outputs": [
    {
     "data": {
      "text/plain": [
       "Vector2d(3.0, 4.0)"
      ]
     },
     "execution_count": 14,
     "metadata": {},
     "output_type": "execute_result"
    }
   ],
   "source": [
    "v1 = Vector2d(3, 4)\n",
    "v1"
   ]
  },
  {
   "cell_type": "code",
   "execution_count": 15,
   "id": "ad951729-7699-42f9-8cd5-14c687a80908",
   "metadata": {},
   "outputs": [
    {
     "data": {
      "text/plain": [
       "Vector2d(3.0, 4.0)"
      ]
     },
     "execution_count": 15,
     "metadata": {},
     "output_type": "execute_result"
    }
   ],
   "source": [
    "v1_clone = Vector2d.frombytes(bytes(v1))\n",
    "v1_clone"
   ]
  },
  {
   "cell_type": "code",
   "execution_count": 16,
   "id": "e7096c68-6db0-4986-a8f0-eb6009e00cd1",
   "metadata": {},
   "outputs": [
    {
     "data": {
      "text/plain": [
       "True"
      ]
     },
     "execution_count": 16,
     "metadata": {},
     "output_type": "execute_result"
    }
   ],
   "source": [
    "v1 == v1_clone"
   ]
  },
  {
   "cell_type": "markdown",
   "id": "27d847b5-9a7f-4a04-8aac-bfff5dd710ab",
   "metadata": {},
   "source": [
    "<h2><code>@classmethod</code> and <code>@staticmethod</code> Decorators</h2>"
   ]
  },
  {
   "cell_type": "markdown",
   "id": "0e3a7bd1-e2cd-4608-b546-fe3e8de07b28",
   "metadata": {},
   "source": [
    "`@classmethod` creates class methods that receive the class `(cls)` as the first argument. They are used for methods that operate on the class itself or manage class attributes."
   ]
  },
  {
   "cell_type": "markdown",
   "id": "4ba7a0d1-8f7c-49b3-af43-8829f51201d9",
   "metadata": {},
   "source": [
    "`@staticmethod` creates a static method that doesn't receive either the class or the object instance as the first argument. It's essentially a function defined within a class namespace, useful for utility functions not directly related to class or object manipulation."
   ]
  },
  {
   "cell_type": "code",
   "execution_count": 17,
   "id": "5cb8cb63-297c-4379-8c93-9a6fcd43813d",
   "metadata": {},
   "outputs": [],
   "source": [
    "class Demo:\n",
    "    @classmethod\n",
    "    def klassmeth(*args):\n",
    "        return args  # returns all positional arguments\n",
    "\n",
    "    @staticmethod\n",
    "    def statmeth(*args):\n",
    "        return args  # returns all positional arguments"
   ]
  },
  {
   "cell_type": "markdown",
   "id": "6c35cdbf-3a65-4fdc-a45c-26ea709c5467",
   "metadata": {},
   "source": [
    "Regardless of how `Demo.klassmeth` is called, it gets the `Demo` class as its first argument."
   ]
  },
  {
   "cell_type": "code",
   "execution_count": 18,
   "id": "537737af-3f7c-4ae5-b86c-da2ccf51d02a",
   "metadata": {},
   "outputs": [
    {
     "data": {
      "text/plain": [
       "(__main__.Demo,)"
      ]
     },
     "execution_count": 18,
     "metadata": {},
     "output_type": "execute_result"
    }
   ],
   "source": [
    "Demo.klassmeth()"
   ]
  },
  {
   "cell_type": "code",
   "execution_count": 19,
   "id": "df013b7f-1bf9-4aa7-8c40-ce875985f7e0",
   "metadata": {},
   "outputs": [
    {
     "data": {
      "text/plain": [
       "(__main__.Demo, 'spam')"
      ]
     },
     "execution_count": 19,
     "metadata": {},
     "output_type": "execute_result"
    }
   ],
   "source": [
    "Demo.klassmeth('spam')"
   ]
  },
  {
   "cell_type": "markdown",
   "id": "414ae278-83f8-45dd-b381-5b54578af027",
   "metadata": {},
   "source": [
    "`Demo.statmeth` behaves like a normal function"
   ]
  },
  {
   "cell_type": "code",
   "execution_count": 20,
   "id": "d9fcecb8-5901-477d-aae8-dbf802380564",
   "metadata": {},
   "outputs": [
    {
     "data": {
      "text/plain": [
       "()"
      ]
     },
     "execution_count": 20,
     "metadata": {},
     "output_type": "execute_result"
    }
   ],
   "source": [
    "Demo.statmeth()"
   ]
  },
  {
   "cell_type": "code",
   "execution_count": 21,
   "id": "536e22fc-7395-4f42-9095-24b3b1cee158",
   "metadata": {},
   "outputs": [
    {
     "data": {
      "text/plain": [
       "('spam',)"
      ]
     },
     "execution_count": 21,
     "metadata": {},
     "output_type": "execute_result"
    }
   ],
   "source": [
    "Demo.statmeth('spam')"
   ]
  },
  {
   "cell_type": "markdown",
   "id": "6e7f60b8-f75c-4500-8ce1-fafc6252c6f1",
   "metadata": {},
   "source": [
    "<h2>Output Formatting</h2>"
   ]
  },
  {
   "cell_type": "markdown",
   "id": "b6aa98fd-e562-411a-a8e1-a53cacc4c368",
   "metadata": {},
   "source": [
    "`format()` and `str.format()` are used for string formatting, allowing you to create formatted strings by replacing placeholders with specified values."
   ]
  },
  {
   "cell_type": "markdown",
   "id": "4f27dc55-c0e5-46d4-9331-4d2248ceaf5c",
   "metadata": {},
   "source": [
    "`format(value, format_spec)` is a built-in function used to format a single value according to the specified format. `value` is the data you want to format, and format_spec is a string specifying how the value should be formatted."
   ]
  },
  {
   "cell_type": "code",
   "execution_count": 22,
   "id": "c933a8e7-a0aa-421a-a874-8fff435a44d1",
   "metadata": {},
   "outputs": [
    {
     "data": {
      "text/plain": [
       "0.19267822736030826"
      ]
     },
     "execution_count": 22,
     "metadata": {},
     "output_type": "execute_result"
    }
   ],
   "source": [
    "# Brazilian real/US dollar exchange rate\n",
    "brl = 1 / 5.19\n",
    "brl"
   ]
  },
  {
   "cell_type": "code",
   "execution_count": 23,
   "id": "49bc7922-f8af-4dd4-a282-a65754751d12",
   "metadata": {},
   "outputs": [
    {
     "data": {
      "text/plain": [
       "'0.1927'"
      ]
     },
     "execution_count": 23,
     "metadata": {},
     "output_type": "execute_result"
    }
   ],
   "source": [
    "format(brl, '0.4f')"
   ]
  },
  {
   "cell_type": "markdown",
   "id": "f3b2670e-f391-4ecc-b295-866e488bfb3d",
   "metadata": {},
   "source": [
    "`str.format()` is a method of a string object that replaces placeholders (curly braces `{}`) in the string with values passed as arguments to the method. The placeholders can be numbered or named, allowing you to specify the order in which the values are inserted into the string."
   ]
  },
  {
   "cell_type": "code",
   "execution_count": 24,
   "id": "da27c889-2b0e-43a4-8bac-a6e426a394c9",
   "metadata": {},
   "outputs": [
    {
     "data": {
      "text/plain": [
       "'1 BRL = 0.19 USD'"
      ]
     },
     "execution_count": 24,
     "metadata": {},
     "output_type": "execute_result"
    }
   ],
   "source": [
    "'1 BRL = {rate:0.2f} USD'.format(rate=brl)"
   ]
  },
  {
   "cell_type": "code",
   "execution_count": 25,
   "id": "0752de05-ab1d-4339-ba1a-a5f4c8958415",
   "metadata": {},
   "outputs": [
    {
     "data": {
      "text/plain": [
       "'101010'"
      ]
     },
     "execution_count": 25,
     "metadata": {},
     "output_type": "execute_result"
    }
   ],
   "source": [
    "# Convert the integer to a binary string\n",
    "format(42, 'b')"
   ]
  },
  {
   "cell_type": "code",
   "execution_count": 26,
   "id": "bc6f130b-eaaf-4a98-8af7-4c6108ee164c",
   "metadata": {},
   "outputs": [
    {
     "data": {
      "text/plain": [
       "'66.7%'"
      ]
     },
     "execution_count": 26,
     "metadata": {},
     "output_type": "execute_result"
    }
   ],
   "source": [
    "# Percent value output\n",
    "format(2 / 3, '.1%')"
   ]
  },
  {
   "cell_type": "code",
   "execution_count": 27,
   "id": "082bbabf-9883-4201-8282-5f2c90e61cbc",
   "metadata": {},
   "outputs": [
    {
     "data": {
      "text/plain": [
       "'18:05:19'"
      ]
     },
     "execution_count": 27,
     "metadata": {},
     "output_type": "execute_result"
    }
   ],
   "source": [
    "from datetime import datetime\n",
    "\n",
    "format(datetime.now(), '%H:%M:%S')"
   ]
  },
  {
   "cell_type": "code",
   "execution_count": 28,
   "id": "0c991f6e-b6d0-47e5-9180-7df31a22a2c2",
   "metadata": {},
   "outputs": [
    {
     "data": {
      "text/plain": [
       "'It is now 06:05 PM'"
      ]
     },
     "execution_count": 28,
     "metadata": {},
     "output_type": "execute_result"
    }
   ],
   "source": [
    "'It is now {:%I:%M %p}'.format(datetime.now())"
   ]
  },
  {
   "cell_type": "code",
   "execution_count": 29,
   "id": "d2d00764-6718-49af-9b0c-5c7de42b557c",
   "metadata": {},
   "outputs": [
    {
     "name": "stdout",
     "output_type": "stream",
     "text": [
      "TypeError('unsupported format string passed to Vector2d.__format__')\n"
     ]
    }
   ],
   "source": [
    "v1 = Vector2d(3, 4)\n",
    "\n",
    "try:\n",
    "    format(v1, '.3f')\n",
    "except TypeError as e:\n",
    "    print(e.__repr__())"
   ]
  },
  {
   "cell_type": "markdown",
   "id": "84658f08-5177-4b8d-aec8-9741c32babb8",
   "metadata": {},
   "source": [
    "Fix by implementing custom mini-formatting language "
   ]
  },
  {
   "cell_type": "code",
   "execution_count": 30,
   "id": "4fce2f9f-f46b-4717-b8c5-c02476716b51",
   "metadata": {},
   "outputs": [],
   "source": [
    "import math\n",
    "from array import array\n",
    "\n",
    "\n",
    "class Vector2d:\n",
    "    typecode = 'd'\n",
    "\n",
    "    def __init__(self, x, y):\n",
    "        self.x = float(x)\n",
    "        self.y = float(y)\n",
    "\n",
    "    def __iter__(self):\n",
    "        return (i for i in (self.x, self.y))\n",
    "\n",
    "    def __repr__(self):\n",
    "        class_name = type(self).__name__\n",
    "        return '{}({!r}, {!r})'.format(class_name, *self)\n",
    "\n",
    "    def __str__(self):\n",
    "        return str(tuple(self))\n",
    "\n",
    "    def __bytes__(self):\n",
    "        return bytes([ord(self.typecode)]) + bytes(array(self.typecode, self))\n",
    "\n",
    "    def __eq__(self, other):\n",
    "        return tuple(self) == tuple(other)\n",
    "\n",
    "    def __abs__(self):\n",
    "        return math.hypot(self.x, self.y)\n",
    "\n",
    "    def __bool__(self):\n",
    "        return bool(abs(self))\n",
    "\n",
    "    # The math.atan2() function is used to get the angle\n",
    "    def angle(self):\n",
    "        return math.atan2(self.y, self.x)\n",
    "\n",
    "    def __format__(self, fmt_spec=''):\n",
    "        # The format ends with 'p': polar coordinates\n",
    "        if fmt_spec.endswith('p'):\n",
    "            fmt_spec = fmt_spec[:-1]  # remove suffix 'p'\n",
    "            coords = (abs(self), self.angle())  # build a tuple of polar coordinates\n",
    "            outer_fmt = '<{}, {}>'  # build the output format using angle brackets\n",
    "        else:\n",
    "            # Use the x, y components of the self vector to represent it\n",
    "            # in rectangular coordinates\n",
    "            coords = self\n",
    "            outer_fmt = '({}, {})'  # build the output format using parentheses\n",
    "        components = (format(c, fmt_spec) for c in coords)\n",
    "        return outer_fmt.format(*components)\n",
    "\n",
    "    @classmethod\n",
    "    def frombytes(cls, octets):\n",
    "        typecode = chr(octets[0])\n",
    "        memv = memoryview(octets[1:]).cast(typecode)\n",
    "        return cls(*memv)"
   ]
  },
  {
   "cell_type": "code",
   "execution_count": 31,
   "id": "da09e3de-f9f9-4013-b94c-2408cf8cd485",
   "metadata": {},
   "outputs": [
    {
     "data": {
      "text/plain": [
       "'<1.4142135623730951, 0.7853981633974483>'"
      ]
     },
     "execution_count": 31,
     "metadata": {},
     "output_type": "execute_result"
    }
   ],
   "source": [
    "format(Vector2d(1, 1), 'p')"
   ]
  },
  {
   "cell_type": "code",
   "execution_count": 32,
   "id": "2c4becea-68d5-412e-81f1-2da17811884e",
   "metadata": {},
   "outputs": [
    {
     "data": {
      "text/plain": [
       "'<1.414e+00, 7.854e-01>'"
      ]
     },
     "execution_count": 32,
     "metadata": {},
     "output_type": "execute_result"
    }
   ],
   "source": [
    "format(Vector2d(1, 1), '.3ep')"
   ]
  },
  {
   "cell_type": "code",
   "execution_count": 33,
   "id": "7e9e6b60-2803-4660-a612-3ec57ace7fe4",
   "metadata": {},
   "outputs": [
    {
     "data": {
      "text/plain": [
       "'<1.41421, 0.78540>'"
      ]
     },
     "execution_count": 33,
     "metadata": {},
     "output_type": "execute_result"
    }
   ],
   "source": [
    "format(Vector2d(1, 1), '0.5fp')"
   ]
  },
  {
   "cell_type": "markdown",
   "id": "ee93c0bd-1d7e-462c-bc77-a8b42d6184b6",
   "metadata": {},
   "source": [
    "<h2>Hashable Class <code>Vector2d</code></h2>"
   ]
  },
  {
   "cell_type": "code",
   "execution_count": 34,
   "id": "873e68be-7a21-40e0-a13d-b5c67f8922e7",
   "metadata": {},
   "outputs": [
    {
     "name": "stdout",
     "output_type": "stream",
     "text": [
      "TypeError(\"unhashable type: 'Vector2d'\")\n"
     ]
    }
   ],
   "source": [
    "v1 = Vector2d(3, 4)\n",
    "\n",
    "try:\n",
    "    hash(v1)\n",
    "except TypeError as e:\n",
    "    print(e.__repr__())"
   ]
  },
  {
   "cell_type": "code",
   "execution_count": 35,
   "id": "e7bd4b73-4822-4a38-9b3a-144c8fc328ca",
   "metadata": {},
   "outputs": [
    {
     "name": "stdout",
     "output_type": "stream",
     "text": [
      "TypeError(\"unhashable type: 'Vector2d'\")\n"
     ]
    }
   ],
   "source": [
    "try:\n",
    "    set([v1])\n",
    "except TypeError as e:\n",
    "    print(e.__repr__())"
   ]
  },
  {
   "cell_type": "markdown",
   "id": "f36227a9-1ad4-4d16-99bc-242b75011cb8",
   "metadata": {},
   "source": [
    "Changes needed to make `Vector2d` class immutable"
   ]
  },
  {
   "cell_type": "markdown",
   "id": "e1839129-8ff2-449f-8f11-d0b5b31a22c6",
   "metadata": {},
   "source": [
    "The `@property` decorator allows you to define a method in a class as a property. It enables to access the method like an attribute, providing a cleaner syntax and encapsulation for `getter`, `setter`, and `deleter` of class attributes."
   ]
  },
  {
   "cell_type": "code",
   "execution_count": 36,
   "id": "7dece4a9-528b-45da-b70d-6ccd2296b773",
   "metadata": {},
   "outputs": [],
   "source": [
    "import math\n",
    "from array import array\n",
    "\n",
    "\n",
    "class Vector2d:\n",
    "    typecode = 'd'\n",
    "\n",
    "    def __init__(self, x, y):\n",
    "        self.__x = float(x)  # lock the attribute\n",
    "        self.__y = float(y)\n",
    "\n",
    "    # The @property decorator marks the method for reading of a property\n",
    "    @property\n",
    "    def x(self):\n",
    "        return self.__x\n",
    "\n",
    "    @property\n",
    "    def y(self):\n",
    "        return self.__y\n",
    "\n",
    "    def __iter__(self):\n",
    "        return (i for i in (self.x, self.y))\n",
    "\n",
    "    def __repr__(self):\n",
    "        class_name = type(self).__name__\n",
    "        return '{}({!r}, {!r})'.format(class_name, *self)\n",
    "\n",
    "    def __str__(self):\n",
    "        return str(tuple(self))\n",
    "\n",
    "    def __bytes__(self):\n",
    "        return bytes([ord(self.typecode)]) + bytes(array(self.typecode, self))\n",
    "\n",
    "    def __eq__(self, other):\n",
    "        return tuple(self) == tuple(other)\n",
    "\n",
    "    # Implement the __hash__ method\n",
    "    def __hash__(self):\n",
    "        return hash((self.x, self.y))\n",
    "\n",
    "    def __abs__(self):\n",
    "        return math.hypot(self.x, self.y)\n",
    "\n",
    "    def __bool__(self):\n",
    "        return bool(abs(self))\n",
    "\n",
    "    def angle(self):\n",
    "        return math.atan2(self.y, self.x)\n",
    "\n",
    "    def __format__(self, fmt_spec=''):\n",
    "        if fmt_spec.endswith('p'):\n",
    "            fmt_spec = fmt_spec[:-1]\n",
    "            coords = (abs(self), self.angle())\n",
    "            outer_fmt = '<{}, {}>'\n",
    "        else:\n",
    "            coords = self\n",
    "            outer_fmt = '({}, {})'\n",
    "        components = (format(c, fmt_spec) for c in coords)\n",
    "        return outer_fmt.format(*components)\n",
    "\n",
    "    @classmethod\n",
    "    def frombytes(cls, octets):\n",
    "        typecode = chr(octets[0])\n",
    "        memv = memoryview(octets[1:]).cast(typecode)\n",
    "        return cls(*memv)"
   ]
  },
  {
   "cell_type": "code",
   "execution_count": 37,
   "id": "e076311f-a5ce-4889-ad79-e9319dfb4d56",
   "metadata": {},
   "outputs": [
    {
     "data": {
      "text/plain": [
       "(1079245023883434373, 1994163070182233067)"
      ]
     },
     "execution_count": 37,
     "metadata": {},
     "output_type": "execute_result"
    }
   ],
   "source": [
    "v1 = Vector2d(3, 4)\n",
    "v2 = Vector2d(3.1, 4.2)\n",
    "\n",
    "hash(v1), hash(v2)"
   ]
  },
  {
   "cell_type": "code",
   "execution_count": 38,
   "id": "f22d3b9d-1027-4089-8263-2aea678938dc",
   "metadata": {},
   "outputs": [
    {
     "data": {
      "text/plain": [
       "{Vector2d(3.0, 4.0), Vector2d(3.1, 4.2)}"
      ]
     },
     "execution_count": 38,
     "metadata": {},
     "output_type": "execute_result"
    }
   ],
   "source": [
    "{v1, v2}"
   ]
  }
 ],
 "metadata": {
  "kernelspec": {
   "display_name": "Python 3 (ipykernel)",
   "language": "python",
   "name": "python3"
  },
  "language_info": {
   "codemirror_mode": {
    "name": "ipython",
    "version": 3
   },
   "file_extension": ".py",
   "mimetype": "text/x-python",
   "name": "python",
   "nbconvert_exporter": "python",
   "pygments_lexer": "ipython3",
   "version": "3.12.1"
  }
 },
 "nbformat": 4,
 "nbformat_minor": 5
}
