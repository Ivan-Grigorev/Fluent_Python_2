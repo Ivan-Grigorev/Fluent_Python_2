{
 "cells": [
  {
   "cell_type": "markdown",
   "id": "561acba2-2711-4963-b800-ae1fed126ecf",
   "metadata": {},
   "source": [
    "<h1>Chapter 11. Python-inspired Object</h1>"
   ]
  }
 ],
 "metadata": {
  "kernelspec": {
   "display_name": "Python 3 (ipykernel)",
   "language": "python",
   "name": "python3"
  },
  "language_info": {
   "codemirror_mode": {
    "name": "ipython",
    "version": 3
   },
   "file_extension": ".py",
   "mimetype": "text/x-python",
   "name": "python",
   "nbconvert_exporter": "python",
   "pygments_lexer": "ipython3",
   "version": "3.12.1"
  }
 },
 "nbformat": 4,
 "nbformat_minor": 5
}
