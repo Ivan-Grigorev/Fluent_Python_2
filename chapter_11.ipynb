{
 "cells": [
  {
   "cell_type": "markdown",
   "id": "561acba2-2711-4963-b800-ae1fed126ecf",
   "metadata": {},
   "source": [
    "<h1>Chapter 11. Object in the Spirit of Python</h1>"
   ]
  },
  {
   "cell_type": "markdown",
   "id": "dd0dc91a-4802-478c-aa1f-cac845b752cf",
   "metadata": {},
   "source": [
    "The \"Spirit of Python\" encompasses Python's principles of simplicity, readability, versatility, and elegance, defining its philosophy and guiding values. When writing a library or framework, programmers anticipate that the classes they utilize will operate in a manner consistent with Python's own provided classes."
   ]
  },
  {
   "cell_type": "markdown",
   "id": "b9b492d4-4825-4c0b-8131-a104d85afb56",
   "metadata": {},
   "source": [
    "<h2>Object Presentation</h2>"
   ]
  },
  {
   "cell_type": "code",
   "execution_count": 1,
   "id": "9ed7f893-f1ef-4eca-afc5-8d227b4448e7",
   "metadata": {},
   "outputs": [],
   "source": [
    "import math\n",
    "from array import array\n",
    "\n",
    "\n",
    "class Vector2d:\n",
    "    typecode = 'd'\n",
    "\n",
    "    # Converting x and y to float type in __init__ method\n",
    "    # allows to detect errors at an early stage\n",
    "    def __init__(self, x, y):\n",
    "        self.x = float(x)\n",
    "        self.y = float(y)\n",
    "\n",
    "    # The presence of the __iter__ method makes Vector2d iterable\n",
    "    def __iter__(self):\n",
    "        return (i for i in (self.x, self.y))\n",
    "\n",
    "    def __repr__(self):\n",
    "        class_name = type(self).__name__\n",
    "        # Vector2d is an iterated object,\n",
    "        # *self supplies the x and y components of the format function\n",
    "        return '{}({!r}, {!r})'.format(class_name, *self)\n",
    "\n",
    "    def __str__(self):\n",
    "        return str(tuple(self))\n",
    "\n",
    "    def __bytes__(self):\n",
    "        # Convert the typecode to bytes and concatenate it with the bytes object\n",
    "        # obtained through array transformation, constructed by traversing the instance\n",
    "        return bytes([ord(self.typecode)]) + bytes(array(self.typecode, self))\n",
    "\n",
    "    def __eq__(self, other):\n",
    "        return tuple(self) == tuple(other)\n",
    "\n",
    "    def __abs__(self):\n",
    "        # The modulus of a vector is the length of the hypotenuse\n",
    "        # of a right triangle with cathetes x and y\n",
    "        return math.hypot(self.x, self.y)\n",
    "\n",
    "    def __bool__(self):\n",
    "        return bool(abs(self))"
   ]
  },
  {
   "cell_type": "code",
   "execution_count": 2,
   "id": "a4478507-cdaf-4375-857f-5b7c0e5c0999",
   "metadata": {},
   "outputs": [],
   "source": [
    "v1 = Vector2d(3, 4)"
   ]
  },
  {
   "cell_type": "markdown",
   "id": "bc85820a-8836-4994-990d-7de12edbec0c",
   "metadata": {},
   "source": [
    "`Vector2d` components can be accessed directly as attributes (no read methods)"
   ]
  },
  {
   "cell_type": "code",
   "execution_count": 3,
   "id": "4f49cbff-2d8a-4fd4-8547-3ea3e69d4a40",
   "metadata": {},
   "outputs": [
    {
     "name": "stdout",
     "output_type": "stream",
     "text": [
      "3.0 4.0\n"
     ]
    }
   ],
   "source": [
    "print(v1.x, v1.y)"
   ]
  },
  {
   "cell_type": "markdown",
   "id": "fce1de61-9d9c-41af-a7e8-8fb91216fbd3",
   "metadata": {},
   "source": [
    "A `Vector2d` object can be unpacked into a tuple of variables"
   ]
  },
  {
   "cell_type": "code",
   "execution_count": 4,
   "id": "14d31469-818b-41b0-99db-7dadd32e9d87",
   "metadata": {},
   "outputs": [],
   "source": [
    "x, y = v1"
   ]
  },
  {
   "cell_type": "markdown",
   "id": "48e0f9c6-b7f5-4b92-bbec-3a3a71759be8",
   "metadata": {},
   "source": [
    "`repr` for a `Vector2d` object mimics the source code for constructing an exemplar"
   ]
  },
  {
   "cell_type": "code",
   "execution_count": 5,
   "id": "587e4881-8985-4622-8246-6a91c01617fd",
   "metadata": {},
   "outputs": [
    {
     "data": {
      "text/plain": [
       "(3.0, 4.0)"
      ]
     },
     "execution_count": 5,
     "metadata": {},
     "output_type": "execute_result"
    }
   ],
   "source": [
    "x, y"
   ]
  },
  {
   "cell_type": "code",
   "execution_count": 6,
   "id": "f551169d-902e-4ef6-a4dd-e37d2f98f1fb",
   "metadata": {},
   "outputs": [
    {
     "data": {
      "text/plain": [
       "Vector2d(3.0, 4.0)"
      ]
     },
     "execution_count": 6,
     "metadata": {},
     "output_type": "execute_result"
    }
   ],
   "source": [
    "v1"
   ]
  },
  {
   "cell_type": "markdown",
   "id": "d7f0bbc6-4b25-4661-9de9-6abedf0e2149",
   "metadata": {},
   "source": [
    "Using `eval` shows that the result of `repr` for `Vector2d` is an exact representation of the constructor call "
   ]
  },
  {
   "cell_type": "code",
   "execution_count": 7,
   "id": "20e5caa1-6a35-42ee-8e34-d5a96129ee24",
   "metadata": {},
   "outputs": [],
   "source": [
    "v1_clone = eval(repr(v1))"
   ]
  },
  {
   "cell_type": "markdown",
   "id": "3024e2c8-6f46-46b4-adb5-53d2640baff2",
   "metadata": {},
   "source": [
    "`Vector2d` supports comparison with `==`; this is useful for testing"
   ]
  },
  {
   "cell_type": "code",
   "execution_count": 8,
   "id": "d5bb58f7-8ed2-4619-86df-2a5e80663df8",
   "metadata": {},
   "outputs": [
    {
     "data": {
      "text/plain": [
       "True"
      ]
     },
     "execution_count": 8,
     "metadata": {},
     "output_type": "execute_result"
    }
   ],
   "source": [
    "v1 == v1_clone"
   ]
  },
  {
   "cell_type": "markdown",
   "id": "3058677f-0b91-4592-88de-6bc9b21ab16b",
   "metadata": {},
   "source": [
    "`print` calls the `str` function, which generates an ordered pair for `Vector2d`"
   ]
  },
  {
   "cell_type": "code",
   "execution_count": 9,
   "id": "76559ce9-9c3c-4162-8585-a82e32e74fc3",
   "metadata": {},
   "outputs": [
    {
     "name": "stdout",
     "output_type": "stream",
     "text": [
      "(3.0, 4.0)\n"
     ]
    }
   ],
   "source": [
    "print(v1)"
   ]
  },
  {
   "cell_type": "markdown",
   "id": "29938092-d2fe-4929-aeb8-43833ede718d",
   "metadata": {},
   "source": [
    "`bytes` uses `__bytes__` method to get binary representation"
   ]
  },
  {
   "cell_type": "code",
   "execution_count": 10,
   "id": "1173a99c-709e-4d6e-9407-ee902c4cdd6e",
   "metadata": {},
   "outputs": [
    {
     "data": {
      "text/plain": [
       "b'd\\x00\\x00\\x00\\x00\\x00\\x00\\x08@\\x00\\x00\\x00\\x00\\x00\\x00\\x10@'"
      ]
     },
     "execution_count": 10,
     "metadata": {},
     "output_type": "execute_result"
    }
   ],
   "source": [
    "octets = bytes(v1)\n",
    "octets"
   ]
  },
  {
   "cell_type": "markdown",
   "id": "c8c8c485-394e-4290-99b0-3f076b7f63d8",
   "metadata": {},
   "source": [
    "`abs` calls the `__abs__` method to return the modulus of the vector"
   ]
  },
  {
   "cell_type": "code",
   "execution_count": 11,
   "id": "cbdf0421-65dc-4299-ae87-f067b075fdbb",
   "metadata": {},
   "outputs": [
    {
     "data": {
      "text/plain": [
       "5.0"
      ]
     },
     "execution_count": 11,
     "metadata": {},
     "output_type": "execute_result"
    }
   ],
   "source": [
    "abs(v1)"
   ]
  },
  {
   "cell_type": "markdown",
   "id": "b7b15a84-fba9-44ee-aba5-92e24b6397ca",
   "metadata": {},
   "source": [
    "`bool` uses the `__bool__` method to return `False` for a `Vector2d` object of zero length, and `True` otherwise"
   ]
  },
  {
   "cell_type": "code",
   "execution_count": 12,
   "id": "2c981e49-fc05-4720-9b14-8c3f0e71ce5c",
   "metadata": {},
   "outputs": [
    {
     "data": {
      "text/plain": [
       "(True, False)"
      ]
     },
     "execution_count": 12,
     "metadata": {},
     "output_type": "execute_result"
    }
   ],
   "source": [
    "bool(v1), bool(Vector2d(0, 0))"
   ]
  },
  {
   "cell_type": "code",
   "execution_count": null,
   "id": "20d570e1-73fc-4290-8009-4d1d0ea44c0c",
   "metadata": {},
   "outputs": [],
   "source": []
  }
 ],
 "metadata": {
  "kernelspec": {
   "display_name": "Python 3 (ipykernel)",
   "language": "python",
   "name": "python3"
  },
  "language_info": {
   "codemirror_mode": {
    "name": "ipython",
    "version": 3
   },
   "file_extension": ".py",
   "mimetype": "text/x-python",
   "name": "python",
   "nbconvert_exporter": "python",
   "pygments_lexer": "ipython3",
   "version": "3.12.1"
  }
 },
 "nbformat": 4,
 "nbformat_minor": 5
}
