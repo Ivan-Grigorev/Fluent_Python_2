{
 "cells": [
  {
   "cell_type": "markdown",
   "id": "d40d0ca8-6076-4484-a28a-6b521b740004",
   "metadata": {},
   "source": [
    "<h1>Chapter 05. Data Class Constructors.</h1>"
   ]
  },
  {
   "cell_type": "markdown",
   "id": "feed6ba6-5eb3-4419-b85c-872cfd9a07ed",
   "metadata": {},
   "source": [
    "<h2>Overview of Data Class Constructors</h2>"
   ]
  },
  {
   "cell_type": "markdown",
   "id": "652f9cc6-7bd8-4702-bd17-5290b03b4340",
   "metadata": {},
   "source": [
    "Simple class for representing geographic coordinates"
   ]
  },
  {
   "cell_type": "code",
   "execution_count": 1,
   "id": "6f86a1a9-4203-49c3-b6da-73022dccdc13",
   "metadata": {},
   "outputs": [],
   "source": [
    "class Coordinate:\n",
    "\n",
    "    def __init(self, lat, lon):\n",
    "        self.lat = lat\n",
    "        self.lon = lon"
   ]
  },
  {
   "cell_type": "markdown",
   "id": "ed8cb52c-13b1-4f69-8156-4f462ff81e9a",
   "metadata": {},
   "source": [
    "Named tuples are lightweight data structures available in the collections module that behave like tuples but provide named access to their elements."
   ]
  },
  {
   "cell_type": "code",
   "execution_count": 2,
   "id": "56223c7b-cce9-49c7-8028-2066a76b32d6",
   "metadata": {},
   "outputs": [],
   "source": [
    "from collections import namedtuple\n",
    "\n",
    "\n",
    "Coordinate = namedtuple('Coordinate', 'lat lon')"
   ]
  },
  {
   "cell_type": "code",
   "execution_count": 3,
   "id": "30540220-79a2-4877-ac2a-e3b931b2f3ae",
   "metadata": {},
   "outputs": [
    {
     "data": {
      "text/plain": [
       "True"
      ]
     },
     "execution_count": 3,
     "metadata": {},
     "output_type": "execute_result"
    }
   ],
   "source": [
    "issubclass(Coordinate, tuple)"
   ]
  },
  {
   "cell_type": "code",
   "execution_count": 4,
   "id": "de19dc77-49ed-4423-8c1e-548035eaccb0",
   "metadata": {},
   "outputs": [
    {
     "data": {
      "text/plain": [
       "Coordinate(lat=40.7, lon=74.0)"
      ]
     },
     "execution_count": 4,
     "metadata": {},
     "output_type": "execute_result"
    }
   ],
   "source": [
    "new_york = Coordinate(40.7, 74.0)\n",
    "new_york"
   ]
  },
  {
   "cell_type": "markdown",
   "id": "0049c5f1-4a67-4bcd-beea-77e0d63bf38f",
   "metadata": {},
   "source": [
    "`typing.NamedTuple` is a class provided in the typing module that allows you to define named tuples with type annotations."
   ]
  },
  {
   "cell_type": "code",
   "execution_count": 5,
   "id": "0fa128c0-c985-42d3-afd2-4a51eadc48d6",
   "metadata": {},
   "outputs": [],
   "source": [
    "import typing\n",
    "\n",
    "\n",
    "Coordinate = typing.NamedTuple(\n",
    "    'Coordinate',\n",
    "    [('lat', float), ('lon', float)]\n",
    ")"
   ]
  },
  {
   "cell_type": "code",
   "execution_count": 6,
   "id": "81e88816-e674-4882-a8d0-fe4acb0483e3",
   "metadata": {},
   "outputs": [
    {
     "data": {
      "text/plain": [
       "True"
      ]
     },
     "execution_count": 6,
     "metadata": {},
     "output_type": "execute_result"
    }
   ],
   "source": [
    "issubclass(Coordinate, tuple)"
   ]
  },
  {
   "cell_type": "code",
   "execution_count": 7,
   "id": "f0810ec6-89d6-4755-bb17-6aafb9c8d3a3",
   "metadata": {},
   "outputs": [
    {
     "data": {
      "text/plain": [
       "{'lat': float, 'lon': float}"
      ]
     },
     "execution_count": 7,
     "metadata": {},
     "output_type": "execute_result"
    }
   ],
   "source": [
    "typing.get_type_hints(Coordinate)"
   ]
  },
  {
   "cell_type": "code",
   "execution_count": 8,
   "id": "e4945300-0faa-42b4-ac5e-8fb91de4caed",
   "metadata": {},
   "outputs": [],
   "source": [
    "from typing import NamedTuple\n",
    "\n",
    "\n",
    "class Coordinate(NamedTuple):\n",
    "    lat: float\n",
    "    lon: float\n",
    "\n",
    "    def __str__(self):\n",
    "        ns = 'N' if self.lat >= 0 else 'S'\n",
    "        we = 'E' if self.lon >= 0 else 'E'\n",
    "        return f\"{abs(self.lat):.1f}°{ns}, {abs(self.lon):.1f}°{we}\""
   ]
  },
  {
   "cell_type": "markdown",
   "id": "f9acfbcb-abfd-43e5-a976-f6a5c795468f",
   "metadata": {},
   "source": [
    "Data classes are a feature introduced in Python 3.7 through the `dataclasses` module, providing a concise way to define classes for storing data."
   ]
  },
  {
   "cell_type": "code",
   "execution_count": 9,
   "id": "7a9623e9-a0be-44b3-ad96-0a1c435798c3",
   "metadata": {},
   "outputs": [],
   "source": [
    "from dataclasses import dataclass\n",
    "\n",
    "\n",
    "@dataclass(frozen=True)  # frozen=True argument makes instances of the data class immutable\n",
    "class Coordinate:\n",
    "    lat: float\n",
    "    lon: float\n",
    "\n",
    "    def __str__(self):\n",
    "        ns = 'N' if self.lat >= 0 else 'S'\n",
    "        we = 'E' if self.lon >= 0 else 'E'\n",
    "        return f\"{abs(self.lat):.1f}°{ns}, {abs(self.lon):.1f}°{we}\""
   ]
  },
  {
   "cell_type": "markdown",
   "id": "09f39a79-aac9-4daa-acee-065d15db60b7",
   "metadata": {},
   "source": [
    "<h2>Classic Named Tuples</h2>"
   ]
  },
  {
   "cell_type": "markdown",
   "id": "2076fab4-9779-4265-bcab-c92c6de24884",
   "metadata": {},
   "source": [
    "Defining and using a Named Tuple"
   ]
  },
  {
   "cell_type": "code",
   "execution_count": 10,
   "id": "610eb782-54b4-45d3-a39b-6c253596f9c3",
   "metadata": {},
   "outputs": [],
   "source": [
    "from collections import namedtuple\n",
    "\n",
    "\n",
    "City = namedtuple('City', 'name country population coordinates')"
   ]
  },
  {
   "cell_type": "code",
   "execution_count": 11,
   "id": "31c61616-8e12-4fd4-8b79-788558e9747f",
   "metadata": {},
   "outputs": [
    {
     "data": {
      "text/plain": [
       "City(name='Tokyo', country='JP', population=36.933, coordinates=(35.689722, 139.691667))"
      ]
     },
     "execution_count": 11,
     "metadata": {},
     "output_type": "execute_result"
    }
   ],
   "source": [
    "tokyo = City(\n",
    "    'Tokyo',\n",
    "    'JP',\n",
    "    36.933,\n",
    "    (35.689722, 139.691667)\n",
    ")\n",
    "tokyo"
   ]
  },
  {
   "cell_type": "code",
   "execution_count": 12,
   "id": "cd917f18-b7d4-49f7-906a-13222af7fa43",
   "metadata": {},
   "outputs": [
    {
     "data": {
      "text/plain": [
       "36.933"
      ]
     },
     "execution_count": 12,
     "metadata": {},
     "output_type": "execute_result"
    }
   ],
   "source": [
    "tokyo.population"
   ]
  },
  {
   "cell_type": "code",
   "execution_count": 13,
   "id": "71b3ad61-226c-4fa5-b8b8-b8813ece7411",
   "metadata": {},
   "outputs": [
    {
     "data": {
      "text/plain": [
       "(35.689722, 139.691667)"
      ]
     },
     "execution_count": 13,
     "metadata": {},
     "output_type": "execute_result"
    }
   ],
   "source": [
    "tokyo.coordinates"
   ]
  },
  {
   "cell_type": "code",
   "execution_count": 14,
   "id": "9c09e500-1179-4ffc-a53c-97cbf521fa59",
   "metadata": {},
   "outputs": [
    {
     "data": {
      "text/plain": [
       "'JP'"
      ]
     },
     "execution_count": 14,
     "metadata": {},
     "output_type": "execute_result"
    }
   ],
   "source": [
    "tokyo[1]"
   ]
  },
  {
   "cell_type": "markdown",
   "id": "13c4b1dd-9823-40bd-adf0-fbf31a5db0f3",
   "metadata": {},
   "source": [
    "Named Tuple Attributes and Methods"
   ]
  },
  {
   "cell_type": "code",
   "execution_count": 15,
   "id": "bd7bc34a-f224-439d-b5c1-214cdddbb54b",
   "metadata": {},
   "outputs": [
    {
     "data": {
      "text/plain": [
       "('name', 'country', 'population', 'coordinates')"
      ]
     },
     "execution_count": 15,
     "metadata": {},
     "output_type": "execute_result"
    }
   ],
   "source": [
    "City._fields  # get fields names"
   ]
  },
  {
   "cell_type": "code",
   "execution_count": 16,
   "id": "39715d46-4275-47c7-8b9b-3f1f29cd9fd2",
   "metadata": {},
   "outputs": [],
   "source": [
    "Coordinate = namedtuple('Coordinate', 'lat lon')"
   ]
  },
  {
   "cell_type": "code",
   "execution_count": 17,
   "id": "d6b013ea-ea65-4e2d-9f55-3b345c1ede96",
   "metadata": {},
   "outputs": [],
   "source": [
    "delhi_data = (\n",
    "    'Delhi NCR',\n",
    "    'IN',\n",
    "    21.935,\n",
    "    Coordinate(28.613889, 77.208889)\n",
    ")"
   ]
  },
  {
   "cell_type": "code",
   "execution_count": 18,
   "id": "a3511fbf-b803-400d-89ec-12c755faac59",
   "metadata": {},
   "outputs": [],
   "source": [
    "delhi = City._make(delhi_data)  # create a City object from an iterable"
   ]
  },
  {
   "cell_type": "code",
   "execution_count": 19,
   "id": "0ce4efd9-4e76-4cbc-bd7e-b11659f8bcf6",
   "metadata": {},
   "outputs": [
    {
     "data": {
      "text/plain": [
       "{'name': 'Delhi NCR',\n",
       " 'country': 'IN',\n",
       " 'population': 21.935,\n",
       " 'coordinates': Coordinate(lat=28.613889, lon=77.208889)}"
      ]
     },
     "execution_count": 19,
     "metadata": {},
     "output_type": "execute_result"
    }
   ],
   "source": [
    "delhi._asdict()  # returns a dict object built by a named tuple"
   ]
  },
  {
   "cell_type": "code",
   "execution_count": 20,
   "id": "8bae71c0-a77a-4e43-840a-133158df10ef",
   "metadata": {},
   "outputs": [
    {
     "data": {
      "text/plain": [
       "'{\"name\": \"Delhi NCR\", \"country\": \"IN\", \"population\": 21.935, \"coordinates\": [28.613889, 77.208889]}'"
      ]
     },
     "execution_count": 20,
     "metadata": {},
     "output_type": "execute_result"
    }
   ],
   "source": [
    "import json\n",
    "\n",
    "\n",
    "# _asdict() method for serializing data into JSON format\n",
    "json.dumps(delhi._asdict()) "
   ]
  },
  {
   "cell_type": "code",
   "execution_count": 21,
   "id": "ad05055d-59dd-4fe2-9bad-741d700305ac",
   "metadata": {},
   "outputs": [],
   "source": [
    "Coordinate = namedtuple(\n",
    "    'Coordinate',\n",
    "    'lat lon reference',\n",
    "    defaults=['WGS84']\n",
    ")"
   ]
  },
  {
   "cell_type": "code",
   "execution_count": 22,
   "id": "40f88cc8-2914-4a17-9d90-6c3b6e5e4a8f",
   "metadata": {},
   "outputs": [
    {
     "data": {
      "text/plain": [
       "Coordinate(lat=0, lon=0, reference='WGS84')"
      ]
     },
     "execution_count": 22,
     "metadata": {},
     "output_type": "execute_result"
    }
   ],
   "source": [
    "Coordinate(0, 0)"
   ]
  },
  {
   "cell_type": "code",
   "execution_count": 23,
   "id": "9daae7ba-e7a3-4706-9a6a-7f7c8e8a6e6e",
   "metadata": {},
   "outputs": [
    {
     "data": {
      "text/plain": [
       "{'reference': 'WGS84'}"
      ]
     },
     "execution_count": 23,
     "metadata": {},
     "output_type": "execute_result"
    }
   ],
   "source": [
    "Coordinate._field_defaults"
   ]
  },
  {
   "cell_type": "code",
   "execution_count": null,
   "id": "c92d8a9a-e974-40b1-98d8-a1fcd2fbef33",
   "metadata": {},
   "outputs": [],
   "source": []
  }
 ],
 "metadata": {
  "kernelspec": {
   "display_name": "Python 3 (ipykernel)",
   "language": "python",
   "name": "python3"
  },
  "language_info": {
   "codemirror_mode": {
    "name": "ipython",
    "version": 3
   },
   "file_extension": ".py",
   "mimetype": "text/x-python",
   "name": "python",
   "nbconvert_exporter": "python",
   "pygments_lexer": "ipython3",
   "version": "3.12.1"
  }
 },
 "nbformat": 4,
 "nbformat_minor": 5
}
