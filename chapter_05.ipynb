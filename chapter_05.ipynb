{
 "cells": [
  {
   "cell_type": "markdown",
   "id": "d40d0ca8-6076-4484-a28a-6b521b740004",
   "metadata": {},
   "source": [
    "<h1>Chapter 05. Data Class Constructors.</h1>"
   ]
  },
  {
   "cell_type": "markdown",
   "id": "feed6ba6-5eb3-4419-b85c-872cfd9a07ed",
   "metadata": {},
   "source": [
    "<h2>Overview of Data Class Constructors</h2>"
   ]
  },
  {
   "cell_type": "markdown",
   "id": "652f9cc6-7bd8-4702-bd17-5290b03b4340",
   "metadata": {},
   "source": [
    "Simple class for representing geographic coordinates"
   ]
  },
  {
   "cell_type": "code",
   "execution_count": 1,
   "id": "6f86a1a9-4203-49c3-b6da-73022dccdc13",
   "metadata": {},
   "outputs": [],
   "source": [
    "class Coordinate:\n",
    "\n",
    "    def __init(self, lat, lon):\n",
    "        self.lat = lat\n",
    "        self.lon = lon"
   ]
  },
  {
   "cell_type": "markdown",
   "id": "ed8cb52c-13b1-4f69-8156-4f462ff81e9a",
   "metadata": {},
   "source": [
    "Named tuples are lightweight data structures available in the collections module that behave like tuples but provide named access to their elements."
   ]
  },
  {
   "cell_type": "code",
   "execution_count": 2,
   "id": "56223c7b-cce9-49c7-8028-2066a76b32d6",
   "metadata": {},
   "outputs": [],
   "source": [
    "from collections import namedtuple\n",
    "\n",
    "\n",
    "Coordinate = namedtuple('Coordinate', 'lat lon')"
   ]
  },
  {
   "cell_type": "code",
   "execution_count": 3,
   "id": "30540220-79a2-4877-ac2a-e3b931b2f3ae",
   "metadata": {},
   "outputs": [
    {
     "data": {
      "text/plain": [
       "True"
      ]
     },
     "execution_count": 3,
     "metadata": {},
     "output_type": "execute_result"
    }
   ],
   "source": [
    "issubclass(Coordinate, tuple)"
   ]
  },
  {
   "cell_type": "code",
   "execution_count": 4,
   "id": "de19dc77-49ed-4423-8c1e-548035eaccb0",
   "metadata": {},
   "outputs": [
    {
     "data": {
      "text/plain": [
       "Coordinate(lat=40.7, lon=74.0)"
      ]
     },
     "execution_count": 4,
     "metadata": {},
     "output_type": "execute_result"
    }
   ],
   "source": [
    "new_york = Coordinate(40.7, 74.0)\n",
    "new_york"
   ]
  },
  {
   "cell_type": "markdown",
   "id": "0049c5f1-4a67-4bcd-beea-77e0d63bf38f",
   "metadata": {},
   "source": [
    "`typing.NamedTuple` is a class provided in the typing module that allows you to define named tuples with type annotations."
   ]
  },
  {
   "cell_type": "code",
   "execution_count": 5,
   "id": "0fa128c0-c985-42d3-afd2-4a51eadc48d6",
   "metadata": {},
   "outputs": [],
   "source": [
    "import typing\n",
    "\n",
    "\n",
    "Coordinate = typing.NamedTuple(\n",
    "    'Coordinate',\n",
    "    [('lat', float), ('lon', float)]\n",
    ")"
   ]
  },
  {
   "cell_type": "code",
   "execution_count": 6,
   "id": "81e88816-e674-4882-a8d0-fe4acb0483e3",
   "metadata": {},
   "outputs": [
    {
     "data": {
      "text/plain": [
       "True"
      ]
     },
     "execution_count": 6,
     "metadata": {},
     "output_type": "execute_result"
    }
   ],
   "source": [
    "issubclass(Coordinate, tuple)"
   ]
  },
  {
   "cell_type": "code",
   "execution_count": 7,
   "id": "f0810ec6-89d6-4755-bb17-6aafb9c8d3a3",
   "metadata": {},
   "outputs": [
    {
     "data": {
      "text/plain": [
       "{'lat': float, 'lon': float}"
      ]
     },
     "execution_count": 7,
     "metadata": {},
     "output_type": "execute_result"
    }
   ],
   "source": [
    "typing.get_type_hints(Coordinate)"
   ]
  },
  {
   "cell_type": "code",
   "execution_count": 8,
   "id": "e4945300-0faa-42b4-ac5e-8fb91de4caed",
   "metadata": {},
   "outputs": [],
   "source": [
    "from typing import NamedTuple\n",
    "\n",
    "\n",
    "class Coordinate(NamedTuple):\n",
    "    lat: float\n",
    "    lon: float\n",
    "\n",
    "    def __str__(self):\n",
    "        ns = 'N' if self.lat >= 0 else 'S'\n",
    "        we = 'E' if self.lon >= 0 else 'E'\n",
    "        return f\"{abs(self.lat):.1f}°{ns}, {abs(self.lon):.1f}°{we}\""
   ]
  },
  {
   "cell_type": "markdown",
   "id": "f9acfbcb-abfd-43e5-a976-f6a5c795468f",
   "metadata": {},
   "source": [
    "Data classes are a feature introduced in Python 3.7 through the `dataclasses` module, providing a concise way to define classes for storing data."
   ]
  },
  {
   "cell_type": "code",
   "execution_count": 9,
   "id": "7a9623e9-a0be-44b3-ad96-0a1c435798c3",
   "metadata": {},
   "outputs": [],
   "source": [
    "from dataclasses import dataclass\n",
    "\n",
    "\n",
    "@dataclass(frozen=True)  # frozen=True argument makes instances of the data class immutable\n",
    "class Coordinate:\n",
    "    lat: float\n",
    "    lon: float\n",
    "\n",
    "    def __str__(self):\n",
    "        ns = 'N' if self.lat >= 0 else 'S'\n",
    "        we = 'E' if self.lon >= 0 else 'E'\n",
    "        return f\"{abs(self.lat):.1f}°{ns}, {abs(self.lon):.1f}°{we}\""
   ]
  },
  {
   "cell_type": "code",
   "execution_count": null,
   "id": "12ef1661-440b-4ec4-b6b9-2fafe7939125",
   "metadata": {},
   "outputs": [],
   "source": []
  }
 ],
 "metadata": {
  "kernelspec": {
   "display_name": "Python 3 (ipykernel)",
   "language": "python",
   "name": "python3"
  },
  "language_info": {
   "codemirror_mode": {
    "name": "ipython",
    "version": 3
   },
   "file_extension": ".py",
   "mimetype": "text/x-python",
   "name": "python",
   "nbconvert_exporter": "python",
   "pygments_lexer": "ipython3",
   "version": "3.12.1"
  }
 },
 "nbformat": 4,
 "nbformat_minor": 5
}
