{
 "cells": [
  {
   "cell_type": "markdown",
   "id": "d40d0ca8-6076-4484-a28a-6b521b740004",
   "metadata": {},
   "source": [
    "<h1>Chapter 05. Data Class Constructors.</h1>"
   ]
  },
  {
   "cell_type": "markdown",
   "id": "feed6ba6-5eb3-4419-b85c-872cfd9a07ed",
   "metadata": {},
   "source": [
    "<h2>Overview of Data Class Constructors</h2>"
   ]
  },
  {
   "cell_type": "markdown",
   "id": "652f9cc6-7bd8-4702-bd17-5290b03b4340",
   "metadata": {},
   "source": [
    "Simple class for representing geographic coordinates"
   ]
  },
  {
   "cell_type": "code",
   "execution_count": 1,
   "id": "6f86a1a9-4203-49c3-b6da-73022dccdc13",
   "metadata": {},
   "outputs": [],
   "source": [
    "class Coordinate:\n",
    "\n",
    "    def __init(self, lat, lon):\n",
    "        self.lat = lat\n",
    "        self.lon = lon"
   ]
  },
  {
   "cell_type": "markdown",
   "id": "ed8cb52c-13b1-4f69-8156-4f462ff81e9a",
   "metadata": {},
   "source": [
    "Named tuples are lightweight data structures available in the collections module that behave like tuples but provide named access to their elements."
   ]
  },
  {
   "cell_type": "code",
   "execution_count": 2,
   "id": "56223c7b-cce9-49c7-8028-2066a76b32d6",
   "metadata": {},
   "outputs": [],
   "source": [
    "from collections import namedtuple\n",
    "\n",
    "\n",
    "Coordinate = namedtuple('Coordinate', 'lat lon')"
   ]
  },
  {
   "cell_type": "code",
   "execution_count": 3,
   "id": "30540220-79a2-4877-ac2a-e3b931b2f3ae",
   "metadata": {},
   "outputs": [
    {
     "data": {
      "text/plain": [
       "True"
      ]
     },
     "execution_count": 3,
     "metadata": {},
     "output_type": "execute_result"
    }
   ],
   "source": [
    "issubclass(Coordinate, tuple)"
   ]
  },
  {
   "cell_type": "code",
   "execution_count": 4,
   "id": "de19dc77-49ed-4423-8c1e-548035eaccb0",
   "metadata": {},
   "outputs": [
    {
     "data": {
      "text/plain": [
       "Coordinate(lat=40.7, lon=74.0)"
      ]
     },
     "execution_count": 4,
     "metadata": {},
     "output_type": "execute_result"
    }
   ],
   "source": [
    "new_york = Coordinate(40.7, 74.0)\n",
    "new_york"
   ]
  },
  {
   "cell_type": "markdown",
   "id": "0049c5f1-4a67-4bcd-beea-77e0d63bf38f",
   "metadata": {},
   "source": [
    "`typing.NamedTuple` is a class provided in the typing module that allows you to define named tuples with type annotations."
   ]
  },
  {
   "cell_type": "code",
   "execution_count": 5,
   "id": "0fa128c0-c985-42d3-afd2-4a51eadc48d6",
   "metadata": {},
   "outputs": [],
   "source": [
    "import typing\n",
    "\n",
    "\n",
    "Coordinate = typing.NamedTuple(\n",
    "    'Coordinate',\n",
    "    [('lat', float), ('lon', float)]\n",
    ")"
   ]
  },
  {
   "cell_type": "code",
   "execution_count": 6,
   "id": "81e88816-e674-4882-a8d0-fe4acb0483e3",
   "metadata": {},
   "outputs": [
    {
     "data": {
      "text/plain": [
       "True"
      ]
     },
     "execution_count": 6,
     "metadata": {},
     "output_type": "execute_result"
    }
   ],
   "source": [
    "issubclass(Coordinate, tuple)"
   ]
  },
  {
   "cell_type": "code",
   "execution_count": 7,
   "id": "f0810ec6-89d6-4755-bb17-6aafb9c8d3a3",
   "metadata": {},
   "outputs": [
    {
     "data": {
      "text/plain": [
       "{'lat': float, 'lon': float}"
      ]
     },
     "execution_count": 7,
     "metadata": {},
     "output_type": "execute_result"
    }
   ],
   "source": [
    "typing.get_type_hints(Coordinate)"
   ]
  },
  {
   "cell_type": "code",
   "execution_count": 8,
   "id": "e4945300-0faa-42b4-ac5e-8fb91de4caed",
   "metadata": {},
   "outputs": [],
   "source": [
    "from typing import NamedTuple\n",
    "\n",
    "\n",
    "class Coordinate(NamedTuple):\n",
    "    lat: float\n",
    "    lon: float\n",
    "\n",
    "    def __str__(self):\n",
    "        ns = 'N' if self.lat >= 0 else 'S'\n",
    "        we = 'E' if self.lon >= 0 else 'E'\n",
    "        return f\"{abs(self.lat):.1f}°{ns}, {abs(self.lon):.1f}°{we}\""
   ]
  },
  {
   "cell_type": "markdown",
   "id": "f9acfbcb-abfd-43e5-a976-f6a5c795468f",
   "metadata": {},
   "source": [
    "Data classes are a feature introduced in Python 3.7 through the `dataclasses` module, providing a concise way to define classes for storing data."
   ]
  },
  {
   "cell_type": "code",
   "execution_count": 9,
   "id": "7a9623e9-a0be-44b3-ad96-0a1c435798c3",
   "metadata": {},
   "outputs": [],
   "source": [
    "from dataclasses import dataclass\n",
    "\n",
    "\n",
    "@dataclass(frozen=True)  # frozen=True argument makes instances of the data class immutable\n",
    "class Coordinate:\n",
    "    lat: float\n",
    "    lon: float\n",
    "\n",
    "    def __str__(self):\n",
    "        ns = 'N' if self.lat >= 0 else 'S'\n",
    "        we = 'E' if self.lon >= 0 else 'E'\n",
    "        return f\"{abs(self.lat):.1f}°{ns}, {abs(self.lon):.1f}°{we}\""
   ]
  },
  {
   "cell_type": "markdown",
   "id": "09f39a79-aac9-4daa-acee-065d15db60b7",
   "metadata": {},
   "source": [
    "<h2>Classic Named Tuples</h2>"
   ]
  },
  {
   "cell_type": "markdown",
   "id": "2076fab4-9779-4265-bcab-c92c6de24884",
   "metadata": {},
   "source": [
    "Defining and using a Named Tuple"
   ]
  },
  {
   "cell_type": "code",
   "execution_count": 10,
   "id": "610eb782-54b4-45d3-a39b-6c253596f9c3",
   "metadata": {},
   "outputs": [],
   "source": [
    "from collections import namedtuple\n",
    "\n",
    "\n",
    "City = namedtuple('City', 'name country population coordinates')"
   ]
  },
  {
   "cell_type": "code",
   "execution_count": 11,
   "id": "31c61616-8e12-4fd4-8b79-788558e9747f",
   "metadata": {},
   "outputs": [
    {
     "data": {
      "text/plain": [
       "City(name='Tokyo', country='JP', population=36.933, coordinates=(35.689722, 139.691667))"
      ]
     },
     "execution_count": 11,
     "metadata": {},
     "output_type": "execute_result"
    }
   ],
   "source": [
    "tokyo = City(\n",
    "    'Tokyo',\n",
    "    'JP',\n",
    "    36.933,\n",
    "    (35.689722, 139.691667)\n",
    ")\n",
    "tokyo"
   ]
  },
  {
   "cell_type": "code",
   "execution_count": 12,
   "id": "cd917f18-b7d4-49f7-906a-13222af7fa43",
   "metadata": {},
   "outputs": [
    {
     "data": {
      "text/plain": [
       "36.933"
      ]
     },
     "execution_count": 12,
     "metadata": {},
     "output_type": "execute_result"
    }
   ],
   "source": [
    "tokyo.population"
   ]
  },
  {
   "cell_type": "code",
   "execution_count": 13,
   "id": "71b3ad61-226c-4fa5-b8b8-b8813ece7411",
   "metadata": {},
   "outputs": [
    {
     "data": {
      "text/plain": [
       "(35.689722, 139.691667)"
      ]
     },
     "execution_count": 13,
     "metadata": {},
     "output_type": "execute_result"
    }
   ],
   "source": [
    "tokyo.coordinates"
   ]
  },
  {
   "cell_type": "code",
   "execution_count": 14,
   "id": "9c09e500-1179-4ffc-a53c-97cbf521fa59",
   "metadata": {},
   "outputs": [
    {
     "data": {
      "text/plain": [
       "'JP'"
      ]
     },
     "execution_count": 14,
     "metadata": {},
     "output_type": "execute_result"
    }
   ],
   "source": [
    "tokyo[1]"
   ]
  },
  {
   "cell_type": "markdown",
   "id": "13c4b1dd-9823-40bd-adf0-fbf31a5db0f3",
   "metadata": {},
   "source": [
    "Named Tuple Attributes and Methods"
   ]
  },
  {
   "cell_type": "code",
   "execution_count": 15,
   "id": "bd7bc34a-f224-439d-b5c1-214cdddbb54b",
   "metadata": {},
   "outputs": [
    {
     "data": {
      "text/plain": [
       "('name', 'country', 'population', 'coordinates')"
      ]
     },
     "execution_count": 15,
     "metadata": {},
     "output_type": "execute_result"
    }
   ],
   "source": [
    "City._fields  # get fields names"
   ]
  },
  {
   "cell_type": "code",
   "execution_count": 16,
   "id": "39715d46-4275-47c7-8b9b-3f1f29cd9fd2",
   "metadata": {},
   "outputs": [],
   "source": [
    "Coordinate = namedtuple('Coordinate', 'lat lon')"
   ]
  },
  {
   "cell_type": "code",
   "execution_count": 17,
   "id": "d6b013ea-ea65-4e2d-9f55-3b345c1ede96",
   "metadata": {},
   "outputs": [],
   "source": [
    "delhi_data = (\n",
    "    'Delhi NCR',\n",
    "    'IN',\n",
    "    21.935,\n",
    "    Coordinate(28.613889, 77.208889)\n",
    ")"
   ]
  },
  {
   "cell_type": "code",
   "execution_count": 18,
   "id": "a3511fbf-b803-400d-89ec-12c755faac59",
   "metadata": {},
   "outputs": [],
   "source": [
    "delhi = City._make(delhi_data)  # create a City object from an iterable"
   ]
  },
  {
   "cell_type": "code",
   "execution_count": 19,
   "id": "0ce4efd9-4e76-4cbc-bd7e-b11659f8bcf6",
   "metadata": {},
   "outputs": [
    {
     "data": {
      "text/plain": [
       "{'name': 'Delhi NCR',\n",
       " 'country': 'IN',\n",
       " 'population': 21.935,\n",
       " 'coordinates': Coordinate(lat=28.613889, lon=77.208889)}"
      ]
     },
     "execution_count": 19,
     "metadata": {},
     "output_type": "execute_result"
    }
   ],
   "source": [
    "delhi._asdict()  # returns a dict object built by a named tuple"
   ]
  },
  {
   "cell_type": "code",
   "execution_count": 20,
   "id": "8bae71c0-a77a-4e43-840a-133158df10ef",
   "metadata": {},
   "outputs": [
    {
     "data": {
      "text/plain": [
       "'{\"name\": \"Delhi NCR\", \"country\": \"IN\", \"population\": 21.935, \"coordinates\": [28.613889, 77.208889]}'"
      ]
     },
     "execution_count": 20,
     "metadata": {},
     "output_type": "execute_result"
    }
   ],
   "source": [
    "import json\n",
    "\n",
    "\n",
    "# _asdict() method for serializing data into JSON format\n",
    "json.dumps(delhi._asdict()) "
   ]
  },
  {
   "cell_type": "code",
   "execution_count": 21,
   "id": "ad05055d-59dd-4fe2-9bad-741d700305ac",
   "metadata": {},
   "outputs": [],
   "source": [
    "Coordinate = namedtuple(\n",
    "    'Coordinate',\n",
    "    'lat lon reference',\n",
    "    defaults=['WGS84']\n",
    ")"
   ]
  },
  {
   "cell_type": "code",
   "execution_count": 22,
   "id": "40f88cc8-2914-4a17-9d90-6c3b6e5e4a8f",
   "metadata": {},
   "outputs": [
    {
     "data": {
      "text/plain": [
       "Coordinate(lat=0, lon=0, reference='WGS84')"
      ]
     },
     "execution_count": 22,
     "metadata": {},
     "output_type": "execute_result"
    }
   ],
   "source": [
    "Coordinate(0, 0)"
   ]
  },
  {
   "cell_type": "code",
   "execution_count": 23,
   "id": "9daae7ba-e7a3-4706-9a6a-7f7c8e8a6e6e",
   "metadata": {},
   "outputs": [
    {
     "data": {
      "text/plain": [
       "{'reference': 'WGS84'}"
      ]
     },
     "execution_count": 23,
     "metadata": {},
     "output_type": "execute_result"
    }
   ],
   "source": [
    "Coordinate._field_defaults"
   ]
  },
  {
   "cell_type": "markdown",
   "id": "e4d7f5d7-a4fc-4c10-83db-709771a64ff1",
   "metadata": {},
   "source": [
    "<h2>Typed Named Tuples</h2>"
   ]
  },
  {
   "cell_type": "code",
   "execution_count": 24,
   "id": "6458ac94-7057-4eed-8854-d3612eb34c68",
   "metadata": {},
   "outputs": [],
   "source": [
    "from typing import NamedTuple\n",
    "\n",
    "\n",
    "class Coordinate(NamedTuple):\n",
    "    lat: float  # each field must be annotated by type\n",
    "    lon: float\n",
    "    reference: str = 'WGS84'  # annotated by default with type and value"
   ]
  },
  {
   "cell_type": "code",
   "execution_count": 25,
   "id": "b0e75b39-87b2-4f34-ac7c-922ee938e9ff",
   "metadata": {},
   "outputs": [
    {
     "data": {
      "text/plain": [
       "{'lat': float, 'lon': float, 'reference': str}"
      ]
     },
     "execution_count": 25,
     "metadata": {},
     "output_type": "execute_result"
    }
   ],
   "source": [
    "Coordinate.__annotations__"
   ]
  },
  {
   "cell_type": "markdown",
   "id": "7e8e1781-af8d-476c-b090-5a3e67d03898",
   "metadata": {},
   "source": [
    "<h2>Introduction to Type Annotations</h2>"
   ]
  },
  {
   "cell_type": "markdown",
   "id": "3c502d65-b63c-48e4-89de-108783dffdb9",
   "metadata": {},
   "source": [
    "Type annotations are a way to declare the expected types of function arguments, return values, variables, and attributes."
   ]
  },
  {
   "cell_type": "markdown",
   "id": "7aef2212-b929-4183-a60d-1665607ddacf",
   "metadata": {},
   "source": [
    "Python does not check type annotations at runtime"
   ]
  },
  {
   "cell_type": "code",
   "execution_count": 26,
   "id": "9f6cf38f-31d8-4a31-a123-7634fe0907e5",
   "metadata": {},
   "outputs": [
    {
     "data": {
      "text/plain": [
       "Coordinate(lat='Hi!', lon=None)"
      ]
     },
     "execution_count": 26,
     "metadata": {},
     "output_type": "execute_result"
    }
   ],
   "source": [
    "from typing import NamedTuple\n",
    "\n",
    "\n",
    "class Coordinate(NamedTuple):\n",
    "    lat: float\n",
    "    lon: float\n",
    "\n",
    "trash = Coordinate('Hi!', None)\n",
    "trash"
   ]
  },
  {
   "cell_type": "markdown",
   "id": "37dad63b-bc1d-42f8-95c0-580f7930b15a",
   "metadata": {},
   "source": [
    "Type annotations are intended primarily for third-party type checking programs with built-in type checking. These are static analysis tools: they check source code, not code at runtime."
   ]
  },
  {
   "cell_type": "markdown",
   "id": "5b8cb8f6-c51c-4d7e-9ee5-b0f967222a40",
   "metadata": {},
   "source": [
    "<h3>The Semantics of Variable Annotations</h3>"
   ]
  },
  {
   "cell_type": "markdown",
   "id": "7388c653-5a6f-4d4c-80cb-1adfb1541294",
   "metadata": {},
   "source": [
    "The simple class with annotation of types"
   ]
  },
  {
   "cell_type": "code",
   "execution_count": 27,
   "id": "33c3b2ff-b5ad-40e0-8433-d7aee7b5b9d5",
   "metadata": {},
   "outputs": [],
   "source": [
    "class DemoPlainClass:\n",
    "    a: int  # entry in __annotations__, the attribute is not created in the class\n",
    "    b: float = 1.1  # stored in annotations and becomes a class attribute with value 1.1\n",
    "    c = 'spam'  # simple class attribute"
   ]
  },
  {
   "cell_type": "code",
   "execution_count": 28,
   "id": "d92eccd9-aa8d-4001-8aed-80da3a9b120d",
   "metadata": {},
   "outputs": [
    {
     "data": {
      "text/plain": [
       "{'a': int, 'b': float}"
      ]
     },
     "execution_count": 28,
     "metadata": {},
     "output_type": "execute_result"
    }
   ],
   "source": [
    "DemoPlainClass.__annotations__"
   ]
  },
  {
   "cell_type": "code",
   "execution_count": 29,
   "id": "9d5aaa93-6702-4e07-8da9-80d12f6c0a5b",
   "metadata": {},
   "outputs": [
    {
     "name": "stdout",
     "output_type": "stream",
     "text": [
      "AttributeError(\"type object 'DemoPlainClass' has no attribute 'a'\")\n"
     ]
    }
   ],
   "source": [
    "try:\n",
    "    print(DemoPlainClass.a)\n",
    "except AttributeError as e:\n",
    "    print(e.__repr__())"
   ]
  },
  {
   "cell_type": "code",
   "execution_count": 30,
   "id": "c8df605c-6c00-411a-89ce-a75759bc2605",
   "metadata": {},
   "outputs": [
    {
     "name": "stdout",
     "output_type": "stream",
     "text": [
      "1.1\n"
     ]
    }
   ],
   "source": [
    "try:\n",
    "    print(DemoPlainClass.b)\n",
    "except AttributeError as e:\n",
    "    print(e.__repr__())"
   ]
  },
  {
   "cell_type": "code",
   "execution_count": 31,
   "id": "a9b463d6-d60a-473d-afd6-e6474a0ac8a8",
   "metadata": {},
   "outputs": [
    {
     "name": "stdout",
     "output_type": "stream",
     "text": [
      "spam\n"
     ]
    }
   ],
   "source": [
    "try:\n",
    "    print(DemoPlainClass.c)\n",
    "except AttributeError as e:\n",
    "    print(e.__repr__())"
   ]
  },
  {
   "cell_type": "markdown",
   "id": "eaea2646-27a4-456c-9a4e-23d5d7569f7d",
   "metadata": {},
   "source": [
    "Only the annotation remains of the field `a`. It does not become an attribute of the class, because no value is associated with it. Fields `b` and `c` are retained as class attributes because they have values associated with them."
   ]
  },
  {
   "cell_type": "markdown",
   "id": "92e8afaf-8920-4503-8971-d84cb7b016b2",
   "metadata": {},
   "source": [
    "<h3><code>typing.NamedTuple</code> Inspection</h3>"
   ]
  },
  {
   "cell_type": "markdown",
   "id": "91aba7b4-21a6-4c90-b67c-32cbdbafa20e",
   "metadata": {},
   "source": [
    "The class created with `typing.NamedTuple`"
   ]
  },
  {
   "cell_type": "code",
   "execution_count": 32,
   "id": "57b2b863-520e-427d-a9a0-e719fae65483",
   "metadata": {},
   "outputs": [],
   "source": [
    "from typing import NamedTuple\n",
    "\n",
    "\n",
    "class DemoNamedTupleClass(NamedTuple):\n",
    "    a: int  # an annotation and an instance are created\n",
    "    b: float = 1.1  # stored in annotations and becomes a class attribute with value 1.1\n",
    "    c = 'spam'  # simple class attribute"
   ]
  },
  {
   "cell_type": "code",
   "execution_count": 33,
   "id": "360d0aec-ca9a-4b84-8c49-1e719d9cf7d4",
   "metadata": {},
   "outputs": [
    {
     "data": {
      "text/plain": [
       "{'a': int, 'b': float}"
      ]
     },
     "execution_count": 33,
     "metadata": {},
     "output_type": "execute_result"
    }
   ],
   "source": [
    "DemoNamedTupleClass.__annotations__"
   ]
  },
  {
   "cell_type": "code",
   "execution_count": 34,
   "id": "c642b6c5-c17c-46d7-8e14-5b0f6db6db84",
   "metadata": {},
   "outputs": [
    {
     "data": {
      "text/plain": [
       "_tuplegetter(0, 'Alias for field number 0')"
      ]
     },
     "execution_count": 34,
     "metadata": {},
     "output_type": "execute_result"
    }
   ],
   "source": [
    "DemoNamedTupleClass.a"
   ]
  },
  {
   "cell_type": "code",
   "execution_count": 35,
   "id": "c1bda564-f8c3-4349-8c04-ca7eb99827df",
   "metadata": {},
   "outputs": [
    {
     "data": {
      "text/plain": [
       "_tuplegetter(1, 'Alias for field number 1')"
      ]
     },
     "execution_count": 35,
     "metadata": {},
     "output_type": "execute_result"
    }
   ],
   "source": [
    "DemoNamedTupleClass.b"
   ]
  },
  {
   "cell_type": "code",
   "execution_count": 36,
   "id": "d226fd59-1ee0-42f9-937b-f8a708bf5750",
   "metadata": {},
   "outputs": [
    {
     "data": {
      "text/plain": [
       "'spam'"
      ]
     },
     "execution_count": 36,
     "metadata": {},
     "output_type": "execute_result"
    }
   ],
   "source": [
    "DemoNamedTupleClass.c"
   ]
  },
  {
   "cell_type": "markdown",
   "id": "8d02d98e-4590-42c5-9a82-97e5656f8625",
   "metadata": {},
   "source": [
    "The annotations for `a` and `b` are the same as in the example `DemoPlainClass`, but `typing.NamedTuple` creates class attributes `a` and `b`. Attribute `c` is a normal class attribute with the value `'spam'`."
   ]
  },
  {
   "cell_type": "code",
   "execution_count": 37,
   "id": "c301e7f4-cf0d-4a83-83f0-129f501beea2",
   "metadata": {},
   "outputs": [
    {
     "data": {
      "text/plain": [
       "'DemoNamedTupleClass(a, b)'"
      ]
     },
     "execution_count": 37,
     "metadata": {},
     "output_type": "execute_result"
    }
   ],
   "source": [
    "DemoNamedTupleClass.__doc__  # documentation string available"
   ]
  },
  {
   "cell_type": "code",
   "execution_count": 38,
   "id": "3a40db19-7cbf-408d-bd68-a0d7af71abf6",
   "metadata": {},
   "outputs": [],
   "source": [
    "nt = DemoNamedTupleClass(8)  # add minimal argument a to construct an instance"
   ]
  },
  {
   "cell_type": "code",
   "execution_count": 39,
   "id": "2b27bfe0-0e7b-41ee-9f88-abb06e55ca85",
   "metadata": {},
   "outputs": [
    {
     "data": {
      "text/plain": [
       "8"
      ]
     },
     "execution_count": 39,
     "metadata": {},
     "output_type": "execute_result"
    }
   ],
   "source": [
    "nt.a"
   ]
  },
  {
   "cell_type": "code",
   "execution_count": 40,
   "id": "2d78013f-1011-41db-b2d3-521dbc56a125",
   "metadata": {},
   "outputs": [
    {
     "data": {
      "text/plain": [
       "1.1"
      ]
     },
     "execution_count": 40,
     "metadata": {},
     "output_type": "execute_result"
    }
   ],
   "source": [
    "nt.b"
   ]
  },
  {
   "cell_type": "code",
   "execution_count": 41,
   "id": "d58ee7b6-d61c-47e8-b0fb-870204f7d4b7",
   "metadata": {},
   "outputs": [
    {
     "data": {
      "text/plain": [
       "'spam'"
      ]
     },
     "execution_count": 41,
     "metadata": {},
     "output_type": "execute_result"
    }
   ],
   "source": [
    "nt.c"
   ]
  },
  {
   "cell_type": "code",
   "execution_count": 42,
   "id": "6496864c-205a-4150-831c-f605cf955109",
   "metadata": {},
   "outputs": [
    {
     "name": "stdout",
     "output_type": "stream",
     "text": [
      "AttributeError(\"can't set attribute\")\n"
     ]
    }
   ],
   "source": [
    "try:\n",
    "    nt.a = 10\n",
    "except AttributeError as e:\n",
    "    print(e.__repr__())"
   ]
  },
  {
   "cell_type": "code",
   "execution_count": 43,
   "id": "cef81950-8c21-4870-928d-30b5e026e55c",
   "metadata": {},
   "outputs": [
    {
     "name": "stdout",
     "output_type": "stream",
     "text": [
      "AttributeError(\"can't set attribute\")\n"
     ]
    }
   ],
   "source": [
    "try:\n",
    "    nt.b = 2\n",
    "except AttributeError as e:\n",
    "    print(e.__repr__())"
   ]
  },
  {
   "cell_type": "code",
   "execution_count": 44,
   "id": "7d10f1d9-9afa-4155-bd39-e6b29bbecb1b",
   "metadata": {},
   "outputs": [
    {
     "name": "stdout",
     "output_type": "stream",
     "text": [
      "AttributeError(\"'DemoNamedTupleClass' object attribute 'c' is read-only\")\n"
     ]
    }
   ],
   "source": [
    "try:\n",
    "    nt.c = 'not spam'\n",
    "except AttributeError as e:\n",
    "    print(e.__repr__())"
   ]
  },
  {
   "cell_type": "markdown",
   "id": "7b9dfcd0-8528-485c-b877-8a55c55def1a",
   "metadata": {},
   "source": [
    "<h3>Inspecting the class with the <code>@dataclass</code> decorator</h3>"
   ]
  },
  {
   "cell_type": "markdown",
   "id": "d02b267a-6fb9-4027-88d9-321243ae1cd9",
   "metadata": {},
   "source": [
    "The class with `@dataclass` decorator"
   ]
  },
  {
   "cell_type": "code",
   "execution_count": 45,
   "id": "0fcb7032-64de-41f8-bfd9-a7dea2225c19",
   "metadata": {},
   "outputs": [],
   "source": [
    "from dataclasses import dataclass\n",
    "\n",
    "\n",
    "@dataclass\n",
    "class DemoDataClass:\n",
    "    a: int  # annotated, becomes an instance attribute controlled by a descriptor\n",
    "    b: float = 1.1  # annotated, becomes an instance attribute with a descriptor, default value 1.1\n",
    "    c = 'spam'  # class attribute, no annotation refers to it"
   ]
  },
  {
   "cell_type": "code",
   "execution_count": 46,
   "id": "bd84cecd-b8a5-44e6-995a-afa2f2bdaba9",
   "metadata": {},
   "outputs": [
    {
     "data": {
      "text/plain": [
       "{'a': int, 'b': float}"
      ]
     },
     "execution_count": 46,
     "metadata": {},
     "output_type": "execute_result"
    }
   ],
   "source": [
    "DemoDataClass.__annotations__"
   ]
  },
  {
   "cell_type": "code",
   "execution_count": 47,
   "id": "6e0112ed-c258-4657-8eb7-64c5adfe89a2",
   "metadata": {},
   "outputs": [
    {
     "data": {
      "text/plain": [
       "'DemoDataClass(a: int, b: float = 1.1)'"
      ]
     },
     "execution_count": 47,
     "metadata": {},
     "output_type": "execute_result"
    }
   ],
   "source": [
    "DemoDataClass.__doc__"
   ]
  },
  {
   "cell_type": "code",
   "execution_count": 48,
   "id": "2337c450-384d-4bb2-b9e0-ff52c53ae428",
   "metadata": {},
   "outputs": [
    {
     "name": "stdout",
     "output_type": "stream",
     "text": [
      "AttributeError(\"type object 'DemoDataClass' has no attribute 'a'\")\n"
     ]
    }
   ],
   "source": [
    "try:\n",
    "    print(DemoDataClass.a)\n",
    "except AttributeError as e:\n",
    "    print(e.__repr__())"
   ]
  },
  {
   "cell_type": "code",
   "execution_count": 49,
   "id": "0a434a88-ef06-446b-83c0-ec53ce4d58b8",
   "metadata": {},
   "outputs": [
    {
     "name": "stdout",
     "output_type": "stream",
     "text": [
      "1.1\n"
     ]
    }
   ],
   "source": [
    "try:\n",
    "    print(DemoDataClass.b)\n",
    "except AttributeError as e:\n",
    "    print(e.__repr__())"
   ]
  },
  {
   "cell_type": "code",
   "execution_count": 50,
   "id": "62acfd0b-8a03-41ee-bfc9-d0750b80e195",
   "metadata": {},
   "outputs": [
    {
     "name": "stdout",
     "output_type": "stream",
     "text": [
      "spam\n"
     ]
    }
   ],
   "source": [
    "try:\n",
    "    print(DemoDataClass.c)\n",
    "except AttributeError as e:\n",
    "    print(e.__repr__())"
   ]
  },
  {
   "cell_type": "code",
   "execution_count": 51,
   "id": "49079b1e-af79-4f96-bac5-91e303ec6609",
   "metadata": {},
   "outputs": [
    {
     "data": {
      "text/plain": [
       "9"
      ]
     },
     "execution_count": 51,
     "metadata": {},
     "output_type": "execute_result"
    }
   ],
   "source": [
    "dc = DemoDataClass(9)\n",
    "dc.a"
   ]
  },
  {
   "cell_type": "code",
   "execution_count": 52,
   "id": "b1e7b617-6813-49fd-a816-8b0905fc4779",
   "metadata": {},
   "outputs": [
    {
     "data": {
      "text/plain": [
       "1.1"
      ]
     },
     "execution_count": 52,
     "metadata": {},
     "output_type": "execute_result"
    }
   ],
   "source": [
    "dc.b"
   ]
  },
  {
   "cell_type": "code",
   "execution_count": 53,
   "id": "2700bc45-7ea5-4845-a8a4-7fe14c20a110",
   "metadata": {},
   "outputs": [
    {
     "data": {
      "text/plain": [
       "'spam'"
      ]
     },
     "execution_count": 53,
     "metadata": {},
     "output_type": "execute_result"
    }
   ],
   "source": [
    "dc.c"
   ]
  },
  {
   "cell_type": "code",
   "execution_count": 54,
   "id": "129d70ff-0664-43d7-9f22-56d9d9f10c36",
   "metadata": {},
   "outputs": [
    {
     "data": {
      "text/plain": [
       "10"
      ]
     },
     "execution_count": 54,
     "metadata": {},
     "output_type": "execute_result"
    }
   ],
   "source": [
    "dc.a = 10\n",
    "dc.a"
   ]
  },
  {
   "cell_type": "code",
   "execution_count": 55,
   "id": "d03cc906-c0ca-4f40-ae35-b1188ed98589",
   "metadata": {},
   "outputs": [
    {
     "data": {
      "text/plain": [
       "False"
      ]
     },
     "execution_count": 55,
     "metadata": {},
     "output_type": "execute_result"
    }
   ],
   "source": [
    "dc.b = False\n",
    "dc.b"
   ]
  },
  {
   "cell_type": "code",
   "execution_count": 56,
   "id": "f8ca3c2f-d4eb-4ada-97d3-49ec4916719f",
   "metadata": {},
   "outputs": [
    {
     "data": {
      "text/plain": [
       "'oops'"
      ]
     },
     "execution_count": 56,
     "metadata": {},
     "output_type": "execute_result"
    }
   ],
   "source": [
    "dc.c = 'oops'\n",
    "dc.c"
   ]
  },
  {
   "cell_type": "code",
   "execution_count": 57,
   "id": "9bb2127d-05b4-468b-b40e-38a21cd04ebe",
   "metadata": {},
   "outputs": [
    {
     "data": {
      "text/plain": [
       "'new'"
      ]
     },
     "execution_count": 57,
     "metadata": {},
     "output_type": "execute_result"
    }
   ],
   "source": [
    "dc.z = 'new'\n",
    "dc.z"
   ]
  },
  {
   "cell_type": "markdown",
   "id": "f47d9a9e-a28a-4e10-a564-236700508307",
   "metadata": {},
   "source": [
    "`DemoDataClass` instances are changeable - and no type checking is performed at runtime."
   ]
  },
  {
   "cell_type": "code",
   "execution_count": 58,
   "id": "9924bc80-a788-4a06-a0a0-007b803ff3e0",
   "metadata": {},
   "outputs": [],
   "source": [
    "@dataclass(frozen=True)  # frozen=True argument makes instances of the data class immutable\n",
    "class DemoDataClassFrozen:\n",
    "    a: int\n",
    "    b: float = 1.1\n",
    "    c = 'spam'"
   ]
  },
  {
   "cell_type": "code",
   "execution_count": 59,
   "id": "199ed32d-d56c-4c0c-b820-5966504ef61e",
   "metadata": {},
   "outputs": [],
   "source": [
    "dcf = DemoDataClassFrozen(11)"
   ]
  },
  {
   "cell_type": "code",
   "execution_count": 60,
   "id": "6eb41698-49fe-44b6-8a4c-ea34b93f9573",
   "metadata": {},
   "outputs": [
    {
     "data": {
      "text/plain": [
       "11"
      ]
     },
     "execution_count": 60,
     "metadata": {},
     "output_type": "execute_result"
    }
   ],
   "source": [
    "dcf.a"
   ]
  },
  {
   "cell_type": "code",
   "execution_count": 61,
   "id": "682ec7cb-6578-4fc6-a825-2aa7a198d61c",
   "metadata": {},
   "outputs": [
    {
     "name": "stdout",
     "output_type": "stream",
     "text": [
      "FrozenInstanceError(\"cannot assign to field 'b'\")\n"
     ]
    }
   ],
   "source": [
    "try:\n",
    "    dcf.b = 2\n",
    "except AttributeError as e:\n",
    "    print(e.__repr__())"
   ]
  },
  {
   "cell_type": "code",
   "execution_count": 62,
   "id": "46b9e2f8-03b1-4cd6-8783-65a7505b1512",
   "metadata": {},
   "outputs": [
    {
     "name": "stdout",
     "output_type": "stream",
     "text": [
      "FrozenInstanceError(\"cannot assign to field 'c'\")\n"
     ]
    }
   ],
   "source": [
    "try:\n",
    "    dcf.c = 'another spam'\n",
    "except AttributeError as e:\n",
    "    print(e.__repr__())"
   ]
  },
  {
   "cell_type": "code",
   "execution_count": null,
   "id": "a63b38cf-ef9b-485f-b7f0-9c814324f19f",
   "metadata": {},
   "outputs": [],
   "source": []
  }
 ],
 "metadata": {
  "kernelspec": {
   "display_name": "Python 3 (ipykernel)",
   "language": "python",
   "name": "python3"
  },
  "language_info": {
   "codemirror_mode": {
    "name": "ipython",
    "version": 3
   },
   "file_extension": ".py",
   "mimetype": "text/x-python",
   "name": "python",
   "nbconvert_exporter": "python",
   "pygments_lexer": "ipython3",
   "version": "3.12.1"
  }
 },
 "nbformat": 4,
 "nbformat_minor": 5
}
