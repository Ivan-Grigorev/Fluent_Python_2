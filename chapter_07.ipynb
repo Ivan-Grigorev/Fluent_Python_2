{
 "cells": [
  {
   "cell_type": "markdown",
   "id": "8236ba0a-e95f-418a-a378-c94336639552",
   "metadata": {},
   "source": [
    "<h1>Chapter 07. Functions as a Full-Fledged Objects.</h1>"
   ]
  },
  {
   "cell_type": "markdown",
   "id": "b4c5fb07-fd6e-41ae-b5ee-2c7ba05f23be",
   "metadata": {},
   "source": [
    "<h2>Handling a Function as an Object</h2>"
   ]
  },
  {
   "cell_type": "markdown",
   "id": "31e40d79-de01-4066-8618-8b3d690682af",
   "metadata": {},
   "source": [
    "Creating an testing a funtction, the reading its `__doc__` attribute and set the type"
   ]
  },
  {
   "cell_type": "code",
   "execution_count": 1,
   "id": "8756b4fd-2a56-43a2-93b9-44274fdf0801",
   "metadata": {},
   "outputs": [],
   "source": [
    "def factorial(n):\n",
    "    \"\"\"Compute the factorial of a non negative integer\"\"\"\n",
    "    if n < 0:\n",
    "        raise ValueError('Factorial is not defined for negative numbers.')\n",
    "    else:\n",
    "        return 1 if n < 2 else n * factorial(n - 1)"
   ]
  },
  {
   "cell_type": "code",
   "execution_count": 2,
   "id": "a7dc0e5c-6d19-44ec-8184-7f30889b1867",
   "metadata": {},
   "outputs": [
    {
     "data": {
      "text/plain": [
       "1405006117752879898543142606244511569936384000000000"
      ]
     },
     "execution_count": 2,
     "metadata": {},
     "output_type": "execute_result"
    }
   ],
   "source": [
    "factorial(42)"
   ]
  },
  {
   "cell_type": "code",
   "execution_count": 3,
   "id": "182646e7-fef1-40bc-8c66-bef2363efb1d",
   "metadata": {},
   "outputs": [
    {
     "data": {
      "text/plain": [
       "'Compute the factorial of a non negative integer'"
      ]
     },
     "execution_count": 3,
     "metadata": {},
     "output_type": "execute_result"
    }
   ],
   "source": [
    "factorial.__doc__"
   ]
  },
  {
   "cell_type": "code",
   "execution_count": 4,
   "id": "263dddd1-45c4-4651-b867-84307b7c44be",
   "metadata": {},
   "outputs": [
    {
     "data": {
      "text/plain": [
       "function"
      ]
     },
     "execution_count": 4,
     "metadata": {},
     "output_type": "execute_result"
    }
   ],
   "source": [
    "type(factorial)"
   ]
  },
  {
   "cell_type": "markdown",
   "id": "ca524f00-677d-433e-bc4e-eb1383bc7600",
   "metadata": {},
   "source": [
    "`help()` for the `factorial` function. The text is taken from `__doc__` attribute of the function object"
   ]
  },
  {
   "cell_type": "code",
   "execution_count": 5,
   "id": "d4458179-2d47-4694-8a13-fdd6c260f01f",
   "metadata": {},
   "outputs": [
    {
     "name": "stdout",
     "output_type": "stream",
     "text": [
      "Help on function factorial in module __main__:\n",
      "\n",
      "factorial(n)\n",
      "    Compute the factorial of a non negative integer\n",
      "\n"
     ]
    }
   ],
   "source": [
    "help(factorial)"
   ]
  },
  {
   "cell_type": "markdown",
   "id": "1baa38ec-e11c-4846-834d-34cf9ed1b0a6",
   "metadata": {},
   "source": [
    "Using a function under a different name and passing a function as an argument"
   ]
  },
  {
   "cell_type": "code",
   "execution_count": 6,
   "id": "9591ff00-87e2-4e86-a07c-871065c94836",
   "metadata": {},
   "outputs": [
    {
     "data": {
      "text/plain": [
       "<function __main__.factorial(n)>"
      ]
     },
     "execution_count": 6,
     "metadata": {},
     "output_type": "execute_result"
    }
   ],
   "source": [
    "fact = factorial\n",
    "fact"
   ]
  },
  {
   "cell_type": "code",
   "execution_count": 7,
   "id": "2916e2f0-17dc-4162-998f-03de3a852f4a",
   "metadata": {},
   "outputs": [
    {
     "data": {
      "text/plain": [
       "120"
      ]
     },
     "execution_count": 7,
     "metadata": {},
     "output_type": "execute_result"
    }
   ],
   "source": [
    "fact(5)"
   ]
  },
  {
   "cell_type": "code",
   "execution_count": 8,
   "id": "02155bc1-7cd5-4c37-b1d4-c7057857db44",
   "metadata": {},
   "outputs": [
    {
     "data": {
      "text/plain": [
       "<map at 0x10a69fa90>"
      ]
     },
     "execution_count": 8,
     "metadata": {},
     "output_type": "execute_result"
    }
   ],
   "source": [
    "map(factorial, range(11))"
   ]
  },
  {
   "cell_type": "code",
   "execution_count": 9,
   "id": "515ff4d6-7d64-4652-bc04-aa18dda812f4",
   "metadata": {},
   "outputs": [
    {
     "data": {
      "text/plain": [
       "[1, 1, 2, 6, 24, 120, 720, 5040, 40320, 362880, 3628800]"
      ]
     },
     "execution_count": 9,
     "metadata": {},
     "output_type": "execute_result"
    }
   ],
   "source": [
    "list(map(factorial, range(11)))"
   ]
  },
  {
   "cell_type": "code",
   "execution_count": null,
   "id": "4d5bdba0-680a-43db-ae27-e97a6909ba02",
   "metadata": {},
   "outputs": [],
   "source": []
  }
 ],
 "metadata": {
  "kernelspec": {
   "display_name": "Python 3 (ipykernel)",
   "language": "python",
   "name": "python3"
  },
  "language_info": {
   "codemirror_mode": {
    "name": "ipython",
    "version": 3
   },
   "file_extension": ".py",
   "mimetype": "text/x-python",
   "name": "python",
   "nbconvert_exporter": "python",
   "pygments_lexer": "ipython3",
   "version": "3.12.1"
  }
 },
 "nbformat": 4,
 "nbformat_minor": 5
}
