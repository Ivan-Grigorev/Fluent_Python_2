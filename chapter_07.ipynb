{
 "cells": [
  {
   "cell_type": "markdown",
   "id": "8236ba0a-e95f-418a-a378-c94336639552",
   "metadata": {},
   "source": [
    "<h1>Chapter 07. Functions as a Full-Fledged Objects.</h1>"
   ]
  },
  {
   "cell_type": "markdown",
   "id": "b4c5fb07-fd6e-41ae-b5ee-2c7ba05f23be",
   "metadata": {},
   "source": [
    "<h2>Handling a Function as an Object</h2>"
   ]
  },
  {
   "cell_type": "markdown",
   "id": "31e40d79-de01-4066-8618-8b3d690682af",
   "metadata": {},
   "source": [
    "Creating an testing a funtction, the reading its `__doc__` attribute and set the type"
   ]
  },
  {
   "cell_type": "code",
   "execution_count": 1,
   "id": "8756b4fd-2a56-43a2-93b9-44274fdf0801",
   "metadata": {},
   "outputs": [],
   "source": [
    "def factorial(n):\n",
    "    \"\"\"Compute the factorial of a non negative integer\"\"\"\n",
    "    if n < 0:\n",
    "        raise ValueError('Factorial is not defined for negative numbers.')\n",
    "    else:\n",
    "        return 1 if n < 2 else n * factorial(n - 1)"
   ]
  },
  {
   "cell_type": "code",
   "execution_count": 2,
   "id": "a7dc0e5c-6d19-44ec-8184-7f30889b1867",
   "metadata": {},
   "outputs": [
    {
     "data": {
      "text/plain": [
       "1405006117752879898543142606244511569936384000000000"
      ]
     },
     "execution_count": 2,
     "metadata": {},
     "output_type": "execute_result"
    }
   ],
   "source": [
    "factorial(42)"
   ]
  },
  {
   "cell_type": "code",
   "execution_count": 3,
   "id": "182646e7-fef1-40bc-8c66-bef2363efb1d",
   "metadata": {},
   "outputs": [
    {
     "data": {
      "text/plain": [
       "'Compute the factorial of a non negative integer'"
      ]
     },
     "execution_count": 3,
     "metadata": {},
     "output_type": "execute_result"
    }
   ],
   "source": [
    "factorial.__doc__"
   ]
  },
  {
   "cell_type": "code",
   "execution_count": 4,
   "id": "263dddd1-45c4-4651-b867-84307b7c44be",
   "metadata": {},
   "outputs": [
    {
     "data": {
      "text/plain": [
       "function"
      ]
     },
     "execution_count": 4,
     "metadata": {},
     "output_type": "execute_result"
    }
   ],
   "source": [
    "type(factorial)"
   ]
  },
  {
   "cell_type": "markdown",
   "id": "ca524f00-677d-433e-bc4e-eb1383bc7600",
   "metadata": {},
   "source": [
    "`help()` for the `factorial` function. The text is taken from `__doc__` attribute of the function object"
   ]
  },
  {
   "cell_type": "code",
   "execution_count": 5,
   "id": "d4458179-2d47-4694-8a13-fdd6c260f01f",
   "metadata": {},
   "outputs": [
    {
     "name": "stdout",
     "output_type": "stream",
     "text": [
      "Help on function factorial in module __main__:\n",
      "\n",
      "factorial(n)\n",
      "    Compute the factorial of a non negative integer\n",
      "\n"
     ]
    }
   ],
   "source": [
    "help(factorial)"
   ]
  },
  {
   "cell_type": "markdown",
   "id": "1baa38ec-e11c-4846-834d-34cf9ed1b0a6",
   "metadata": {},
   "source": [
    "Using a function under a different name and passing a function as an argument"
   ]
  },
  {
   "cell_type": "code",
   "execution_count": 6,
   "id": "9591ff00-87e2-4e86-a07c-871065c94836",
   "metadata": {},
   "outputs": [
    {
     "data": {
      "text/plain": [
       "<function __main__.factorial(n)>"
      ]
     },
     "execution_count": 6,
     "metadata": {},
     "output_type": "execute_result"
    }
   ],
   "source": [
    "fact = factorial\n",
    "fact"
   ]
  },
  {
   "cell_type": "code",
   "execution_count": 7,
   "id": "2916e2f0-17dc-4162-998f-03de3a852f4a",
   "metadata": {},
   "outputs": [
    {
     "data": {
      "text/plain": [
       "120"
      ]
     },
     "execution_count": 7,
     "metadata": {},
     "output_type": "execute_result"
    }
   ],
   "source": [
    "fact(5)"
   ]
  },
  {
   "cell_type": "code",
   "execution_count": 8,
   "id": "02155bc1-7cd5-4c37-b1d4-c7057857db44",
   "metadata": {},
   "outputs": [
    {
     "data": {
      "text/plain": [
       "<map at 0x10ae9edd0>"
      ]
     },
     "execution_count": 8,
     "metadata": {},
     "output_type": "execute_result"
    }
   ],
   "source": [
    "map(factorial, range(11))"
   ]
  },
  {
   "cell_type": "code",
   "execution_count": 9,
   "id": "515ff4d6-7d64-4652-bc04-aa18dda812f4",
   "metadata": {},
   "outputs": [
    {
     "data": {
      "text/plain": [
       "[1, 1, 2, 6, 24, 120, 720, 5040, 40320, 362880, 3628800]"
      ]
     },
     "execution_count": 9,
     "metadata": {},
     "output_type": "execute_result"
    }
   ],
   "source": [
    "list(map(factorial, range(11)))"
   ]
  },
  {
   "cell_type": "markdown",
   "id": "ebb7df6c-a321-4f41-9ee6-56a03b94c3c1",
   "metadata": {},
   "source": [
    "<h2>Higher Order Functions</h2>"
   ]
  },
  {
   "cell_type": "markdown",
   "id": "9ca18fc0-2e5e-4698-9e34-e13c73ba02e9",
   "metadata": {},
   "source": [
    "A higher-order function is a function that takes a function as an argument or returns as a value."
   ]
  },
  {
   "cell_type": "code",
   "execution_count": 10,
   "id": "4ecfa92f-f04f-4a4e-bf30-c9c82f84d0ea",
   "metadata": {},
   "outputs": [],
   "source": [
    "fruits = ['strawberry', 'fig', 'apple', 'cherry', 'raspberry']"
   ]
  },
  {
   "cell_type": "markdown",
   "id": "5f1aab6b-7533-4270-b6dc-ebd4eaafcef0",
   "metadata": {},
   "source": [
    "Sorting the word list by length"
   ]
  },
  {
   "cell_type": "code",
   "execution_count": 11,
   "id": "c6a70cb4-5bd1-4d84-9ad5-2e0080c30362",
   "metadata": {},
   "outputs": [
    {
     "data": {
      "text/plain": [
       "['fig', 'apple', 'cherry', 'raspberry', 'strawberry']"
      ]
     },
     "execution_count": 11,
     "metadata": {},
     "output_type": "execute_result"
    }
   ],
   "source": [
    "sorted(fruits, key=len)"
   ]
  },
  {
   "cell_type": "markdown",
   "id": "a2b09356-3c5c-48f0-bcf0-4bfe34565524",
   "metadata": {},
   "source": [
    "Sorting the word list in reverse letter order"
   ]
  },
  {
   "cell_type": "code",
   "execution_count": 12,
   "id": "fee680fa-0f37-48a8-936c-60f506931a0f",
   "metadata": {},
   "outputs": [],
   "source": [
    "def reverse(word):\n",
    "    return word[::-1]"
   ]
  },
  {
   "cell_type": "code",
   "execution_count": 13,
   "id": "2f0748ac-79d0-4e8a-88e5-86fb76d7988a",
   "metadata": {},
   "outputs": [
    {
     "data": {
      "text/plain": [
       "'gnitset'"
      ]
     },
     "execution_count": 13,
     "metadata": {},
     "output_type": "execute_result"
    }
   ],
   "source": [
    "reverse('testing')"
   ]
  },
  {
   "cell_type": "code",
   "execution_count": 14,
   "id": "285aee4f-113b-4388-9935-0d4399ded5c2",
   "metadata": {},
   "outputs": [
    {
     "data": {
      "text/plain": [
       "['apple', 'fig', 'raspberry', 'strawberry', 'cherry']"
      ]
     },
     "execution_count": 14,
     "metadata": {},
     "output_type": "execute_result"
    }
   ],
   "source": [
    "sorted(fruits, key=reverse)"
   ]
  },
  {
   "cell_type": "markdown",
   "id": "e21804d1-59f2-4a51-9256-c812db7403c6",
   "metadata": {},
   "source": [
    "<h3>Modern Alternatives to <code>map</code>, <code>filter</code> and <code>reduce</code> Functions</h3>"
   ]
  },
  {
   "cell_type": "markdown",
   "id": "3e5a4ae6-91d6-45d8-acae-aecd4d4c7c31",
   "metadata": {},
   "source": [
    "Lists of factorials generated by `map` anf `filter` functions, and an alternative in the form of list inclusion"
   ]
  },
  {
   "cell_type": "code",
   "execution_count": 15,
   "id": "f3d3af6d-6e34-4fd9-9e0b-168d061e46d1",
   "metadata": {},
   "outputs": [
    {
     "data": {
      "text/plain": [
       "[1, 1, 2, 6, 24, 120]"
      ]
     },
     "execution_count": 15,
     "metadata": {},
     "output_type": "execute_result"
    }
   ],
   "source": [
    "# Generate a list of factorials from 0 to 5\n",
    "list(map(factorial, range(6)))"
   ]
  },
  {
   "cell_type": "code",
   "execution_count": 16,
   "id": "d4d5e433-65ba-4b9d-8404-80fb9f44b26d",
   "metadata": {},
   "outputs": [
    {
     "data": {
      "text/plain": [
       "[1, 1, 2, 6, 24, 120]"
      ]
     },
     "execution_count": 16,
     "metadata": {},
     "output_type": "execute_result"
    }
   ],
   "source": [
    "# Generate a list of factorials with list inclusion\n",
    "[factorial(n) for n in range(6)]"
   ]
  },
  {
   "cell_type": "code",
   "execution_count": 17,
   "id": "d243454e-99af-4687-8cb3-6479a97f0124",
   "metadata": {},
   "outputs": [
    {
     "data": {
      "text/plain": [
       "[1, 6, 120]"
      ]
     },
     "execution_count": 17,
     "metadata": {},
     "output_type": "execute_result"
    }
   ],
   "source": [
    "# Generate a list of factorials of odd numbers using map, filter, and lambda\n",
    "list(map(factorial, filter(lambda n: n % 2, range(6))))"
   ]
  },
  {
   "cell_type": "code",
   "execution_count": 18,
   "id": "06acb394-3107-4870-bff1-4653eab0dddf",
   "metadata": {},
   "outputs": [
    {
     "data": {
      "text/plain": [
       "[1, 6, 120]"
      ]
     },
     "execution_count": 18,
     "metadata": {},
     "output_type": "execute_result"
    }
   ],
   "source": [
    "# Generate a list of factorials of odd numbers using list inclusion\n",
    "[factorial(n) for n in range(6) if n % 2]"
   ]
  },
  {
   "cell_type": "markdown",
   "id": "225a3220-e4d2-412a-96b2-048e72f5c37e",
   "metadata": {},
   "source": [
    "Summing integers up to 99 with `reduce` and `sum` "
   ]
  },
  {
   "cell_type": "code",
   "execution_count": 19,
   "id": "e7a93151-2d8d-4c92-94ea-3db21327a78b",
   "metadata": {},
   "outputs": [
    {
     "data": {
      "text/plain": [
       "4950"
      ]
     },
     "execution_count": 19,
     "metadata": {},
     "output_type": "execute_result"
    }
   ],
   "source": [
    "from functools import reduce\n",
    "from operator import add\n",
    "\n",
    "\n",
    "reduce(add, range(100))"
   ]
  },
  {
   "cell_type": "code",
   "execution_count": 20,
   "id": "ddbd22ad-028a-40b3-a1e7-2f7f3c842c30",
   "metadata": {},
   "outputs": [
    {
     "data": {
      "text/plain": [
       "4950"
      ]
     },
     "execution_count": 20,
     "metadata": {},
     "output_type": "execute_result"
    }
   ],
   "source": [
    "sum(range(100))"
   ]
  },
  {
   "cell_type": "markdown",
   "id": "3593cc2a-ad13-423b-9f37-0ecfe248abe3",
   "metadata": {},
   "source": [
    "<h2>Anonymous Functions</h2>"
   ]
  },
  {
   "cell_type": "markdown",
   "id": "827a9f25-a286-4c22-aa78-c7a0e19e407c",
   "metadata": {},
   "source": [
    "A `lambda` function in Python is a concise, anonymous function defined with the `lambda` keyword. It accepts multiple arguments but contains only a single expression."
   ]
  },
  {
   "cell_type": "markdown",
   "id": "4fdf8c2d-de98-407c-9b5a-6ac98bb65f5e",
   "metadata": {},
   "source": [
    "Sorting a word list in reverse letter order using `lambda`"
   ]
  },
  {
   "cell_type": "code",
   "execution_count": 21,
   "id": "075d0c4e-10c6-41fc-bdbb-1ec0edb51c36",
   "metadata": {},
   "outputs": [],
   "source": [
    "fruits = ['strawberry', 'fig', 'apple', 'cherry', 'raspberry', 'banana']"
   ]
  },
  {
   "cell_type": "code",
   "execution_count": 22,
   "id": "26b30756-2194-4da1-8816-e896900d5caa",
   "metadata": {},
   "outputs": [
    {
     "data": {
      "text/plain": [
       "['banana', 'apple', 'fig', 'raspberry', 'strawberry', 'cherry']"
      ]
     },
     "execution_count": 22,
     "metadata": {},
     "output_type": "execute_result"
    }
   ],
   "source": [
    "sorted(fruits, key=lambda word: word[::-1])"
   ]
  },
  {
   "cell_type": "markdown",
   "id": "4960db71-b2c2-4183-bccb-40d5d1ebdf2d",
   "metadata": {},
   "source": [
    "<h2>User Callable Types</h2>"
   ]
  },
  {
   "cell_type": "markdown",
   "id": "8bff26c4-321d-42ba-8d61-9bffc6912487",
   "metadata": {},
   "source": [
    "The `__call__` method enables an object to be callable like a function. When this method is defined within a `class`, instances of that `class` can be invoked using function `__call__` syntax (parentheses)."
   ]
  },
  {
   "cell_type": "code",
   "execution_count": 23,
   "id": "a5b41b8e-d6ff-42e7-8d6d-972d2a65e4f2",
   "metadata": {},
   "outputs": [],
   "source": [
    "from random import shuffle\n",
    "\n",
    "\n",
    "class BingoCage:\n",
    "    def __init__(self, items):\n",
    "        self._items = list(items)\n",
    "        shuffle(self._items)\n",
    "\n",
    "    def pick(self):\n",
    "        try:\n",
    "            return self._items.pop()\n",
    "        except IndexError:\n",
    "            raise LookupError('Cannot perform lookup operation. The BingoCage list is empty.')\n",
    "\n",
    "    def __call__(self):\n",
    "        return self.pick()"
   ]
  },
  {
   "cell_type": "code",
   "execution_count": 24,
   "id": "17deacc9-d742-49ea-916a-d2152ea81c73",
   "metadata": {},
   "outputs": [
    {
     "data": {
      "text/plain": [
       "1"
      ]
     },
     "execution_count": 24,
     "metadata": {},
     "output_type": "execute_result"
    }
   ],
   "source": [
    "bingo = BingoCage(range(3))\n",
    "bingo.pick()"
   ]
  },
  {
   "cell_type": "code",
   "execution_count": 25,
   "id": "1c866351-94d7-4967-9798-62ed6a58e928",
   "metadata": {},
   "outputs": [
    {
     "data": {
      "text/plain": [
       "0"
      ]
     },
     "execution_count": 25,
     "metadata": {},
     "output_type": "execute_result"
    }
   ],
   "source": [
    "bingo()"
   ]
  },
  {
   "cell_type": "code",
   "execution_count": 26,
   "id": "2b497154-b06e-4fff-a0de-4474b868adc6",
   "metadata": {},
   "outputs": [
    {
     "data": {
      "text/plain": [
       "True"
      ]
     },
     "execution_count": 26,
     "metadata": {},
     "output_type": "execute_result"
    }
   ],
   "source": [
    "# Determine whether an object is callable or not\n",
    "callable(bingo)"
   ]
  },
  {
   "cell_type": "markdown",
   "id": "2121729e-91d9-40ce-b84a-2645025c3700",
   "metadata": {},
   "source": [
    "<h2>From Positional to Named Parameters</h2>"
   ]
  },
  {
   "cell_type": "markdown",
   "id": "793e83ee-e864-4233-836d-4fba766d869a",
   "metadata": {},
   "source": [
    "The `tag` function generates `HTML`; the purely named argument `class_` is used to pass the 'class' attribute"
   ]
  },
  {
   "cell_type": "code",
   "execution_count": 27,
   "id": "d7d7199f-07c8-42eb-8a69-87a290a03f54",
   "metadata": {},
   "outputs": [],
   "source": [
    "def tag(name, *content, class_=None, **attrs):\n",
    "    \"\"\"Generate one or more HTML tags\"\"\"\n",
    "\n",
    "    if class_ is not None:\n",
    "        attrs['class'] = class_\n",
    "\n",
    "    attr_str = ''.join(\n",
    "        f\" {attr}='{value}'\" for attr, value\n",
    "        in sorted(attrs.items())\n",
    "    )\n",
    "\n",
    "    if content:\n",
    "        return '\\n'.join(\n",
    "            f\"<{name}{attr_str}>{c}</{name}>\"\n",
    "            for c in content\n",
    "        )\n",
    "\n",
    "    else:\n",
    "        return f\"<{name}{attr_str}/>\""
   ]
  },
  {
   "cell_type": "markdown",
   "id": "9b1a0ca7-ac88-4256-9b33-c3c62287e029",
   "metadata": {},
   "source": [
    "Given a single positional argument, produces an empty tag name with that name."
   ]
  },
  {
   "cell_type": "code",
   "execution_count": 28,
   "id": "383a7910-92ab-4341-bef9-65d3123053be",
   "metadata": {},
   "outputs": [
    {
     "data": {
      "text/plain": [
       "'<br/>'"
      ]
     },
     "execution_count": 28,
     "metadata": {},
     "output_type": "execute_result"
    }
   ],
   "source": [
    "tag('br')"
   ]
  },
  {
   "cell_type": "markdown",
   "id": "2afcc54b-03e1-4039-a2fe-e79972d523e2",
   "metadata": {},
   "source": [
    "Any number of arguments after the first is taken by the `*content` construct and placed in a tuple."
   ]
  },
  {
   "cell_type": "code",
   "execution_count": 29,
   "id": "b0b95234-c40a-41f6-9203-f9817f5510d6",
   "metadata": {},
   "outputs": [
    {
     "data": {
      "text/plain": [
       "'<p>hello</p>'"
      ]
     },
     "execution_count": 29,
     "metadata": {},
     "output_type": "execute_result"
    }
   ],
   "source": [
    "tag('p', 'hello')"
   ]
  },
  {
   "cell_type": "code",
   "execution_count": 30,
   "id": "1add7b5e-494f-42aa-8481-56ecd0d71e53",
   "metadata": {},
   "outputs": [
    {
     "data": {
      "text/plain": [
       "'<p>hello</p>\\n<p>world</p>'"
      ]
     },
     "execution_count": 30,
     "metadata": {},
     "output_type": "execute_result"
    }
   ],
   "source": [
    "tag('p', 'hello', 'world')"
   ]
  },
  {
   "cell_type": "markdown",
   "id": "8876d9fd-f73a-4e0e-8362-48dda471a538",
   "metadata": {},
   "source": [
    "Named arguments that are not listed in the `tag` function are taken by the `**attrs` construct and placed in a dictionary."
   ]
  },
  {
   "cell_type": "code",
   "execution_count": 31,
   "id": "7f40cfed-0bea-40bb-8fb8-440bcff686c0",
   "metadata": {},
   "outputs": [
    {
     "data": {
      "text/plain": [
       "\"<p id='33'>hello</p>\""
      ]
     },
     "execution_count": 31,
     "metadata": {},
     "output_type": "execute_result"
    }
   ],
   "source": [
    "tag('p', 'hello', id=33)"
   ]
  },
  {
   "cell_type": "markdown",
   "id": "512f43b9-f2a6-471f-bc50-2eb3c11ece53",
   "metadata": {},
   "source": [
    "The `class_` parameter can only be passed with a named argument."
   ]
  },
  {
   "cell_type": "code",
   "execution_count": 32,
   "id": "4bc309d4-c610-4818-b8b7-39903e1d4c1e",
   "metadata": {},
   "outputs": [
    {
     "name": "stdout",
     "output_type": "stream",
     "text": [
      "<p class='sidebar'>hello</p>\n",
      "<p class='sidebar'>world</p>\n"
     ]
    }
   ],
   "source": [
    "print(tag('p', 'hello', 'world', class_='sidebar'))"
   ]
  },
  {
   "cell_type": "markdown",
   "id": "db33d3f3-e2e5-4e47-b42a-e9ce372bd626",
   "metadata": {},
   "source": [
    "The first positional argument can also be passed as a named argument."
   ]
  },
  {
   "cell_type": "code",
   "execution_count": 33,
   "id": "30f8b934-9bd9-4dc1-9c6b-08c22cfb59b0",
   "metadata": {},
   "outputs": [
    {
     "data": {
      "text/plain": [
       "\"<img content='testing'/>\""
      ]
     },
     "execution_count": 33,
     "metadata": {},
     "output_type": "execute_result"
    }
   ],
   "source": [
    "tag(content='testing', name='img')"
   ]
  },
  {
   "cell_type": "markdown",
   "id": "abf95593-6ae3-4bcd-b956-9cb84638bf7e",
   "metadata": {},
   "source": [
    "If the `my_tag` dictionary is prefaced by two stars `**`, all its elements are passed as separate arguments, then some are connected with named parameters, and the rest are taken over by the `**attrs` construct."
   ]
  },
  {
   "cell_type": "code",
   "execution_count": 34,
   "id": "7915d152-f3f2-4613-87dc-69b9b86eb1b1",
   "metadata": {},
   "outputs": [
    {
     "data": {
      "text/plain": [
       "\"<img class='framed' src='sunset.jpg' title='Sunset Boulevard'/>\""
      ]
     },
     "execution_count": 34,
     "metadata": {},
     "output_type": "execute_result"
    }
   ],
   "source": [
    "my_tag = {\n",
    "    'name': 'img',\n",
    "    'title': 'Sunset Boulevard',\n",
    "    'src': 'sunset.jpg',\n",
    "    'class': 'framed'\n",
    "}\n",
    "\n",
    "tag(**my_tag)"
   ]
  },
  {
   "cell_type": "markdown",
   "id": "70d9a8ef-83d7-4a3b-b8d8-cc9e7c78340d",
   "metadata": {},
   "source": [
    "To specify named arguments in a function defenition, specify them with an `*` prefix after the argument."
   ]
  },
  {
   "cell_type": "code",
   "execution_count": 35,
   "id": "a7e5b0cc-d95f-4a30-a170-fec5474e42f7",
   "metadata": {},
   "outputs": [],
   "source": [
    "def f(a, *, b):\n",
    "    return a, b"
   ]
  },
  {
   "cell_type": "code",
   "execution_count": 36,
   "id": "b5572746-f8c5-4454-8830-cdb65ae16440",
   "metadata": {},
   "outputs": [
    {
     "data": {
      "text/plain": [
       "(1, 2)"
      ]
     },
     "execution_count": 36,
     "metadata": {},
     "output_type": "execute_result"
    }
   ],
   "source": [
    "f(1, b=2)"
   ]
  },
  {
   "cell_type": "code",
   "execution_count": 37,
   "id": "430419ee-1729-43e6-8700-7971c463b92e",
   "metadata": {},
   "outputs": [
    {
     "name": "stdout",
     "output_type": "stream",
     "text": [
      "TypeError('f() takes 1 positional argument but 2 were given')\n"
     ]
    }
   ],
   "source": [
    "try:\n",
    "    f(1, 2)\n",
    "except TypeError as e:\n",
    "    print(e.__repr__())"
   ]
  },
  {
   "cell_type": "markdown",
   "id": "fcf6e38b-20c2-48e4-a9a4-ce4b86d51e07",
   "metadata": {},
   "source": [
    "<h3>Positional Parameters</h3>"
   ]
  },
  {
   "cell_type": "markdown",
   "id": "2cf07dd8-3112-4e75-8745-1f37c54f4cb9",
   "metadata": {},
   "source": [
    "To define a function that requires only positional arguements, use the `/` symbol in the parameter list."
   ]
  },
  {
   "cell_type": "code",
   "execution_count": 38,
   "id": "586601ee-4172-488b-90f9-2ca24fdf23ed",
   "metadata": {},
   "outputs": [],
   "source": [
    "def divmod(a, b, /):\n",
    "    return (a // b, a % b)"
   ]
  }
 ],
 "metadata": {
  "kernelspec": {
   "display_name": "Python 3 (ipykernel)",
   "language": "python",
   "name": "python3"
  },
  "language_info": {
   "codemirror_mode": {
    "name": "ipython",
    "version": 3
   },
   "file_extension": ".py",
   "mimetype": "text/x-python",
   "name": "python",
   "nbconvert_exporter": "python",
   "pygments_lexer": "ipython3",
   "version": "3.12.1"
  }
 },
 "nbformat": 4,
 "nbformat_minor": 5
}
