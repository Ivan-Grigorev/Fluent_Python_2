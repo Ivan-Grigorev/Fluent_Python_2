{
 "cells": [
  {
   "cell_type": "markdown",
   "id": "8236ba0a-e95f-418a-a378-c94336639552",
   "metadata": {},
   "source": [
    "<h1>Chapter 07. Functions as a Full-Fledged Objects.</h1>"
   ]
  },
  {
   "cell_type": "markdown",
   "id": "b4c5fb07-fd6e-41ae-b5ee-2c7ba05f23be",
   "metadata": {},
   "source": [
    "<h2>Handling a Function as an Object</h2>"
   ]
  },
  {
   "cell_type": "markdown",
   "id": "31e40d79-de01-4066-8618-8b3d690682af",
   "metadata": {},
   "source": [
    "Creating an testing a funtction, the reading its `__doc__` attribute and set the type"
   ]
  },
  {
   "cell_type": "code",
   "execution_count": 1,
   "id": "8756b4fd-2a56-43a2-93b9-44274fdf0801",
   "metadata": {},
   "outputs": [],
   "source": [
    "def factorial(n):\n",
    "    \"\"\"Compute the factorial of a non negative integer\"\"\"\n",
    "    if n < 0:\n",
    "        raise ValueError('Factorial is not defined for negative numbers.')\n",
    "    else:\n",
    "        return 1 if n < 2 else n * factorial(n - 1)"
   ]
  },
  {
   "cell_type": "code",
   "execution_count": 2,
   "id": "a7dc0e5c-6d19-44ec-8184-7f30889b1867",
   "metadata": {},
   "outputs": [
    {
     "data": {
      "text/plain": [
       "1405006117752879898543142606244511569936384000000000"
      ]
     },
     "execution_count": 2,
     "metadata": {},
     "output_type": "execute_result"
    }
   ],
   "source": [
    "factorial(42)"
   ]
  },
  {
   "cell_type": "code",
   "execution_count": 3,
   "id": "182646e7-fef1-40bc-8c66-bef2363efb1d",
   "metadata": {},
   "outputs": [
    {
     "data": {
      "text/plain": [
       "'Compute the factorial of a non negative integer'"
      ]
     },
     "execution_count": 3,
     "metadata": {},
     "output_type": "execute_result"
    }
   ],
   "source": [
    "factorial.__doc__"
   ]
  },
  {
   "cell_type": "code",
   "execution_count": 4,
   "id": "263dddd1-45c4-4651-b867-84307b7c44be",
   "metadata": {},
   "outputs": [
    {
     "data": {
      "text/plain": [
       "function"
      ]
     },
     "execution_count": 4,
     "metadata": {},
     "output_type": "execute_result"
    }
   ],
   "source": [
    "type(factorial)"
   ]
  },
  {
   "cell_type": "markdown",
   "id": "ca524f00-677d-433e-bc4e-eb1383bc7600",
   "metadata": {},
   "source": [
    "`help()` for the `factorial` function. The text is taken from `__doc__` attribute of the function object"
   ]
  },
  {
   "cell_type": "code",
   "execution_count": 5,
   "id": "d4458179-2d47-4694-8a13-fdd6c260f01f",
   "metadata": {},
   "outputs": [
    {
     "name": "stdout",
     "output_type": "stream",
     "text": [
      "Help on function factorial in module __main__:\n",
      "\n",
      "factorial(n)\n",
      "    Compute the factorial of a non negative integer\n",
      "\n"
     ]
    }
   ],
   "source": [
    "help(factorial)"
   ]
  },
  {
   "cell_type": "markdown",
   "id": "1baa38ec-e11c-4846-834d-34cf9ed1b0a6",
   "metadata": {},
   "source": [
    "Using a function under a different name and passing a function as an argument"
   ]
  },
  {
   "cell_type": "code",
   "execution_count": 6,
   "id": "9591ff00-87e2-4e86-a07c-871065c94836",
   "metadata": {},
   "outputs": [
    {
     "data": {
      "text/plain": [
       "<function __main__.factorial(n)>"
      ]
     },
     "execution_count": 6,
     "metadata": {},
     "output_type": "execute_result"
    }
   ],
   "source": [
    "fact = factorial\n",
    "fact"
   ]
  },
  {
   "cell_type": "code",
   "execution_count": 7,
   "id": "2916e2f0-17dc-4162-998f-03de3a852f4a",
   "metadata": {},
   "outputs": [
    {
     "data": {
      "text/plain": [
       "120"
      ]
     },
     "execution_count": 7,
     "metadata": {},
     "output_type": "execute_result"
    }
   ],
   "source": [
    "fact(5)"
   ]
  },
  {
   "cell_type": "code",
   "execution_count": 8,
   "id": "02155bc1-7cd5-4c37-b1d4-c7057857db44",
   "metadata": {},
   "outputs": [
    {
     "data": {
      "text/plain": [
       "<map at 0x1131d5f30>"
      ]
     },
     "execution_count": 8,
     "metadata": {},
     "output_type": "execute_result"
    }
   ],
   "source": [
    "map(factorial, range(11))"
   ]
  },
  {
   "cell_type": "code",
   "execution_count": 9,
   "id": "515ff4d6-7d64-4652-bc04-aa18dda812f4",
   "metadata": {},
   "outputs": [
    {
     "data": {
      "text/plain": [
       "[1, 1, 2, 6, 24, 120, 720, 5040, 40320, 362880, 3628800]"
      ]
     },
     "execution_count": 9,
     "metadata": {},
     "output_type": "execute_result"
    }
   ],
   "source": [
    "list(map(factorial, range(11)))"
   ]
  },
  {
   "cell_type": "markdown",
   "id": "ebb7df6c-a321-4f41-9ee6-56a03b94c3c1",
   "metadata": {},
   "source": [
    "<h2>Higher Order Functions</h2>"
   ]
  },
  {
   "cell_type": "markdown",
   "id": "9ca18fc0-2e5e-4698-9e34-e13c73ba02e9",
   "metadata": {},
   "source": [
    "A higher-order function is a function that takes a function as an argument or returns as a value."
   ]
  },
  {
   "cell_type": "code",
   "execution_count": 10,
   "id": "4ecfa92f-f04f-4a4e-bf30-c9c82f84d0ea",
   "metadata": {},
   "outputs": [],
   "source": [
    "fruits = ['strawberry', 'fig', 'apple', 'cherry', 'raspberry']"
   ]
  },
  {
   "cell_type": "markdown",
   "id": "5f1aab6b-7533-4270-b6dc-ebd4eaafcef0",
   "metadata": {},
   "source": [
    "Sorting the word list by length"
   ]
  },
  {
   "cell_type": "code",
   "execution_count": 11,
   "id": "c6a70cb4-5bd1-4d84-9ad5-2e0080c30362",
   "metadata": {},
   "outputs": [
    {
     "data": {
      "text/plain": [
       "['fig', 'apple', 'cherry', 'raspberry', 'strawberry']"
      ]
     },
     "execution_count": 11,
     "metadata": {},
     "output_type": "execute_result"
    }
   ],
   "source": [
    "sorted(fruits, key=len)"
   ]
  },
  {
   "cell_type": "markdown",
   "id": "a2b09356-3c5c-48f0-bcf0-4bfe34565524",
   "metadata": {},
   "source": [
    "Sorting the word list in reverse letter order"
   ]
  },
  {
   "cell_type": "code",
   "execution_count": 12,
   "id": "fee680fa-0f37-48a8-936c-60f506931a0f",
   "metadata": {},
   "outputs": [],
   "source": [
    "def reverse(word):\n",
    "    return word[::-1]"
   ]
  },
  {
   "cell_type": "code",
   "execution_count": 13,
   "id": "2f0748ac-79d0-4e8a-88e5-86fb76d7988a",
   "metadata": {},
   "outputs": [
    {
     "data": {
      "text/plain": [
       "'gnitset'"
      ]
     },
     "execution_count": 13,
     "metadata": {},
     "output_type": "execute_result"
    }
   ],
   "source": [
    "reverse('testing')"
   ]
  },
  {
   "cell_type": "code",
   "execution_count": 14,
   "id": "285aee4f-113b-4388-9935-0d4399ded5c2",
   "metadata": {},
   "outputs": [
    {
     "data": {
      "text/plain": [
       "['apple', 'fig', 'raspberry', 'strawberry', 'cherry']"
      ]
     },
     "execution_count": 14,
     "metadata": {},
     "output_type": "execute_result"
    }
   ],
   "source": [
    "sorted(fruits, key=reverse)"
   ]
  },
  {
   "cell_type": "markdown",
   "id": "193c97c0-3a52-4498-943c-39df1b889b6f",
   "metadata": {},
   "source": [
    "<h3>Modern Alternatives to <code>map</code>, <code>filter</code> and <code>reduce</code> functions</h3>"
   ]
  },
  {
   "cell_type": "markdown",
   "id": "3e5a4ae6-91d6-45d8-acae-aecd4d4c7c31",
   "metadata": {},
   "source": [
    "Lists of factorials generated by `map` anf `filter` functions, and an alternative in the form of list inclusion"
   ]
  },
  {
   "cell_type": "code",
   "execution_count": 15,
   "id": "f3d3af6d-6e34-4fd9-9e0b-168d061e46d1",
   "metadata": {},
   "outputs": [
    {
     "data": {
      "text/plain": [
       "[1, 1, 2, 6, 24, 120]"
      ]
     },
     "execution_count": 15,
     "metadata": {},
     "output_type": "execute_result"
    }
   ],
   "source": [
    "# Generate a list of factorials from 0 to 5\n",
    "list(map(factorial, range(6)))"
   ]
  },
  {
   "cell_type": "code",
   "execution_count": 16,
   "id": "d4d5e433-65ba-4b9d-8404-80fb9f44b26d",
   "metadata": {},
   "outputs": [
    {
     "data": {
      "text/plain": [
       "[1, 1, 2, 6, 24, 120]"
      ]
     },
     "execution_count": 16,
     "metadata": {},
     "output_type": "execute_result"
    }
   ],
   "source": [
    "# Generate a list of factorials with list inclusion\n",
    "[factorial(n) for n in range(6)]"
   ]
  },
  {
   "cell_type": "code",
   "execution_count": 17,
   "id": "d243454e-99af-4687-8cb3-6479a97f0124",
   "metadata": {},
   "outputs": [
    {
     "data": {
      "text/plain": [
       "[1, 6, 120]"
      ]
     },
     "execution_count": 17,
     "metadata": {},
     "output_type": "execute_result"
    }
   ],
   "source": [
    "# Generate a list of factorials of odd numbers using map, filter, and lambda\n",
    "list(map(factorial, filter(lambda n: n % 2, range(6))))"
   ]
  },
  {
   "cell_type": "code",
   "execution_count": 18,
   "id": "06acb394-3107-4870-bff1-4653eab0dddf",
   "metadata": {},
   "outputs": [
    {
     "data": {
      "text/plain": [
       "[1, 6, 120]"
      ]
     },
     "execution_count": 18,
     "metadata": {},
     "output_type": "execute_result"
    }
   ],
   "source": [
    "# Generate a list of factorials of odd numbers using list inclusion\n",
    "[factorial(n) for n in range(6) if n % 2]"
   ]
  },
  {
   "cell_type": "markdown",
   "id": "225a3220-e4d2-412a-96b2-048e72f5c37e",
   "metadata": {},
   "source": [
    "Summing integers up to 99 with `reduce` and `sum` "
   ]
  },
  {
   "cell_type": "code",
   "execution_count": 19,
   "id": "e7a93151-2d8d-4c92-94ea-3db21327a78b",
   "metadata": {},
   "outputs": [
    {
     "data": {
      "text/plain": [
       "4950"
      ]
     },
     "execution_count": 19,
     "metadata": {},
     "output_type": "execute_result"
    }
   ],
   "source": [
    "from functools import reduce\n",
    "from operator import add\n",
    "\n",
    "\n",
    "reduce(add, range(100))"
   ]
  },
  {
   "cell_type": "code",
   "execution_count": 20,
   "id": "ddbd22ad-028a-40b3-a1e7-2f7f3c842c30",
   "metadata": {},
   "outputs": [
    {
     "data": {
      "text/plain": [
       "4950"
      ]
     },
     "execution_count": 20,
     "metadata": {},
     "output_type": "execute_result"
    }
   ],
   "source": [
    "sum(range(100))"
   ]
  },
  {
   "cell_type": "code",
   "execution_count": null,
   "id": "f7c741bd-efa6-4958-a325-654ff827305a",
   "metadata": {},
   "outputs": [],
   "source": []
  }
 ],
 "metadata": {
  "kernelspec": {
   "display_name": "Python 3 (ipykernel)",
   "language": "python",
   "name": "python3"
  },
  "language_info": {
   "codemirror_mode": {
    "name": "ipython",
    "version": 3
   },
   "file_extension": ".py",
   "mimetype": "text/x-python",
   "name": "python",
   "nbconvert_exporter": "python",
   "pygments_lexer": "ipython3",
   "version": "3.12.1"
  }
 },
 "nbformat": 4,
 "nbformat_minor": 5
}
