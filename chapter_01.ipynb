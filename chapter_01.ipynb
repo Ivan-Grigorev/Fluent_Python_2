{
 "cells": [
  {
   "cell_type": "markdown",
   "id": "38960ef0-1789-4ba4-aaa9-253b69998e68",
   "metadata": {},
   "source": [
    "<h1>Chapter 01. The Python Data Model</h1>"
   ]
  },
  {
   "cell_type": "markdown",
   "id": "a2e2daa7-bc87-4c33-9a01-17962f181dc9",
   "metadata": {},
   "source": [
    "<h2>A Pythonic Card Deck</h2>"
   ]
  },
  {
   "cell_type": "markdown",
   "id": "95849758-8fa4-40d5-9d1b-f4c92fdbfd48",
   "metadata": {},
   "source": [
    "A deck as sequence of playing cards"
   ]
  },
  {
   "cell_type": "code",
   "execution_count": 1,
   "id": "f9fb01f0-cc5e-4d42-aefe-cf8b9c4ce14d",
   "metadata": {},
   "outputs": [],
   "source": [
    "from collections import namedtuple\n",
    "\n",
    "\n",
    "Card = namedtuple('Card', ['rank', 'suit'])\n",
    "\n",
    "class FrenchDeck:\n",
    "    ranks = [\n",
    "        str(n) for n in range(2, 11)\n",
    "    ] + list('JQKA')\n",
    "    suits = 'spades diamonds clubs hearts'.split()\n",
    "\n",
    "    def __init__(self):\n",
    "        self._cards = [\n",
    "            Card(rank, suit) for suit in self.suits\n",
    "            for rank in self.ranks\n",
    "        ]\n",
    "\n",
    "    def __len__(self):\n",
    "        return len(self._crads)\n",
    "\n",
    "    def __getitem__(self, position):\n",
    "        return self._cards[position]"
   ]
  },
  {
   "cell_type": "code",
   "execution_count": null,
   "id": "6b907c56-5a77-4705-96ea-172b518ea231",
   "metadata": {},
   "outputs": [],
   "source": []
  }
 ],
 "metadata": {
  "kernelspec": {
   "display_name": "Python 3 (ipykernel)",
   "language": "python",
   "name": "python3"
  },
  "language_info": {
   "codemirror_mode": {
    "name": "ipython",
    "version": 3
   },
   "file_extension": ".py",
   "mimetype": "text/x-python",
   "name": "python",
   "nbconvert_exporter": "python",
   "pygments_lexer": "ipython3",
   "version": "3.11.6"
  }
 },
 "nbformat": 4,
 "nbformat_minor": 5
}
