{
 "cells": [
  {
   "cell_type": "markdown",
   "id": "4bdcfc4b-5a70-4638-b6ec-48af33e31852",
   "metadata": {},
   "source": [
    "<h1>Chapter 06. Object references, modifiability and reuse.</h1>"
   ]
  },
  {
   "cell_type": "markdown",
   "id": "adedadb8-c17e-4942-ae19-dd7c819ac902",
   "metadata": {},
   "source": [
    "<h2>Variables are not boxes</h2>"
   ]
  },
  {
   "cell_type": "markdown",
   "id": "ad204691-8bf6-463e-952d-edd429323ef6",
   "metadata": {},
   "source": [
    "Variables `a` and `b` store references to the same list, not copies of the list"
   ]
  },
  {
   "cell_type": "code",
   "execution_count": 1,
   "id": "5bbacc49-28b7-46dc-b0e9-48b42d9a1113",
   "metadata": {},
   "outputs": [
    {
     "data": {
      "text/plain": [
       "[1, 2, 3, 4]"
      ]
     },
     "execution_count": 1,
     "metadata": {},
     "output_type": "execute_result"
    }
   ],
   "source": [
    "a = [1, 2, 3]\n",
    "b = a\n",
    "\n",
    "b.append(4)\n",
    "b"
   ]
  },
  {
   "cell_type": "markdown",
   "id": "4c58d239-85a1-4c14-9b45-9aa5654d904e",
   "metadata": {},
   "source": [
    "Variables are bounded to objects only after objects are created"
   ]
  },
  {
   "cell_type": "code",
   "execution_count": 2,
   "id": "29ec1043-71e6-45ed-83a6-72621675f483",
   "metadata": {},
   "outputs": [],
   "source": [
    "class Gizmo:\n",
    "    def __init__(self):\n",
    "        print(f\"Gizmo id: {id(self)}\")"
   ]
  },
  {
   "cell_type": "code",
   "execution_count": 3,
   "id": "23071f4d-fb65-4231-b68c-7e4f50390bc2",
   "metadata": {},
   "outputs": [
    {
     "name": "stdout",
     "output_type": "stream",
     "text": [
      "Gizmo id: 4538703296\n"
     ]
    }
   ],
   "source": [
    "x = Gizmo()"
   ]
  },
  {
   "cell_type": "code",
   "execution_count": 4,
   "id": "62b92623-6fa5-4c71-bc3c-b8c18eadff34",
   "metadata": {},
   "outputs": [
    {
     "name": "stdout",
     "output_type": "stream",
     "text": [
      "Gizmo id: 4538702432\n",
      "TypeError(\"unsupported operand type(s) for *: 'Gizmo' and 'int'\")\n"
     ]
    }
   ],
   "source": [
    "try:\n",
    "    y = Gizmo() * 10\n",
    "except TypeError as e:\n",
    "    print(e.__repr__())"
   ]
  },
  {
   "cell_type": "markdown",
   "id": "370db058-a558-487b-9ab8-d5a4be58c549",
   "metadata": {},
   "source": [
    "The second `Gizmo` object was still created before the attempt to perform multiplication. But the `y` varaible was never created because an exeception occured when the right part was being calculated."
   ]
  },
  {
   "cell_type": "markdown",
   "id": "e08bc130-c237-4f51-bdd3-d49434216904",
   "metadata": {},
   "source": [
    "<h2>Identity, Equality and Pseudonyms</h2>"
   ]
  },
  {
   "cell_type": "code",
   "execution_count": 5,
   "id": "8ffedb57-b8ec-4560-92ad-e2a6774542fd",
   "metadata": {},
   "outputs": [],
   "source": [
    "charles = {\n",
    "    'name': 'Charles L. Dodgson',\n",
    "    'born': 1832\n",
    "}"
   ]
  },
  {
   "cell_type": "code",
   "execution_count": 6,
   "id": "4202e487-741a-4a4b-84b8-165272a4b256",
   "metadata": {},
   "outputs": [
    {
     "data": {
      "text/plain": [
       "True"
      ]
     },
     "execution_count": 6,
     "metadata": {},
     "output_type": "execute_result"
    }
   ],
   "source": [
    "lewis = charles\n",
    "\n",
    "lewis is charles"
   ]
  },
  {
   "cell_type": "code",
   "execution_count": 7,
   "id": "4715164b-beed-4c36-b0ae-8a999c016c34",
   "metadata": {},
   "outputs": [
    {
     "data": {
      "text/plain": [
       "(4538736128, 4538736128)"
      ]
     },
     "execution_count": 7,
     "metadata": {},
     "output_type": "execute_result"
    }
   ],
   "source": [
    "id(charles), id(lewis)"
   ]
  },
  {
   "cell_type": "code",
   "execution_count": 8,
   "id": "86ec51f1-86a2-4745-a95f-347eb7a57dac",
   "metadata": {},
   "outputs": [
    {
     "data": {
      "text/plain": [
       "{'name': 'Charles L. Dodgson', 'born': 1832, 'balance': 950}"
      ]
     },
     "execution_count": 8,
     "metadata": {},
     "output_type": "execute_result"
    }
   ],
   "source": [
    "lewis['balance'] = 950\n",
    "charles"
   ]
  },
  {
   "cell_type": "code",
   "execution_count": 9,
   "id": "14281de2-a2c8-4100-b74e-f19c5cfc22e6",
   "metadata": {},
   "outputs": [
    {
     "data": {
      "text/plain": [
       "True"
      ]
     },
     "execution_count": 9,
     "metadata": {},
     "output_type": "execute_result"
    }
   ],
   "source": [
    "alex = {\n",
    "    'name': 'Charles L. Dodgson',\n",
    "    'born': 1832,\n",
    "    'balance': 950\n",
    "}\n",
    "\n",
    "alex == charles"
   ]
  },
  {
   "cell_type": "code",
   "execution_count": 10,
   "id": "1c5f2d9b-e75f-400f-86aa-5b0e964bddb4",
   "metadata": {},
   "outputs": [
    {
     "data": {
      "text/plain": [
       "False"
      ]
     },
     "execution_count": 10,
     "metadata": {},
     "output_type": "execute_result"
    }
   ],
   "source": [
    "alex is charles"
   ]
  },
  {
   "cell_type": "markdown",
   "id": "2722752f-cc5e-4a6d-99bd-45121460f945",
   "metadata": {},
   "source": [
    "<h3>Choice between <code>==</code> and <code>is</code></h3>"
   ]
  },
  {
   "cell_type": "markdown",
   "id": "3e2cbb6f-a1b4-4fc9-8f0a-772003b8f9b2",
   "metadata": {},
   "source": [
    "The `==` operator compares the values of objects (the data stored in them), and the `is` operator compares their identifiers."
   ]
  },
  {
   "cell_type": "markdown",
   "id": "8202f4ec-4f60-4dd6-8c49-f39783a01e14",
   "metadata": {},
   "source": [
    "<h3>Relative immutability of tuples</h3>"
   ]
  },
  {
   "cell_type": "code",
   "execution_count": 11,
   "id": "426694ae-7258-4987-94f8-a7f38dc5488b",
   "metadata": {},
   "outputs": [
    {
     "data": {
      "text/plain": [
       "True"
      ]
     },
     "execution_count": 11,
     "metadata": {},
     "output_type": "execute_result"
    }
   ],
   "source": [
    "t1 = (1, 2, [3, 4])\n",
    "t2 = (1, 2, [3, 4])\n",
    "\n",
    "t1 == t2"
   ]
  },
  {
   "cell_type": "code",
   "execution_count": 12,
   "id": "adebf13b-4c72-4ff7-ad93-98b569ce66c3",
   "metadata": {},
   "outputs": [
    {
     "data": {
      "text/plain": [
       "4538171136"
      ]
     },
     "execution_count": 12,
     "metadata": {},
     "output_type": "execute_result"
    }
   ],
   "source": [
    "id(t1[-1])"
   ]
  },
  {
   "cell_type": "markdown",
   "id": "57a4333f-13e5-47a0-9c85-9703dea42968",
   "metadata": {},
   "source": [
    "t1[-1].append(5)\n",
    "t1"
   ]
  },
  {
   "cell_type": "code",
   "execution_count": 13,
   "id": "4faaef5e-b6f0-45e4-a864-4452fb18a1fe",
   "metadata": {},
   "outputs": [
    {
     "data": {
      "text/plain": [
       "4538171136"
      ]
     },
     "execution_count": 13,
     "metadata": {},
     "output_type": "execute_result"
    }
   ],
   "source": [
    "id(t1[-1])"
   ]
  },
  {
   "cell_type": "code",
   "execution_count": 14,
   "id": "b27bb303-9772-4c66-b3a0-4d9f83bd2e7b",
   "metadata": {},
   "outputs": [
    {
     "data": {
      "text/plain": [
       "True"
      ]
     },
     "execution_count": 14,
     "metadata": {},
     "output_type": "execute_result"
    }
   ],
   "source": [
    "t1 == t2"
   ]
  },
  {
   "cell_type": "markdown",
   "id": "3190c8c9-c82c-47da-900a-a2acaffb0b9b",
   "metadata": {},
   "source": [
    "The object identifier `t1[-1]` has not changed only its value has changed.\n",
    "`t1` and `t2` are now not equal."
   ]
  },
  {
   "cell_type": "markdown",
   "id": "8d28a235-fe1e-4651-8544-6fbfb89c78c5",
   "metadata": {},
   "source": [
    "<h2>By default, copying is superficial</h2>"
   ]
  },
  {
   "cell_type": "code",
   "execution_count": 15,
   "id": "49f2d8be-78e0-4f08-9a3d-861fad116e07",
   "metadata": {},
   "outputs": [],
   "source": [
    "l1 = [3, [55, 44], (7, 8, 9)]"
   ]
  },
  {
   "cell_type": "code",
   "execution_count": 16,
   "id": "688bdefd-883f-4095-b6ad-f99c206c8b85",
   "metadata": {},
   "outputs": [],
   "source": [
    "l2 = list(l1)  # l2 = l1[:]"
   ]
  },
  {
   "cell_type": "code",
   "execution_count": 17,
   "id": "cb8426d5-b10c-4a9d-aa70-94270f69e2e5",
   "metadata": {},
   "outputs": [
    {
     "data": {
      "text/plain": [
       "[3, [55, 44], (7, 8, 9)]"
      ]
     },
     "execution_count": 17,
     "metadata": {},
     "output_type": "execute_result"
    }
   ],
   "source": [
    "l2"
   ]
  },
  {
   "cell_type": "code",
   "execution_count": 18,
   "id": "36503026-a94d-4db5-bc8e-3fb16db548d1",
   "metadata": {},
   "outputs": [
    {
     "data": {
      "text/plain": [
       "True"
      ]
     },
     "execution_count": 18,
     "metadata": {},
     "output_type": "execute_result"
    }
   ],
   "source": [
    "l2 == l1"
   ]
  },
  {
   "cell_type": "code",
   "execution_count": 19,
   "id": "985872ca-5116-47e0-9503-eb2297e84b91",
   "metadata": {},
   "outputs": [
    {
     "data": {
      "text/plain": [
       "False"
      ]
     },
     "execution_count": 19,
     "metadata": {},
     "output_type": "execute_result"
    }
   ],
   "source": [
    "l2 is l1"
   ]
  },
  {
   "cell_type": "markdown",
   "id": "194375ca-5729-4597-bf8e-befd0dbd0b4d",
   "metadata": {},
   "source": [
    "<h3>Deep and superficial copying of objects</h3>"
   ]
  },
  {
   "cell_type": "code",
   "execution_count": 20,
   "id": "29121eba-7da2-4140-854f-601ac0cbf016",
   "metadata": {},
   "outputs": [],
   "source": [
    "class Bus:\n",
    "    def __init__(self, passengers=None):\n",
    "        if passengers is None:\n",
    "            self.passengers = []\n",
    "        else:\n",
    "            self.passengers = list(passengers)\n",
    "\n",
    "    def pick(self, name):\n",
    "        self.passengers.append(name)\n",
    "\n",
    "    def drop(self, name):\n",
    "        self.passengers.remove(name)"
   ]
  },
  {
   "cell_type": "markdown",
   "id": "b9ea6e81-32da-4a3a-867d-3edc3c27f7b6",
   "metadata": {},
   "source": [
    "`copy.copy()` creates a shallow copy of the object, duplicating the object itself but not recursively copying inner objects.\n",
    "`copy.deepcopy()` creates a deep copy of the object, recursively copying all inner objects as well, ensuring changes to the copied object won't affect the original."
   ]
  },
  {
   "cell_type": "code",
   "execution_count": 21,
   "id": "66d6777d-b4ba-45db-bb60-0991a3a8fa6d",
   "metadata": {},
   "outputs": [],
   "source": [
    "import copy\n",
    "\n",
    "\n",
    "bus1 = Bus(['Alice', 'Bill', 'Claire', 'David'])\n",
    "bus2 = copy.copy(bus1)\n",
    "bus3 = copy.deepcopy(bus1)"
   ]
  },
  {
   "cell_type": "code",
   "execution_count": 22,
   "id": "1785e18e-0c94-4795-8dc2-1fae27135c36",
   "metadata": {},
   "outputs": [
    {
     "data": {
      "text/plain": [
       "(4538710160, 4538897840, 4538896640)"
      ]
     },
     "execution_count": 22,
     "metadata": {},
     "output_type": "execute_result"
    }
   ],
   "source": [
    "id(bus1), id(bus2), id(bus3)"
   ]
  },
  {
   "cell_type": "code",
   "execution_count": 23,
   "id": "bd1f2f88-4138-4c3c-847b-44c879eff621",
   "metadata": {},
   "outputs": [
    {
     "data": {
      "text/plain": [
       "(4538870464, 4538870464, 4538536000)"
      ]
     },
     "execution_count": 23,
     "metadata": {},
     "output_type": "execute_result"
    }
   ],
   "source": [
    "id(bus1.passengers), id(bus2.passengers), id(bus3.passengers)"
   ]
  },
  {
   "cell_type": "code",
   "execution_count": 24,
   "id": "2fd65738-56be-43b6-9fd9-9d4556970ecc",
   "metadata": {},
   "outputs": [],
   "source": [
    "bus1.drop('Bill')"
   ]
  },
  {
   "cell_type": "code",
   "execution_count": 25,
   "id": "2642926b-4d12-4b7f-b232-aa4271358260",
   "metadata": {},
   "outputs": [
    {
     "data": {
      "text/plain": [
       "['Alice', 'Claire', 'David']"
      ]
     },
     "execution_count": 25,
     "metadata": {},
     "output_type": "execute_result"
    }
   ],
   "source": [
    "bus2.passengers"
   ]
  },
  {
   "cell_type": "code",
   "execution_count": 26,
   "id": "73c0a049-0f83-42cf-be01-e39e3af302c1",
   "metadata": {},
   "outputs": [
    {
     "data": {
      "text/plain": [
       "['Alice', 'Bill', 'Claire', 'David']"
      ]
     },
     "execution_count": 26,
     "metadata": {},
     "output_type": "execute_result"
    }
   ],
   "source": [
    "bus3.passengers"
   ]
  },
  {
   "cell_type": "code",
   "execution_count": 27,
   "id": "75560ae9-5a40-4ef0-9abb-c9d44dfcf32e",
   "metadata": {},
   "outputs": [],
   "source": [
    "bus2.pick('Julie')"
   ]
  },
  {
   "cell_type": "code",
   "execution_count": 28,
   "id": "abb8d47c-4877-4a5e-af1f-bc110231ad37",
   "metadata": {},
   "outputs": [
    {
     "data": {
      "text/plain": [
       "['Alice', 'Claire', 'David', 'Julie']"
      ]
     },
     "execution_count": 28,
     "metadata": {},
     "output_type": "execute_result"
    }
   ],
   "source": [
    "bus1.passengers"
   ]
  },
  {
   "cell_type": "code",
   "execution_count": 29,
   "id": "9abaefc1-ade3-47e0-8bce-caf9c2146a7a",
   "metadata": {},
   "outputs": [
    {
     "data": {
      "text/plain": [
       "['Alice', 'Bill', 'Claire', 'David']"
      ]
     },
     "execution_count": 29,
     "metadata": {},
     "output_type": "execute_result"
    }
   ],
   "source": [
    "bus3.passengers"
   ]
  },
  {
   "cell_type": "markdown",
   "id": "54f2dbae-7b7c-4716-9d8e-7ce583f73e65",
   "metadata": {},
   "source": [
    "Cyclic references: `b` refers to `a` and then appends to the end of `a`; however `deepcopy` handles the copyinf of `a`"
   ]
  },
  {
   "cell_type": "code",
   "execution_count": 30,
   "id": "d4ee41ce-080a-46e0-9fa4-ef9c0ac21cd8",
   "metadata": {},
   "outputs": [],
   "source": [
    "a = [10, 20]\n",
    "b = [a, 30]"
   ]
  },
  {
   "cell_type": "code",
   "execution_count": 31,
   "id": "df000bd5-cf1c-4042-9d33-33b5aa2dec58",
   "metadata": {},
   "outputs": [
    {
     "data": {
      "text/plain": [
       "[10, 20, [[...], 30]]"
      ]
     },
     "execution_count": 31,
     "metadata": {},
     "output_type": "execute_result"
    }
   ],
   "source": [
    "a.append(b)\n",
    "a"
   ]
  },
  {
   "cell_type": "code",
   "execution_count": 32,
   "id": "c9eed0b7-5cb7-468d-8b7e-1df789c9b1b4",
   "metadata": {},
   "outputs": [
    {
     "data": {
      "text/plain": [
       "[10, 20, [[...], 30]]"
      ]
     },
     "execution_count": 32,
     "metadata": {},
     "output_type": "execute_result"
    }
   ],
   "source": [
    "c = copy.deepcopy(a)\n",
    "c"
   ]
  },
  {
   "cell_type": "code",
   "execution_count": null,
   "id": "c9a17c28-0cec-4f5e-9ef8-0ddabdc81dc5",
   "metadata": {},
   "outputs": [],
   "source": []
  }
 ],
 "metadata": {
  "kernelspec": {
   "display_name": "Python 3 (ipykernel)",
   "language": "python",
   "name": "python3"
  },
  "language_info": {
   "codemirror_mode": {
    "name": "ipython",
    "version": 3
   },
   "file_extension": ".py",
   "mimetype": "text/x-python",
   "name": "python",
   "nbconvert_exporter": "python",
   "pygments_lexer": "ipython3",
   "version": "3.12.1"
  }
 },
 "nbformat": 4,
 "nbformat_minor": 5
}
