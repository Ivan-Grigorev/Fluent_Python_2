{
 "cells": [
  {
   "cell_type": "markdown",
   "id": "4bdcfc4b-5a70-4638-b6ec-48af33e31852",
   "metadata": {},
   "source": [
    "<h1>Chapter 06. Object references, modifiability and reuse.</h1>"
   ]
  },
  {
   "cell_type": "markdown",
   "id": "adedadb8-c17e-4942-ae19-dd7c819ac902",
   "metadata": {},
   "source": [
    "<h2>Variables are not boxes</h2>"
   ]
  },
  {
   "cell_type": "markdown",
   "id": "ad204691-8bf6-463e-952d-edd429323ef6",
   "metadata": {},
   "source": [
    "Variables `a` and `b` store references to the same list, not copies of the list"
   ]
  },
  {
   "cell_type": "code",
   "execution_count": 1,
   "id": "5bbacc49-28b7-46dc-b0e9-48b42d9a1113",
   "metadata": {},
   "outputs": [
    {
     "data": {
      "text/plain": [
       "[1, 2, 3, 4]"
      ]
     },
     "execution_count": 1,
     "metadata": {},
     "output_type": "execute_result"
    }
   ],
   "source": [
    "a = [1, 2, 3]\n",
    "b = a\n",
    "\n",
    "b.append(4)\n",
    "b"
   ]
  },
  {
   "cell_type": "markdown",
   "id": "4c58d239-85a1-4c14-9b45-9aa5654d904e",
   "metadata": {},
   "source": [
    "Variables are bounded to objects only after objects are created"
   ]
  },
  {
   "cell_type": "code",
   "execution_count": 2,
   "id": "29ec1043-71e6-45ed-83a6-72621675f483",
   "metadata": {},
   "outputs": [],
   "source": [
    "class Gizmo:\n",
    "    def __init__(self):\n",
    "        print(f\"Gizmo id: {id(self)}\")"
   ]
  },
  {
   "cell_type": "code",
   "execution_count": 3,
   "id": "23071f4d-fb65-4231-b68c-7e4f50390bc2",
   "metadata": {},
   "outputs": [
    {
     "name": "stdout",
     "output_type": "stream",
     "text": [
      "Gizmo id: 4414464096\n"
     ]
    }
   ],
   "source": [
    "x = Gizmo()"
   ]
  },
  {
   "cell_type": "code",
   "execution_count": 4,
   "id": "62b92623-6fa5-4c71-bc3c-b8c18eadff34",
   "metadata": {},
   "outputs": [
    {
     "name": "stdout",
     "output_type": "stream",
     "text": [
      "Gizmo id: 4414465728\n",
      "TypeError(\"unsupported operand type(s) for *: 'Gizmo' and 'int'\")\n"
     ]
    }
   ],
   "source": [
    "try:\n",
    "    y = Gizmo() * 10\n",
    "except TypeError as e:\n",
    "    print(e.__repr__())"
   ]
  },
  {
   "cell_type": "markdown",
   "id": "370db058-a558-487b-9ab8-d5a4be58c549",
   "metadata": {},
   "source": [
    "The second `Gizmo` object was still created before the attempt to perform multiplication. But the `y` varaible was never created because an exeception occured when the right part was being calculated."
   ]
  },
  {
   "cell_type": "code",
   "execution_count": null,
   "id": "e3eb0781-0fff-42ad-a107-f21422caad47",
   "metadata": {},
   "outputs": [],
   "source": []
  }
 ],
 "metadata": {
  "kernelspec": {
   "display_name": "Python 3 (ipykernel)",
   "language": "python",
   "name": "python3"
  },
  "language_info": {
   "codemirror_mode": {
    "name": "ipython",
    "version": 3
   },
   "file_extension": ".py",
   "mimetype": "text/x-python",
   "name": "python",
   "nbconvert_exporter": "python",
   "pygments_lexer": "ipython3",
   "version": "3.12.1"
  }
 },
 "nbformat": 4,
 "nbformat_minor": 5
}
