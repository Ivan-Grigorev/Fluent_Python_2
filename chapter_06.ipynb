{
 "cells": [
  {
   "cell_type": "markdown",
   "id": "4bdcfc4b-5a70-4638-b6ec-48af33e31852",
   "metadata": {},
   "source": [
    "<h1>Chapter 06. Object references, modifiability and reuse.</h1>"
   ]
  },
  {
   "cell_type": "markdown",
   "id": "adedadb8-c17e-4942-ae19-dd7c819ac902",
   "metadata": {},
   "source": [
    "<h2>Variables are not boxes</h2>"
   ]
  },
  {
   "cell_type": "markdown",
   "id": "ad204691-8bf6-463e-952d-edd429323ef6",
   "metadata": {},
   "source": [
    "Variables `a` and `b` store references to the same list, not copies of the list"
   ]
  },
  {
   "cell_type": "code",
   "execution_count": 1,
   "id": "5bbacc49-28b7-46dc-b0e9-48b42d9a1113",
   "metadata": {},
   "outputs": [
    {
     "data": {
      "text/plain": [
       "[1, 2, 3, 4]"
      ]
     },
     "execution_count": 1,
     "metadata": {},
     "output_type": "execute_result"
    }
   ],
   "source": [
    "a = [1, 2, 3]\n",
    "b = a\n",
    "\n",
    "b.append(4)\n",
    "b"
   ]
  },
  {
   "cell_type": "markdown",
   "id": "4c58d239-85a1-4c14-9b45-9aa5654d904e",
   "metadata": {},
   "source": [
    "Variables are bounded to objects only after objects are created"
   ]
  },
  {
   "cell_type": "code",
   "execution_count": 2,
   "id": "29ec1043-71e6-45ed-83a6-72621675f483",
   "metadata": {},
   "outputs": [],
   "source": [
    "class Gizmo:\n",
    "    def __init__(self):\n",
    "        print(f\"Gizmo id: {id(self)}\")"
   ]
  },
  {
   "cell_type": "code",
   "execution_count": 3,
   "id": "23071f4d-fb65-4231-b68c-7e4f50390bc2",
   "metadata": {},
   "outputs": [
    {
     "name": "stdout",
     "output_type": "stream",
     "text": [
      "Gizmo id: 4454899856\n"
     ]
    }
   ],
   "source": [
    "x = Gizmo()"
   ]
  },
  {
   "cell_type": "code",
   "execution_count": 4,
   "id": "62b92623-6fa5-4c71-bc3c-b8c18eadff34",
   "metadata": {},
   "outputs": [
    {
     "name": "stdout",
     "output_type": "stream",
     "text": [
      "Gizmo id: 4454814576\n",
      "TypeError(\"unsupported operand type(s) for *: 'Gizmo' and 'int'\")\n"
     ]
    }
   ],
   "source": [
    "try:\n",
    "    y = Gizmo() * 10\n",
    "except TypeError as e:\n",
    "    print(e.__repr__())"
   ]
  },
  {
   "cell_type": "markdown",
   "id": "370db058-a558-487b-9ab8-d5a4be58c549",
   "metadata": {},
   "source": [
    "The second `Gizmo` object was still created before the attempt to perform multiplication. But the `y` varaible was never created because an exeception occured when the right part was being calculated."
   ]
  },
  {
   "cell_type": "markdown",
   "id": "e08bc130-c237-4f51-bdd3-d49434216904",
   "metadata": {},
   "source": [
    "<h2>Identity, Equality and Pseudonyms</h2>"
   ]
  },
  {
   "cell_type": "code",
   "execution_count": 5,
   "id": "8ffedb57-b8ec-4560-92ad-e2a6774542fd",
   "metadata": {},
   "outputs": [],
   "source": [
    "charles = {\n",
    "    'name': 'Charles L. Dodgson',\n",
    "    'born': 1832\n",
    "}"
   ]
  },
  {
   "cell_type": "code",
   "execution_count": 6,
   "id": "4202e487-741a-4a4b-84b8-165272a4b256",
   "metadata": {},
   "outputs": [
    {
     "data": {
      "text/plain": [
       "True"
      ]
     },
     "execution_count": 6,
     "metadata": {},
     "output_type": "execute_result"
    }
   ],
   "source": [
    "lewis = charles\n",
    "\n",
    "lewis is charles"
   ]
  },
  {
   "cell_type": "code",
   "execution_count": 7,
   "id": "4715164b-beed-4c36-b0ae-8a999c016c34",
   "metadata": {},
   "outputs": [
    {
     "data": {
      "text/plain": [
       "(4454991936, 4454991936)"
      ]
     },
     "execution_count": 7,
     "metadata": {},
     "output_type": "execute_result"
    }
   ],
   "source": [
    "id(charles), id(lewis)"
   ]
  },
  {
   "cell_type": "code",
   "execution_count": 8,
   "id": "86ec51f1-86a2-4745-a95f-347eb7a57dac",
   "metadata": {},
   "outputs": [
    {
     "data": {
      "text/plain": [
       "{'name': 'Charles L. Dodgson', 'born': 1832, 'balance': 950}"
      ]
     },
     "execution_count": 8,
     "metadata": {},
     "output_type": "execute_result"
    }
   ],
   "source": [
    "lewis['balance'] = 950\n",
    "charles"
   ]
  },
  {
   "cell_type": "code",
   "execution_count": 9,
   "id": "14281de2-a2c8-4100-b74e-f19c5cfc22e6",
   "metadata": {},
   "outputs": [
    {
     "data": {
      "text/plain": [
       "True"
      ]
     },
     "execution_count": 9,
     "metadata": {},
     "output_type": "execute_result"
    }
   ],
   "source": [
    "alex = {\n",
    "    'name': 'Charles L. Dodgson',\n",
    "    'born': 1832,\n",
    "    'balance': 950\n",
    "}\n",
    "\n",
    "alex == charles"
   ]
  },
  {
   "cell_type": "code",
   "execution_count": 10,
   "id": "1c5f2d9b-e75f-400f-86aa-5b0e964bddb4",
   "metadata": {},
   "outputs": [
    {
     "data": {
      "text/plain": [
       "False"
      ]
     },
     "execution_count": 10,
     "metadata": {},
     "output_type": "execute_result"
    }
   ],
   "source": [
    "alex is charles"
   ]
  },
  {
   "cell_type": "markdown",
   "id": "2722752f-cc5e-4a6d-99bd-45121460f945",
   "metadata": {},
   "source": [
    "<h3>Choice between <code>==</code> and <code>is</code></h3>"
   ]
  },
  {
   "cell_type": "markdown",
   "id": "3e2cbb6f-a1b4-4fc9-8f0a-772003b8f9b2",
   "metadata": {},
   "source": [
    "The `==` operator compares the values of objects (the data stored in them), and the `is` operator compares their identifiers."
   ]
  },
  {
   "cell_type": "markdown",
   "id": "8202f4ec-4f60-4dd6-8c49-f39783a01e14",
   "metadata": {},
   "source": [
    "<h3>Relative immutability of tuples</h3>"
   ]
  },
  {
   "cell_type": "code",
   "execution_count": 11,
   "id": "426694ae-7258-4987-94f8-a7f38dc5488b",
   "metadata": {},
   "outputs": [
    {
     "data": {
      "text/plain": [
       "True"
      ]
     },
     "execution_count": 11,
     "metadata": {},
     "output_type": "execute_result"
    }
   ],
   "source": [
    "t1 = (1, 2, [3, 4])\n",
    "t2 = (1, 2, [3, 4])\n",
    "\n",
    "t1 == t2"
   ]
  },
  {
   "cell_type": "code",
   "execution_count": 12,
   "id": "adebf13b-4c72-4ff7-ad93-98b569ce66c3",
   "metadata": {},
   "outputs": [
    {
     "data": {
      "text/plain": [
       "4454996672"
      ]
     },
     "execution_count": 12,
     "metadata": {},
     "output_type": "execute_result"
    }
   ],
   "source": [
    "id(t1[-1])"
   ]
  },
  {
   "cell_type": "code",
   "execution_count": 13,
   "id": "20dade6d-3cbb-462b-93e3-ccf649a3d51f",
   "metadata": {},
   "outputs": [
    {
     "data": {
      "text/plain": [
       "(1, 2, [3, 4, 5])"
      ]
     },
     "execution_count": 13,
     "metadata": {},
     "output_type": "execute_result"
    }
   ],
   "source": [
    "t1[-1].append(5)\n",
    "t1"
   ]
  },
  {
   "cell_type": "code",
   "execution_count": 14,
   "id": "4faaef5e-b6f0-45e4-a864-4452fb18a1fe",
   "metadata": {},
   "outputs": [
    {
     "data": {
      "text/plain": [
       "4454996672"
      ]
     },
     "execution_count": 14,
     "metadata": {},
     "output_type": "execute_result"
    }
   ],
   "source": [
    "id(t1[-1])"
   ]
  },
  {
   "cell_type": "code",
   "execution_count": 15,
   "id": "b27bb303-9772-4c66-b3a0-4d9f83bd2e7b",
   "metadata": {},
   "outputs": [
    {
     "data": {
      "text/plain": [
       "False"
      ]
     },
     "execution_count": 15,
     "metadata": {},
     "output_type": "execute_result"
    }
   ],
   "source": [
    "t1 == t2"
   ]
  },
  {
   "cell_type": "markdown",
   "id": "3190c8c9-c82c-47da-900a-a2acaffb0b9b",
   "metadata": {},
   "source": [
    "The object identifier `t1[-1]` has not changed only its value has changed.\n",
    "`t1` and `t2` are now not equal."
   ]
  },
  {
   "cell_type": "markdown",
   "id": "8d28a235-fe1e-4651-8544-6fbfb89c78c5",
   "metadata": {},
   "source": [
    "<h2>By default, copying is superficial</h2>"
   ]
  },
  {
   "cell_type": "code",
   "execution_count": 16,
   "id": "49f2d8be-78e0-4f08-9a3d-861fad116e07",
   "metadata": {},
   "outputs": [],
   "source": [
    "l1 = [3, [55, 44], (7, 8, 9)]"
   ]
  },
  {
   "cell_type": "code",
   "execution_count": 17,
   "id": "688bdefd-883f-4095-b6ad-f99c206c8b85",
   "metadata": {},
   "outputs": [],
   "source": [
    "l2 = list(l1)  # l2 = l1[:]"
   ]
  },
  {
   "cell_type": "code",
   "execution_count": 18,
   "id": "cb8426d5-b10c-4a9d-aa70-94270f69e2e5",
   "metadata": {},
   "outputs": [
    {
     "data": {
      "text/plain": [
       "[3, [55, 44], (7, 8, 9)]"
      ]
     },
     "execution_count": 18,
     "metadata": {},
     "output_type": "execute_result"
    }
   ],
   "source": [
    "l2"
   ]
  },
  {
   "cell_type": "code",
   "execution_count": 19,
   "id": "36503026-a94d-4db5-bc8e-3fb16db548d1",
   "metadata": {},
   "outputs": [
    {
     "data": {
      "text/plain": [
       "True"
      ]
     },
     "execution_count": 19,
     "metadata": {},
     "output_type": "execute_result"
    }
   ],
   "source": [
    "l2 == l1"
   ]
  },
  {
   "cell_type": "code",
   "execution_count": 20,
   "id": "985872ca-5116-47e0-9503-eb2297e84b91",
   "metadata": {},
   "outputs": [
    {
     "data": {
      "text/plain": [
       "False"
      ]
     },
     "execution_count": 20,
     "metadata": {},
     "output_type": "execute_result"
    }
   ],
   "source": [
    "l2 is l1"
   ]
  },
  {
   "cell_type": "markdown",
   "id": "194375ca-5729-4597-bf8e-befd0dbd0b4d",
   "metadata": {},
   "source": [
    "<h3>Deep and superficial copying of objects</h3>"
   ]
  },
  {
   "cell_type": "code",
   "execution_count": 21,
   "id": "29121eba-7da2-4140-854f-601ac0cbf016",
   "metadata": {},
   "outputs": [],
   "source": [
    "class Bus:\n",
    "    def __init__(self, passengers=None):\n",
    "        if passengers is None:\n",
    "            self.passengers = []\n",
    "        else:\n",
    "            self.passengers = list(passengers)\n",
    "\n",
    "    def pick(self, name):\n",
    "        self.passengers.append(name)\n",
    "\n",
    "    def drop(self, name):\n",
    "        self.passengers.remove(name)"
   ]
  },
  {
   "cell_type": "markdown",
   "id": "b9ea6e81-32da-4a3a-867d-3edc3c27f7b6",
   "metadata": {},
   "source": [
    "`copy.copy()` creates a shallow copy of the object, duplicating the object itself but not recursively copying inner objects.\n",
    "`copy.deepcopy()` creates a deep copy of the object, recursively copying all inner objects as well, ensuring changes to the copied object won't affect the original."
   ]
  },
  {
   "cell_type": "code",
   "execution_count": 22,
   "id": "66d6777d-b4ba-45db-bb60-0991a3a8fa6d",
   "metadata": {},
   "outputs": [],
   "source": [
    "import copy\n",
    "\n",
    "\n",
    "bus1 = Bus(['Alice', 'Bill', 'Claire', 'David'])\n",
    "bus2 = copy.copy(bus1)\n",
    "bus3 = copy.deepcopy(bus1)"
   ]
  },
  {
   "cell_type": "code",
   "execution_count": 23,
   "id": "1785e18e-0c94-4795-8dc2-1fae27135c36",
   "metadata": {},
   "outputs": [
    {
     "data": {
      "text/plain": [
       "(4454901008, 4455042368, 4455049472)"
      ]
     },
     "execution_count": 23,
     "metadata": {},
     "output_type": "execute_result"
    }
   ],
   "source": [
    "id(bus1), id(bus2), id(bus3)"
   ]
  },
  {
   "cell_type": "code",
   "execution_count": 24,
   "id": "bd1f2f88-4138-4c3c-847b-44c879eff621",
   "metadata": {},
   "outputs": [
    {
     "data": {
      "text/plain": [
       "(4455143552, 4455143552, 4454549952)"
      ]
     },
     "execution_count": 24,
     "metadata": {},
     "output_type": "execute_result"
    }
   ],
   "source": [
    "id(bus1.passengers), id(bus2.passengers), id(bus3.passengers)"
   ]
  },
  {
   "cell_type": "code",
   "execution_count": 25,
   "id": "2fd65738-56be-43b6-9fd9-9d4556970ecc",
   "metadata": {},
   "outputs": [],
   "source": [
    "bus1.drop('Bill')"
   ]
  },
  {
   "cell_type": "code",
   "execution_count": 26,
   "id": "2642926b-4d12-4b7f-b232-aa4271358260",
   "metadata": {},
   "outputs": [
    {
     "data": {
      "text/plain": [
       "['Alice', 'Claire', 'David']"
      ]
     },
     "execution_count": 26,
     "metadata": {},
     "output_type": "execute_result"
    }
   ],
   "source": [
    "bus2.passengers"
   ]
  },
  {
   "cell_type": "code",
   "execution_count": 27,
   "id": "73c0a049-0f83-42cf-be01-e39e3af302c1",
   "metadata": {},
   "outputs": [
    {
     "data": {
      "text/plain": [
       "['Alice', 'Bill', 'Claire', 'David']"
      ]
     },
     "execution_count": 27,
     "metadata": {},
     "output_type": "execute_result"
    }
   ],
   "source": [
    "bus3.passengers"
   ]
  },
  {
   "cell_type": "code",
   "execution_count": 28,
   "id": "75560ae9-5a40-4ef0-9abb-c9d44dfcf32e",
   "metadata": {},
   "outputs": [],
   "source": [
    "bus2.pick('Julie')"
   ]
  },
  {
   "cell_type": "code",
   "execution_count": 29,
   "id": "abb8d47c-4877-4a5e-af1f-bc110231ad37",
   "metadata": {},
   "outputs": [
    {
     "data": {
      "text/plain": [
       "['Alice', 'Claire', 'David', 'Julie']"
      ]
     },
     "execution_count": 29,
     "metadata": {},
     "output_type": "execute_result"
    }
   ],
   "source": [
    "bus1.passengers"
   ]
  },
  {
   "cell_type": "code",
   "execution_count": 30,
   "id": "9abaefc1-ade3-47e0-8bce-caf9c2146a7a",
   "metadata": {},
   "outputs": [
    {
     "data": {
      "text/plain": [
       "['Alice', 'Bill', 'Claire', 'David']"
      ]
     },
     "execution_count": 30,
     "metadata": {},
     "output_type": "execute_result"
    }
   ],
   "source": [
    "bus3.passengers"
   ]
  },
  {
   "cell_type": "markdown",
   "id": "dfd26511-58bc-4d16-a86c-27cf97b024c8",
   "metadata": {},
   "source": [
    "Cyclic references: `b` refers to `a` and then appends to the end of `a`; however `deepcopy` handles the copying of `a`"
   ]
  },
  {
   "cell_type": "code",
   "execution_count": 31,
   "id": "d4ee41ce-080a-46e0-9fa4-ef9c0ac21cd8",
   "metadata": {},
   "outputs": [],
   "source": [
    "a = [10, 20]\n",
    "b = [a, 30]"
   ]
  },
  {
   "cell_type": "code",
   "execution_count": 32,
   "id": "df000bd5-cf1c-4042-9d33-33b5aa2dec58",
   "metadata": {},
   "outputs": [
    {
     "data": {
      "text/plain": [
       "[10, 20, [[...], 30]]"
      ]
     },
     "execution_count": 32,
     "metadata": {},
     "output_type": "execute_result"
    }
   ],
   "source": [
    "a.append(b)\n",
    "a"
   ]
  },
  {
   "cell_type": "code",
   "execution_count": 33,
   "id": "c9eed0b7-5cb7-468d-8b7e-1df789c9b1b4",
   "metadata": {},
   "outputs": [
    {
     "data": {
      "text/plain": [
       "[10, 20, [[...], 30]]"
      ]
     },
     "execution_count": 33,
     "metadata": {},
     "output_type": "execute_result"
    }
   ],
   "source": [
    "c = copy.deepcopy(a)\n",
    "c"
   ]
  },
  {
   "cell_type": "markdown",
   "id": "dc05ac5b-6ce6-41b3-b736-a0f8f864b0a2",
   "metadata": {},
   "source": [
    "<h2>Function parameters as references</h2>"
   ]
  },
  {
   "cell_type": "markdown",
   "id": "16679e0e-f697-4342-97d1-db45616ba84c",
   "metadata": {},
   "source": [
    "A function can modify any modifiable object passed to it"
   ]
  },
  {
   "cell_type": "code",
   "execution_count": 34,
   "id": "2b961e84-d427-42be-9e11-9d01efa3ad9b",
   "metadata": {},
   "outputs": [],
   "source": [
    "def f(a, b):\n",
    "    a += b\n",
    "    return a"
   ]
  },
  {
   "cell_type": "code",
   "execution_count": 35,
   "id": "295be97a-8a32-4b5b-aad7-6409505a6fa4",
   "metadata": {},
   "outputs": [
    {
     "data": {
      "text/plain": [
       "3"
      ]
     },
     "execution_count": 35,
     "metadata": {},
     "output_type": "execute_result"
    }
   ],
   "source": [
    "x = 1\n",
    "y = 2\n",
    "\n",
    "f(x, y)"
   ]
  },
  {
   "cell_type": "code",
   "execution_count": 36,
   "id": "f7cf71fc-8d0e-42c5-8dba-3943b889899a",
   "metadata": {},
   "outputs": [
    {
     "data": {
      "text/plain": [
       "(1, 2)"
      ]
     },
     "execution_count": 36,
     "metadata": {},
     "output_type": "execute_result"
    }
   ],
   "source": [
    "x, y  # x has not changed"
   ]
  },
  {
   "cell_type": "code",
   "execution_count": 37,
   "id": "4b1af785-e233-493f-816b-7e3c867e28f7",
   "metadata": {},
   "outputs": [
    {
     "data": {
      "text/plain": [
       "[1, 2, 3, 4]"
      ]
     },
     "execution_count": 37,
     "metadata": {},
     "output_type": "execute_result"
    }
   ],
   "source": [
    "a = [1, 2]\n",
    "b = [3, 4]\n",
    "\n",
    "f(a, b)"
   ]
  },
  {
   "cell_type": "code",
   "execution_count": 38,
   "id": "41abc791-365c-4c39-816f-a5958aae0c16",
   "metadata": {},
   "outputs": [
    {
     "data": {
      "text/plain": [
       "([1, 2, 3, 4], [3, 4])"
      ]
     },
     "execution_count": 38,
     "metadata": {},
     "output_type": "execute_result"
    }
   ],
   "source": [
    "a, b  # list a has changed"
   ]
  },
  {
   "cell_type": "code",
   "execution_count": 39,
   "id": "b07559ae-e7ab-4812-adb9-cab926e7c3df",
   "metadata": {},
   "outputs": [
    {
     "data": {
      "text/plain": [
       "(10, 20, 30, 40)"
      ]
     },
     "execution_count": 39,
     "metadata": {},
     "output_type": "execute_result"
    }
   ],
   "source": [
    "c = (10, 20)\n",
    "d = (30, 40)\n",
    "\n",
    "f(c, d)"
   ]
  },
  {
   "cell_type": "code",
   "execution_count": 40,
   "id": "d72dc61e-165d-4b8c-83bf-f32970a9a1e2",
   "metadata": {},
   "outputs": [
    {
     "data": {
      "text/plain": [
       "((10, 20), (30, 40))"
      ]
     },
     "execution_count": 40,
     "metadata": {},
     "output_type": "execute_result"
    }
   ],
   "source": [
    "c, d  # tuple c has not changed"
   ]
  },
  {
   "cell_type": "markdown",
   "id": "d9d471f0-3605-43c8-b8c1-535a7d2250a4",
   "metadata": {},
   "source": [
    "<h3>Default values of the modifiable type: bad idea</h3>"
   ]
  },
  {
   "cell_type": "markdown",
   "id": "57429149-cff6-4cb3-968c-95234d2cb3f8",
   "metadata": {},
   "source": [
    "A simple class illustrating the dangers of modifiable default values"
   ]
  },
  {
   "cell_type": "code",
   "execution_count": 41,
   "id": "846cbf92-0631-4c08-8ca5-2fa1114bb1ee",
   "metadata": {},
   "outputs": [],
   "source": [
    "class HauntedBus:\n",
    "    def __init__(self, passengers=[]):\n",
    "        self.passengers = passengers\n",
    "\n",
    "    def pick(self, name):\n",
    "        self.passengers.append(name)\n",
    "\n",
    "    def drop(self, name):\n",
    "        self.passengers.remove(name)"
   ]
  },
  {
   "cell_type": "code",
   "execution_count": 42,
   "id": "492a172b-b932-46d2-bce8-626104a5fe1d",
   "metadata": {},
   "outputs": [
    {
     "data": {
      "text/plain": [
       "['Alice', 'Bill']"
      ]
     },
     "execution_count": 42,
     "metadata": {},
     "output_type": "execute_result"
    }
   ],
   "source": [
    "bus1 = HauntedBus(['Alice', 'Bill'])\n",
    "bus1.passengers"
   ]
  },
  {
   "cell_type": "code",
   "execution_count": 43,
   "id": "400089cf-0639-47c6-97c1-9569370546a5",
   "metadata": {},
   "outputs": [
    {
     "data": {
      "text/plain": [
       "['Bill', 'Charlie']"
      ]
     },
     "execution_count": 43,
     "metadata": {},
     "output_type": "execute_result"
    }
   ],
   "source": [
    "bus1.pick('Charlie')\n",
    "bus1.drop('Alice')\n",
    "bus1.passengers"
   ]
  },
  {
   "cell_type": "markdown",
   "id": "8098aaef-2eff-4769-a527-c68260e2ff36",
   "metadata": {},
   "source": [
    "`bus2` is initially empty, so the `self.passengers` attribute is assigned an empty list by default"
   ]
  },
  {
   "cell_type": "code",
   "execution_count": 44,
   "id": "978fabec-903d-45c1-9c07-b8638d0f6e8b",
   "metadata": {},
   "outputs": [
    {
     "data": {
      "text/plain": [
       "['Carrie']"
      ]
     },
     "execution_count": 44,
     "metadata": {},
     "output_type": "execute_result"
    }
   ],
   "source": [
    "bus2 = HauntedBus()\n",
    "bus2.pick('Carrie')\n",
    "bus2.passengers"
   ]
  },
  {
   "cell_type": "markdown",
   "id": "e007904c-cab4-4eff-9ff4-d59fdec56297",
   "metadata": {},
   "source": [
    "The list is already not empty by default "
   ]
  },
  {
   "cell_type": "code",
   "execution_count": 45,
   "id": "541a96cf-23fe-46ec-b783-dd3bb64bb7ab",
   "metadata": {},
   "outputs": [
    {
     "data": {
      "text/plain": [
       "['Carrie']"
      ]
     },
     "execution_count": 45,
     "metadata": {},
     "output_type": "execute_result"
    }
   ],
   "source": [
    "bus3 = HauntedBus()\n",
    "bus3.passengers"
   ]
  },
  {
   "cell_type": "markdown",
   "id": "6912997e-42cd-4c0e-9984-3deed5ff99dc",
   "metadata": {},
   "source": [
    "`Dave` from `bus3` is also in `bus2`"
   ]
  },
  {
   "cell_type": "code",
   "execution_count": 46,
   "id": "60c9d366-6716-475e-afeb-dd19200441f1",
   "metadata": {},
   "outputs": [
    {
     "data": {
      "text/plain": [
       "['Carrie', 'Dave']"
      ]
     },
     "execution_count": 46,
     "metadata": {},
     "output_type": "execute_result"
    }
   ],
   "source": [
    "bus3.pick('Dave')\n",
    "bus2.passengers"
   ]
  },
  {
   "cell_type": "code",
   "execution_count": 47,
   "id": "445a2cb9-fcd7-4bbc-be92-60aa90d4cde0",
   "metadata": {},
   "outputs": [
    {
     "data": {
      "text/plain": [
       "True"
      ]
     },
     "execution_count": 47,
     "metadata": {},
     "output_type": "execute_result"
    }
   ],
   "source": [
    "bus2.passengers is bus3.passengers"
   ]
  },
  {
   "cell_type": "code",
   "execution_count": 48,
   "id": "8f634f41-d702-46aa-a656-1a4afbff0355",
   "metadata": {},
   "outputs": [
    {
     "data": {
      "text/plain": [
       "['Bill', 'Charlie']"
      ]
     },
     "execution_count": 48,
     "metadata": {},
     "output_type": "execute_result"
    }
   ],
   "source": [
    "bus1.passengers"
   ]
  },
  {
   "cell_type": "markdown",
   "id": "0018b723-ae53-4910-af6e-ed14560d295d",
   "metadata": {},
   "source": [
    "The problem is that all `HauntedBus` instances whose constructor has not been explicitly passed a passenger list share the same default list."
   ]
  },
  {
   "cell_type": "markdown",
   "id": "533d8c73-9b5f-41f8-9edc-ea9d080bf1e4",
   "metadata": {},
   "source": [
    "<h3>Safety programming in the presence of changeable parameters</h3>"
   ]
  },
  {
   "cell_type": "code",
   "execution_count": 49,
   "id": "e5dab638-ae92-4042-ad91-8d8adf0fa471",
   "metadata": {},
   "outputs": [],
   "source": [
    "class TwilightBus:\n",
    "    def __init__(self, passengers=None):\n",
    "        if passengers is None:\n",
    "            self.passengers = []\n",
    "        else:\n",
    "            # self.passengers becomes a pseudonym of the passengers parameter,\n",
    "            # wich itself is a pseudonym of the actual argument passed to\n",
    "            # the __init__ method\n",
    "            self.passengers = passengers\n",
    "\n",
    "    def pick(self, name):\n",
    "        self.passengers.append(name)\n",
    "\n",
    "    def drop(self, name):\n",
    "        self.passengers.remove(name)"
   ]
  },
  {
   "cell_type": "code",
   "execution_count": 50,
   "id": "ec62a072-86ef-48be-9c5a-0e55eb03f94f",
   "metadata": {},
   "outputs": [],
   "source": [
    "bascketball_team = ['Sue', 'Tina', 'Maya', 'Diana', 'Pat']"
   ]
  },
  {
   "cell_type": "code",
   "execution_count": 51,
   "id": "3edfee19-d20c-4bda-828c-4e268f3654ed",
   "metadata": {},
   "outputs": [
    {
     "data": {
      "text/plain": [
       "['Sue', 'Maya', 'Diana']"
      ]
     },
     "execution_count": 51,
     "metadata": {},
     "output_type": "execute_result"
    }
   ],
   "source": [
    "bus = TwilightBus(bascketball_team)\n",
    "bus.drop('Tina')\n",
    "bus.drop('Pat')\n",
    "\n",
    "bascketball_team"
   ]
  },
  {
   "cell_type": "markdown",
   "id": "2a8dfb13-dad6-4a00-bc74-5f6615d208a9",
   "metadata": {},
   "source": [
    "The problem is that the `bus` object creates a pseudonym of the list passed to the constructor. But it should store its own list of passengers. To fix the error: in the `__init__` method create the copy of the passengers list or convert it to the list type, if the parameter has a different type, as was done in the example `class Bus`. "
   ]
  },
  {
   "cell_type": "markdown",
   "id": "ef5a9edd-0eb3-42d3-9639-5c898e349866",
   "metadata": {},
   "source": [
    "<h2><code>del</code> and the collection of trash</h2>"
   ]
  },
  {
   "cell_type": "markdown",
   "id": "a4e04642-05c9-499a-8456-cb077f7f5793",
   "metadata": {},
   "source": [
    "`del` used to remove a reference to an object."
   ]
  },
  {
   "cell_type": "code",
   "execution_count": 52,
   "id": "af4eb9b3-2005-455a-8349-e74dcff93f5b",
   "metadata": {},
   "outputs": [],
   "source": [
    "a = [1, 2]\n",
    "b = a\n",
    "\n",
    "del a"
   ]
  },
  {
   "cell_type": "code",
   "execution_count": 53,
   "id": "f35a028d-430a-46b3-833d-c8a816c6b2cd",
   "metadata": {},
   "outputs": [
    {
     "data": {
      "text/plain": [
       "[1, 2]"
      ]
     },
     "execution_count": 53,
     "metadata": {},
     "output_type": "execute_result"
    }
   ],
   "source": [
    "b"
   ]
  },
  {
   "cell_type": "code",
   "execution_count": 54,
   "id": "6f4be669-97c9-4d83-ac2c-aa1423542f3c",
   "metadata": {},
   "outputs": [
    {
     "data": {
      "text/plain": [
       "[3]"
      ]
     },
     "execution_count": 54,
     "metadata": {},
     "output_type": "execute_result"
    }
   ],
   "source": [
    "b = [3]\n",
    "b"
   ]
  },
  {
   "cell_type": "code",
   "execution_count": 55,
   "id": "587634d5-dda4-4cb8-a741-c427c9b1b7e1",
   "metadata": {},
   "outputs": [
    {
     "name": "stdout",
     "output_type": "stream",
     "text": [
      "NameError(\"name 'a' is not defined\")\n"
     ]
    }
   ],
   "source": [
    "try:\n",
    "    print(a)\n",
    "except NameError as e:\n",
    "    print(e.__repr__())"
   ]
  },
  {
   "cell_type": "markdown",
   "id": "101cb7ce-7bbb-45ac-8cda-f00de297ef90",
   "metadata": {},
   "source": [
    "To demonstrate the end of the objext's life, next example uses the `weakref.finalize` function, which register a callback function that is called before the object is destroyed."
   ]
  },
  {
   "cell_type": "code",
   "execution_count": 56,
   "id": "c0af15a3-5b5b-4dcd-8d16-f8e7607d6641",
   "metadata": {},
   "outputs": [],
   "source": [
    "from weakref import finalize\n",
    "\n",
    "\n",
    "s1 = {1, 2, 3}\n",
    "s2 = s1"
   ]
  },
  {
   "cell_type": "code",
   "execution_count": 57,
   "id": "f29e7de3-fe41-449b-af3c-d1a3f7877eee",
   "metadata": {},
   "outputs": [],
   "source": [
    "def bye():\n",
    "    print('The object has been deleted.')"
   ]
  },
  {
   "cell_type": "code",
   "execution_count": 58,
   "id": "eb6f0e91-e29b-4a49-aa5a-ea68c60c77a7",
   "metadata": {},
   "outputs": [
    {
     "data": {
      "text/plain": [
       "True"
      ]
     },
     "execution_count": 58,
     "metadata": {},
     "output_type": "execute_result"
    }
   ],
   "source": [
    "ender = finalize(s1, bye)\n",
    "ender.alive"
   ]
  },
  {
   "cell_type": "code",
   "execution_count": 59,
   "id": "a58e0a17-a9f7-4f9f-9687-242ede329719",
   "metadata": {},
   "outputs": [],
   "source": [
    "del s1  # del does not delete an object, but only a reference to it"
   ]
  },
  {
   "cell_type": "code",
   "execution_count": 60,
   "id": "78998db6-cc63-43c9-8a0d-0026a48528d5",
   "metadata": {},
   "outputs": [
    {
     "data": {
      "text/plain": [
       "True"
      ]
     },
     "execution_count": 60,
     "metadata": {},
     "output_type": "execute_result"
    }
   ],
   "source": [
    "ender.alive"
   ]
  },
  {
   "cell_type": "code",
   "execution_count": 61,
   "id": "1805986e-c40f-40e5-8a09-9b8fd4d9ceaf",
   "metadata": {},
   "outputs": [
    {
     "name": "stdout",
     "output_type": "stream",
     "text": [
      "The element was deleted...\n"
     ]
    }
   ],
   "source": [
    "s2 = 'spam'"
   ]
  },
  {
   "cell_type": "code",
   "execution_count": 62,
   "id": "4433d345-127f-44ad-bbab-a33c769dce16",
   "metadata": {},
   "outputs": [
    {
     "data": {
      "text/plain": [
       "False"
      ]
     },
     "execution_count": 62,
     "metadata": {},
     "output_type": "execute_result"
    }
   ],
   "source": [
    "ender.alive"
   ]
  },
  {
   "cell_type": "code",
   "execution_count": null,
   "id": "7ec7d87c-0af6-4e83-85b3-58fec861bc11",
   "metadata": {},
   "outputs": [],
   "source": []
  }
 ],
 "metadata": {
  "kernelspec": {
   "display_name": "Python 3 (ipykernel)",
   "language": "python",
   "name": "python3"
  },
  "language_info": {
   "codemirror_mode": {
    "name": "ipython",
    "version": 3
   },
   "file_extension": ".py",
   "mimetype": "text/x-python",
   "name": "python",
   "nbconvert_exporter": "python",
   "pygments_lexer": "ipython3",
   "version": "3.12.1"
  }
 },
 "nbformat": 4,
 "nbformat_minor": 5
}
