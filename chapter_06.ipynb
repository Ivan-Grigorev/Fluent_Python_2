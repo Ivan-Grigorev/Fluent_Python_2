{
 "cells": [
  {
   "cell_type": "markdown",
   "id": "4bdcfc4b-5a70-4638-b6ec-48af33e31852",
   "metadata": {},
   "source": [
    "<h1>Chapter 06. Object references, modifiability and reuse.</h1>"
   ]
  },
  {
   "cell_type": "markdown",
   "id": "adedadb8-c17e-4942-ae19-dd7c819ac902",
   "metadata": {},
   "source": [
    "<h2>Variables are not boxes</h2>"
   ]
  },
  {
   "cell_type": "markdown",
   "id": "ad204691-8bf6-463e-952d-edd429323ef6",
   "metadata": {},
   "source": [
    "Variables `a` and `b` store references to the same list, not copies of the list"
   ]
  },
  {
   "cell_type": "code",
   "execution_count": 1,
   "id": "5bbacc49-28b7-46dc-b0e9-48b42d9a1113",
   "metadata": {},
   "outputs": [
    {
     "data": {
      "text/plain": [
       "[1, 2, 3, 4]"
      ]
     },
     "execution_count": 1,
     "metadata": {},
     "output_type": "execute_result"
    }
   ],
   "source": [
    "a = [1, 2, 3]\n",
    "b = a\n",
    "\n",
    "b.append(4)\n",
    "b"
   ]
  },
  {
   "cell_type": "markdown",
   "id": "4c58d239-85a1-4c14-9b45-9aa5654d904e",
   "metadata": {},
   "source": [
    "Variables are bounded to objects only after objects are created"
   ]
  },
  {
   "cell_type": "code",
   "execution_count": 2,
   "id": "29ec1043-71e6-45ed-83a6-72621675f483",
   "metadata": {},
   "outputs": [],
   "source": [
    "class Gizmo:\n",
    "    def __init__(self):\n",
    "        print(f\"Gizmo id: {id(self)}\")"
   ]
  },
  {
   "cell_type": "code",
   "execution_count": 3,
   "id": "23071f4d-fb65-4231-b68c-7e4f50390bc2",
   "metadata": {},
   "outputs": [
    {
     "name": "stdout",
     "output_type": "stream",
     "text": [
      "Gizmo id: 4461978896\n"
     ]
    }
   ],
   "source": [
    "x = Gizmo()"
   ]
  },
  {
   "cell_type": "code",
   "execution_count": 4,
   "id": "62b92623-6fa5-4c71-bc3c-b8c18eadff34",
   "metadata": {},
   "outputs": [
    {
     "name": "stdout",
     "output_type": "stream",
     "text": [
      "Gizmo id: 4457456480\n",
      "TypeError(\"unsupported operand type(s) for *: 'Gizmo' and 'int'\")\n"
     ]
    }
   ],
   "source": [
    "try:\n",
    "    y = Gizmo() * 10\n",
    "except TypeError as e:\n",
    "    print(e.__repr__())"
   ]
  },
  {
   "cell_type": "markdown",
   "id": "370db058-a558-487b-9ab8-d5a4be58c549",
   "metadata": {},
   "source": [
    "The second `Gizmo` object was still created before the attempt to perform multiplication. But the `y` varaible was never created because an exeception occured when the right part was being calculated."
   ]
  },
  {
   "cell_type": "markdown",
   "id": "e08bc130-c237-4f51-bdd3-d49434216904",
   "metadata": {},
   "source": [
    "<h2>Identity, Equality and Pseudonyms</h2>"
   ]
  },
  {
   "cell_type": "code",
   "execution_count": 5,
   "id": "8ffedb57-b8ec-4560-92ad-e2a6774542fd",
   "metadata": {},
   "outputs": [],
   "source": [
    "charles = {\n",
    "    'name': 'Charles L. Dodgson',\n",
    "    'born': 1832\n",
    "}"
   ]
  },
  {
   "cell_type": "code",
   "execution_count": 6,
   "id": "4202e487-741a-4a4b-84b8-165272a4b256",
   "metadata": {},
   "outputs": [
    {
     "data": {
      "text/plain": [
       "True"
      ]
     },
     "execution_count": 6,
     "metadata": {},
     "output_type": "execute_result"
    }
   ],
   "source": [
    "lewis = charles\n",
    "\n",
    "lewis is charles"
   ]
  },
  {
   "cell_type": "code",
   "execution_count": 7,
   "id": "4715164b-beed-4c36-b0ae-8a999c016c34",
   "metadata": {},
   "outputs": [
    {
     "data": {
      "text/plain": [
       "(4461452608, 4461452608)"
      ]
     },
     "execution_count": 7,
     "metadata": {},
     "output_type": "execute_result"
    }
   ],
   "source": [
    "id(charles), id(lewis)"
   ]
  },
  {
   "cell_type": "code",
   "execution_count": 8,
   "id": "86ec51f1-86a2-4745-a95f-347eb7a57dac",
   "metadata": {},
   "outputs": [
    {
     "data": {
      "text/plain": [
       "{'name': 'Charles L. Dodgson', 'born': 1832, 'balance': 950}"
      ]
     },
     "execution_count": 8,
     "metadata": {},
     "output_type": "execute_result"
    }
   ],
   "source": [
    "lewis['balance'] = 950\n",
    "charles"
   ]
  },
  {
   "cell_type": "code",
   "execution_count": 9,
   "id": "14281de2-a2c8-4100-b74e-f19c5cfc22e6",
   "metadata": {},
   "outputs": [
    {
     "data": {
      "text/plain": [
       "True"
      ]
     },
     "execution_count": 9,
     "metadata": {},
     "output_type": "execute_result"
    }
   ],
   "source": [
    "alex = {\n",
    "    'name': 'Charles L. Dodgson',\n",
    "    'born': 1832,\n",
    "    'balance': 950\n",
    "}\n",
    "\n",
    "alex == charles"
   ]
  },
  {
   "cell_type": "code",
   "execution_count": 10,
   "id": "1c5f2d9b-e75f-400f-86aa-5b0e964bddb4",
   "metadata": {},
   "outputs": [
    {
     "data": {
      "text/plain": [
       "False"
      ]
     },
     "execution_count": 10,
     "metadata": {},
     "output_type": "execute_result"
    }
   ],
   "source": [
    "alex is charles"
   ]
  },
  {
   "cell_type": "markdown",
   "id": "2722752f-cc5e-4a6d-99bd-45121460f945",
   "metadata": {},
   "source": [
    "<h3>Choice between <code>==</code> and <code>is</code></h3>"
   ]
  },
  {
   "cell_type": "markdown",
   "id": "3e2cbb6f-a1b4-4fc9-8f0a-772003b8f9b2",
   "metadata": {},
   "source": [
    "The `==` operator compares the values of objects (the data stored in them), and the `is` operator compares their identifiers."
   ]
  },
  {
   "cell_type": "markdown",
   "id": "8202f4ec-4f60-4dd6-8c49-f39783a01e14",
   "metadata": {},
   "source": [
    "<h3>Relative immutability of tuples</h3>"
   ]
  },
  {
   "cell_type": "code",
   "execution_count": 11,
   "id": "426694ae-7258-4987-94f8-a7f38dc5488b",
   "metadata": {},
   "outputs": [
    {
     "data": {
      "text/plain": [
       "True"
      ]
     },
     "execution_count": 11,
     "metadata": {},
     "output_type": "execute_result"
    }
   ],
   "source": [
    "t1 = (1, 2, [3, 4])\n",
    "t2 = (1, 2, [3, 4])\n",
    "\n",
    "t1 == t2"
   ]
  },
  {
   "cell_type": "code",
   "execution_count": 12,
   "id": "adebf13b-4c72-4ff7-ad93-98b569ce66c3",
   "metadata": {},
   "outputs": [
    {
     "data": {
      "text/plain": [
       "4462078144"
      ]
     },
     "execution_count": 12,
     "metadata": {},
     "output_type": "execute_result"
    }
   ],
   "source": [
    "id(t1[-1])"
   ]
  },
  {
   "cell_type": "code",
   "execution_count": 13,
   "id": "c0da4667-6360-4654-8b78-bd8b05859a52",
   "metadata": {},
   "outputs": [
    {
     "data": {
      "text/plain": [
       "(1, 2, [3, 4, 5])"
      ]
     },
     "execution_count": 13,
     "metadata": {},
     "output_type": "execute_result"
    }
   ],
   "source": [
    "t1[-1].append(5)\n",
    "t1"
   ]
  },
  {
   "cell_type": "code",
   "execution_count": 14,
   "id": "4faaef5e-b6f0-45e4-a864-4452fb18a1fe",
   "metadata": {},
   "outputs": [
    {
     "data": {
      "text/plain": [
       "4462078144"
      ]
     },
     "execution_count": 14,
     "metadata": {},
     "output_type": "execute_result"
    }
   ],
   "source": [
    "id(t1[-1])"
   ]
  },
  {
   "cell_type": "code",
   "execution_count": 15,
   "id": "b27bb303-9772-4c66-b3a0-4d9f83bd2e7b",
   "metadata": {},
   "outputs": [
    {
     "data": {
      "text/plain": [
       "False"
      ]
     },
     "execution_count": 15,
     "metadata": {},
     "output_type": "execute_result"
    }
   ],
   "source": [
    "t1 == t2"
   ]
  },
  {
   "cell_type": "markdown",
   "id": "3190c8c9-c82c-47da-900a-a2acaffb0b9b",
   "metadata": {},
   "source": [
    "The object identifier `t1[-1]` has not changed only its value has changed.\n",
    "`t1` and `t2` are now not equal."
   ]
  },
  {
   "cell_type": "code",
   "execution_count": null,
   "id": "274eadbc-969b-410b-9234-4da4067e8079",
   "metadata": {},
   "outputs": [],
   "source": []
  }
 ],
 "metadata": {
  "kernelspec": {
   "display_name": "Python 3 (ipykernel)",
   "language": "python",
   "name": "python3"
  },
  "language_info": {
   "codemirror_mode": {
    "name": "ipython",
    "version": 3
   },
   "file_extension": ".py",
   "mimetype": "text/x-python",
   "name": "python",
   "nbconvert_exporter": "python",
   "pygments_lexer": "ipython3",
   "version": "3.12.1"
  }
 },
 "nbformat": 4,
 "nbformat_minor": 5
}
