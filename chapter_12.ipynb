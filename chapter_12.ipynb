{
 "cells": [
  {
   "cell_type": "markdown",
   "id": "44167f66-230a-4f41-aee1-04086d8d7715",
   "metadata": {},
   "source": [
    "<h1>Chapter 12. Special Methods for Sequences</h1>"
   ]
  },
  {
   "cell_type": "markdown",
   "id": "3e2706cb-c167-4740-acdf-58bdc4bb29e1",
   "metadata": {},
   "source": [
    "<h2><code>Vector</code> Attempt No.1: Compatibility with <code>Vector2d</code></h2>"
   ]
  },
  {
   "cell_type": "markdown",
   "id": "bda9d28a-eaca-4d02-9391-d96c1bab731d",
   "metadata": {},
   "source": [
    "Implementation of the first version of the `Vector` class (based on the code of the `Vector2d` class from chapter 11)."
   ]
  },
  {
   "cell_type": "code",
   "execution_count": 1,
   "id": "365010fb-912d-466b-a3b2-ac7de90af356",
   "metadata": {},
   "outputs": [],
   "source": [
    "import math\n",
    "import reprlib\n",
    "from array import array\n",
    "\n",
    "\n",
    "class Vector:\n",
    "    typecode = 'd'\n",
    "\n",
    "    def __init__(self, components):\n",
    "        self._components = array(self.typecode, components)\n",
    "\n",
    "    def __iter__(self):\n",
    "        return iter(self._components)\n",
    "\n",
    "    def __repr__(self):\n",
    "        # Use reprlib.repr to get a limited length representation\n",
    "        components = reprlib.repr(self._components)\n",
    "        # Remove the prefix \"array('d'\" and closing bracket\n",
    "        components = components[components.find('['): -1]\n",
    "        return f\"Vector({components})\"\n",
    "\n",
    "    def __str__(self):\n",
    "        return str(tuple(self))\n",
    "\n",
    "    def __bytes__(self):\n",
    "        return bytes(ord[self.typecode]) + bytes(self._components)\n",
    "\n",
    "    def __eq__(self, other):\n",
    "        return tuple(self) == tuple(other)\n",
    "\n",
    "    def __abs__(self):\n",
    "        return math.hypot(*self)\n",
    "\n",
    "    def __bool__(self):\n",
    "        return bool(abs(self))\n",
    "\n",
    "    @classmethod\n",
    "    def frombytes(cls, octets):\n",
    "        typecode = chr(octets[0])\n",
    "        memv = memoryview(octets[1:].cast(typecode))\n",
    "        return cls(memv)"
   ]
  },
  {
   "cell_type": "code",
   "execution_count": 2,
   "id": "fe6c137c-2b30-461e-b0a7-eedea256ca60",
   "metadata": {},
   "outputs": [
    {
     "data": {
      "text/plain": [
       "Vector([3.1, 4.2])"
      ]
     },
     "execution_count": 2,
     "metadata": {},
     "output_type": "execute_result"
    }
   ],
   "source": [
    "Vector([3.1, 4.2])"
   ]
  },
  {
   "cell_type": "code",
   "execution_count": 3,
   "id": "557b179f-7376-4c1e-889c-4ec862314738",
   "metadata": {},
   "outputs": [
    {
     "data": {
      "text/plain": [
       "Vector([3.0, 4.0, 5.0])"
      ]
     },
     "execution_count": 3,
     "metadata": {},
     "output_type": "execute_result"
    }
   ],
   "source": [
    "Vector((3, 4, 5))"
   ]
  },
  {
   "cell_type": "code",
   "execution_count": 4,
   "id": "4cba7e00-c568-4234-83bd-4bd0cddb66b3",
   "metadata": {},
   "outputs": [
    {
     "data": {
      "text/plain": [
       "Vector([0.0, 1.0, 2.0, 3.0, 4.0, ...])"
      ]
     },
     "execution_count": 4,
     "metadata": {},
     "output_type": "execute_result"
    }
   ],
   "source": [
    "Vector(range(10))"
   ]
  }
 ],
 "metadata": {
  "kernelspec": {
   "display_name": "Python 3 (ipykernel)",
   "language": "python",
   "name": "python3"
  },
  "language_info": {
   "codemirror_mode": {
    "name": "ipython",
    "version": 3
   },
   "file_extension": ".py",
   "mimetype": "text/x-python",
   "name": "python",
   "nbconvert_exporter": "python",
   "pygments_lexer": "ipython3",
   "version": "3.12.1"
  }
 },
 "nbformat": 4,
 "nbformat_minor": 5
}
