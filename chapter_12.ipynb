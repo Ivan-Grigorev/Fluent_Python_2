{
 "cells": [
  {
   "cell_type": "markdown",
   "id": "44167f66-230a-4f41-aee1-04086d8d7715",
   "metadata": {},
   "source": [
    "<h1>Chapter 12. Special Methods for Sequences</h1>"
   ]
  },
  {
   "cell_type": "markdown",
   "id": "3e2706cb-c167-4740-acdf-58bdc4bb29e1",
   "metadata": {},
   "source": [
    "<h2><code>Vector</code> Attempt No.1: Compatibility with <code>Vector2d</code></h2>"
   ]
  },
  {
   "cell_type": "markdown",
   "id": "bda9d28a-eaca-4d02-9391-d96c1bab731d",
   "metadata": {},
   "source": [
    "Implementation of the first version of the `Vector` class (based on the code of the `Vector2d` class from chapter 11)."
   ]
  },
  {
   "cell_type": "code",
   "execution_count": 1,
   "id": "365010fb-912d-466b-a3b2-ac7de90af356",
   "metadata": {},
   "outputs": [],
   "source": [
    "import math\n",
    "import reprlib\n",
    "from array import array\n",
    "\n",
    "\n",
    "class Vector:\n",
    "    typecode = 'd'\n",
    "\n",
    "    def __init__(self, components):\n",
    "        self._components = array(self.typecode, components)\n",
    "\n",
    "    def __iter__(self):\n",
    "        return iter(self._components)\n",
    "\n",
    "    def __repr__(self):\n",
    "        # Use reprlib.repr to get a limited length representation\n",
    "        components = reprlib.repr(self._components)\n",
    "        # Remove the prefix \"array('d'\" and closing bracket\n",
    "        components = components[components.find('['): -1]\n",
    "        return f\"Vector({components})\"\n",
    "\n",
    "    def __str__(self):\n",
    "        return str(tuple(self))\n",
    "\n",
    "    def __bytes__(self):\n",
    "        return bytes(ord[self.typecode]) + bytes(self._components)\n",
    "\n",
    "    def __eq__(self, other):\n",
    "        return tuple(self) == tuple(other)\n",
    "\n",
    "    def __abs__(self):\n",
    "        return math.hypot(*self)\n",
    "\n",
    "    def __bool__(self):\n",
    "        return bool(abs(self))\n",
    "\n",
    "    @classmethod\n",
    "    def frombytes(cls, octets):\n",
    "        typecode = chr(octets[0])\n",
    "        memv = memoryview(octets[1:].cast(typecode))\n",
    "        return cls(memv)"
   ]
  },
  {
   "cell_type": "code",
   "execution_count": 2,
   "id": "fe6c137c-2b30-461e-b0a7-eedea256ca60",
   "metadata": {},
   "outputs": [
    {
     "data": {
      "text/plain": [
       "Vector([3.1, 4.2])"
      ]
     },
     "execution_count": 2,
     "metadata": {},
     "output_type": "execute_result"
    }
   ],
   "source": [
    "Vector([3.1, 4.2])"
   ]
  },
  {
   "cell_type": "code",
   "execution_count": 3,
   "id": "557b179f-7376-4c1e-889c-4ec862314738",
   "metadata": {},
   "outputs": [
    {
     "data": {
      "text/plain": [
       "Vector([3.0, 4.0, 5.0])"
      ]
     },
     "execution_count": 3,
     "metadata": {},
     "output_type": "execute_result"
    }
   ],
   "source": [
    "Vector((3, 4, 5))"
   ]
  },
  {
   "cell_type": "code",
   "execution_count": 4,
   "id": "4cba7e00-c568-4234-83bd-4bd0cddb66b3",
   "metadata": {},
   "outputs": [
    {
     "data": {
      "text/plain": [
       "Vector([0.0, 1.0, 2.0, 3.0, 4.0, ...])"
      ]
     },
     "execution_count": 4,
     "metadata": {},
     "output_type": "execute_result"
    }
   ],
   "source": [
    "Vector(range(10))"
   ]
  },
  {
   "cell_type": "markdown",
   "id": "75d166b7-c971-470a-b31a-d9f7b519a901",
   "metadata": {},
   "source": [
    "<h2><code>Vector</code> Attempt No.2: Sequence Allowing Slice</h2>"
   ]
  },
  {
   "cell_type": "markdown",
   "id": "724d3b3f-a4da-45fa-90ff-65b42479b9c9",
   "metadata": {},
   "source": [
    "In object-oriented programming, a protocol is an informal interface defined only in documentation and not in code. For example, the sequence protocol in Python implies only the `__len__` and `__getitem__` methods.<br>\n",
    "Implementation of the sequence protocol in the `Vector` class."
   ]
  },
  {
   "cell_type": "code",
   "execution_count": 5,
   "id": "6037a137-2b52-4663-88f4-ce114b0751fd",
   "metadata": {},
   "outputs": [],
   "source": [
    "import math\n",
    "import reprlib\n",
    "from array import array\n",
    "\n",
    "\n",
    "class Vector:\n",
    "    typecode = 'd'\n",
    "\n",
    "    def __init__(self, components):\n",
    "        self._components = array(self.typecode, components)\n",
    "\n",
    "    def __iter__(self):\n",
    "        return iter(self._components)\n",
    "\n",
    "    def __repr__(self):\n",
    "        components = reprlib.repr(self._components)\n",
    "        components = components[components.find('['): -1]\n",
    "        return f\"Vector({components})\"\n",
    "\n",
    "    def __str__(self):\n",
    "        return str(tuple(self))\n",
    "\n",
    "    def __bytes__(self):\n",
    "        return bytes(ord[self.typecode]) + bytes(self._components)\n",
    "\n",
    "    def __eq__(self, other):\n",
    "        return tuple(self) == tuple(other)\n",
    "\n",
    "    def __abs__(self):\n",
    "        return math.hypot(*self)\n",
    "\n",
    "    def __bool__(self):\n",
    "        return bool(abs(self))\n",
    "\n",
    "    def __len__(self):\n",
    "        return len(self._components)\n",
    "\n",
    "    def __getitem__(self, index):\n",
    "        return self._components[index]\n",
    "\n",
    "    @classmethod\n",
    "    def frombytes(cls, octets):\n",
    "        typecode = chr(octets[0])\n",
    "        memv = memoryview(octets[1:].cast(typecode))\n",
    "        return cls(memv)"
   ]
  },
  {
   "cell_type": "code",
   "execution_count": 6,
   "id": "3a3115d2-fa12-457b-94df-06dd6a99f649",
   "metadata": {},
   "outputs": [
    {
     "data": {
      "text/plain": [
       "3"
      ]
     },
     "execution_count": 6,
     "metadata": {},
     "output_type": "execute_result"
    }
   ],
   "source": [
    "v1 = Vector([3, 4, 5])\n",
    "len(v1)"
   ]
  },
  {
   "cell_type": "code",
   "execution_count": 7,
   "id": "42d5b76c-1c23-4486-81b6-faf6bed8b467",
   "metadata": {},
   "outputs": [
    {
     "data": {
      "text/plain": [
       "3.0"
      ]
     },
     "execution_count": 7,
     "metadata": {},
     "output_type": "execute_result"
    }
   ],
   "source": [
    "v1[0]"
   ]
  },
  {
   "cell_type": "code",
   "execution_count": 8,
   "id": "5580dbb7-ea20-4f3e-8cde-f63e121bcca2",
   "metadata": {},
   "outputs": [
    {
     "data": {
      "text/plain": [
       "array('d', [1.0, 2.0, 3.0])"
      ]
     },
     "execution_count": 8,
     "metadata": {},
     "output_type": "execute_result"
    }
   ],
   "source": [
    "v7 = Vector(range(7))\n",
    "v7[1:4]"
   ]
  },
  {
   "cell_type": "markdown",
   "id": "f78063d2-0b72-4ea5-ab14-fb1fae5951b2",
   "metadata": {},
   "source": [
    "<h3>Method <code>__getitem__</code> with Consideration of Slices</h3>"
   ]
  },
  {
   "cell_type": "code",
   "execution_count": 9,
   "id": "5bc84d21-98fe-4e25-a2d9-a3794c42920e",
   "metadata": {},
   "outputs": [],
   "source": [
    "import math\n",
    "import operator\n",
    "import reprlib\n",
    "from array import array\n",
    "\n",
    "\n",
    "class Vector:\n",
    "    typecode = 'd'\n",
    "\n",
    "    def __init__(self, components):\n",
    "        self._components = array(self.typecode, components)\n",
    "\n",
    "    def __iter__(self):\n",
    "        return iter(self._components)\n",
    "\n",
    "    def __repr__(self):\n",
    "        components = reprlib.repr(self._components)\n",
    "        components = components[components.find('['): -1]\n",
    "        return f\"Vector({components})\"\n",
    "\n",
    "    def __str__(self):\n",
    "        return str(tuple(self))\n",
    "\n",
    "    def __bytes__(self):\n",
    "        return bytes(ord[self.typecode]) + bytes(self._components)\n",
    "\n",
    "    def __eq__(self, other):\n",
    "        return tuple(self) == tuple(other)\n",
    "\n",
    "    def __abs__(self):\n",
    "        return math.hypot(*self)\n",
    "\n",
    "    def __bool__(self):\n",
    "        return bool(abs(self))\n",
    "\n",
    "    def __len__(self):\n",
    "        return len(self._components)\n",
    "\n",
    "    def __getitem__(self, key):\n",
    "        if isinstance(key, slice):\n",
    "            # Get an instance class and call the class to build\n",
    "            # a new Vector instance by array slice\n",
    "            cls = type(self)\n",
    "            return cls(self._components[key])\n",
    "        # Get index by key and return one specific item from _components\n",
    "        index = operator.index(key)\n",
    "        return self._components[index]\n",
    "\n",
    "    @classmethod\n",
    "    def frombytes(cls, octets):\n",
    "        typecode = chr(octets[0])\n",
    "        memv = memoryview(octets[1:].cast(typecode))\n",
    "        return cls(memv)"
   ]
  },
  {
   "cell_type": "code",
   "execution_count": 10,
   "id": "110ac07b-303c-48f7-b8c2-3f41a609e8a3",
   "metadata": {},
   "outputs": [
    {
     "data": {
      "text/plain": [
       "6.0"
      ]
     },
     "execution_count": 10,
     "metadata": {},
     "output_type": "execute_result"
    }
   ],
   "source": [
    "v7 = Vector(range(7))\n",
    "v7[-1]"
   ]
  },
  {
   "cell_type": "code",
   "execution_count": 11,
   "id": "546a0cf5-98c6-426e-aebf-3c8978774944",
   "metadata": {},
   "outputs": [
    {
     "data": {
      "text/plain": [
       "Vector([1.0, 2.0, 3.0])"
      ]
     },
     "execution_count": 11,
     "metadata": {},
     "output_type": "execute_result"
    }
   ],
   "source": [
    "v7[1:4]"
   ]
  },
  {
   "cell_type": "code",
   "execution_count": 12,
   "id": "54bca71e-1df7-478e-ac25-941b0cb6d6de",
   "metadata": {},
   "outputs": [
    {
     "data": {
      "text/plain": [
       "Vector([6.0])"
      ]
     },
     "execution_count": 12,
     "metadata": {},
     "output_type": "execute_result"
    }
   ],
   "source": [
    "v7[-1:]"
   ]
  },
  {
   "cell_type": "markdown",
   "id": "84d11ebe-3bba-4db3-9823-a08045580e24",
   "metadata": {},
   "source": [
    "<h2><code>Vector</code> Attempt No.3: Access to Dynamic Attributes</h2>"
   ]
  },
  {
   "cell_type": "code",
   "execution_count": 13,
   "id": "4c205d6d-7e48-4be8-afc2-167106e7f8f5",
   "metadata": {},
   "outputs": [],
   "source": [
    "import math\n",
    "import operator\n",
    "import reprlib\n",
    "from array import array\n",
    "\n",
    "\n",
    "class Vector:\n",
    "    # Initialize __match_args__ so that pattern matching can be applied\n",
    "    # to dynamic attributes supported by __getattr__\n",
    "    __match_args__ = ('x', 'y', 'z', 't')\n",
    "\n",
    "    typecode = 'd'\n",
    "\n",
    "    def __init__(self, components):\n",
    "        self._components = array(self.typecode, components)\n",
    "\n",
    "    def __iter__(self):\n",
    "        return iter(self._components)\n",
    "\n",
    "    def __repr__(self):\n",
    "        components = reprlib.repr(self._components)\n",
    "        components = components[components.find('['): -1]\n",
    "        return f\"Vector({components})\"\n",
    "\n",
    "    def __str__(self):\n",
    "        return str(tuple(self))\n",
    "\n",
    "    def __bytes__(self):\n",
    "        return bytes(ord[self.typecode]) + bytes(self._components)\n",
    "\n",
    "    def __eq__(self, other):\n",
    "        return tuple(self) == tuple(other)\n",
    "\n",
    "    def __abs__(self):\n",
    "        return math.hypot(*self)\n",
    "\n",
    "    def __bool__(self):\n",
    "        return bool(abs(self))\n",
    "\n",
    "    def __len__(self):\n",
    "        return len(self._components)\n",
    "\n",
    "    def __getitem__(self, key):\n",
    "        if isinstance(key, slice):\n",
    "            cls = type(self)\n",
    "            return cls(self._components[key])\n",
    "        index = operator.index(key)\n",
    "        return self._components[index]\n",
    "\n",
    "    def __getattr__(self, name):\n",
    "        cls = type(self)\n",
    "        try:\n",
    "            # Try to get the position of name in __match_args__\n",
    "            pos = cls.__match_args__.index(name)\n",
    "        except ValueError:\n",
    "            pos = -1\n",
    "        # If pos does not extend beyond the tuple\n",
    "        # return the corresponding element\n",
    "        if 0 <= pos < len(self._components):\n",
    "            return self._components[pos]\n",
    "        raise AttributeError(f\"{cls.__name__!r} object has no attribute {name}\")\n",
    "\n",
    "    @classmethod\n",
    "    def frombytes(cls, octets):\n",
    "        typecode = chr(octets[0])\n",
    "        memv = memoryview(octets[1:].cast(typecode))\n",
    "        return cls(memv)"
   ]
  },
  {
   "cell_type": "code",
   "execution_count": 14,
   "id": "e536b07c-661f-4da4-96eb-9232e24b9cab",
   "metadata": {},
   "outputs": [
    {
     "data": {
      "text/plain": [
       "Vector([0.0, 1.0, 2.0, 3.0, 4.0])"
      ]
     },
     "execution_count": 14,
     "metadata": {},
     "output_type": "execute_result"
    }
   ],
   "source": [
    "v = Vector(range(5))\n",
    "v"
   ]
  },
  {
   "cell_type": "markdown",
   "id": "65664785-57b9-4f09-8758-3a0c3ee519fa",
   "metadata": {},
   "source": [
    "Access to element `x[0]` by name `v.x`"
   ]
  },
  {
   "cell_type": "code",
   "execution_count": 15,
   "id": "7dabb690-78ed-4ef9-9843-00dbc622a2c5",
   "metadata": {},
   "outputs": [
    {
     "data": {
      "text/plain": [
       "0.0"
      ]
     },
     "execution_count": 15,
     "metadata": {},
     "output_type": "execute_result"
    }
   ],
   "source": [
    "v.x"
   ]
  },
  {
   "cell_type": "markdown",
   "id": "0237e8e0-ebcb-4be4-a42b-ddbdfee87595",
   "metadata": {},
   "source": [
    "Assign a new value to `v.x` this should raise an exeption."
   ]
  },
  {
   "cell_type": "code",
   "execution_count": 16,
   "id": "9b1083f0-eadb-4996-b3ca-2087ddfd7e54",
   "metadata": {},
   "outputs": [
    {
     "data": {
      "text/plain": [
       "10"
      ]
     },
     "execution_count": 16,
     "metadata": {},
     "output_type": "execute_result"
    }
   ],
   "source": [
    "v.x = 10\n",
    "v.x"
   ]
  },
  {
   "cell_type": "code",
   "execution_count": 17,
   "id": "3f47694d-d1cd-41db-87a3-e3361a09992b",
   "metadata": {},
   "outputs": [
    {
     "data": {
      "text/plain": [
       "Vector([0.0, 1.0, 2.0, 3.0, 4.0])"
      ]
     },
     "execution_count": 17,
     "metadata": {},
     "output_type": "execute_result"
    }
   ],
   "source": [
    "v"
   ]
  },
  {
   "cell_type": "markdown",
   "id": "f674fa9b-17a1-42db-8bf1-44450b49216f",
   "metadata": {},
   "source": [
    "To avoid a mismatch, change the logic of setting attributes in the `Vector` class.<br>\n",
    "Implementation of the `__setattr__` method."
   ]
  },
  {
   "cell_type": "code",
   "execution_count": 18,
   "id": "3b8aed04-1ce4-401b-8665-cc2751a17832",
   "metadata": {},
   "outputs": [],
   "source": [
    "import math\n",
    "import operator\n",
    "import reprlib\n",
    "from array import array\n",
    "\n",
    "\n",
    "class Vector:\n",
    "    __match_args__ = ('x', 'y', 'z', 't')\n",
    "\n",
    "    typecode = 'd'\n",
    "\n",
    "    def __init__(self, components):\n",
    "        self._components = array(self.typecode, components)\n",
    "\n",
    "    def __iter__(self):\n",
    "        return iter(self._components)\n",
    "\n",
    "    def __repr__(self):\n",
    "        components = reprlib.repr(self._components)\n",
    "        components = components[components.find('['): -1]\n",
    "        return f\"Vector({components})\"\n",
    "\n",
    "    def __str__(self):\n",
    "        return str(tuple(self))\n",
    "\n",
    "    def __bytes__(self):\n",
    "        return bytes(ord[self.typecode]) + bytes(self._components)\n",
    "\n",
    "    def __eq__(self, other):\n",
    "        return tuple(self) == tuple(other)\n",
    "\n",
    "    def __abs__(self):\n",
    "        return math.hypot(*self)\n",
    "\n",
    "    def __bool__(self):\n",
    "        return bool(abs(self))\n",
    "\n",
    "    def __len__(self):\n",
    "        return len(self._components)\n",
    "\n",
    "    def __getitem__(self, key):\n",
    "        if isinstance(key, slice):\n",
    "            cls = type(self)\n",
    "            return cls(self._components[key])\n",
    "        index = operator.index(key)\n",
    "        return self._components[index]\n",
    "\n",
    "    def __getattr__(self, name):\n",
    "        cls = type(self)\n",
    "        try:\n",
    "            pos = cls.__match_args__.index(name)\n",
    "        except ValueError:\n",
    "            pos = -1\n",
    "        if 0 <= pos < len(self._components):\n",
    "            return self._components[pos]\n",
    "        raise AttributeError(f\"{cls.__name__!r} object has no attribute {name}\")\n",
    "\n",
    "    def __setattr__(self, name, value):\n",
    "        cls = type(self)\n",
    "        # Special handling of single-character attribute names\n",
    "        if len(name) == 1:\n",
    "            if name in cls.__match_args__:\n",
    "                error = \"readonly attribute {attr_name!r}\"\n",
    "            elif name.islower():\n",
    "                error = \"can't set attributes from 'a' to 'z' in {cls_name!r}\"\n",
    "            else:\n",
    "                error = ''  # leave the error message empty\n",
    "            if error:\n",
    "                raise AttributeError(\n",
    "                    error.format(cls_name=cls.__name__, attr_name=name)\n",
    "                )\n",
    "        # Default: call the __setattr__ method of the superclass\n",
    "        # to get the standard behavior\n",
    "        super().__setattr__(name, value)\n",
    "\n",
    "    @classmethod\n",
    "    def frombytes(cls, octets):\n",
    "        typecode = chr(octets[0])\n",
    "        memv = memoryview(octets[1:].cast(typecode))\n",
    "        return cls(memv)"
   ]
  },
  {
   "cell_type": "code",
   "execution_count": 19,
   "id": "ceac2d80-14df-4566-bc9e-4ec8b90caca9",
   "metadata": {},
   "outputs": [
    {
     "data": {
      "text/plain": [
       "Vector([0.0, 1.0, 2.0, 3.0, 4.0])"
      ]
     },
     "execution_count": 19,
     "metadata": {},
     "output_type": "execute_result"
    }
   ],
   "source": [
    "v = Vector(range(5))\n",
    "v"
   ]
  },
  {
   "cell_type": "code",
   "execution_count": 20,
   "id": "611df6f5-e19e-4588-bf68-8ca576fc6d54",
   "metadata": {},
   "outputs": [
    {
     "name": "stdout",
     "output_type": "stream",
     "text": [
      "AttributeError(\"readonly attribute 'x'\")\n"
     ]
    }
   ],
   "source": [
    "try:\n",
    "    v.x = 10\n",
    "except AttributeError as e:\n",
    "    print(e.__repr__())"
   ]
  },
  {
   "cell_type": "code",
   "execution_count": 21,
   "id": "4f0f4210-5b08-4add-92bb-14abc708d161",
   "metadata": {},
   "outputs": [
    {
     "name": "stdout",
     "output_type": "stream",
     "text": [
      "AttributeError(\"can't set attributes from 'a' to 'z' in 'Vector'\")\n"
     ]
    }
   ],
   "source": [
    "try:\n",
    "    v.w = 7\n",
    "except AttributeError as e:\n",
    "    print(e.__repr__())"
   ]
  },
  {
   "cell_type": "markdown",
   "id": "6bdf497c-5c17-497d-b7ee-de8e9e1058cd",
   "metadata": {},
   "source": [
    "<h2><code>Vector</code> Attempt No.4: Hashing and Accelerating the Operator <code>==</code></h2>"
   ]
  },
  {
   "cell_type": "code",
   "execution_count": 22,
   "id": "60765705-9ad4-423c-8d7d-32ffcc6f336a",
   "metadata": {},
   "outputs": [],
   "source": [
    "import functools\n",
    "import math\n",
    "import operator\n",
    "import reprlib\n",
    "from array import array\n",
    "\n",
    "\n",
    "class Vector:\n",
    "    __match_args__ = ('x', 'y', 'z', 't')\n",
    "\n",
    "    typecode = 'd'\n",
    "\n",
    "    def __init__(self, components):\n",
    "        self._components = array(self.typecode, components)\n",
    "\n",
    "    def __iter__(self):\n",
    "        return iter(self._components)\n",
    "\n",
    "    def __repr__(self):\n",
    "        components = reprlib.repr(self._components)\n",
    "        components = components[components.find('['): -1]\n",
    "        return f\"Vector({components})\"\n",
    "\n",
    "    def __str__(self):\n",
    "        return str(tuple(self))\n",
    "\n",
    "    def __bytes__(self):\n",
    "        return bytes(ord[self.typecode]) + bytes(self._components)\n",
    "\n",
    "    def __eq__(self, other):\n",
    "        \"\"\"\n",
    "        Checks if two objects are equal by comparing lengths and elements.\n",
    "\n",
    "        If the lengths of `self` and `other` are not equal, returns `False`.\n",
    "        If the lengths are equal, compares corresponding elements using `zip` and\n",
    "        returns `False` if any pair of elements differ.\n",
    "        Returns `True` if all pairs match.\n",
    "        \"\"\"\n",
    "\n",
    "        return len(self) == len(other) and all(a == b for a, b in zip(self, other))\n",
    "\n",
    "    def __hash__(self):\n",
    "        # Create a genrating expression for delayed calculation\n",
    "        # of the hash of each component\n",
    "        hashes = (hash(x) for x in self._components)\n",
    "        # Combine hash values using `operator.xor` (^) operator\n",
    "        return functools.reduce(operator.xor, hashes, 0)  # initial value is 0\n",
    "\n",
    "    def __abs__(self):\n",
    "        return math.hypot(*self)\n",
    "\n",
    "    def __bool__(self):\n",
    "        return bool(abs(self))\n",
    "\n",
    "    def __len__(self):\n",
    "        return len(self._components)\n",
    "\n",
    "    def __getitem__(self, key):\n",
    "        if isinstance(key, slice):\n",
    "            cls = type(self)\n",
    "            return cls(self._components[key])\n",
    "        index = operator.index(key)\n",
    "        return self._components[index]\n",
    "\n",
    "    def __getattr__(self, name):\n",
    "        cls = type(self)\n",
    "        try:\n",
    "            pos = cls.__match_args__.index(name)\n",
    "        except ValueError:\n",
    "            pos = -1\n",
    "        if 0 <= pos < len(self._components):\n",
    "            return self._components[pos]\n",
    "        raise AttributeError(f\"{cls.__name__!r} object has no attribute {name}\")\n",
    "\n",
    "    def __setattr__(self, name, value):\n",
    "        cls = type(self)\n",
    "        if len(name) == 1:\n",
    "            if name in cls.__match_args__:\n",
    "                error = \"readonly attribute {attr_name!r}\"\n",
    "            elif name.islower():\n",
    "                error = \"can't set attributes from 'a' to 'z' in {cls_name!r}\"\n",
    "            else:\n",
    "                error = ''  # leave the error message empty\n",
    "            if error:\n",
    "                raise AttributeError(\n",
    "                    error.format(cls_name=cls.__name__, attr_name=name)\n",
    "                )\n",
    "        super().__setattr__(name, value)\n",
    "\n",
    "    @classmethod\n",
    "    def frombytes(cls, octets):\n",
    "        typecode = chr(octets[0])\n",
    "        memv = memoryview(octets[1:].cast(typecode))\n",
    "        return cls(memv)"
   ]
  },
  {
   "cell_type": "code",
   "execution_count": 23,
   "id": "9ee509d0-54b7-485c-8ff8-f085d179a4cf",
   "metadata": {},
   "outputs": [],
   "source": [
    "v1 = Vector([3, 4])\n",
    "v2 = Vector([3.1, 4.2])\n",
    "v3 = Vector([3, 4, 5])\n",
    "v6 = Vector(range(6))"
   ]
  },
  {
   "cell_type": "code",
   "execution_count": 24,
   "id": "0e5b0c01-3612-4345-bb8d-8030e95e6ffe",
   "metadata": {},
   "outputs": [
    {
     "data": {
      "text/plain": [
       "(7, 384307168202284039, 2, 1)"
      ]
     },
     "execution_count": 24,
     "metadata": {},
     "output_type": "execute_result"
    }
   ],
   "source": [
    "hash(v1), hash(v2), hash(v3), hash(v6)"
   ]
  },
  {
   "cell_type": "markdown",
   "id": "618de2f9-57bb-48dc-b0ef-320bbdb74ca6",
   "metadata": {},
   "source": [
    "<h2><code>Vector</code> Attempt No.5: Formatting</h2>"
   ]
  },
  {
   "cell_type": "code",
   "execution_count": 25,
   "id": "ed2e93df-7bdf-4af1-9e0f-007ce0cad5d3",
   "metadata": {},
   "outputs": [],
   "source": [
    "import functools\n",
    "import itertools\n",
    "import math\n",
    "import operator\n",
    "import reprlib\n",
    "from array import array\n",
    "\n",
    "\n",
    "class Vector:\n",
    "    __match_args__ = ('x', 'y', 'z', 't')\n",
    "\n",
    "    typecode = 'd'\n",
    "\n",
    "    def __init__(self, components):\n",
    "        self._components = array(self.typecode, components)\n",
    "\n",
    "    def __iter__(self):\n",
    "        return iter(self._components)\n",
    "\n",
    "    def __repr__(self):\n",
    "        components = reprlib.repr(self._components)\n",
    "        components = components[components.find('['): -1]\n",
    "        return f\"Vector({components})\"\n",
    "\n",
    "    def __str__(self):\n",
    "        return str(tuple(self))\n",
    "\n",
    "    def __bytes__(self):\n",
    "        return bytes(ord[self.typecode]) + bytes(self._components)\n",
    "\n",
    "    def __eq__(self, other):\n",
    "        return len(self) == len(other) and all(a == b for a, b in zip(self, other))\n",
    "\n",
    "    def __hash__(self):\n",
    "        hashes = (hash(x) for x in self._components)\n",
    "        return functools.reduce(operator.xor, hashes, 0)\n",
    "\n",
    "    def __abs__(self):\n",
    "        return math.hypot(*self)\n",
    "\n",
    "    def __bool__(self):\n",
    "        return bool(abs(self))\n",
    "\n",
    "    def __len__(self):\n",
    "        return len(self._components)\n",
    "\n",
    "    def __getitem__(self, key):\n",
    "        if isinstance(key, slice):\n",
    "            cls = type(self)\n",
    "            return cls(self._components[key])\n",
    "        index = operator.index(key)\n",
    "        return self._components[index]\n",
    "\n",
    "    def __getattr__(self, name):\n",
    "        cls = type(self)\n",
    "        try:\n",
    "            pos = cls.__match_args__.index(name)\n",
    "        except ValueError:\n",
    "            pos = -1\n",
    "        if 0 <= pos < len(self._components):\n",
    "            return self._components[pos]\n",
    "        raise AttributeError(f\"{cls.__name__!r} object has no attribute {name}\")\n",
    "\n",
    "    def __setattr__(self, name, value):\n",
    "        cls = type(self)\n",
    "        if len(name) == 1:\n",
    "            if name in cls.__match_args__:\n",
    "                error = \"readonly attribute {attr_name!r}\"\n",
    "            elif name.islower():\n",
    "                error = \"can't set attributes from 'a' to 'z' in {cls_name!r}\"\n",
    "            else:\n",
    "                error = ''  # leave the error message empty\n",
    "            if error:\n",
    "                raise AttributeError(\n",
    "                    error.format(cls_name=cls.__name__, attr_name=name)\n",
    "                )\n",
    "        super().__setattr__(name, value)\n",
    "\n",
    "    def angle(self, n):\n",
    "        \"\"\"\n",
    "        Calculate one of the angular coordinates.\n",
    "        \"\"\"\n",
    "        r = math.hypot(*self[n:])\n",
    "        a = math.atan2(r, self[n - 1])\n",
    "        if (n == len(self) - 1) and (self[-1] < 0):\n",
    "            return math.pi * 2 - a\n",
    "        else:\n",
    "            return a\n",
    "\n",
    "    def angles(self):\n",
    "        \"\"\"\n",
    "        Create a generating expression to calculate all angular coordinates on demand.\n",
    "        \"\"\"\n",
    "        return (self.angle(n) for n in range(1, len(self)))\n",
    "\n",
    "    def __format__(self, fmt_spec=''):\n",
    "        if fmt_spec.endswith('h'):  # hyperspherical coordinates\n",
    "            fmt_spec = fmt_spec[:-1]\n",
    "            # Use itertools.chain to generate a generating expression\n",
    "            # that tries the modulus and angular coordinates of a vector\n",
    "            coords = itertools.chain([abs(self)], self.angles())\n",
    "            # Configure display of spherical coordinates in angle brackets\n",
    "            outer_fmt = '<{}>'\n",
    "        else:\n",
    "            coords = self\n",
    "            # Configure display of Cartesian coordinates in the round brackets\n",
    "            outer_fmt = '({})'\n",
    "        # Create a generating expression to format coordinates\n",
    "        components = (format(c, fmt_spec) for c in coords)\n",
    "        return outer_fmt.format(', '.join(components))\n",
    "\n",
    "    @classmethod\n",
    "    def frombytes(cls, octets):\n",
    "        typecode = chr(octets[0])\n",
    "        memv = memoryview(octets[1:].cast(typecode))\n",
    "        return cls(memv)"
   ]
  },
  {
   "cell_type": "markdown",
   "id": "99b049ba-e317-4b1a-b6c8-9f88f604f78a",
   "metadata": {},
   "source": [
    "Using `__format__` with Cartesian coordinates in 2D"
   ]
  },
  {
   "cell_type": "code",
   "execution_count": 26,
   "id": "8d7da3ad-52d4-479c-8f0e-0b58508b3170",
   "metadata": {},
   "outputs": [
    {
     "data": {
      "text/plain": [
       "'(3.0, 4.0)'"
      ]
     },
     "execution_count": 26,
     "metadata": {},
     "output_type": "execute_result"
    }
   ],
   "source": [
    "v1 = Vector([3, 4])\n",
    "format(v1)"
   ]
  },
  {
   "cell_type": "code",
   "execution_count": 27,
   "id": "8a666eb6-a755-483b-af40-2d1bda974728",
   "metadata": {},
   "outputs": [
    {
     "data": {
      "text/plain": [
       "'(3.00, 4.00)'"
      ]
     },
     "execution_count": 27,
     "metadata": {},
     "output_type": "execute_result"
    }
   ],
   "source": [
    "format(v1, '.2f')"
   ]
  },
  {
   "cell_type": "code",
   "execution_count": 28,
   "id": "9e2b91dc-5b24-4bc7-9257-ca2be1902d1a",
   "metadata": {},
   "outputs": [
    {
     "data": {
      "text/plain": [
       "'(3.000e+00, 4.000e+00)'"
      ]
     },
     "execution_count": 28,
     "metadata": {},
     "output_type": "execute_result"
    }
   ],
   "source": [
    "format(v1, '.3e')"
   ]
  },
  {
   "cell_type": "markdown",
   "id": "016fe8b8-7a38-4c90-bc23-407a384d2b5b",
   "metadata": {},
   "source": [
    "Using `__format__` with Cartesian coordinates in 3D and 7D"
   ]
  },
  {
   "cell_type": "code",
   "execution_count": 29,
   "id": "d64ac306-8381-42f9-8f58-856b1d918aa3",
   "metadata": {},
   "outputs": [
    {
     "data": {
      "text/plain": [
       "'(3.0, 4.0, 5.0)'"
      ]
     },
     "execution_count": 29,
     "metadata": {},
     "output_type": "execute_result"
    }
   ],
   "source": [
    "v3 = Vector([3, 4, 5])\n",
    "format(v3)"
   ]
  },
  {
   "cell_type": "code",
   "execution_count": 30,
   "id": "ea1f8fcb-5de9-4789-8cf9-d36dff8cc6f4",
   "metadata": {},
   "outputs": [
    {
     "data": {
      "text/plain": [
       "'(0.0, 1.0, 2.0, 3.0, 4.0, 5.0, 6.0)'"
      ]
     },
     "execution_count": 30,
     "metadata": {},
     "output_type": "execute_result"
    }
   ],
   "source": [
    "format(Vector(range(7)))"
   ]
  },
  {
   "cell_type": "markdown",
   "id": "8cae297f-d376-456c-b151-f8d5e302ec7d",
   "metadata": {},
   "source": [
    "Using `__format__` with spherical coordinates in 2D, 3D, and 4D"
   ]
  },
  {
   "cell_type": "code",
   "execution_count": 31,
   "id": "d0bbea59-71fc-4686-96e4-40272bc733b2",
   "metadata": {},
   "outputs": [
    {
     "data": {
      "text/plain": [
       "'<1.4142135623730951, 0.7853981633974483>'"
      ]
     },
     "execution_count": 31,
     "metadata": {},
     "output_type": "execute_result"
    }
   ],
   "source": [
    "format(Vector([1, 1]), 'h')"
   ]
  },
  {
   "cell_type": "code",
   "execution_count": 32,
   "id": "f20810d1-a59f-4a8d-857b-7ce060993d4a",
   "metadata": {},
   "outputs": [
    {
     "data": {
      "text/plain": [
       "'<1.414e+00, 7.854e-01>'"
      ]
     },
     "execution_count": 32,
     "metadata": {},
     "output_type": "execute_result"
    }
   ],
   "source": [
    "format(Vector([1, 1]), '.3eh')"
   ]
  },
  {
   "cell_type": "code",
   "execution_count": 33,
   "id": "b951f787-6834-42ab-a61d-7c83ef0f4eb1",
   "metadata": {},
   "outputs": [
    {
     "data": {
      "text/plain": [
       "'<1.41421, 0.78540>'"
      ]
     },
     "execution_count": 33,
     "metadata": {},
     "output_type": "execute_result"
    }
   ],
   "source": [
    "format(Vector([1, 1]), '0.5fh')"
   ]
  },
  {
   "cell_type": "code",
   "execution_count": 34,
   "id": "a2ec0ed2-b186-44f3-afaf-0f88c5747ace",
   "metadata": {},
   "outputs": [
    {
     "data": {
      "text/plain": [
       "'<1.7320508075688772, 0.9553166181245093, 0.7853981633974483>'"
      ]
     },
     "execution_count": 34,
     "metadata": {},
     "output_type": "execute_result"
    }
   ],
   "source": [
    "format(Vector([1, 1, 1]), 'h')"
   ]
  },
  {
   "cell_type": "code",
   "execution_count": 35,
   "id": "62014765-3af9-4be2-88d3-1a416dc48e72",
   "metadata": {},
   "outputs": [
    {
     "data": {
      "text/plain": [
       "'<3.464e+00, 9.553e-01, 7.854e-01>'"
      ]
     },
     "execution_count": 35,
     "metadata": {},
     "output_type": "execute_result"
    }
   ],
   "source": [
    "format(Vector([2, 2, 2]), '.3eh')"
   ]
  },
  {
   "cell_type": "code",
   "execution_count": 36,
   "id": "f9e8d819-1fa9-476b-b439-400e9085636e",
   "metadata": {},
   "outputs": [
    {
     "data": {
      "text/plain": [
       "'<0.00000, 0.00000, 0.00000>'"
      ]
     },
     "execution_count": 36,
     "metadata": {},
     "output_type": "execute_result"
    }
   ],
   "source": [
    "format(Vector([0, 0, 0]), '0.5fh')"
   ]
  },
  {
   "cell_type": "code",
   "execution_count": 37,
   "id": "106a24d2-97b8-4ff7-b85d-92931851b23b",
   "metadata": {},
   "outputs": [
    {
     "data": {
      "text/plain": [
       "'<2.0, 2.0943951023931957, 2.186276035465284, 3.9269908169872414>'"
      ]
     },
     "execution_count": 37,
     "metadata": {},
     "output_type": "execute_result"
    }
   ],
   "source": [
    "format(Vector([-1, -1, -1, -1]), 'h')"
   ]
  },
  {
   "cell_type": "code",
   "execution_count": 38,
   "id": "de46c4a4-193b-40d7-8023-e115b0809427",
   "metadata": {},
   "outputs": [
    {
     "data": {
      "text/plain": [
       "'<4.000e+00, 1.047e+00, 9.553e-01, 7.854e-01>'"
      ]
     },
     "execution_count": 38,
     "metadata": {},
     "output_type": "execute_result"
    }
   ],
   "source": [
    "format(Vector([2, 2, 2, 2]), '.3eh')"
   ]
  },
  {
   "cell_type": "code",
   "execution_count": 39,
   "id": "0cdb3b12-8583-465b-b7c7-bbb28fe6dcb1",
   "metadata": {},
   "outputs": [
    {
     "data": {
      "text/plain": [
       "'<1.00000, 1.57080, 0.00000, 0.00000>'"
      ]
     },
     "execution_count": 39,
     "metadata": {},
     "output_type": "execute_result"
    }
   ],
   "source": [
    "format(Vector([0, 1, 0, 0]), '0.5fh')"
   ]
  }
 ],
 "metadata": {
  "kernelspec": {
   "display_name": "Python 3 (ipykernel)",
   "language": "python",
   "name": "python3"
  },
  "language_info": {
   "codemirror_mode": {
    "name": "ipython",
    "version": 3
   },
   "file_extension": ".py",
   "mimetype": "text/x-python",
   "name": "python",
   "nbconvert_exporter": "python",
   "pygments_lexer": "ipython3",
   "version": "3.12.1"
  }
 },
 "nbformat": 4,
 "nbformat_minor": 5
}
