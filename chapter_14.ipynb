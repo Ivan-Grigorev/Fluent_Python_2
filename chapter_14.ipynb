{
 "cells": [
  {
   "cell_type": "markdown",
   "id": "c307838c-266f-49e3-aff3-16c25783e9d0",
   "metadata": {},
   "source": [
    "<h1>Chapter 14. Inheritance: for better or for worse.</h1>"
   ]
  },
  {
   "cell_type": "markdown",
   "id": "62887791-fe7a-4704-bcf3-aaadf5c5516f",
   "metadata": {},
   "source": [
    "In Python, inheritance is a mechanism where a new class, called a subclass, is created based on an existing class, called a superclass. The subclass inherits attributes and behaviors (methods) from the superclass, allowing for code reusability and the creation of more complex systems by building on existing functionality. It supports single, multiple, and multilevel inheritance, facilitating a hierarchical organization of classes. This approach helps in reducing redundancy and enhancing the maintainability of the code by promoting a natural hierarchy and encapsulation of functionalities."
   ]
  },
  {
   "cell_type": "markdown",
   "id": "46215b29-75ca-4100-9bd8-015ecc46e696",
   "metadata": {},
   "source": [
    "<h2><code>super()</code> Function</h2>"
   ]
  },
  {
   "cell_type": "markdown",
   "id": "a1e1929f-af3b-4eb7-8f1a-6ce079fecf81",
   "metadata": {},
   "source": [
    "The `super()` function in Python is used to give access to methods and properties of a parent or sibling class. It is typically used in a subclass to call a method from the parent class, enabling the subclass to inherit and extend the behavior of the parent class without explicitly naming it. This helps in maintaining the code, especially when dealing with multiple inheritance, as it allows the subclass to invoke methods in a way that respects the method resolution order (MRO)."
   ]
  },
  {
   "cell_type": "code",
   "execution_count": null,
   "id": "203cfd62-0493-4761-9a5c-a47b2192cb50",
   "metadata": {},
   "outputs": [],
   "source": []
  }
 ],
 "metadata": {
  "kernelspec": {
   "display_name": "Python 3 (ipykernel)",
   "language": "python",
   "name": "python3"
  },
  "language_info": {
   "codemirror_mode": {
    "name": "ipython",
    "version": 3
   },
   "file_extension": ".py",
   "mimetype": "text/x-python",
   "name": "python",
   "nbconvert_exporter": "python",
   "pygments_lexer": "ipython3",
   "version": "3.12.1"
  }
 },
 "nbformat": 4,
 "nbformat_minor": 5
}
