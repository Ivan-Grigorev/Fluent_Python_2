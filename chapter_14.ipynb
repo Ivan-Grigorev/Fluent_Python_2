{
 "cells": [
  {
   "cell_type": "markdown",
   "id": "c307838c-266f-49e3-aff3-16c25783e9d0",
   "metadata": {},
   "source": [
    "<h1>Chapter 14. Inheritance: for better or for worse.</h1>"
   ]
  },
  {
   "cell_type": "markdown",
   "id": "62887791-fe7a-4704-bcf3-aaadf5c5516f",
   "metadata": {},
   "source": [
    "In Python, inheritance is a mechanism where a new class, called a subclass, is created based on an existing class, called a superclass. The subclass inherits attributes and behaviors (methods) from the superclass, allowing for code reusability and the creation of more complex systems by building on existing functionality. It supports single, multiple, and multilevel inheritance, facilitating a hierarchical organization of classes. This approach helps in reducing redundancy and enhancing the maintainability of the code by promoting a natural hierarchy and encapsulation of functionalities."
   ]
  },
  {
   "cell_type": "markdown",
   "id": "4d6c9d2b-6035-400b-85f8-12ba5d98bb0c",
   "metadata": {},
   "source": [
    "<h2><code>super()</code> Function</h2>"
   ]
  },
  {
   "cell_type": "markdown",
   "id": "073b86ff-579f-4007-b788-c4800cff667b",
   "metadata": {},
   "source": [
    "The `super()` function is used to give access to methods and properties of a parent or sibling class. It is typically used in a subclass to call a method from the parent class, enabling the subclass to inherit and extend the behavior of the parent class without explicitly naming it. This helps in maintaining the code, especially when dealing with multiple inheritance, as it allows the subclass to invoke methods in a way that respects the method resolution order (MRO)."
   ]
  },
  {
   "cell_type": "code",
   "execution_count": 1,
   "id": "3f42b490-6c85-4a37-8a78-3e669f6d4a80",
   "metadata": {},
   "outputs": [],
   "source": [
    "from collections import OrderedDict\n",
    "\n",
    "\n",
    "class LastUpdatedOrderedDict(OrderedDict):\n",
    "    \"\"\"Items are stored in the order determined by the last update\"\"\"\n",
    "\n",
    "    def __setitem__(self, key, value):\n",
    "        # Use the construct to call a superclass method\n",
    "        super().__setitem__(key, value)\n",
    "        self.__move_to_end(key, value)"
   ]
  },
  {
   "cell_type": "markdown",
   "id": "fead6c85-5f9d-4b7f-b6b9-d349f1d5c11c",
   "metadata": {},
   "source": [
    "<h2>Difficulties of Inheritance to Built-In Types</h2>"
   ]
  },
  {
   "cell_type": "markdown",
   "id": "270d09e9-a92d-4870-aa14-2cacbbb19ece",
   "metadata": {},
   "source": [
    "The direct inheritance of built-in types, such as `dict`, `list`, or `str`, is a practice that is susceptible to error due to the tendency of built-in methods to ignore user-defined overridden methods."
   ]
  },
  {
   "cell_type": "code",
   "execution_count": 2,
   "id": "54000a93-fefd-4354-badc-8619bb3c94a0",
   "metadata": {},
   "outputs": [],
   "source": [
    "class DoppelDict(dict):\n",
    "    def __setitem__(self, key, value):\n",
    "        super().__setitem__(key, [value] * 2)"
   ]
  },
  {
   "cell_type": "code",
   "execution_count": 3,
   "id": "bd59c2be-9ed8-4a69-a7ec-2b90089f1360",
   "metadata": {},
   "outputs": [
    {
     "data": {
      "text/plain": [
       "{'one': 1}"
      ]
     },
     "execution_count": 3,
     "metadata": {},
     "output_type": "execute_result"
    }
   ],
   "source": [
    "dd = DoppelDict(one=1)\n",
    "dd"
   ]
  },
  {
   "cell_type": "markdown",
   "id": "b268ba0c-631c-4b68-b9d5-a90f5c4defeb",
   "metadata": {},
   "source": [
    "The `__init__` method inherited from dict apparently does not know that `__setitem__` is overridden: the value of `'one'` is not repeated."
   ]
  },
  {
   "cell_type": "code",
   "execution_count": 4,
   "id": "d69b915c-375b-40ce-862b-df0784e14255",
   "metadata": {},
   "outputs": [
    {
     "data": {
      "text/plain": [
       "{'one': 1, 'two': [2, 2]}"
      ]
     },
     "execution_count": 4,
     "metadata": {},
     "output_type": "execute_result"
    }
   ],
   "source": [
    "dd['two'] = 2\n",
    "dd"
   ]
  },
  {
   "cell_type": "markdown",
   "id": "004bbc67-9387-4f00-a441-6840cd3e0b1b",
   "metadata": {},
   "source": [
    "The `[]` operator calls the `__setitem__` method and works as expected: `'two'` is mapped to the repeated value `[2, 2]`."
   ]
  },
  {
   "cell_type": "markdown",
   "id": "7867d62c-612a-4a69-9ce1-2716dc29caef",
   "metadata": {},
   "source": [
    "The `__getitem__` method from the `AnswerDict` class is ignored by the `dict.update` method."
   ]
  },
  {
   "cell_type": "code",
   "execution_count": 5,
   "id": "e79ac520-e01c-419b-82d3-bf15bb6ac8f7",
   "metadata": {},
   "outputs": [],
   "source": [
    "class AnswerDict(dict):\n",
    "    def __getitem__(self, key):\n",
    "        return 42"
   ]
  },
  {
   "cell_type": "code",
   "execution_count": 6,
   "id": "b9829c90-e31f-4b35-8a2f-645ff2e7deda",
   "metadata": {},
   "outputs": [
    {
     "data": {
      "text/plain": [
       "42"
      ]
     },
     "execution_count": 6,
     "metadata": {},
     "output_type": "execute_result"
    }
   ],
   "source": [
    "ad = AnswerDict(a='foo')\n",
    "ad['a']"
   ]
  },
  {
   "cell_type": "code",
   "execution_count": 7,
   "id": "ea2ffd44-c4bf-431e-96b5-3f3320681d13",
   "metadata": {},
   "outputs": [
    {
     "data": {
      "text/plain": [
       "'foo'"
      ]
     },
     "execution_count": 7,
     "metadata": {},
     "output_type": "execute_result"
    }
   ],
   "source": [
    "d = {}\n",
    "d.update(ad)\n",
    "d['a']"
   ]
  },
  {
   "cell_type": "code",
   "execution_count": 8,
   "id": "49b1b6cb-bfc3-458f-b185-91856e749502",
   "metadata": {},
   "outputs": [
    {
     "data": {
      "text/plain": [
       "{'a': 'foo'}"
      ]
     },
     "execution_count": 8,
     "metadata": {},
     "output_type": "execute_result"
    }
   ],
   "source": [
    "d"
   ]
  },
  {
   "cell_type": "markdown",
   "id": "12038445-cd42-4374-b415-b3c983d7061e",
   "metadata": {},
   "source": [
    "Instead of creating subclasses of built-in objects, classes should be inherited from those in the `collections` module, such as `UserDict`, `UserList`, and `UserString`, which are specifically designed for seamless inheritance."
   ]
  },
  {
   "cell_type": "code",
   "execution_count": 9,
   "id": "ec94a990-24f1-46b3-a7d9-1101d18d57e0",
   "metadata": {},
   "outputs": [],
   "source": [
    "from collections import UserDict\n",
    "\n",
    "\n",
    "class DoppelDict2(UserDict):\n",
    "    def __setitem__(self, key, value):\n",
    "        super().__setitem__(key, [value] * 2)"
   ]
  },
  {
   "cell_type": "code",
   "execution_count": 10,
   "id": "ffca61e0-0725-4d24-8df6-2d52d4013841",
   "metadata": {},
   "outputs": [
    {
     "data": {
      "text/plain": [
       "{'one': [1, 1]}"
      ]
     },
     "execution_count": 10,
     "metadata": {},
     "output_type": "execute_result"
    }
   ],
   "source": [
    "dd2 = DoppelDict2(one=1)\n",
    "dd2"
   ]
  },
  {
   "cell_type": "code",
   "execution_count": 11,
   "id": "be4abe81-a337-42c0-93ea-683417ae27f1",
   "metadata": {},
   "outputs": [
    {
     "data": {
      "text/plain": [
       "{'one': [1, 1], 'two': [2, 2]}"
      ]
     },
     "execution_count": 11,
     "metadata": {},
     "output_type": "execute_result"
    }
   ],
   "source": [
    "dd2['two'] = 2\n",
    "dd2"
   ]
  },
  {
   "cell_type": "code",
   "execution_count": 12,
   "id": "d6abfee5-6516-4cfc-90b3-f1d95971026f",
   "metadata": {},
   "outputs": [
    {
     "data": {
      "text/plain": [
       "{'one': [1, 1], 'two': [2, 2], 'three': [3, 3]}"
      ]
     },
     "execution_count": 12,
     "metadata": {},
     "output_type": "execute_result"
    }
   ],
   "source": [
    "dd2.update(three=3)\n",
    "dd2"
   ]
  },
  {
   "cell_type": "code",
   "execution_count": 13,
   "id": "cbe559c5-95bd-4436-8f3c-7eadca0e1134",
   "metadata": {},
   "outputs": [],
   "source": [
    "class AnswerDict2(UserDict):\n",
    "    def __getitem__(self, key):\n",
    "        return 42"
   ]
  },
  {
   "cell_type": "code",
   "execution_count": 14,
   "id": "90f6706d-2d05-4b5d-bc52-3bd7aca5e946",
   "metadata": {},
   "outputs": [
    {
     "data": {
      "text/plain": [
       "{'a': 'foo'}"
      ]
     },
     "execution_count": 14,
     "metadata": {},
     "output_type": "execute_result"
    }
   ],
   "source": [
    "ad2 = AnswerDict2(a='foo')\n",
    "ad2"
   ]
  },
  {
   "cell_type": "code",
   "execution_count": 15,
   "id": "5677e5a8-3591-4ffb-ac4b-16b996b1c134",
   "metadata": {},
   "outputs": [
    {
     "data": {
      "text/plain": [
       "42"
      ]
     },
     "execution_count": 15,
     "metadata": {},
     "output_type": "execute_result"
    }
   ],
   "source": [
    "d = {}\n",
    "ad2.update(d)\n",
    "ad2['a']"
   ]
  },
  {
   "cell_type": "code",
   "execution_count": 16,
   "id": "583e5a77-c078-4062-b72f-d9932be7331f",
   "metadata": {},
   "outputs": [
    {
     "data": {
      "text/plain": [
       "{'a': 'foo'}"
      ]
     },
     "execution_count": 16,
     "metadata": {},
     "output_type": "execute_result"
    }
   ],
   "source": [
    "ad2"
   ]
  },
  {
   "cell_type": "markdown",
   "id": "6a17abf7-bb19-4a87-8f2f-3200d442c4a4",
   "metadata": {},
   "source": [
    "<h2>Multiple Inheritance and Method Resolution Procedure</h2>"
   ]
  },
  {
   "cell_type": "code",
   "execution_count": 17,
   "id": "cdbd6992-5d07-40a1-abdb-a01ed06e2a3c",
   "metadata": {},
   "outputs": [],
   "source": [
    "class Root:\n",
    "    \"\"\"\n",
    "    The Root class provides ping(), pong(), and __repr__ methods\n",
    "    to make the output easier to read.\n",
    "    \"\"\"\n",
    "\n",
    "    def ping(self):\n",
    "        print(f\"{self}.ping() in class Root.\")\n",
    "\n",
    "    def pong(self):\n",
    "        print(f\"{self}.pong() in class Root.\")\n",
    "\n",
    "    def __repr__(self):\n",
    "        cls_name = type(self).__name__\n",
    "        return f\"<instance of {cls_name}>\"\n",
    "\n",
    "\n",
    "class A(Root):\n",
    "    \"\"\"Both the ping() and pong() methods in class A call super()\"\"\"\n",
    "\n",
    "    def ping(self):\n",
    "        print(f\"{self}.ping() in class A.\")\n",
    "        super().ping()\n",
    "\n",
    "    def pong(self):\n",
    "        print(f\"{self}.pong() in class A.\")\n",
    "        super().pong()\n",
    "\n",
    "\n",
    "class B(Root):\n",
    "    \"\"\"In class B, only the ping() method calls super()\"\"\"\n",
    "\n",
    "    def ping(self):\n",
    "        print(f\"{self}.ping() in class B.\")\n",
    "        super().ping()\n",
    "\n",
    "    def pong(self):\n",
    "        print(f\"{self}.pong() in class B.\")\n",
    "\n",
    "\n",
    "class Leaf(A, B):\n",
    "    \"\"\"The Leaf class only implements the ping() method, which calls super().\"\"\"\n",
    "\n",
    "    def ping(self):\n",
    "        print(f\"{self}.pong() in class Leaf.\")\n",
    "        super().ping()"
   ]
  },
  {
   "cell_type": "code",
   "execution_count": 18,
   "id": "bc049329-9090-4df6-a6e8-105370184030",
   "metadata": {},
   "outputs": [],
   "source": [
    "leaf1 = Leaf()"
   ]
  },
  {
   "cell_type": "markdown",
   "id": "13e5c670-29aa-4de9-9767-312dbee98717",
   "metadata": {},
   "source": [
    "Calling `leaf1.ping()` activates the `ping()` methods in `Leaf`, `A`, `B`, and `Root` because the `ping()` methods in the first three classes call `super().ping()`."
   ]
  },
  {
   "cell_type": "code",
   "execution_count": 19,
   "id": "5c65a97b-9d1a-4766-91c3-e6a2ad4abce0",
   "metadata": {},
   "outputs": [
    {
     "name": "stdout",
     "output_type": "stream",
     "text": [
      "<instance of Leaf>.pong() in class Leaf.\n",
      "<instance of Leaf>.ping() in class A.\n",
      "<instance of Leaf>.ping() in class B.\n",
      "<instance of Leaf>.ping() in class Root.\n"
     ]
    }
   ],
   "source": [
    "leaf1.ping()"
   ]
  },
  {
   "cell_type": "markdown",
   "id": "63fa2204-ffe7-401a-811c-0c122954d7c9",
   "metadata": {},
   "source": [
    "A call to `leaf1.pong()` activates the `pong()` method in `A` due to inheritance, and that calls `super().pong()`, which activates `B.pong()`."
   ]
  },
  {
   "cell_type": "code",
   "execution_count": 20,
   "id": "60d0f9ad-45f3-4e2a-a1ae-f4fa07988cc7",
   "metadata": {},
   "outputs": [
    {
     "name": "stdout",
     "output_type": "stream",
     "text": [
      "<instance of Leaf>.pong() in class A.\n",
      "<instance of Leaf>.pong() in class B.\n"
     ]
    }
   ],
   "source": [
    "leaf1.pong()"
   ]
  },
  {
   "cell_type": "markdown",
   "id": "8abd91d3-6a93-4c1d-ae29-b79c41928383",
   "metadata": {},
   "source": [
    "Calling the `__mro__` attribute of the `Leaf` class, which stores a tuple of superclass references in the order of method resolution, from the current class to the object class."
   ]
  },
  {
   "cell_type": "code",
   "execution_count": 21,
   "id": "52dddcfa-c096-41e8-9157-8666ae8bd6bf",
   "metadata": {},
   "outputs": [
    {
     "data": {
      "text/plain": [
       "(__main__.Leaf, __main__.A, __main__.B, __main__.Root, object)"
      ]
     },
     "execution_count": 21,
     "metadata": {},
     "output_type": "execute_result"
    }
   ],
   "source": [
    "Leaf.__mro__"
   ]
  },
  {
   "cell_type": "markdown",
   "id": "0b27ac98-3c10-40a8-8b5a-f3a9104eedba",
   "metadata": {},
   "source": [
    "Classes demonstarating the dynamic nature of `super()`"
   ]
  },
  {
   "cell_type": "code",
   "execution_count": 22,
   "id": "529c16ab-47ee-4d5a-8b30-142f134bb2b2",
   "metadata": {},
   "outputs": [],
   "source": [
    "class U:\n",
    "    \"\"\"Class U is not related to either A or Root\"\"\"\n",
    "\n",
    "    def ping(self):\n",
    "        print(f\"{self}.ping() in U class.\")\n",
    "        super().ping()\n",
    "\n",
    "\n",
    "class LeafUA(U, A):\n",
    "    \"\"\"LeafUA inherits U and A in exactly that order.\"\"\"\n",
    "\n",
    "    def ping(self):\n",
    "        print(f\"{self}.ping() in LeafUA class.\")\n",
    "        super().ping()"
   ]
  },
  {
   "cell_type": "code",
   "execution_count": 23,
   "id": "b2f9e81d-11d8-4f69-b58e-758a6e9336c2",
   "metadata": {},
   "outputs": [
    {
     "name": "stdout",
     "output_type": "stream",
     "text": [
      "<__main__.U object at 0x109c33ec0>.ping() in U class.\n",
      "AttributeError(\"'super' object has no attribute 'ping'\")\n"
     ]
    }
   ],
   "source": [
    "try:\n",
    "    u = U()\n",
    "    u.ping()\n",
    "except AttributeError as e:\n",
    "    print(e.__repr__())"
   ]
  },
  {
   "cell_type": "code",
   "execution_count": 24,
   "id": "e0f00228-f9c8-4550-abed-e4404ac6182a",
   "metadata": {},
   "outputs": [
    {
     "name": "stdout",
     "output_type": "stream",
     "text": [
      "<instance of LeafUA>.ping() in LeafUA class.\n",
      "<instance of LeafUA>.ping() in U class.\n",
      "<instance of LeafUA>.ping() in class A.\n",
      "<instance of LeafUA>.ping() in class Root.\n"
     ]
    }
   ],
   "source": [
    "leaf2 = LeafUA()\n",
    "leaf2.ping()"
   ]
  },
  {
   "cell_type": "code",
   "execution_count": 25,
   "id": "5dcf35b5-273b-437c-9a98-edf07f0d9ebf",
   "metadata": {},
   "outputs": [
    {
     "data": {
      "text/plain": [
       "(__main__.LeafUA, __main__.U, __main__.A, __main__.Root, object)"
      ]
     },
     "execution_count": 25,
     "metadata": {},
     "output_type": "execute_result"
    }
   ],
   "source": [
    "LeafUA.__mro__"
   ]
  },
  {
   "cell_type": "markdown",
   "id": "2923b900-8029-4bbb-8b20-57595692fcaa",
   "metadata": {},
   "source": [
    "<h2>Classes - Mixins</h2>"
   ]
  },
  {
   "cell_type": "markdown",
   "id": "539c93ee-aee1-4e83-994a-560d980f35a5",
   "metadata": {},
   "source": [
    "A mixin class is intended to be inherited along with at least one other class when organizing multiple inheritance. A mixin should not be the sole base class of a particular class because it does not provide the full functionality of a specific object; instead, it only adds to or customizes the behavior of descendant or sibling classes."
   ]
  },
  {
   "cell_type": "markdown",
   "id": "ea054eea-fb9b-488d-baae-02e75c4cd770",
   "metadata": {},
   "source": [
    "<h3>Case - Insensitive Displays</h3>"
   ]
  },
  {
   "cell_type": "markdown",
   "id": "689d4427-6df2-4a9c-80bd-6835cfc9ebd3",
   "metadata": {},
   "source": [
    "`UpperCaseMixin` supports case-insensitive mappings"
   ]
  },
  {
   "cell_type": "code",
   "execution_count": 26,
   "id": "cc79d173-196b-4533-a3b0-1d5f0a2b2ed1",
   "metadata": {},
   "outputs": [],
   "source": [
    "import collections\n",
    "\n",
    "\n",
    "def _upper(key):\n",
    "    try:\n",
    "        return key.upper()\n",
    "    except AttributeError:\n",
    "        return key\n",
    "\n",
    "\n",
    "class UpperCaseMixin:\n",
    "    def __setitem__(self, key, item):\n",
    "        super().__setitem__(_upper(key), item)\n",
    "\n",
    "    def __getitem__(self, key):\n",
    "        return super().__getitem__(_upper(key))\n",
    "\n",
    "    def get(self, key, default=None):\n",
    "        return super().get(_upper(key), default)\n",
    "\n",
    "    def __contains__(self, key):\n",
    "        return super().__contains__(_upper(key))"
   ]
  },
  {
   "cell_type": "markdown",
   "id": "67909dca-63bb-420e-9471-cc4797c45dca",
   "metadata": {},
   "source": [
    "Two classes using `UpperCaseMixin`"
   ]
  },
  {
   "cell_type": "code",
   "execution_count": 27,
   "id": "5bcb71ce-cd15-4bf9-bd7f-f51c4bc1027b",
   "metadata": {},
   "outputs": [],
   "source": [
    "class UpperDict(UpperCaseMixin, collections.UserDict):\n",
    "    pass\n",
    "\n",
    "\n",
    "class UpperCounter(UpperCaseMixin, collections.Counter):\n",
    "    \"\"\"A specialized 'Counter' that translates string keys to upper case.\"\"\""
   ]
  },
  {
   "cell_type": "code",
   "execution_count": 28,
   "id": "ebbb61f2-ba48-462d-9860-0ac39939745b",
   "metadata": {},
   "outputs": [
    {
     "data": {
      "text/plain": [
       "['A', 2]"
      ]
     },
     "execution_count": 28,
     "metadata": {},
     "output_type": "execute_result"
    }
   ],
   "source": [
    "d = UpperDict([('a', 'letter A'), (2, 'digit two')])\n",
    "list(d.keys())"
   ]
  },
  {
   "cell_type": "code",
   "execution_count": 29,
   "id": "d5b732d1-bfff-4474-a152-6992b9a4afde",
   "metadata": {},
   "outputs": [
    {
     "data": {
      "text/plain": [
       "True"
      ]
     },
     "execution_count": 29,
     "metadata": {},
     "output_type": "execute_result"
    }
   ],
   "source": [
    "d['b'] = 'letter B'\n",
    "'b' in d"
   ]
  },
  {
   "cell_type": "code",
   "execution_count": 30,
   "id": "0383bd89-507f-4906-ba15-ff023aeef458",
   "metadata": {},
   "outputs": [
    {
     "data": {
      "text/plain": [
       "('letter A', 'letter B')"
      ]
     },
     "execution_count": 30,
     "metadata": {},
     "output_type": "execute_result"
    }
   ],
   "source": [
    "d['a'], d.get('B')"
   ]
  },
  {
   "cell_type": "code",
   "execution_count": 31,
   "id": "0063d874-0207-454f-beb6-68ba503c30aa",
   "metadata": {},
   "outputs": [
    {
     "data": {
      "text/plain": [
       "['A', 2, 'B']"
      ]
     },
     "execution_count": 31,
     "metadata": {},
     "output_type": "execute_result"
    }
   ],
   "source": [
    "list(d.keys())"
   ]
  },
  {
   "cell_type": "code",
   "execution_count": 32,
   "id": "6334e40f-12be-4073-bd39-128079e04dca",
   "metadata": {},
   "outputs": [
    {
     "data": {
      "text/plain": [
       "[('A', 3), ('N', 2), ('B', 1)]"
      ]
     },
     "execution_count": 32,
     "metadata": {},
     "output_type": "execute_result"
    }
   ],
   "source": [
    "c = UpperCounter('BaNanA')\n",
    "c.most_common()"
   ]
  }
 ],
 "metadata": {
  "kernelspec": {
   "display_name": "Python 3 (ipykernel)",
   "language": "python",
   "name": "python3"
  },
  "language_info": {
   "codemirror_mode": {
    "name": "ipython",
    "version": 3
   },
   "file_extension": ".py",
   "mimetype": "text/x-python",
   "name": "python",
   "nbconvert_exporter": "python",
   "pygments_lexer": "ipython3",
   "version": "3.12.1"
  }
 },
 "nbformat": 4,
 "nbformat_minor": 5
}
