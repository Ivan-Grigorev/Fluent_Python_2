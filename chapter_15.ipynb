{
 "cells": [
  {
   "cell_type": "markdown",
   "id": "f73a76c0-b15b-47cc-aa23-2ac14cfb00f8",
   "metadata": {},
   "source": [
    "<h1>More about Type Annotations</h1>"
   ]
  },
  {
   "cell_type": "code",
   "execution_count": null,
   "id": "7e8ed3b7-b102-4faa-a411-084b87544682",
   "metadata": {},
   "outputs": [],
   "source": []
  }
 ],
 "metadata": {
  "kernelspec": {
   "display_name": "Python 3 (ipykernel)",
   "language": "python",
   "name": "python3"
  },
  "language_info": {
   "codemirror_mode": {
    "name": "ipython",
    "version": 3
   },
   "file_extension": ".py",
   "mimetype": "text/x-python",
   "name": "python",
   "nbconvert_exporter": "python",
   "pygments_lexer": "ipython3",
   "version": "3.12.1"
  }
 },
 "nbformat": 4,
 "nbformat_minor": 5
}
