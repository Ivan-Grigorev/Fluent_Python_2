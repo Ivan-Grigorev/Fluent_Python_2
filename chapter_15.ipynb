{
 "cells": [
  {
   "cell_type": "markdown",
   "id": "f73a76c0-b15b-47cc-aa23-2ac14cfb00f8",
   "metadata": {},
   "source": [
    "<h1>Chapter 15. More about Type Annotations</h1>"
   ]
  },
  {
   "cell_type": "markdown",
   "id": "4a067b62-75a1-47c6-b8d8-3d3ad6678fc1",
   "metadata": {},
   "source": [
    "<h2>Overloaded Signatures</h2>"
   ]
  },
  {
   "cell_type": "markdown",
   "id": "dd58cfee-3fe7-4a1d-9cdd-c366a3d75680",
   "metadata": {},
   "source": [
    "The `@typing.overload` decorator in Python allows defining multiple type signatures for a single function, indicating it can accept different argument types and return types. It’s used for type checking, but only one actual implementation is provided."
   ]
  },
  {
   "cell_type": "code",
   "execution_count": 1,
   "id": "1b6bb928-7cf0-4a20-b4bf-1d3bfed5f4d4",
   "metadata": {},
   "outputs": [],
   "source": [
    "import functools\n",
    "import operator\n",
    "from collections.abc import Iterable\n",
    "from typing import TypeVar, Union, overload\n",
    "\n",
    "# Define type variables to represent any type\n",
    "T = TypeVar('T')\n",
    "S = TypeVar('S')\n",
    "\n",
    "\n",
    "# Overload function signatures for type checking\n",
    "# Overload 1: Sum with no start value defaults to returning T or int\n",
    "@overload\n",
    "def sum(it: Iterable[T]) -> Union[T, int]: ...\n",
    "\n",
    "\n",
    "# Overload 2: Sum with a specified start value returning T or S\n",
    "@overload\n",
    "def sum(it: Iterable[T], /, start: S) -> Union[T, S]: ...\n",
    "\n",
    "\n",
    "def sum(it, /, start=0):\n",
    "    return functools.reduce(operator.add, it, start)"
   ]
  },
  {
   "cell_type": "markdown",
   "id": "4ca0d44d-1233-4295-a466-45cda80a672f",
   "metadata": {},
   "source": [
    "<h3>Overload <code>max</code></h3>"
   ]
  },
  {
   "cell_type": "code",
   "execution_count": 2,
   "id": "a2c6df32-63fd-436b-b5aa-32d5f487708b",
   "metadata": {},
   "outputs": [],
   "source": [
    "from collections.abc import Callable, Iterable\n",
    "from typing import Any, Protocol, TypeVar, Union, overload\n",
    "\n",
    "\n",
    "class SupportsLessThan(Protocol):\n",
    "    def __lt__(self, other: Any) -> bool: ...\n",
    "\n",
    "\n",
    "T = TypeVar('T')\n",
    "LT = TypeVar('LT')\n",
    "DT = TypeVar('DT')\n",
    "\n",
    "# Sentinel object for missing default argument\n",
    "MISSING = object()\n",
    "EMPTY_MSG = 'max() arg is an empty sequence'\n",
    "\n",
    "\n",
    "@overload\n",
    "def max(__arg1: LT, __arg2: LT, *args: LT, key: None = ...) -> LT: ...\n",
    "@overload\n",
    "def max(__arg1: T, __arg2: T, *args: T, key: Callable[[T], LT]) -> T: ...\n",
    "@overload\n",
    "def max(__iterable: Iterable[LT], *, key: None = ...) -> LT: ...\n",
    "@overload\n",
    "def max(__iterable: Iterable[T], *, key: Callable[[T], LT]) -> T: ...\n",
    "@overload\n",
    "def max(__iterable: Iterable[LT], *, key: None = ..., default: DT) -> Union[LT, DT]: ...\n",
    "@overload\n",
    "def max(\n",
    "    __iterable: Iterable[T], *, key: Callable[[T], LT], default: DT\n",
    ") -> Union[T, DT]: ...\n",
    "\n",
    "\n",
    "def max(first, *args, key=None, default=MISSING):\n",
    "    if args:\n",
    "        series = args\n",
    "        candidate = first\n",
    "    else:\n",
    "        series = iter(first)\n",
    "        try:\n",
    "            candidate = next(series)\n",
    "        except StopIteration:\n",
    "            if default is not MISSING:\n",
    "                return default\n",
    "            raise ValueError(EMPTY_MSG) from None\n",
    "    if key is None:\n",
    "        for current in series:\n",
    "            if candidate < current:\n",
    "                candidate = current\n",
    "    else:\n",
    "        candidate_key = key(candidate)\n",
    "        for current in series:\n",
    "            current_key = key(current)\n",
    "            if candidate_key < current_key:\n",
    "                candidate = current\n",
    "                candidate_key = current_key\n",
    "    return candidate"
   ]
  },
  {
   "cell_type": "markdown",
   "id": "7485d502-2480-466f-a5e1-7be37339dbe1",
   "metadata": {},
   "source": [
    "Arguments that implement `SupportLessThan` but without setting `key` and `default`"
   ]
  },
  {
   "cell_type": "code",
   "execution_count": 3,
   "id": "92978162-5fc7-4f28-97e1-ccf954a94c51",
   "metadata": {},
   "outputs": [
    {
     "data": {
      "text/plain": [
       "2"
      ]
     },
     "execution_count": 3,
     "metadata": {},
     "output_type": "execute_result"
    }
   ],
   "source": [
    "max(1, 2, -3)"
   ]
  },
  {
   "cell_type": "code",
   "execution_count": 4,
   "id": "01dec17e-e811-4ad7-be2a-11f7c82c0114",
   "metadata": {},
   "outputs": [
    {
     "data": {
      "text/plain": [
       "'Rust'"
      ]
     },
     "execution_count": 4,
     "metadata": {},
     "output_type": "execute_result"
    }
   ],
   "source": [
    "max(['Go', 'Python', 'Rust'])"
   ]
  },
  {
   "cell_type": "markdown",
   "id": "4ae04984-4dae-4a25-a96f-27abb0106599",
   "metadata": {},
   "source": [
    "The `key` argument is set, the `default` argument is not"
   ]
  },
  {
   "cell_type": "code",
   "execution_count": 5,
   "id": "ecf6f7a9-1671-4290-912f-042cb978de51",
   "metadata": {},
   "outputs": [
    {
     "data": {
      "text/plain": [
       "-3"
      ]
     },
     "execution_count": 5,
     "metadata": {},
     "output_type": "execute_result"
    }
   ],
   "source": [
    "max(1, 2, -3, key=abs)"
   ]
  },
  {
   "cell_type": "code",
   "execution_count": 6,
   "id": "ac102c2f-e484-464d-9f9a-abbb3420956f",
   "metadata": {},
   "outputs": [
    {
     "data": {
      "text/plain": [
       "'Python'"
      ]
     },
     "execution_count": 6,
     "metadata": {},
     "output_type": "execute_result"
    }
   ],
   "source": [
    "max(['Go', 'Python', 'Rust'], key=len)"
   ]
  },
  {
   "cell_type": "markdown",
   "id": "b23bc208-454d-4a41-bc55-fb94bf11a8f9",
   "metadata": {},
   "source": [
    "The `default` argument is set, the `key` is not"
   ]
  },
  {
   "cell_type": "code",
   "execution_count": 7,
   "id": "bdbb76ff-909d-4676-be23-bf5cd9101114",
   "metadata": {},
   "outputs": [
    {
     "data": {
      "text/plain": [
       "2"
      ]
     },
     "execution_count": 7,
     "metadata": {},
     "output_type": "execute_result"
    }
   ],
   "source": [
    "max([1, 2, -3], default=0)"
   ]
  },
  {
   "cell_type": "code",
   "execution_count": 8,
   "id": "6c779add-51c6-478f-862a-6409214526e1",
   "metadata": {},
   "outputs": [],
   "source": [
    "max([], default=None)  # returns None"
   ]
  },
  {
   "cell_type": "markdown",
   "id": "421c77b7-0395-4a35-967d-7019a3eb8478",
   "metadata": {},
   "source": [
    "The `key` and `default` arguments are set"
   ]
  },
  {
   "cell_type": "code",
   "execution_count": 9,
   "id": "aedda379-5cb4-4140-a08f-fc4e314164b1",
   "metadata": {},
   "outputs": [
    {
     "data": {
      "text/plain": [
       "-3"
      ]
     },
     "execution_count": 9,
     "metadata": {},
     "output_type": "execute_result"
    }
   ],
   "source": [
    "max([1, 2, -3], key=abs, default=None)"
   ]
  },
  {
   "cell_type": "code",
   "execution_count": 10,
   "id": "8d818d8b-1686-4fc8-a6d0-d24c00af820a",
   "metadata": {},
   "outputs": [],
   "source": [
    "max([], key=abs, default=None)  # returns None"
   ]
  },
  {
   "cell_type": "markdown",
   "id": "ca721f35-41fb-4789-ab08-b2dbb89ed6bb",
   "metadata": {},
   "source": [
    "<h2>TypedDict</h2>"
   ]
  },
  {
   "cell_type": "markdown",
   "id": "d01754bf-57e7-4aa8-ad62-0338d7ef6696",
   "metadata": {},
   "source": [
    "`TypedDict` is a class in Python’s `typing` module used to define dictionaries with a fixed set of keys, where each key is associated with a specific type. It allows for more precise type checking by specifying the types of individual dictionary entries, making it easier to work with structured data while catching type errors early."
   ]
  },
  {
   "cell_type": "code",
   "execution_count": 11,
   "id": "56450fdc-e00e-4e90-99db-66ca6ec548ea",
   "metadata": {},
   "outputs": [],
   "source": [
    "from typing import TypedDict\n",
    "\n",
    "\n",
    "class BookDict(TypedDict):\n",
    "    isbn: str\n",
    "    title: str\n",
    "    authors: list[str]\n",
    "    pagecount: int"
   ]
  },
  {
   "cell_type": "code",
   "execution_count": 12,
   "id": "0deef342-32a9-4cff-9c38-159fc523e423",
   "metadata": {},
   "outputs": [
    {
     "data": {
      "text/plain": [
       "{'isbn': '0134757599',\n",
       " 'title': 'Refactoring, 2e',\n",
       " 'authors': ['Martin Fowler', 'Kent Beck'],\n",
       " 'pagecount': 256}"
      ]
     },
     "execution_count": 12,
     "metadata": {},
     "output_type": "execute_result"
    }
   ],
   "source": [
    "pp = BookDict(\n",
    "    isbn='0134757599',\n",
    "    title='Refactoring, 2e',\n",
    "    authors=['Martin Fowler', 'Kent Beck'],\n",
    "    pagecount=256,\n",
    ")\n",
    "\n",
    "pp"
   ]
  },
  {
   "cell_type": "code",
   "execution_count": 13,
   "id": "d96d3a8c-2d1c-4432-9052-bf3263004420",
   "metadata": {},
   "outputs": [
    {
     "data": {
      "text/plain": [
       "dict"
      ]
     },
     "execution_count": 13,
     "metadata": {},
     "output_type": "execute_result"
    }
   ],
   "source": [
    "type(pp)"
   ]
  },
  {
   "cell_type": "code",
   "execution_count": 14,
   "id": "71e4ba17-e6ad-4925-84eb-a27f3426e1ca",
   "metadata": {},
   "outputs": [
    {
     "name": "stdout",
     "output_type": "stream",
     "text": [
      "AttributeError(\"'dict' object has no attribute 'title'\")\n"
     ]
    }
   ],
   "source": [
    "try:\n",
    "    pp.title\n",
    "except AttributeError as e:\n",
    "    print(e.__repr__())"
   ]
  },
  {
   "cell_type": "code",
   "execution_count": 15,
   "id": "cf4bd55e-eff8-4858-b41d-496ea0157f86",
   "metadata": {},
   "outputs": [
    {
     "data": {
      "text/plain": [
       "'Refactoring, 2e'"
      ]
     },
     "execution_count": 15,
     "metadata": {},
     "output_type": "execute_result"
    }
   ],
   "source": [
    "pp['title']"
   ]
  },
  {
   "cell_type": "code",
   "execution_count": 16,
   "id": "bfe88972-ea6c-4f4e-95c7-40b69edb09d6",
   "metadata": {},
   "outputs": [
    {
     "data": {
      "text/plain": [
       "{'isbn': str, 'title': str, 'authors': list[str], 'pagecount': int}"
      ]
     },
     "execution_count": 16,
     "metadata": {},
     "output_type": "execute_result"
    }
   ],
   "source": [
    "BookDict.__annotations__"
   ]
  },
  {
   "cell_type": "markdown",
   "id": "42f038c6-8cbf-4028-a4c7-0a20ea843366",
   "metadata": {},
   "source": [
    "Using `BookDict` in the function signature"
   ]
  },
  {
   "cell_type": "code",
   "execution_count": 17,
   "id": "24780c0e-9339-4271-9c9a-2e6d348a4db3",
   "metadata": {},
   "outputs": [
    {
     "name": "stdout",
     "output_type": "stream",
     "text": [
      "<BOOK>\n",
      "\t<ISBN>0134757599</ISBN>\n",
      "\t<TITLE>Refactoring, 2e</TITLE>\n",
      "\t<AUTHOR>Martin Fowler</AUTHOR>\n",
      "\t<AUTHOR>Kent Beck</AUTHOR>\n",
      "\t<PAGECOUNT>256</PAGECOUNT>\n",
      "</BOOK>\n"
     ]
    }
   ],
   "source": [
    "AUTHOR_ELEMENT = '<AUTHOR>{}</AUTHOR>'\n",
    "\n",
    "\n",
    "def to_xml(book: BookDict) -> str:\n",
    "    elements: list[str] = []\n",
    "    for key, value in book.items():\n",
    "        if isinstance(value, list):\n",
    "            elements.extend(AUTHOR_ELEMENT.format(n) for n in value)\n",
    "        else:\n",
    "            tag = key.upper()\n",
    "            elements.append(f\"<{tag}>{value}</{tag}>\")\n",
    "    xml = '\\n\\t'.join(elements)\n",
    "    return f\"<BOOK>\\n\\t{xml}\\n</BOOK>\"\n",
    "\n",
    "\n",
    "print(to_xml(pp))"
   ]
  },
  {
   "cell_type": "markdown",
   "id": "b6dc55f1-6077-493e-9e0b-52ec1e6f5fbd",
   "metadata": {},
   "source": [
    "Function `from_json` with variable annotations that parses a `JSON` formatted string of type `str` and returns `BookDict`"
   ]
  },
  {
   "cell_type": "code",
   "execution_count": 18,
   "id": "683f150a-79ae-454c-91f0-25667b10ddf5",
   "metadata": {},
   "outputs": [],
   "source": [
    "import json\n",
    "\n",
    "\n",
    "def from_json(data: str) -> BookDict:\n",
    "    whatever: BookDict = json.loads(data)\n",
    "    return whatever"
   ]
  },
  {
   "cell_type": "markdown",
   "id": "85d8a7b7-d369-4fbb-92e6-ee4355bd6be4",
   "metadata": {},
   "source": [
    "<h2>Reading Type Annotations During Execution</h2>"
   ]
  },
  {
   "cell_type": "code",
   "execution_count": 19,
   "id": "2e07d287-e36d-46be-aa8a-5790ba66169f",
   "metadata": {},
   "outputs": [],
   "source": [
    "def clip(text: str, max_len: int = 80) -> str:\n",
    "    \"\"\"\n",
    "    Return new 'str' clipped at last space before or after 'max_len'.\n",
    "    Return full 'text' if no space found.\n",
    "    \"\"\"\n",
    "    end = None\n",
    "    if len(text) > max_len:\n",
    "        space_before = text.rfind(' ', 0, max_len)\n",
    "        if space_before >= 0:\n",
    "            end = space_before\n",
    "        else:\n",
    "            space_after = text.rfind(' ', max_len)\n",
    "            if space_after >= 0:\n",
    "                end = space_after\n",
    "    if end is None:\n",
    "        end = len(text)\n",
    "    return text[:end].rstrip()"
   ]
  },
  {
   "cell_type": "code",
   "execution_count": 20,
   "id": "fb232abb-c3c8-4c0f-9a84-f1c0bafc359a",
   "metadata": {},
   "outputs": [
    {
     "data": {
      "text/plain": [
       "{'text': str, 'max_len': int, 'return': str}"
      ]
     },
     "execution_count": 20,
     "metadata": {},
     "output_type": "execute_result"
    }
   ],
   "source": [
    "clip.__annotations__"
   ]
  },
  {
   "cell_type": "code",
   "execution_count": 21,
   "id": "731c0197-a30a-4771-9d77-425876ebd6de",
   "metadata": {},
   "outputs": [
    {
     "data": {
      "text/plain": [
       "{'text': str, 'max_len': int, 'return': str}"
      ]
     },
     "execution_count": 21,
     "metadata": {},
     "output_type": "execute_result"
    }
   ],
   "source": [
    "from __future__ import annotations\n",
    "\n",
    "clip.__annotations__"
   ]
  },
  {
   "cell_type": "code",
   "execution_count": 22,
   "id": "5ed4828c-c9dc-490e-ab88-23dd658b0359",
   "metadata": {},
   "outputs": [
    {
     "data": {
      "text/plain": [
       "{'text': str, 'max_len': int, 'return': str}"
      ]
     },
     "execution_count": 22,
     "metadata": {},
     "output_type": "execute_result"
    }
   ],
   "source": [
    "from typing import get_type_hints\n",
    "\n",
    "get_type_hints(clip)"
   ]
  },
  {
   "cell_type": "markdown",
   "id": "203c60b0-8206-4e5b-be79-f2860d45664f",
   "metadata": {},
   "source": [
    "The `_fields` class method in the `Checked` class returns a dictionary of the class's type annotations by using `get_type_hints()`, which retrieves the expected types of attributes."
   ]
  },
  {
   "cell_type": "code",
   "execution_count": 23,
   "id": "96271a59-a9ca-403a-9081-49a9f437fdc0",
   "metadata": {},
   "outputs": [],
   "source": [
    "class Checked:\n",
    "    @classmethod\n",
    "    def _fields(cls) -> dict[str, type]:\n",
    "        return get_type_hints(cls)"
   ]
  },
  {
   "cell_type": "markdown",
   "id": "8968cd91-e538-4ebc-a43b-4f8118ac1833",
   "metadata": {},
   "source": [
    "<h2>Generalized Class Implementation</h2>"
   ]
  },
  {
   "cell_type": "markdown",
   "id": "af1044ed-32fc-487c-b40a-6b697f58ebc1",
   "metadata": {},
   "source": [
    "A generalized class in Python uses type variables or generics to handle multiple data types, ensuring flexibility, type safety, and reduced code duplication."
   ]
  },
  {
   "cell_type": "code",
   "execution_count": 24,
   "id": "73ccdf9e-51b4-41ac-a445-34eb2029ce56",
   "metadata": {},
   "outputs": [],
   "source": [
    "from typing import Generic, TypeVar\n",
    "\n",
    "T = TypeVar('T')\n",
    "\n",
    "\n",
    "class Box(Generic[T]):\n",
    "    def __init__(self, item: T) -> None:\n",
    "        self.item = item\n",
    "\n",
    "    def get_item(self) -> T:\n",
    "        return self.item"
   ]
  },
  {
   "cell_type": "code",
   "execution_count": 25,
   "id": "e3e4f13c-6a3e-46f1-a090-51ab1661bfe1",
   "metadata": {},
   "outputs": [
    {
     "data": {
      "text/plain": [
       "123"
      ]
     },
     "execution_count": 25,
     "metadata": {},
     "output_type": "execute_result"
    }
   ],
   "source": [
    "int_box = Box(123)\n",
    "int_box.get_item()"
   ]
  },
  {
   "cell_type": "code",
   "execution_count": 26,
   "id": "564268dc-3573-43e5-bcac-5e156662cf54",
   "metadata": {},
   "outputs": [
    {
     "data": {
      "text/plain": [
       "'spam'"
      ]
     },
     "execution_count": 26,
     "metadata": {},
     "output_type": "execute_result"
    }
   ],
   "source": [
    "str_box = Box('spam')\n",
    "str_box.get_item()"
   ]
  },
  {
   "cell_type": "markdown",
   "id": "83847e27-134d-4d5e-a790-61763c73cbef",
   "metadata": {},
   "source": [
    "<h2>Variability</h2>"
   ]
  },
  {
   "cell_type": "markdown",
   "id": "87fe64e6-3a9e-4c0f-8ffa-9154b262639a",
   "metadata": {},
   "source": [
    "In Python, variability refers to how type relationships between parent and child types affect the behavior of generic classes or functions. This is relevant when using type annotations and generics to determine whether a type can be substituted with its subtypes or supertypes in different contexts."
   ]
  },
  {
   "cell_type": "markdown",
   "id": "e3b112ce-826f-473a-8d2c-e95c97141229",
   "metadata": {},
   "source": [
    "<h3>Invariant</h3>"
   ]
  },
  {
   "cell_type": "markdown",
   "id": "ac03e0da-c92d-4f0e-bd82-1213eb6a75af",
   "metadata": {},
   "source": [
    "An invariant type does not allow substitution of a generic type with any other type, even if there is a parent-child relationship."
   ]
  },
  {
   "cell_type": "code",
   "execution_count": 27,
   "id": "2d7d47b1-52b6-4c0a-9862-c27e8f7cee35",
   "metadata": {},
   "outputs": [],
   "source": [
    "from typing import Generic, TypeVar\n",
    "\n",
    "\n",
    "class Beverage:\n",
    "    \"\"\"Any Beverage.\"\"\"\n",
    "\n",
    "\n",
    "class Juice(Beverage):\n",
    "    \"\"\"Any fruit juice.\"\"\"\n",
    "\n",
    "\n",
    "class OrangeJuice(Juice):\n",
    "    \"\"\"Delicious juice from Brazilian oranges.\"\"\"\n",
    "\n",
    "\n",
    "T = TypeVar('T')\n",
    "\n",
    "\n",
    "class BeverageDispenser(Generic[T]):\n",
    "    \"\"\"A dispenser parameterized on the beverage type.\"\"\"\n",
    "\n",
    "    def __init__(self, beverage: T) -> None:\n",
    "        self.beverage = beverage\n",
    "\n",
    "    def dispense(self) -> T:\n",
    "        return self.beverage\n",
    "\n",
    "\n",
    "def install(dispenser: BeverageDispenser[Juice]) -> None:\n",
    "    \"\"\"Install a fruit juice dispenser.\"\"\""
   ]
  },
  {
   "cell_type": "markdown",
   "id": "992a601f-9c65-418c-a2e4-1f71012ef32b",
   "metadata": {},
   "source": [
    "The following code is acceptable"
   ]
  },
  {
   "cell_type": "code",
   "execution_count": 28,
   "id": "af5b342b-15bb-4ab0-a6f6-1455596df031",
   "metadata": {},
   "outputs": [],
   "source": [
    "juice_dispenser = BeverageDispenser(Juice())\n",
    "install(juice_dispenser)"
   ]
  },
  {
   "cell_type": "markdown",
   "id": "a56ac646-3062-4c4a-b8ad-7ce1ef812a18",
   "metadata": {},
   "source": [
    "The following code is not acceptable"
   ]
  },
  {
   "cell_type": "code",
   "execution_count": 29,
   "id": "5bad44ed-1e03-486f-b140-d7015936c174",
   "metadata": {},
   "outputs": [],
   "source": [
    "juice_dispenser = BeverageDispenser(Beverage())\n",
    "install(juice_dispenser)"
   ]
  },
  {
   "cell_type": "markdown",
   "id": "0eabadee-0355-4cd0-a6b4-b887dfb0695c",
   "metadata": {},
   "source": [
    "<h3>Covariant</h3>"
   ]
  },
  {
   "cell_type": "markdown",
   "id": "d0c100e3-7262-4e72-886f-c5122251492a",
   "metadata": {},
   "source": [
    "A covariant type allows a generic type to be substituted by its subtypes. This is typically used with immutable types."
   ]
  },
  {
   "cell_type": "code",
   "execution_count": 30,
   "id": "6e2542b1-68f8-4190-93c5-21560126c764",
   "metadata": {},
   "outputs": [],
   "source": [
    "from typing import Generic, TypeVar\n",
    "\n",
    "\n",
    "class Beverage:\n",
    "    \"\"\"Any Beverage.\"\"\"\n",
    "\n",
    "\n",
    "class Juice(Beverage):\n",
    "    \"\"\"Any fruit juice.\"\"\"\n",
    "\n",
    "\n",
    "class OrangeJuice(Juice):\n",
    "    \"\"\"Delicious juice from Brazilian oranges.\"\"\"\n",
    "\n",
    "\n",
    "T_co = TypeVar('T_co', covariant=True)\n",
    "\n",
    "\n",
    "class BeverageDispenser(Generic[T_co]):\n",
    "    def __init__(self, beverage: T_co) -> None:\n",
    "        self.beverage = beverage\n",
    "\n",
    "    def dispense(self) -> T_co:\n",
    "        return self.beverage\n",
    "\n",
    "\n",
    "def install(dispenser: BeverageDispenser[Juice]) -> None:\n",
    "    \"\"\"Install a fruit juice dispenser.\"\"\""
   ]
  },
  {
   "cell_type": "markdown",
   "id": "27bca038-9471-43a5-a272-ddab1e9cd8cc",
   "metadata": {},
   "source": [
    "The following code is acceptable"
   ]
  },
  {
   "cell_type": "code",
   "execution_count": 31,
   "id": "8e5d6282-15b7-4874-a180-8761ccee018d",
   "metadata": {},
   "outputs": [],
   "source": [
    "juice_dispenser = BeverageDispenser(Juice())\n",
    "install(juice_dispenser)\n",
    "\n",
    "orange_juice_dispenser = BeverageDispenser(OrangeJuice())\n",
    "install(orange_juice_dispenser)"
   ]
  },
  {
   "cell_type": "markdown",
   "id": "8d60cfdc-3f5c-4d37-9ef0-797053a15304",
   "metadata": {},
   "source": [
    "The following code is not acceptable"
   ]
  },
  {
   "cell_type": "code",
   "execution_count": 32,
   "id": "46ace438-5ac4-46bd-b393-a2f66f176656",
   "metadata": {},
   "outputs": [],
   "source": [
    "beverage_dispenser = BeverageDispenser(Beverage())\n",
    "install(beverage_dispenser)"
   ]
  },
  {
   "cell_type": "markdown",
   "id": "0e5ed53d-541d-4c7e-b28a-1d7bb0273236",
   "metadata": {},
   "source": [
    "<h3>Contravariant</h3>"
   ]
  },
  {
   "cell_type": "markdown",
   "id": "367d7530-d5c6-496d-adec-8d046f3a752a",
   "metadata": {},
   "source": [
    "A contravariant type allows a generic type to be substituted by its supertypes, meaning it is more general and accepts types further up the hierarchy."
   ]
  },
  {
   "cell_type": "code",
   "execution_count": 33,
   "id": "ea32a900-1b0a-43d8-8851-c56ea08eed2b",
   "metadata": {},
   "outputs": [],
   "source": [
    "from typing import Generic, TypeVar\n",
    "\n",
    "\n",
    "class Refuse:\n",
    "    \"\"\"Any refuse.\"\"\"\n",
    "\n",
    "\n",
    "class Biodegradable(Refuse):\n",
    "    \"\"\"Biodegradable refuse.\"\"\"\n",
    "\n",
    "\n",
    "class Compostable(Biodegradable):\n",
    "    \"\"\"Compostable refuse.\"\"\"\n",
    "\n",
    "\n",
    "T_contra = TypeVar('T_contra', contravariant=True)\n",
    "\n",
    "\n",
    "class TrashCan(Generic[T_contra]):\n",
    "    def put(self, refuse: T_contra) -> None:\n",
    "        \"\"\"Store trash until dumped.\"\"\"\n",
    "\n",
    "\n",
    "def deploy(trash_can: TrashCan[Biodegradable]):\n",
    "    \"\"\"Deploy a trash can for biodegradable refuse.\"\"\""
   ]
  },
  {
   "cell_type": "markdown",
   "id": "20dfa967-87d7-43e1-9602-1b82fa83723a",
   "metadata": {},
   "source": [
    "The following code is acceptable"
   ]
  },
  {
   "cell_type": "code",
   "execution_count": 34,
   "id": "5d8899a9-732b-4763-b072-eea16126fb97",
   "metadata": {},
   "outputs": [],
   "source": [
    "bio_can: TrashCan[Biodegradable] = TrashCan()\n",
    "deploy(bio_can)\n",
    "\n",
    "trash_can: TrashCan[Refuse] = TrashCan()\n",
    "deploy(trash_can)"
   ]
  },
  {
   "cell_type": "markdown",
   "id": "368d92f9-7553-474d-8ebf-8870ac1d7583",
   "metadata": {},
   "source": [
    "The following code is not acceptable"
   ]
  },
  {
   "cell_type": "code",
   "execution_count": 35,
   "id": "2b661846-92da-4241-9c5d-d0702cd31f53",
   "metadata": {},
   "outputs": [],
   "source": [
    "compost_can: TrashCan[Compostable] = TrashCan()\n",
    "deploy(compost_can)"
   ]
  },
  {
   "cell_type": "markdown",
   "id": "d67bde75-f10e-4820-9d85-150007468d9b",
   "metadata": {},
   "source": [
    "<h2>Implementation of a Generic Static Protocol</h2>"
   ]
  },
  {
   "cell_type": "markdown",
   "id": "1a611b07-ff41-4ec8-ac66-1f3a43f911dc",
   "metadata": {},
   "source": [
    "A **generalized static protocol** defines flexible, generic interfaces using structural typing, ensuring objects meet method or attribute requirements with static type checking."
   ]
  },
  {
   "cell_type": "code",
   "execution_count": 36,
   "id": "8f0875ee-2b24-4518-bc3b-fc3d6ec17898",
   "metadata": {},
   "outputs": [],
   "source": [
    "from typing import Protocol, TypeVar\n",
    "\n",
    "T = TypeVar('T')\n",
    "\n",
    "\n",
    "# Define a generalized protocol\n",
    "class SupportsAdd(Protocol[T]):\n",
    "    def __add__(self, other: T) -> T: ...\n",
    "\n",
    "\n",
    "def add_two(a: SupportsAdd[T], b: T) -> T:\n",
    "    return a + b"
   ]
  },
  {
   "cell_type": "code",
   "execution_count": 37,
   "id": "efa6c72a-644a-4710-989f-d5a6e1ada1a8",
   "metadata": {},
   "outputs": [
    {
     "data": {
      "text/plain": [
       "3"
      ]
     },
     "execution_count": 37,
     "metadata": {},
     "output_type": "execute_result"
    }
   ],
   "source": [
    "add_two(1, 2)"
   ]
  },
  {
   "cell_type": "code",
   "execution_count": 38,
   "id": "a0947785-9904-495f-ba6c-f487acf0c8e9",
   "metadata": {},
   "outputs": [
    {
     "data": {
      "text/plain": [
       "'Hello, World!'"
      ]
     },
     "execution_count": 38,
     "metadata": {},
     "output_type": "execute_result"
    }
   ],
   "source": [
    "add_two('Hello, ', 'World!')"
   ]
  }
 ],
 "metadata": {
  "kernelspec": {
   "display_name": "Python 3 (ipykernel)",
   "language": "python",
   "name": "python3"
  },
  "language_info": {
   "codemirror_mode": {
    "name": "ipython",
    "version": 3
   },
   "file_extension": ".py",
   "mimetype": "text/x-python",
   "name": "python",
   "nbconvert_exporter": "python",
   "pygments_lexer": "ipython3",
   "version": "3.12.1"
  }
 },
 "nbformat": 4,
 "nbformat_minor": 5
}
