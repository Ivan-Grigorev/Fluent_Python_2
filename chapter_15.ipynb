{
 "cells": [
  {
   "cell_type": "markdown",
   "id": "f73a76c0-b15b-47cc-aa23-2ac14cfb00f8",
   "metadata": {},
   "source": [
    "<h1>Chapter 15. More about Type Annotations</h1>"
   ]
  },
  {
   "cell_type": "markdown",
   "id": "4a067b62-75a1-47c6-b8d8-3d3ad6678fc1",
   "metadata": {},
   "source": [
    "<h2>Overloaded Signatures</h2>"
   ]
  },
  {
   "cell_type": "markdown",
   "id": "dd58cfee-3fe7-4a1d-9cdd-c366a3d75680",
   "metadata": {},
   "source": [
    "The `@typing.overload` decorator in Python allows defining multiple type signatures for a single function, indicating it can accept different argument types and return types. It’s used for type checking, but only one actual implementation is provided."
   ]
  },
  {
   "cell_type": "code",
   "execution_count": 1,
   "id": "1b6bb928-7cf0-4a20-b4bf-1d3bfed5f4d4",
   "metadata": {},
   "outputs": [],
   "source": [
    "import functools\n",
    "import operator\n",
    "from collections.abc import Iterable\n",
    "from typing import TypeVar, Union, overload\n",
    "\n",
    "# Define type variables to represent any type\n",
    "T = TypeVar('T')\n",
    "S = TypeVar('S')\n",
    "\n",
    "\n",
    "# Overload function signatures for type checking\n",
    "# Overload 1: Sum with no start value defaults to returning T or int\n",
    "@overload\n",
    "def sum(it: Iterable[T]) -> Union[T, int]: ...\n",
    "\n",
    "\n",
    "# Overload 2: Sum with a specified start value returning T or S\n",
    "@overload\n",
    "def sum(it: Iterable[T], /, start: S) -> Union[T, S]: ...\n",
    "\n",
    "\n",
    "def sum(it, /, start=0):\n",
    "    return functools.reduce(operator.add, it, start)"
   ]
  },
  {
   "cell_type": "markdown",
   "id": "4ca0d44d-1233-4295-a466-45cda80a672f",
   "metadata": {},
   "source": [
    "<h3>Overload <code>max</code></h3>"
   ]
  },
  {
   "cell_type": "code",
   "execution_count": 2,
   "id": "a2c6df32-63fd-436b-b5aa-32d5f487708b",
   "metadata": {},
   "outputs": [],
   "source": [
    "from collections.abc import Callable, Iterable\n",
    "from typing import Any, Protocol, TypeVar, Union, overload\n",
    "\n",
    "\n",
    "class SupportsLessThan(Protocol):\n",
    "    def __lt__(self, other: Any) -> bool: ...\n",
    "\n",
    "\n",
    "T = TypeVar('T')\n",
    "LT = TypeVar('LT')\n",
    "DT = TypeVar('DT')\n",
    "\n",
    "# Sentinel object for missing default argument\n",
    "MISSING = object()\n",
    "EMPTY_MSG = 'max() arg is an empty sequence'\n",
    "\n",
    "\n",
    "@overload\n",
    "def max(__arg1: LT, __arg2: LT, *args: LT, key: None = ...) -> LT: ...\n",
    "@overload\n",
    "def max(__arg1: T, __arg2: T, *args: T, key: Callable[[T], LT]) -> T: ...\n",
    "@overload\n",
    "def max(__iterable: Iterable[LT], *, key: None = ...) -> LT: ...\n",
    "@overload\n",
    "def max(__iterable: Iterable[T], *, key: Callable[[T], LT]) -> T: ...\n",
    "@overload\n",
    "def max(__iterable: Iterable[LT], *, key: None = ..., default: DT) -> Union[LT, DT]: ...\n",
    "\n",
    "\n",
    "@overload\n",
    "def max(\n",
    "    __iterable: Iterable[T], *, key: Callable[[T], LT], default: DT\n",
    ") -> Union[T, DT]: ...\n",
    "\n",
    "\n",
    "def max(first, *args, key=None, default=MISSING):\n",
    "    if args:\n",
    "        series = args\n",
    "        candidate = first\n",
    "    else:\n",
    "        series = iter(first)\n",
    "        try:\n",
    "            candidate = next(series)\n",
    "        except StopIteration:\n",
    "            if default is not MISSING:\n",
    "                return default\n",
    "            raise ValueError(EMPTY_MSG) from None\n",
    "    if key is None:\n",
    "        for current in series:\n",
    "            if candidate < current:\n",
    "                candidate = current\n",
    "    else:\n",
    "        candidate_key = key(candidate)\n",
    "        for current in series:\n",
    "            current_key = key(current)\n",
    "            if candidate_key < current_key:\n",
    "                candidate = current\n",
    "                candidate_key = current_key\n",
    "    return candidate"
   ]
  },
  {
   "cell_type": "markdown",
   "id": "7485d502-2480-466f-a5e1-7be37339dbe1",
   "metadata": {},
   "source": [
    "Arguments that implement `SupportLessThan` but without setting `key` and `default`"
   ]
  },
  {
   "cell_type": "code",
   "execution_count": 3,
   "id": "92978162-5fc7-4f28-97e1-ccf954a94c51",
   "metadata": {},
   "outputs": [
    {
     "data": {
      "text/plain": [
       "2"
      ]
     },
     "execution_count": 3,
     "metadata": {},
     "output_type": "execute_result"
    }
   ],
   "source": [
    "max(1, 2, -3)"
   ]
  },
  {
   "cell_type": "code",
   "execution_count": 4,
   "id": "01dec17e-e811-4ad7-be2a-11f7c82c0114",
   "metadata": {},
   "outputs": [
    {
     "data": {
      "text/plain": [
       "'Rust'"
      ]
     },
     "execution_count": 4,
     "metadata": {},
     "output_type": "execute_result"
    }
   ],
   "source": [
    "max(['Go', 'Python', 'Rust'])"
   ]
  },
  {
   "cell_type": "markdown",
   "id": "4ae04984-4dae-4a25-a96f-27abb0106599",
   "metadata": {},
   "source": [
    "The `key` argument is set, the `default` argument is not"
   ]
  },
  {
   "cell_type": "code",
   "execution_count": 5,
   "id": "ecf6f7a9-1671-4290-912f-042cb978de51",
   "metadata": {},
   "outputs": [
    {
     "data": {
      "text/plain": [
       "-3"
      ]
     },
     "execution_count": 5,
     "metadata": {},
     "output_type": "execute_result"
    }
   ],
   "source": [
    "max(1, 2, -3, key=abs)"
   ]
  },
  {
   "cell_type": "code",
   "execution_count": 6,
   "id": "ac102c2f-e484-464d-9f9a-abbb3420956f",
   "metadata": {},
   "outputs": [
    {
     "data": {
      "text/plain": [
       "'Python'"
      ]
     },
     "execution_count": 6,
     "metadata": {},
     "output_type": "execute_result"
    }
   ],
   "source": [
    "max(['Go', 'Python', 'Rust'], key=len)"
   ]
  },
  {
   "cell_type": "markdown",
   "id": "b23bc208-454d-4a41-bc55-fb94bf11a8f9",
   "metadata": {},
   "source": [
    "The `default` argument is set, the `key` is not"
   ]
  },
  {
   "cell_type": "code",
   "execution_count": 7,
   "id": "bdbb76ff-909d-4676-be23-bf5cd9101114",
   "metadata": {},
   "outputs": [
    {
     "data": {
      "text/plain": [
       "2"
      ]
     },
     "execution_count": 7,
     "metadata": {},
     "output_type": "execute_result"
    }
   ],
   "source": [
    "max([1, 2, -3], default=0)"
   ]
  },
  {
   "cell_type": "code",
   "execution_count": 8,
   "id": "6c779add-51c6-478f-862a-6409214526e1",
   "metadata": {},
   "outputs": [],
   "source": [
    "max([], default=None)  # returns None"
   ]
  },
  {
   "cell_type": "markdown",
   "id": "421c77b7-0395-4a35-967d-7019a3eb8478",
   "metadata": {},
   "source": [
    "The `key` and `default` arguments are set"
   ]
  },
  {
   "cell_type": "code",
   "execution_count": 9,
   "id": "aedda379-5cb4-4140-a08f-fc4e314164b1",
   "metadata": {},
   "outputs": [
    {
     "data": {
      "text/plain": [
       "-3"
      ]
     },
     "execution_count": 9,
     "metadata": {},
     "output_type": "execute_result"
    }
   ],
   "source": [
    "max([1, 2, -3], key=abs, default=None)"
   ]
  },
  {
   "cell_type": "code",
   "execution_count": 10,
   "id": "8d818d8b-1686-4fc8-a6d0-d24c00af820a",
   "metadata": {},
   "outputs": [],
   "source": [
    "max([], key=abs, default=None)  # returns None"
   ]
  },
  {
   "cell_type": "markdown",
   "id": "ca721f35-41fb-4789-ab08-b2dbb89ed6bb",
   "metadata": {},
   "source": [
    "<h2>TypedDict</h2>"
   ]
  },
  {
   "cell_type": "markdown",
   "id": "d01754bf-57e7-4aa8-ad62-0338d7ef6696",
   "metadata": {},
   "source": [
    "`TypedDict` is a class in Python’s `typing` module used to define dictionaries with a fixed set of keys, where each key is associated with a specific type. It allows for more precise type checking by specifying the types of individual dictionary entries, making it easier to work with structured data while catching type errors early."
   ]
  },
  {
   "cell_type": "code",
   "execution_count": 11,
   "id": "56450fdc-e00e-4e90-99db-66ca6ec548ea",
   "metadata": {},
   "outputs": [],
   "source": [
    "from typing import TypedDict\n",
    "\n",
    "\n",
    "class BookDict(TypedDict):\n",
    "    isbn: str\n",
    "    title: str\n",
    "    authors: list[str]\n",
    "    pagecount: int"
   ]
  },
  {
   "cell_type": "code",
   "execution_count": 12,
   "id": "0deef342-32a9-4cff-9c38-159fc523e423",
   "metadata": {},
   "outputs": [
    {
     "data": {
      "text/plain": [
       "{'isbn': '0134757599',\n",
       " 'title': 'Refactoring, 2e',\n",
       " 'authors': ['Martin Fowler', 'Kent Beck'],\n",
       " 'pagecount': 256}"
      ]
     },
     "execution_count": 12,
     "metadata": {},
     "output_type": "execute_result"
    }
   ],
   "source": [
    "pp = BookDict(\n",
    "    isbn='0134757599',\n",
    "    title='Refactoring, 2e',\n",
    "    authors=['Martin Fowler', 'Kent Beck'],\n",
    "    pagecount=256,\n",
    ")\n",
    "\n",
    "pp"
   ]
  },
  {
   "cell_type": "code",
   "execution_count": 13,
   "id": "d96d3a8c-2d1c-4432-9052-bf3263004420",
   "metadata": {},
   "outputs": [
    {
     "data": {
      "text/plain": [
       "dict"
      ]
     },
     "execution_count": 13,
     "metadata": {},
     "output_type": "execute_result"
    }
   ],
   "source": [
    "type(pp)"
   ]
  },
  {
   "cell_type": "code",
   "execution_count": 14,
   "id": "71e4ba17-e6ad-4925-84eb-a27f3426e1ca",
   "metadata": {},
   "outputs": [
    {
     "name": "stdout",
     "output_type": "stream",
     "text": [
      "AttributeError(\"'dict' object has no attribute 'title'\")\n"
     ]
    }
   ],
   "source": [
    "try:\n",
    "    pp.title\n",
    "except AttributeError as e:\n",
    "    print(e.__repr__())"
   ]
  },
  {
   "cell_type": "code",
   "execution_count": 15,
   "id": "cf4bd55e-eff8-4858-b41d-496ea0157f86",
   "metadata": {},
   "outputs": [
    {
     "data": {
      "text/plain": [
       "'Refactoring, 2e'"
      ]
     },
     "execution_count": 15,
     "metadata": {},
     "output_type": "execute_result"
    }
   ],
   "source": [
    "pp['title']"
   ]
  },
  {
   "cell_type": "code",
   "execution_count": 16,
   "id": "bfe88972-ea6c-4f4e-95c7-40b69edb09d6",
   "metadata": {},
   "outputs": [
    {
     "data": {
      "text/plain": [
       "{'isbn': str, 'title': str, 'authors': list[str], 'pagecount': int}"
      ]
     },
     "execution_count": 16,
     "metadata": {},
     "output_type": "execute_result"
    }
   ],
   "source": [
    "BookDict.__annotations__"
   ]
  },
  {
   "cell_type": "markdown",
   "id": "42f038c6-8cbf-4028-a4c7-0a20ea843366",
   "metadata": {},
   "source": [
    "Using `BookDict` in the function signature"
   ]
  },
  {
   "cell_type": "code",
   "execution_count": 17,
   "id": "24780c0e-9339-4271-9c9a-2e6d348a4db3",
   "metadata": {},
   "outputs": [
    {
     "name": "stdout",
     "output_type": "stream",
     "text": [
      "<BOOK>\n",
      "\t<ISBN>0134757599</ISBN>\n",
      "\t<TITLE>Refactoring, 2e</TITLE>\n",
      "\t<AUTHOR>Martin Fowler</AUTHOR>\n",
      "\t<AUTHOR>Kent Beck</AUTHOR>\n",
      "\t<PAGECOUNT>256</PAGECOUNT>\n",
      "</BOOK>\n"
     ]
    }
   ],
   "source": [
    "AUTHOR_ELEMENT = '<AUTHOR>{}</AUTHOR>'\n",
    "\n",
    "\n",
    "def to_xml(book: BookDict) -> str:\n",
    "    elements: list[str] = []\n",
    "    for key, value in book.items():\n",
    "        if isinstance(value, list):\n",
    "            elements.extend(AUTHOR_ELEMENT.format(n) for n in value)\n",
    "        else:\n",
    "            tag = key.upper()\n",
    "            elements.append(f\"<{tag}>{value}</{tag}>\")\n",
    "    xml = '\\n\\t'.join(elements)\n",
    "    return f\"<BOOK>\\n\\t{xml}\\n</BOOK>\"\n",
    "\n",
    "\n",
    "print(to_xml(pp))"
   ]
  },
  {
   "cell_type": "markdown",
   "id": "b6dc55f1-6077-493e-9e0b-52ec1e6f5fbd",
   "metadata": {},
   "source": [
    "Function `from_json` with variable annotations that parses a `JSON` formatted string of type `str` and returns `BookDict`"
   ]
  },
  {
   "cell_type": "code",
   "execution_count": 18,
   "id": "683f150a-79ae-454c-91f0-25667b10ddf5",
   "metadata": {},
   "outputs": [],
   "source": [
    "import json\n",
    "\n",
    "\n",
    "def from_json(data: str) -> BookDict:\n",
    "    whatever: BookDict = json.loads(data)\n",
    "    return whatever"
   ]
  }
 ],
 "metadata": {
  "kernelspec": {
   "display_name": "Python 3 (ipykernel)",
   "language": "python",
   "name": "python3"
  },
  "language_info": {
   "codemirror_mode": {
    "name": "ipython",
    "version": 3
   },
   "file_extension": ".py",
   "mimetype": "text/x-python",
   "name": "python",
   "nbconvert_exporter": "python",
   "pygments_lexer": "ipython3",
   "version": "3.12.1"
  }
 },
 "nbformat": 4,
 "nbformat_minor": 5
}
