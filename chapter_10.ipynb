{
 "cells": [
  {
   "cell_type": "markdown",
   "id": "f29b03b6-5325-4784-976a-2adda71943aa",
   "metadata": {},
   "source": [
    "<h1>Chapter 10. Implementing Design Patterns with Full-Fledged Functions</h1>"
   ]
  },
  {
   "cell_type": "markdown",
   "id": "3e523b00-a629-4980-8e39-d13b1f75f2df",
   "metadata": {},
   "source": [
    "<h2>Practical Example: Reworking a Pattern Strategy</h2>"
   ]
  },
  {
   "cell_type": "markdown",
   "id": "58c6f998-6712-4b83-91c3-dcfd0ecd744d",
   "metadata": {},
   "source": [
    "<h3>Classic Strategy</h3>"
   ]
  },
  {
   "cell_type": "markdown",
   "id": "6a4c97fe-cc0d-47d1-9e96-4e5b6368bd2b",
   "metadata": {},
   "source": [
    "The Strategy pattern allows clients to select from a range of interchangeable algorithms during runtime, promoting flexibility and maintainability. It consists of three main components:</br>\n",
    "**Context**: This class maintains a reference to the current strategy and collaborates with it, providing an interface for accessing strategy algorithms.</br>\n",
    "**Strategy**: This interface or abstract class defines the contract for all supported algorithms, specifying common methods that concrete strategies must implement.</br>\n",
    "**Concrete Strategies**: These are individual algorithm implementations that adhere to the Strategy interface, providing specific implementations for each algorithm."
   ]
  },
  {
   "cell_type": "markdown",
   "id": "6edd2930-2973-4911-8eea-053148b63449",
   "metadata": {},
   "source": [
    "Implementation of the `Order` class using interchangeable discounting strategies. "
   ]
  },
  {
   "cell_type": "code",
   "execution_count": 1,
   "id": "2c4e31eb-7731-4343-baa3-782942949a8d",
   "metadata": {},
   "outputs": [],
   "source": [
    "from abc import ABC, abstractmethod\n",
    "from collections.abc import Sequence\n",
    "from decimal import Decimal\n",
    "from typing import NamedTuple, Optional\n",
    "\n",
    "\n",
    "class Customer(NamedTuple):\n",
    "    name: str\n",
    "    fidelity: int\n",
    "\n",
    "\n",
    "class LineItem(NamedTuple):\n",
    "    product: str\n",
    "    quantity: int\n",
    "    price: Decimal\n",
    "\n",
    "    def total(self) -> Decimal:\n",
    "        return self.price * self.quantity\n",
    "\n",
    "\n",
    "class Order(NamedTuple):  # the Context\n",
    "    customer: Customer\n",
    "    cart: Sequence[LineItem]\n",
    "    promotion: Optional['Promotion'] = None\n",
    "\n",
    "    def total(self) -> Decimal:\n",
    "        totals = (item.total() for item in self.cart)\n",
    "        return sum(totals, start=Decimal(0))\n",
    "\n",
    "    def due(self) -> Decimal:\n",
    "        if self.promotion is None:\n",
    "            discount = Decimal(0)\n",
    "        else:\n",
    "            discount = self.promotion.discount(self)\n",
    "        return self.total() - discount\n",
    "\n",
    "    def __repr__(self):\n",
    "        return f\"<Order total: {self.total():.2f} due: {self.due():.2f}>\"\n",
    "\n",
    "\n",
    "class Promotion(ABC):  # the Strategy: an abstract base class\n",
    "    @abstractmethod\n",
    "    def discount(self, order: Order) -> Decimal:\n",
    "        \"\"\"Return discount as a possitive dollar amount\"\"\"\n",
    "\n",
    "\n",
    "class FidelityPromo(Promotion):  # first Concrete Strategy\n",
    "    \"\"\"5% discount for customers with 1000 or more fidelity points\"\"\"\n",
    "\n",
    "    def discount(self, order: Order) -> Decimal:\n",
    "        rate = Decimal('0.05')\n",
    "        if order.customer.fidelity >= 1000:\n",
    "            return order.total() * rate\n",
    "        return Decimal(0)\n",
    "\n",
    "\n",
    "class BulkItemPromo(Promotion):  # second Concrete Strategy\n",
    "    \"\"\"10% discount for each LineItem with 20 or more units\"\"\"\n",
    "\n",
    "    def discount(self, order: Order) -> Decimal:\n",
    "        discount = Decimal(0)\n",
    "        for item in order.cart:\n",
    "            if item.quantity >= 20:\n",
    "                discount += item.total() * Decimal('0.1')\n",
    "        return discount\n",
    "\n",
    "\n",
    "class LargeOrderPromo(Promotion):  # third Concrete Strategy\n",
    "    \"\"\"7% discount for orders with 10 or more distinct items\"\"\"\n",
    "\n",
    "    def discount(self, order: Order) -> Decimal:\n",
    "        distinct_items = {item.product for item in order.cart}\n",
    "        if len(distinct_items) >= 10:\n",
    "            return order.total() * Decimal('0.07')\n",
    "        return Decimal(0)"
   ]
  },
  {
   "cell_type": "code",
   "execution_count": 2,
   "id": "11a1d2ed-87aa-41cb-9c69-5a9ef79c7a5d",
   "metadata": {},
   "outputs": [],
   "source": [
    "# Two customers: Joe has 0 loyalty, Ann has 1100\n",
    "joe = Customer(name='John Doe', fidelity=0)\n",
    "ann = Customer(name='Ann Smith', fidelity=1100)\n",
    "\n",
    "# One shopping card with three items\n",
    "cart = (\n",
    "    LineItem(product='banana', quantity=4, price=Decimal('.5')),\n",
    "    LineItem(product='apple', quantity=10, price=Decimal('1.5')),\n",
    "    LineItem(product='watermelon', quantity=5, price=Decimal(5)),\n",
    ")\n",
    "\n",
    "# The banana_cart contains 30 bananas and 10 apples\n",
    "banana_cart = (\n",
    "    LineItem(product='banana', quantity=30, price=Decimal('.5')),\n",
    "    LineItem(product='apple', quantity=10, price=Decimal('1.5')),\n",
    ")\n",
    "\n",
    "# There are different items in the long_oreder that cost 1.00$ each\n",
    "long_order = tuple(\n",
    "    LineItem(product=str(sku), quantity=1, price=Decimal(1)) for sku in range(10)\n",
    ")"
   ]
  },
  {
   "cell_type": "code",
   "execution_count": 5,
   "id": "54242ec5-b53a-4d31-9b45-598ac9a9f88b",
   "metadata": {},
   "outputs": [
    {
     "data": {
      "text/plain": [
       "<Order total: 42.00 due: 42.00>"
      ]
     },
     "execution_count": 5,
     "metadata": {},
     "output_type": "execute_result"
    }
   ],
   "source": [
    "Order(joe, cart, FidelityPromo())"
   ]
  },
  {
   "cell_type": "code",
   "execution_count": 6,
   "id": "787e9d14-105e-451a-9684-0b5904994e80",
   "metadata": {},
   "outputs": [
    {
     "data": {
      "text/plain": [
       "<Order total: 42.00 due: 39.90>"
      ]
     },
     "execution_count": 6,
     "metadata": {},
     "output_type": "execute_result"
    }
   ],
   "source": [
    "Order(ann, cart, FidelityPromo())"
   ]
  },
  {
   "cell_type": "code",
   "execution_count": 7,
   "id": "40ba8c53-cebe-4167-81a5-766e5b9f0196",
   "metadata": {},
   "outputs": [
    {
     "data": {
      "text/plain": [
       "<Order total: 30.00 due: 28.50>"
      ]
     },
     "execution_count": 7,
     "metadata": {},
     "output_type": "execute_result"
    }
   ],
   "source": [
    "Order(joe, banana_cart, BulkItemPromo())"
   ]
  },
  {
   "cell_type": "code",
   "execution_count": 8,
   "id": "cfc24eb3-f969-43ea-83df-e66e5fbeddab",
   "metadata": {},
   "outputs": [
    {
     "data": {
      "text/plain": [
       "<Order total: 30.00 due: 28.50>"
      ]
     },
     "execution_count": 8,
     "metadata": {},
     "output_type": "execute_result"
    }
   ],
   "source": [
    "Order(ann, banana_cart, BulkItemPromo())"
   ]
  },
  {
   "cell_type": "code",
   "execution_count": 9,
   "id": "de973b79-352c-4881-8650-7c1267315e6e",
   "metadata": {},
   "outputs": [
    {
     "data": {
      "text/plain": [
       "<Order total: 10.00 due: 9.30>"
      ]
     },
     "execution_count": 9,
     "metadata": {},
     "output_type": "execute_result"
    }
   ],
   "source": [
    "Order(joe, long_order, LargeOrderPromo())"
   ]
  },
  {
   "cell_type": "code",
   "execution_count": 10,
   "id": "8c09239a-8f8f-408d-be43-c392bc6126bd",
   "metadata": {},
   "outputs": [
    {
     "data": {
      "text/plain": [
       "<Order total: 10.00 due: 9.30>"
      ]
     },
     "execution_count": 10,
     "metadata": {},
     "output_type": "execute_result"
    }
   ],
   "source": [
    "Order(ann, long_order, LargeOrderPromo())"
   ]
  },
  {
   "cell_type": "code",
   "execution_count": null,
   "id": "4d101538-729a-41d5-819a-8aa24f5928a9",
   "metadata": {},
   "outputs": [],
   "source": []
  }
 ],
 "metadata": {
  "kernelspec": {
   "display_name": "Python 3 (ipykernel)",
   "language": "python",
   "name": "python3"
  },
  "language_info": {
   "codemirror_mode": {
    "name": "ipython",
    "version": 3
   },
   "file_extension": ".py",
   "mimetype": "text/x-python",
   "name": "python",
   "nbconvert_exporter": "python",
   "pygments_lexer": "ipython3",
   "version": "3.12.1"
  }
 },
 "nbformat": 4,
 "nbformat_minor": 5
}
