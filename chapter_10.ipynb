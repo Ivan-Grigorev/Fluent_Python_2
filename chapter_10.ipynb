{
 "cells": [
  {
   "cell_type": "markdown",
   "id": "f29b03b6-5325-4784-976a-2adda71943aa",
   "metadata": {},
   "source": [
    "<h1>Implementing Design Patterns with Full-Fledged Functions</h1>"
   ]
  },
  {
   "cell_type": "code",
   "execution_count": null,
   "id": "2c64761a-8bd0-4843-9c88-620125632201",
   "metadata": {},
   "outputs": [],
   "source": []
  }
 ],
 "metadata": {
  "kernelspec": {
   "display_name": "Python 3 (ipykernel)",
   "language": "python",
   "name": "python3"
  },
  "language_info": {
   "codemirror_mode": {
    "name": "ipython",
    "version": 3
   },
   "file_extension": ".py",
   "mimetype": "text/x-python",
   "name": "python",
   "nbconvert_exporter": "python",
   "pygments_lexer": "ipython3",
   "version": "3.12.1"
  }
 },
 "nbformat": 4,
 "nbformat_minor": 5
}
