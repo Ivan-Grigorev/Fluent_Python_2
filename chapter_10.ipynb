{
 "cells": [
  {
   "cell_type": "markdown",
   "id": "f29b03b6-5325-4784-976a-2adda71943aa",
   "metadata": {},
   "source": [
    "<h1>Chapter 10. Implementing Design Patterns with Full-Fledged Functions</h1>"
   ]
  },
  {
   "cell_type": "markdown",
   "id": "3e523b00-a629-4980-8e39-d13b1f75f2df",
   "metadata": {},
   "source": [
    "<h2>Practical Example: Reworking a Pattern Strategy</h2>"
   ]
  },
  {
   "cell_type": "markdown",
   "id": "58c6f998-6712-4b83-91c3-dcfd0ecd744d",
   "metadata": {},
   "source": [
    "<h3>Classic Strategy</h3>"
   ]
  },
  {
   "cell_type": "markdown",
   "id": "6a4c97fe-cc0d-47d1-9e96-4e5b6368bd2b",
   "metadata": {},
   "source": [
    "The Strategy pattern allows clients to select from a range of interchangeable algorithms during runtime, promoting flexibility and maintainability. It consists of three main components:</br>\n",
    "**Context**: This class maintains a reference to the current strategy and collaborates with it, providing an interface for accessing strategy algorithms.</br>\n",
    "**Strategy**: This interface or abstract class defines the contract for all supported algorithms, specifying common methods that concrete strategies must implement.</br>\n",
    "**Concrete Strategies**: These are individual algorithm implementations that adhere to the Strategy interface, providing specific implementations for each algorithm."
   ]
  },
  {
   "cell_type": "markdown",
   "id": "6edd2930-2973-4911-8eea-053148b63449",
   "metadata": {},
   "source": [
    "Implementation of the `Order` class using interchangeable discounting strategies. "
   ]
  },
  {
   "cell_type": "code",
   "execution_count": 1,
   "id": "2c4e31eb-7731-4343-baa3-782942949a8d",
   "metadata": {},
   "outputs": [],
   "source": [
    "from abc import ABC, abstractmethod\n",
    "from collections.abc import Sequence\n",
    "from decimal import Decimal\n",
    "from typing import NamedTuple, Optional\n",
    "\n",
    "\n",
    "class Customer(NamedTuple):\n",
    "    name: str\n",
    "    fidelity: int\n",
    "\n",
    "\n",
    "class LineItem(NamedTuple):\n",
    "    product: str\n",
    "    quantity: int\n",
    "    price: Decimal\n",
    "\n",
    "    def total(self) -> Decimal:\n",
    "        return self.price * self.quantity\n",
    "\n",
    "\n",
    "class Order(NamedTuple):  # the Context\n",
    "    customer: Customer\n",
    "    cart: Sequence[LineItem]\n",
    "    promotion: Optional['Promotion'] = None\n",
    "\n",
    "    def total(self) -> Decimal:\n",
    "        totals = (item.total() for item in self.cart)\n",
    "        return sum(totals, start=Decimal(0))\n",
    "\n",
    "    def due(self) -> Decimal:\n",
    "        if self.promotion is None:\n",
    "            discount = Decimal(0)\n",
    "        else:\n",
    "            discount = self.promotion.discount(self)\n",
    "        return self.total() - discount\n",
    "\n",
    "    def __repr__(self):\n",
    "        return f\"<Order total: {self.total():.2f} due: {self.due():.2f}>\"\n",
    "\n",
    "\n",
    "class Promotion(ABC):  # the Strategy: an abstract base class\n",
    "    @abstractmethod\n",
    "    def discount(self, order: Order) -> Decimal:\n",
    "        \"\"\"Return discount as a possitive dollar amount\"\"\"\n",
    "\n",
    "\n",
    "class FidelityPromo(Promotion):  # first Concrete Strategy\n",
    "    \"\"\"5% discount for customers with 1000 or more fidelity points\"\"\"\n",
    "\n",
    "    def discount(self, order: Order) -> Decimal:\n",
    "        rate = Decimal('0.05')\n",
    "        if order.customer.fidelity >= 1000:\n",
    "            return order.total() * rate\n",
    "        return Decimal(0)\n",
    "\n",
    "\n",
    "class BulkItemPromo(Promotion):  # second Concrete Strategy\n",
    "    \"\"\"10% discount for each LineItem with 20 or more units\"\"\"\n",
    "\n",
    "    def discount(self, order: Order) -> Decimal:\n",
    "        discount = Decimal(0)\n",
    "        for item in order.cart:\n",
    "            if item.quantity >= 20:\n",
    "                discount += item.total() * Decimal('0.1')\n",
    "        return discount\n",
    "\n",
    "\n",
    "class LargeOrderPromo(Promotion):  # third Concrete Strategy\n",
    "    \"\"\"7% discount for orders with 10 or more distinct items\"\"\"\n",
    "\n",
    "    def discount(self, order: Order) -> Decimal:\n",
    "        distinct_items = {item.product for item in order.cart}\n",
    "        if len(distinct_items) >= 10:\n",
    "            return order.total() * Decimal('0.07')\n",
    "        return Decimal(0)"
   ]
  },
  {
   "cell_type": "code",
   "execution_count": 2,
   "id": "11a1d2ed-87aa-41cb-9c69-5a9ef79c7a5d",
   "metadata": {},
   "outputs": [],
   "source": [
    "# Two customers: Joe has 0 loyalty, Ann has 1100\n",
    "joe = Customer(name='John Doe', fidelity=0)\n",
    "ann = Customer(name='Ann Smith', fidelity=1100)\n",
    "\n",
    "# One shopping card with three items\n",
    "cart = (\n",
    "    LineItem(product='banana', quantity=4, price=Decimal('.5')),\n",
    "    LineItem(product='apple', quantity=10, price=Decimal('1.5')),\n",
    "    LineItem(product='watermelon', quantity=5, price=Decimal(5)),\n",
    ")\n",
    "\n",
    "# The banana_cart contains 30 bananas and 10 apples\n",
    "banana_cart = (\n",
    "    LineItem(product='banana', quantity=30, price=Decimal('.5')),\n",
    "    LineItem(product='apple', quantity=10, price=Decimal('1.5')),\n",
    ")\n",
    "\n",
    "# There are different items in the long_cart that cost 1.00$ each\n",
    "long_cart = tuple(\n",
    "    LineItem(product=str(sku), quantity=1, price=Decimal(1)) for sku in range(10)\n",
    ")"
   ]
  },
  {
   "cell_type": "code",
   "execution_count": 3,
   "id": "54242ec5-b53a-4d31-9b45-598ac9a9f88b",
   "metadata": {},
   "outputs": [
    {
     "data": {
      "text/plain": [
       "<Order total: 42.00 due: 42.00>"
      ]
     },
     "execution_count": 3,
     "metadata": {},
     "output_type": "execute_result"
    }
   ],
   "source": [
    "Order(joe, cart, FidelityPromo())"
   ]
  },
  {
   "cell_type": "code",
   "execution_count": 4,
   "id": "787e9d14-105e-451a-9684-0b5904994e80",
   "metadata": {},
   "outputs": [
    {
     "data": {
      "text/plain": [
       "<Order total: 42.00 due: 39.90>"
      ]
     },
     "execution_count": 4,
     "metadata": {},
     "output_type": "execute_result"
    }
   ],
   "source": [
    "Order(ann, cart, FidelityPromo())"
   ]
  },
  {
   "cell_type": "code",
   "execution_count": 5,
   "id": "40ba8c53-cebe-4167-81a5-766e5b9f0196",
   "metadata": {},
   "outputs": [
    {
     "data": {
      "text/plain": [
       "<Order total: 30.00 due: 28.50>"
      ]
     },
     "execution_count": 5,
     "metadata": {},
     "output_type": "execute_result"
    }
   ],
   "source": [
    "Order(joe, banana_cart, BulkItemPromo())"
   ]
  },
  {
   "cell_type": "code",
   "execution_count": 6,
   "id": "cfc24eb3-f969-43ea-83df-e66e5fbeddab",
   "metadata": {},
   "outputs": [
    {
     "data": {
      "text/plain": [
       "<Order total: 30.00 due: 28.50>"
      ]
     },
     "execution_count": 6,
     "metadata": {},
     "output_type": "execute_result"
    }
   ],
   "source": [
    "Order(ann, banana_cart, BulkItemPromo())"
   ]
  },
  {
   "cell_type": "code",
   "execution_count": 7,
   "id": "de973b79-352c-4881-8650-7c1267315e6e",
   "metadata": {},
   "outputs": [
    {
     "data": {
      "text/plain": [
       "<Order total: 10.00 due: 9.30>"
      ]
     },
     "execution_count": 7,
     "metadata": {},
     "output_type": "execute_result"
    }
   ],
   "source": [
    "Order(joe, long_cart, LargeOrderPromo())"
   ]
  },
  {
   "cell_type": "code",
   "execution_count": 8,
   "id": "8c09239a-8f8f-408d-be43-c392bc6126bd",
   "metadata": {},
   "outputs": [
    {
     "data": {
      "text/plain": [
       "<Order total: 10.00 due: 9.30>"
      ]
     },
     "execution_count": 8,
     "metadata": {},
     "output_type": "execute_result"
    }
   ],
   "source": [
    "Order(ann, long_cart, LargeOrderPromo())"
   ]
  },
  {
   "cell_type": "markdown",
   "id": "1cac93ed-3535-4d4f-ae55-8331ee65a64d",
   "metadata": {},
   "source": [
    "<h2>Functionally-Oriented Strategy</h2>"
   ]
  },
  {
   "cell_type": "markdown",
   "id": "7620f83c-d14d-4f7a-ae23-30c9ae12b7c9",
   "metadata": {},
   "source": [
    "`Order` class, in which the discounting srategies are implemented as functions"
   ]
  },
  {
   "cell_type": "code",
   "execution_count": 9,
   "id": "9e396e57-deae-488c-beae-1db57e17e63c",
   "metadata": {},
   "outputs": [],
   "source": [
    "from collections.abc import Sequence\n",
    "from decimal import Decimal\n",
    "from typing import Callable, NamedTuple, Optional\n",
    "\n",
    "\n",
    "class Customer(NamedTuple):\n",
    "    name: str\n",
    "    fidelity: int\n",
    "\n",
    "\n",
    "class LineItem(NamedTuple):\n",
    "    product: str\n",
    "    quantity: int\n",
    "    price: Decimal\n",
    "\n",
    "    def total(self):\n",
    "        return self.price * self.quantity\n",
    "\n",
    "\n",
    "class Order(NamedTuple):  # the Context\n",
    "    customer: Customer\n",
    "    cart: Sequence[LineItem]\n",
    "    # promotion can be None or a callable object that takes\n",
    "    # an argument of type Order and returns Decimal\n",
    "    promotion: Optional[Callable[['Order'], Decimal]] = None\n",
    "\n",
    "    def total(self) -> Decimal:\n",
    "        totals = (item.total() for item in self.cart)\n",
    "        return sum(totals, start=Decimal(0))\n",
    "\n",
    "    def due(self) -> Decimal:\n",
    "        if self.promotion is None:\n",
    "            discount = Decimal(0)\n",
    "        else:\n",
    "            discount = self.promotion(self)\n",
    "        return self.total() - discount\n",
    "\n",
    "    def __repr__(self):\n",
    "        return f\"<Order total: {self.total():.2f} due: {self.due():.2f}>\"\n",
    "\n",
    "\n",
    "# There is no more Abstract class\n",
    "# Each strategy is a function\n",
    "def fidelity_promo(order: Order) -> Decimal:\n",
    "    \"\"\"5% discount for customers with 1000 or more fidelity points\"\"\"\n",
    "    if order.customer.fidelity >= 1000:\n",
    "        return order.total() * Decimal('0.05')\n",
    "    return Decimal(0)\n",
    "\n",
    "\n",
    "def bulk_item_promo(order: Order) -> Decimal:\n",
    "    \"\"\"10% discount for each LineItem with 20 or more units\"\"\"\n",
    "    discount = Decimal(0)\n",
    "    for item in order.cart:\n",
    "        if item.quantity >= 20:\n",
    "            discount += item.total() * Decimal('0.1')\n",
    "    return discount\n",
    "\n",
    "\n",
    "def large_order_promo(order: Order) -> Decimal:\n",
    "    \"\"\"7% discount for orders with 10 or more disctinct items\"\"\"\n",
    "    distinct_items = {item.product for item in order.cart}\n",
    "    if len(distinct_items) >= 10:\n",
    "        return order.total() * Decimal('0.07')\n",
    "    return Decimal(0)"
   ]
  },
  {
   "cell_type": "code",
   "execution_count": 10,
   "id": "beaab942-e558-466b-b3a2-6708647568d5",
   "metadata": {},
   "outputs": [],
   "source": [
    "joe = Customer(name='John Doe', fidelity=0)\n",
    "ann = Customer(name='Ann Smith', fidelity=1100)\n",
    "\n",
    "cart = (\n",
    "    LineItem(product='banana', quantity=4, price=Decimal('.5')),\n",
    "    LineItem(product='apple', quantity=10, price=Decimal('1.5')),\n",
    "    LineItem(product='watermelon', quantity=5, price=Decimal(5)),\n",
    ")\n",
    "\n",
    "banana_cart = (\n",
    "    LineItem(product='banana', quantity=30, price=Decimal('.5')),\n",
    "    LineItem(product='apple', quantity=10, price=Decimal('1.5')),\n",
    ")\n",
    "\n",
    "long_cart = tuple(\n",
    "    LineItem(product=str(sku), quantity=1, price=Decimal(1)) for sku in range(10)\n",
    ")"
   ]
  },
  {
   "cell_type": "code",
   "execution_count": 11,
   "id": "c6e2c069-e9ee-495b-952d-67bdaa5b35d0",
   "metadata": {},
   "outputs": [
    {
     "data": {
      "text/plain": [
       "<Order total: 42.00 due: 42.00>"
      ]
     },
     "execution_count": 11,
     "metadata": {},
     "output_type": "execute_result"
    }
   ],
   "source": [
    "Order(joe, cart, fidelity_promo)"
   ]
  },
  {
   "cell_type": "code",
   "execution_count": 12,
   "id": "4bc3ccea-56fa-4b77-bc0a-06ac3bd713db",
   "metadata": {},
   "outputs": [
    {
     "data": {
      "text/plain": [
       "<Order total: 42.00 due: 39.90>"
      ]
     },
     "execution_count": 12,
     "metadata": {},
     "output_type": "execute_result"
    }
   ],
   "source": [
    "Order(ann, cart, fidelity_promo)"
   ]
  },
  {
   "cell_type": "code",
   "execution_count": 13,
   "id": "536542e7-d73b-4c5a-9f14-9fe0800f0dd7",
   "metadata": {},
   "outputs": [
    {
     "data": {
      "text/plain": [
       "<Order total: 30.00 due: 28.50>"
      ]
     },
     "execution_count": 13,
     "metadata": {},
     "output_type": "execute_result"
    }
   ],
   "source": [
    "Order(joe, banana_cart, bulk_item_promo)"
   ]
  },
  {
   "cell_type": "code",
   "execution_count": 14,
   "id": "4d60b290-4d45-474e-b5bc-8f8edd636894",
   "metadata": {},
   "outputs": [
    {
     "data": {
      "text/plain": [
       "<Order total: 30.00 due: 28.50>"
      ]
     },
     "execution_count": 14,
     "metadata": {},
     "output_type": "execute_result"
    }
   ],
   "source": [
    "Order(ann, banana_cart, bulk_item_promo)"
   ]
  },
  {
   "cell_type": "code",
   "execution_count": 15,
   "id": "185f22d3-16bc-4bf5-b869-a8df1b341489",
   "metadata": {},
   "outputs": [
    {
     "data": {
      "text/plain": [
       "<Order total: 10.00 due: 9.30>"
      ]
     },
     "execution_count": 15,
     "metadata": {},
     "output_type": "execute_result"
    }
   ],
   "source": [
    "Order(joe, long_cart, large_order_promo)"
   ]
  },
  {
   "cell_type": "code",
   "execution_count": 16,
   "id": "6616cabd-609a-43a6-8774-c8eccc0be64a",
   "metadata": {},
   "outputs": [
    {
     "data": {
      "text/plain": [
       "<Order total: 10.00 due: 9.30>"
      ]
     },
     "execution_count": 16,
     "metadata": {},
     "output_type": "execute_result"
    }
   ],
   "source": [
    "Order(ann, long_cart, large_order_promo)"
   ]
  },
  {
   "cell_type": "markdown",
   "id": "550ea688-19c4-47f8-94be-29407896c67e",
   "metadata": {},
   "source": [
    "<h3>Choosing the Best Strategy: a Simple Approach</h3>"
   ]
  },
  {
   "cell_type": "markdown",
   "id": "765a9e7a-13c8-438f-a47e-7e234cc70b3b",
   "metadata": {},
   "source": [
    "The `best_promo` function applies all strategies and returns the biggest discount"
   ]
  },
  {
   "cell_type": "code",
   "execution_count": 17,
   "id": "c2bff19c-0b7a-4bfe-8c13-6fc1ab20024f",
   "metadata": {},
   "outputs": [],
   "source": [
    "PROMOS = [fidelity_promo, bulk_item_promo, large_order_promo]\n",
    "\n",
    "\n",
    "def best_promo(order: Order) -> Decimal:\n",
    "    \"\"\"Compute the best discount available\"\"\"\n",
    "    return max(promo(order) for promo in PROMOS)"
   ]
  },
  {
   "cell_type": "code",
   "execution_count": 18,
   "id": "c8203cf6-d811-4a2d-8798-5eebfe133661",
   "metadata": {},
   "outputs": [
    {
     "data": {
      "text/plain": [
       "<Order total: 42.00 due: 42.00>"
      ]
     },
     "execution_count": 18,
     "metadata": {},
     "output_type": "execute_result"
    }
   ],
   "source": [
    "Order(joe, cart, best_promo)"
   ]
  },
  {
   "cell_type": "code",
   "execution_count": 19,
   "id": "9728b5b6-2f72-47a7-a1c2-3c7dbd8d39c3",
   "metadata": {},
   "outputs": [
    {
     "data": {
      "text/plain": [
       "<Order total: 42.00 due: 39.90>"
      ]
     },
     "execution_count": 19,
     "metadata": {},
     "output_type": "execute_result"
    }
   ],
   "source": [
    "Order(ann, cart, best_promo)"
   ]
  },
  {
   "cell_type": "code",
   "execution_count": 20,
   "id": "7a037875-95b9-4b53-99c9-a79318581610",
   "metadata": {},
   "outputs": [
    {
     "data": {
      "text/plain": [
       "<Order total: 30.00 due: 28.50>"
      ]
     },
     "execution_count": 20,
     "metadata": {},
     "output_type": "execute_result"
    }
   ],
   "source": [
    "Order(joe, banana_cart, best_promo)"
   ]
  },
  {
   "cell_type": "code",
   "execution_count": 21,
   "id": "0ee46689-df57-4ade-a84b-3f3a2c238d66",
   "metadata": {},
   "outputs": [
    {
     "data": {
      "text/plain": [
       "<Order total: 30.00 due: 28.50>"
      ]
     },
     "execution_count": 21,
     "metadata": {},
     "output_type": "execute_result"
    }
   ],
   "source": [
    "Order(ann, banana_cart, best_promo)"
   ]
  },
  {
   "cell_type": "code",
   "execution_count": 22,
   "id": "bae9de4b-9ab2-48a3-b787-e1fa39c043a7",
   "metadata": {},
   "outputs": [
    {
     "data": {
      "text/plain": [
       "<Order total: 10.00 due: 9.30>"
      ]
     },
     "execution_count": 22,
     "metadata": {},
     "output_type": "execute_result"
    }
   ],
   "source": [
    "Order(joe, long_cart, best_promo)"
   ]
  },
  {
   "cell_type": "code",
   "execution_count": 23,
   "id": "1a02204a-68b0-4fb7-801a-7e736680b486",
   "metadata": {},
   "outputs": [
    {
     "data": {
      "text/plain": [
       "<Order total: 10.00 due: 9.30>"
      ]
     },
     "execution_count": 23,
     "metadata": {},
     "output_type": "execute_result"
    }
   ],
   "source": [
    "Order(ann, long_cart, best_promo)"
   ]
  },
  {
   "cell_type": "markdown",
   "id": "f7dfcf8b-3caf-4cfb-b494-d6290a2dadd2",
   "metadata": {},
   "source": [
    "<h3>Search for Strategies in the Module</h3>"
   ]
  },
  {
   "cell_type": "markdown",
   "id": "4da95758-f4a7-4281-b2ef-83197f806ab2",
   "metadata": {},
   "source": [
    "`globals()` returns a dictionary representing the current table of global symbologies. This is always the dictionary of the current module (within a function or method, it is the module where the function or method is defined, not the module from which it is called)."
   ]
  },
  {
   "cell_type": "code",
   "execution_count": 24,
   "id": "872564e4-ebeb-4874-b874-1f1b1ff17a41",
   "metadata": {},
   "outputs": [],
   "source": [
    "PROMOS = [\n",
    "    promo\n",
    "    for name, promo in globals().items()\n",
    "    if name.endswith('_promo') and name != 'best_promo'\n",
    "]\n",
    "\n",
    "\n",
    "def best_promo(order: Order) -> Decimal:\n",
    "    \"\"\"Compute the best discount available\"\"\"\n",
    "    return max(promo(order) for promo in PROMOS)"
   ]
  },
  {
   "cell_type": "code",
   "execution_count": 25,
   "id": "4c2b21f0-854c-45d5-89e0-ab39014736fc",
   "metadata": {},
   "outputs": [
    {
     "data": {
      "text/plain": [
       "<Order total: 42.00 due: 42.00>"
      ]
     },
     "execution_count": 25,
     "metadata": {},
     "output_type": "execute_result"
    }
   ],
   "source": [
    "Order(joe, cart, best_promo)"
   ]
  },
  {
   "cell_type": "code",
   "execution_count": 26,
   "id": "99bc05d4-aedf-466a-bf5c-09490a34c7b1",
   "metadata": {},
   "outputs": [
    {
     "data": {
      "text/plain": [
       "<Order total: 42.00 due: 39.90>"
      ]
     },
     "execution_count": 26,
     "metadata": {},
     "output_type": "execute_result"
    }
   ],
   "source": [
    "Order(ann, cart, best_promo)"
   ]
  },
  {
   "cell_type": "code",
   "execution_count": 27,
   "id": "89f836cf-1b07-45d2-86d8-a758ee08d8bd",
   "metadata": {},
   "outputs": [
    {
     "data": {
      "text/plain": [
       "<Order total: 30.00 due: 28.50>"
      ]
     },
     "execution_count": 27,
     "metadata": {},
     "output_type": "execute_result"
    }
   ],
   "source": [
    "Order(joe, banana_cart, best_promo)"
   ]
  },
  {
   "cell_type": "code",
   "execution_count": 28,
   "id": "db398ec4-cedb-444e-af0a-7c6ef7f91f59",
   "metadata": {},
   "outputs": [
    {
     "data": {
      "text/plain": [
       "<Order total: 30.00 due: 28.50>"
      ]
     },
     "execution_count": 28,
     "metadata": {},
     "output_type": "execute_result"
    }
   ],
   "source": [
    "Order(ann, banana_cart, best_promo)"
   ]
  },
  {
   "cell_type": "code",
   "execution_count": 29,
   "id": "6393314c-9616-4e9e-906e-9ea2f909a3f9",
   "metadata": {},
   "outputs": [
    {
     "data": {
      "text/plain": [
       "<Order total: 10.00 due: 9.30>"
      ]
     },
     "execution_count": 29,
     "metadata": {},
     "output_type": "execute_result"
    }
   ],
   "source": [
    "Order(joe, long_cart, best_promo)"
   ]
  },
  {
   "cell_type": "code",
   "execution_count": 30,
   "id": "cfa9308a-e7cf-4eb5-bfc8-ca5271515532",
   "metadata": {},
   "outputs": [
    {
     "data": {
      "text/plain": [
       "<Order total: 10.00 due: 9.30>"
      ]
     },
     "execution_count": 30,
     "metadata": {},
     "output_type": "execute_result"
    }
   ],
   "source": [
    "Order(ann, long_cart, best_promo)"
   ]
  },
  {
   "cell_type": "markdown",
   "id": "501f3035-f1fc-4b7b-bc8c-5a68d1686053",
   "metadata": {},
   "source": [
    "<h2>Pattern Strategy, Complete with Decorator</h2>"
   ]
  },
  {
   "cell_type": "markdown",
   "id": "5c6d0418-1737-4ed7-83b6-c36f6d3c9786",
   "metadata": {},
   "source": [
    "The list `PROMOS` is filled out by the `@promotion` decorator"
   ]
  },
  {
   "cell_type": "code",
   "execution_count": 31,
   "id": "101c41a3-7e0b-4d8b-8dc9-f9a4abc4dd1b",
   "metadata": {},
   "outputs": [],
   "source": [
    "from decimal import Decimal\n",
    "from typing import Callable, NamedTuple, Optional\n",
    "\n",
    "\n",
    "class Customer(NamedTuple):\n",
    "    name: str\n",
    "    fidelity: int\n",
    "\n",
    "\n",
    "class LineItem(NamedTuple):\n",
    "    product: str\n",
    "    quantity: int\n",
    "    price: Decimal\n",
    "\n",
    "    def total(self):\n",
    "        return self.price * self.quantity\n",
    "\n",
    "\n",
    "class Order(NamedTuple):\n",
    "    customer: Customer\n",
    "    cart: Sequence[LineItem]\n",
    "    promotion: Optional[Callable[['Order'], Decimal]] = None\n",
    "\n",
    "    def total(self) -> Decimal:\n",
    "        totals = (item.total() for item in self.cart)\n",
    "        return sum(totals, start=Decimal(0))\n",
    "\n",
    "    def due(self) -> Decimal:\n",
    "        if self.promotion is None:\n",
    "            discount = Decimal(0)\n",
    "        else:\n",
    "            discount = self.promotion(self)\n",
    "        return self.total() - discount\n",
    "\n",
    "    def __repr__(self):\n",
    "        return f\"<Order total: {self.total():.2f} due: {self.due():.2f}>\"\n",
    "\n",
    "\n",
    "Promotion: Callable[[Order], Decimal]\n",
    "\n",
    "# The list is global at module and is initially empty\n",
    "PROMOS: list[Promotion] = []\n",
    "\n",
    "\n",
    "# The promotion registration decorator returns the promo_func function unchanged,\n",
    "# but adds it to PROMOS list\n",
    "def promotion(promo: Promotion) -> Promotion:\n",
    "    PROMOS.append(promo)\n",
    "    return promo\n",
    "\n",
    "\n",
    "# The best_promo function is unchanged because\n",
    "# it depends only on the list of PROMOS\n",
    "def best_promo(order: Order) -> Decimal:\n",
    "    \"\"\"Compute the best discount available\"\"\"\n",
    "    return max(promo(order) for promo in PROMOS)\n",
    "\n",
    "\n",
    "# All functions decorated by @promotion are added to PROMOS\n",
    "@promotion\n",
    "def fidelity(order: Order) -> Decimal:\n",
    "    \"\"\"5% discount for customers with 1000 or more fidelity points\"\"\"\n",
    "    if order.customer.fidelity >= 1000:\n",
    "        return order.total() * Decimal('0.05')\n",
    "    return Decimal(0)\n",
    "\n",
    "\n",
    "@promotion\n",
    "def bulk_item(order: Order) -> Decimal:\n",
    "    \"\"\"10% discount for each LineItem with 20 or more units\"\"\"\n",
    "    discount = Decimal(0)\n",
    "    for item in order.cart:\n",
    "        if item.quantity >= 20:\n",
    "            discount += item.total() * Decimal('0.1')\n",
    "    return discount\n",
    "\n",
    "\n",
    "@promotion\n",
    "def large_order(order: Order) -> Decimal:\n",
    "    \"\"\"7% discount for orders with 10 or more distinct items\"\"\"\n",
    "    distinct_items = {item.product for item in order.cart}\n",
    "    if len(distinct_items) >= 10:\n",
    "        return order.total() * Decimal('0.07')\n",
    "    return Decimal(0)"
   ]
  },
  {
   "cell_type": "code",
   "execution_count": 32,
   "id": "dd871828-93e3-4a87-9a1f-cb492d5ed3d9",
   "metadata": {},
   "outputs": [
    {
     "data": {
      "text/plain": [
       "<Order total: 42.00 due: 42.00>"
      ]
     },
     "execution_count": 32,
     "metadata": {},
     "output_type": "execute_result"
    }
   ],
   "source": [
    "Order(joe, cart, best_promo)"
   ]
  },
  {
   "cell_type": "code",
   "execution_count": 33,
   "id": "c82edf4d-c74a-48f0-8623-0d9e916953ba",
   "metadata": {},
   "outputs": [
    {
     "data": {
      "text/plain": [
       "<Order total: 42.00 due: 39.90>"
      ]
     },
     "execution_count": 33,
     "metadata": {},
     "output_type": "execute_result"
    }
   ],
   "source": [
    "Order(ann, cart, best_promo)"
   ]
  },
  {
   "cell_type": "code",
   "execution_count": 34,
   "id": "cd0fc729-0a72-496e-a751-317f2991a235",
   "metadata": {},
   "outputs": [
    {
     "data": {
      "text/plain": [
       "<Order total: 30.00 due: 28.50>"
      ]
     },
     "execution_count": 34,
     "metadata": {},
     "output_type": "execute_result"
    }
   ],
   "source": [
    "Order(joe, banana_cart, best_promo)"
   ]
  },
  {
   "cell_type": "code",
   "execution_count": 35,
   "id": "64bcb08d-c314-4703-92a7-925b7db72da2",
   "metadata": {},
   "outputs": [
    {
     "data": {
      "text/plain": [
       "<Order total: 30.00 due: 28.50>"
      ]
     },
     "execution_count": 35,
     "metadata": {},
     "output_type": "execute_result"
    }
   ],
   "source": [
    "Order(ann, banana_cart, best_promo)"
   ]
  },
  {
   "cell_type": "code",
   "execution_count": 36,
   "id": "e435c4f0-a09b-45b7-b643-21fef07e0fd1",
   "metadata": {},
   "outputs": [
    {
     "data": {
      "text/plain": [
       "<Order total: 10.00 due: 9.30>"
      ]
     },
     "execution_count": 36,
     "metadata": {},
     "output_type": "execute_result"
    }
   ],
   "source": [
    "Order(joe, long_cart, best_promo)"
   ]
  },
  {
   "cell_type": "code",
   "execution_count": 37,
   "id": "bd0b96df-2dcd-4fa3-b8c4-b08195da1917",
   "metadata": {},
   "outputs": [
    {
     "data": {
      "text/plain": [
       "<Order total: 10.00 due: 9.30>"
      ]
     },
     "execution_count": 37,
     "metadata": {},
     "output_type": "execute_result"
    }
   ],
   "source": [
    "Order(ann, long_cart, best_promo)"
   ]
  },
  {
   "cell_type": "code",
   "execution_count": 38,
   "id": "8fbf9eb3-7d7d-49d8-9a8c-708ee82376e2",
   "metadata": {},
   "outputs": [
    {
     "data": {
      "text/plain": [
       "[<function __main__.fidelity(order: __main__.Order) -> decimal.Decimal>,\n",
       " <function __main__.bulk_item(order: __main__.Order) -> decimal.Decimal>,\n",
       " <function __main__.large_order(order: __main__.Order) -> decimal.Decimal>]"
      ]
     },
     "execution_count": 38,
     "metadata": {},
     "output_type": "execute_result"
    }
   ],
   "source": [
    "PROMOS"
   ]
  },
  {
   "cell_type": "markdown",
   "id": "37e9e79c-7c0d-47cd-a53d-d3333c439301",
   "metadata": {},
   "source": [
    "<h2>The Command Pattern</h2>"
   ]
  },
  {
   "cell_type": "markdown",
   "id": "2bdbc2b9-7df8-424d-a166-35d712a5ee3a",
   "metadata": {},
   "source": [
    "The Command pattern is a behavioral design pattern that encapsulates a request as an object, thereby allowing parameterization of clients with queues, requests, and operations. It enables the separation of the requester of an action from the object that performs the action, providing a layer of abstraction between the two."
   ]
  },
  {
   "cell_type": "markdown",
   "id": "c4282152-f7a7-45e6-8323-55708640e93b",
   "metadata": {},
   "source": [
    "In this example:</br>\n",
    "The `Command` interface declares a method `execute()` which concrete command classes implement.</br>\n",
    "Concrete command classes (`LightOnCommand`, `LightOffCommand`) encapsulate the action to be performed and reference the receiver (`Light`) that performs the action.</br>\n",
    "The `Light` class represents the receiver and defines the actions (`turn_on`, `turn_off`) to be performed.</br>\n",
    "The `RemoteControl` class serves as the invoker and is responsible for executing commands. It sets the command to be executed and invokes the `execute()` method when required.</br>\n",
    "The `RemoteControl` object sets and executes the commands (`light_on`, `light_off`)."
   ]
  },
  {
   "cell_type": "code",
   "execution_count": 39,
   "id": "197ca205-0f1e-4947-af04-75016580ac36",
   "metadata": {},
   "outputs": [],
   "source": [
    "from abc import ABC, abstractmethod\n",
    "from typing import Optional\n",
    "\n",
    "\n",
    "# Define a command interface\n",
    "class Command(ABC):\n",
    "    @abstractmethod\n",
    "    def execute(self) -> None:\n",
    "        pass\n",
    "\n",
    "\n",
    "# Define concrete command classes\n",
    "class LightOnCommand(Command):\n",
    "    def __init__(self, light: 'Light') -> None:\n",
    "        self.light = light\n",
    "\n",
    "    def execute(self) -> None:\n",
    "        self.light.turn_on()\n",
    "\n",
    "\n",
    "class LightOffCommand(Command):\n",
    "    def __init__(self, light: 'Light') -> None:\n",
    "        self.light = light\n",
    "\n",
    "    def execute(self) -> None:\n",
    "        self.light.turn_off()\n",
    "\n",
    "\n",
    "# Define the receiver class\n",
    "class Light:\n",
    "    def turn_on(self) -> None:\n",
    "        print(\"Light is on!\")\n",
    "\n",
    "    def turn_off(self) -> None:\n",
    "        print(\"Light is off!\")\n",
    "\n",
    "\n",
    "# Define the invoker class\n",
    "class RemoteControl:\n",
    "    def __init__(self) -> None:\n",
    "        self.command: Optional[Command] = None\n",
    "\n",
    "    def set_command(self, command: Command) -> None:\n",
    "        \"\"\"Set the command to be execute by the remote control\"\"\"\n",
    "        self.command = command\n",
    "\n",
    "    def press_button(self) -> None:\n",
    "        if self.command:\n",
    "            self.command.execute()"
   ]
  },
  {
   "cell_type": "code",
   "execution_count": 40,
   "id": "d8075fd8-d19f-4e6c-adc2-b4bf06d31d83",
   "metadata": {},
   "outputs": [],
   "source": [
    "light = Light()\n",
    "light_on = LightOnCommand(light)\n",
    "light_off = LightOffCommand(light)\n",
    "\n",
    "remote_control = RemoteControl()"
   ]
  },
  {
   "cell_type": "code",
   "execution_count": 41,
   "id": "831ec28e-da96-4bed-8387-dcc34609a69b",
   "metadata": {},
   "outputs": [
    {
     "name": "stdout",
     "output_type": "stream",
     "text": [
      "Light is on!\n"
     ]
    }
   ],
   "source": [
    "# Set and execute the commands\n",
    "remote_control.set_command(light_on)\n",
    "remote_control.press_button()"
   ]
  },
  {
   "cell_type": "code",
   "execution_count": 42,
   "id": "98bb7343-427c-4140-90b5-a41f9140d1a0",
   "metadata": {},
   "outputs": [
    {
     "name": "stdout",
     "output_type": "stream",
     "text": [
      "Light is off!\n"
     ]
    }
   ],
   "source": [
    "remote_control.set_command(light_off)\n",
    "remote_control.press_button()"
   ]
  }
 ],
 "metadata": {
  "kernelspec": {
   "display_name": "Python 3 (ipykernel)",
   "language": "python",
   "name": "python3"
  },
  "language_info": {
   "codemirror_mode": {
    "name": "ipython",
    "version": 3
   },
   "file_extension": ".py",
   "mimetype": "text/x-python",
   "name": "python",
   "nbconvert_exporter": "python",
   "pygments_lexer": "ipython3",
   "version": "3.12.1"
  }
 },
 "nbformat": 4,
 "nbformat_minor": 5
}
