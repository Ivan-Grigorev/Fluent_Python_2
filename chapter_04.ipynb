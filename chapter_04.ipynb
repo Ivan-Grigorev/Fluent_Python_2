{
 "cells": [
  {
   "cell_type": "markdown",
   "id": "610efe5a-2c5f-4d08-8a10-3a007a0ea389",
   "metadata": {},
   "source": [
    "<h1>Chapter 04. Unicode texts and Bytes</h1>"
   ]
  },
  {
   "cell_type": "markdown",
   "id": "5a8e1734-a7a6-4b1f-ba3f-a5492a9b1068",
   "metadata": {},
   "source": [
    "**Unicode:**\n",
    "Unicode is a standardized encoding system that assigns unique code points to represent characters and text from various writing systems around the world. It provides a universal way to represent text in different languages, ensuring consistency and compatibility across different platforms and applications. Unicode supports a vast range of characters, including letters, digits, symbols, and more, making it essential for multilingual and internationalized software development.\n",
    "\n",
    "**Bytes:**\n",
    "Bytes, in the context of computing, refer to a unit of digital information storage. In programming, the term \"bytes\" is often used to represent sequences of eight bits, and it serves as a fundamental data type. Bytes are versatile and can represent a variety of data, including text characters, binary data, and more. They play a crucial role in low-level operations, file handling, and communication between different parts of a computer system. Understanding how to work with bytes is essential, especially when dealing with tasks like file I/O, networking, and encoding/decoding data."
   ]
  },
  {
   "cell_type": "markdown",
   "id": "6d5b232e-effe-488c-b446-5a673bc9f115",
   "metadata": {},
   "source": [
    "Encoding and decoding"
   ]
  },
  {
   "cell_type": "code",
   "execution_count": 1,
   "id": "b2f49a62-4c09-4bf4-a6cc-8dbf2ccbd227",
   "metadata": {},
   "outputs": [],
   "source": [
    "s = 'café'"
   ]
  },
  {
   "cell_type": "code",
   "execution_count": 2,
   "id": "615cc92d-dad3-4768-8acf-0e235173ef9f",
   "metadata": {},
   "outputs": [
    {
     "data": {
      "text/plain": [
       "4"
      ]
     },
     "execution_count": 2,
     "metadata": {},
     "output_type": "execute_result"
    }
   ],
   "source": [
    "len(s)  # string 'café' consist of 4 Unicode symbols"
   ]
  },
  {
   "cell_type": "code",
   "execution_count": 3,
   "id": "b903d877-304e-4888-9702-1bc1b434665d",
   "metadata": {},
   "outputs": [
    {
     "data": {
      "text/plain": [
       "b'caf\\xc3\\xa9'"
      ]
     },
     "execution_count": 3,
     "metadata": {},
     "output_type": "execute_result"
    }
   ],
   "source": [
    "b = s.encode('utf-8')  # convert str to bytes using UTF-8 encoding\n",
    "b"
   ]
  },
  {
   "cell_type": "code",
   "execution_count": 4,
   "id": "cde90d0a-141d-4181-abd5-ba8c219345bb",
   "metadata": {},
   "outputs": [
    {
     "data": {
      "text/plain": [
       "5"
      ]
     },
     "execution_count": 4,
     "metadata": {},
     "output_type": "execute_result"
    }
   ],
   "source": [
    "len(b)"
   ]
  },
  {
   "cell_type": "code",
   "execution_count": 5,
   "id": "417d3255-85e3-452e-a115-20c5b3be6e51",
   "metadata": {},
   "outputs": [
    {
     "data": {
      "text/plain": [
       "'café'"
      ]
     },
     "execution_count": 5,
     "metadata": {},
     "output_type": "execute_result"
    }
   ],
   "source": [
    "b.decode('utf-8')  # convert back bytes to str"
   ]
  },
  {
   "cell_type": "markdown",
   "id": "b930b42b-0c56-4276-aa02-8b6e0b400a24",
   "metadata": {},
   "source": [
    "`bytes` is immutable sequence of 8-bit integers in Python, used for storing binary data or text.\n",
    "\n",
    "`bytearray` is mutable counterpart to `bytes`, allowing in-place modifications of 8-bit integers."
   ]
  },
  {
   "cell_type": "code",
   "execution_count": 6,
   "id": "4bc6706e-4b8f-4cb6-a6cb-61d81487412d",
   "metadata": {},
   "outputs": [
    {
     "data": {
      "text/plain": [
       "b'caf\\xc3\\xa9'"
      ]
     },
     "execution_count": 6,
     "metadata": {},
     "output_type": "execute_result"
    }
   ],
   "source": [
    "cafe = bytes('café', encoding='utf-8')\n",
    "cafe"
   ]
  },
  {
   "cell_type": "code",
   "execution_count": 7,
   "id": "2c7e1456-4461-45ed-9187-66622d4ad019",
   "metadata": {},
   "outputs": [
    {
     "data": {
      "text/plain": [
       "99"
      ]
     },
     "execution_count": 7,
     "metadata": {},
     "output_type": "execute_result"
    }
   ],
   "source": [
    "cafe[0]  # every item is an integer within range(256)"
   ]
  },
  {
   "cell_type": "code",
   "execution_count": 8,
   "id": "3f7faa89-76e8-492b-97e9-53cc7095f343",
   "metadata": {},
   "outputs": [
    {
     "data": {
      "text/plain": [
       "bytearray(b'caf\\xc3\\xa9')"
      ]
     },
     "execution_count": 8,
     "metadata": {},
     "output_type": "execute_result"
    }
   ],
   "source": [
    "cafe_arr = bytearray(cafe)\n",
    "cafe_arr"
   ]
  },
  {
   "cell_type": "code",
   "execution_count": 9,
   "id": "13186ab3-d157-4fc6-9a53-cadc574a74ef",
   "metadata": {},
   "outputs": [
    {
     "data": {
      "text/plain": [
       "bytearray(b'\\xa9')"
      ]
     },
     "execution_count": 9,
     "metadata": {},
     "output_type": "execute_result"
    }
   ],
   "source": [
    "cafe_arr[-1:]"
   ]
  },
  {
   "cell_type": "markdown",
   "id": "a701dbdf-bc14-4bf9-9cbb-602586a6f6bb",
   "metadata": {},
   "source": [
    "Initialization of bytes with data stored in the array"
   ]
  },
  {
   "cell_type": "code",
   "execution_count": 10,
   "id": "b2839b42-7bd8-4b7c-b228-77686d927a5c",
   "metadata": {},
   "outputs": [
    {
     "data": {
      "text/plain": [
       "array('h', [-2, -1, 0, 1, 2])"
      ]
     },
     "execution_count": 10,
     "metadata": {},
     "output_type": "execute_result"
    }
   ],
   "source": [
    "import array\n",
    "\n",
    "\n",
    "numbers = array.array('h', [-2, -1, 0, 1, 2])  # 'h' means to create an array of numbers (16-bit)\n",
    "numbers"
   ]
  },
  {
   "cell_type": "code",
   "execution_count": 11,
   "id": "8b5ad096-a971-414c-ab2d-d227cb618a5a",
   "metadata": {},
   "outputs": [
    {
     "data": {
      "text/plain": [
       "b'\\xfe\\xff\\xff\\xff\\x00\\x00\\x01\\x00\\x02\\x00'"
      ]
     },
     "execution_count": 11,
     "metadata": {},
     "output_type": "execute_result"
    }
   ],
   "source": [
    "octets = bytes(numbers)\n",
    "octets"
   ]
  },
  {
   "cell_type": "markdown",
   "id": "581068ec-35cd-4886-865c-aeb330855bb8",
   "metadata": {},
   "source": [
    "<h2>Basic encoders and decoders</h2>"
   ]
  },
  {
   "cell_type": "markdown",
   "id": "e20951e3-322a-4de8-b4ae-8f710d01ea2f",
   "metadata": {},
   "source": [
    "The string 'El niño' encoded with three codecs gives completely different byte sequences"
   ]
  },
  {
   "cell_type": "code",
   "execution_count": 12,
   "id": "00f66060-3b90-4731-bb3f-0636a2af9b4e",
   "metadata": {},
   "outputs": [
    {
     "name": "stdout",
     "output_type": "stream",
     "text": [
      "latin-1: b'El Ni\\xf1o'\n",
      "cp437: b'El Ni\\xa4o'\n",
      "utf-8: b'El Ni\\xc3\\xb1o'\n",
      "utf-16: b'\\xff\\xfeE\\x00l\\x00 \\x00N\\x00i\\x00\\xf1\\x00o\\x00'\n"
     ]
    }
   ],
   "source": [
    "coders = ['latin-1','cp437', 'utf-8', 'utf-16']  # list of several common encodings\n",
    "s = 'El Niño'\n",
    "\n",
    "for codec in coders:\n",
    "    print(f\"{codec}: {s.encode(codec)}\")"
   ]
  },
  {
   "cell_type": "markdown",
   "id": "4ee266c5-52c6-4cda-93ef-01ae17413273",
   "metadata": {},
   "source": [
    "<h2>Encoding and Decoding Problems</h2>"
   ]
  },
  {
   "cell_type": "markdown",
   "id": "da26af17-a2d3-40c4-981d-c227dcc9c3dc",
   "metadata": {},
   "source": [
    "<h3><code>UnicodeEncodeError</code> handling</h3>"
   ]
  },
  {
   "cell_type": "markdown",
   "id": "aef27abe-38b8-4ed3-8b7d-2fbb85b829be",
   "metadata": {},
   "source": [
    "Encoding text to bytes: successful completion and error handling"
   ]
  },
  {
   "cell_type": "code",
   "execution_count": 13,
   "id": "9677792c-e35a-41a0-97aa-8864fb95f59e",
   "metadata": {},
   "outputs": [],
   "source": [
    "city = 'São Paulo'"
   ]
  },
  {
   "cell_type": "code",
   "execution_count": 14,
   "id": "bd377edf-13d0-4471-b70f-945b1d176705",
   "metadata": {},
   "outputs": [
    {
     "data": {
      "text/plain": [
       "b'S\\xc3\\xa3o Paulo'"
      ]
     },
     "execution_count": 14,
     "metadata": {},
     "output_type": "execute_result"
    }
   ],
   "source": [
    "city.encode('utf-8')"
   ]
  },
  {
   "cell_type": "code",
   "execution_count": 15,
   "id": "78d7a093-d6e7-433d-9446-50f5b0a31cec",
   "metadata": {},
   "outputs": [
    {
     "data": {
      "text/plain": [
       "b'\\xff\\xfeS\\x00\\xe3\\x00o\\x00 \\x00P\\x00a\\x00u\\x00l\\x00o\\x00'"
      ]
     },
     "execution_count": 15,
     "metadata": {},
     "output_type": "execute_result"
    }
   ],
   "source": [
    "city.encode('utf-16')"
   ]
  },
  {
   "cell_type": "code",
   "execution_count": 16,
   "id": "5fe0b883-c096-4ead-b189-9fb34d072abb",
   "metadata": {},
   "outputs": [
    {
     "data": {
      "text/plain": [
       "b'S\\xe3o Paulo'"
      ]
     },
     "execution_count": 16,
     "metadata": {},
     "output_type": "execute_result"
    }
   ],
   "source": [
    "city.encode('iso8859-1')"
   ]
  },
  {
   "cell_type": "code",
   "execution_count": 17,
   "id": "768e5bfd-fe25-4e94-a1e1-ebe32ed24412",
   "metadata": {},
   "outputs": [
    {
     "name": "stdout",
     "output_type": "stream",
     "text": [
      "UnicodeEncodeError('charmap', 'São Paulo', 1, 2, 'character maps to <undefined>')\n"
     ]
    }
   ],
   "source": [
    "try:\n",
    "    city.encode('cp437')\n",
    "except UnicodeEncodeError as e:\n",
    "    print(e.__repr__())"
   ]
  },
  {
   "cell_type": "markdown",
   "id": "6275c6de-5fb8-48bf-bcdf-2ca699835b97",
   "metadata": {},
   "source": [
    "Add the `errors=` argument to handle errors"
   ]
  },
  {
   "cell_type": "code",
   "execution_count": 18,
   "id": "a8691a93-4c48-48b9-84df-9532c577ece6",
   "metadata": {},
   "outputs": [
    {
     "data": {
      "text/plain": [
       "b'So Paulo'"
      ]
     },
     "execution_count": 18,
     "metadata": {},
     "output_type": "execute_result"
    }
   ],
   "source": [
    "city.encode('cp437', errors='ignore')  # skips unencoded characters"
   ]
  },
  {
   "cell_type": "code",
   "execution_count": 19,
   "id": "5549fd75-974d-444e-b9ec-7c66f601ccfa",
   "metadata": {},
   "outputs": [
    {
     "data": {
      "text/plain": [
       "b'S?o Paulo'"
      ]
     },
     "execution_count": 19,
     "metadata": {},
     "output_type": "execute_result"
    }
   ],
   "source": [
    "city.encode('cp437', errors='replace')  # changes unencoded characters with '?'"
   ]
  },
  {
   "cell_type": "code",
   "execution_count": 20,
   "id": "b5aa7ae4-50c1-4f96-b082-8ecdd59f038f",
   "metadata": {},
   "outputs": [
    {
     "data": {
      "text/plain": [
       "b'S&#227;o Paulo'"
      ]
     },
     "execution_count": 20,
     "metadata": {},
     "output_type": "execute_result"
    }
   ],
   "source": [
    "city.encode('cp437', errors='xmlcharrefreplace')  # changes unencoded characters with XML component"
   ]
  },
  {
   "cell_type": "markdown",
   "id": "c71eec59-6562-4e74-b4c4-bffac3eff84a",
   "metadata": {},
   "source": [
    "<h3><code>UnicodeDecodeError</code> handling</h3>"
   ]
  },
  {
   "cell_type": "markdown",
   "id": "baadd7df-7adf-42eb-b322-bccd84566e17",
   "metadata": {},
   "source": [
    "Decoding bytes to text: successful completion and error handling"
   ]
  },
  {
   "cell_type": "code",
   "execution_count": 21,
   "id": "08f2bb56-ee28-49d6-abe5-2342714064b2",
   "metadata": {},
   "outputs": [],
   "source": [
    "octets = b'Montr\\xe9al'"
   ]
  },
  {
   "cell_type": "code",
   "execution_count": 22,
   "id": "6c9700e9-a0b5-4d62-92c1-085919ed7c1e",
   "metadata": {},
   "outputs": [
    {
     "data": {
      "text/plain": [
       "'Montréal'"
      ]
     },
     "execution_count": 22,
     "metadata": {},
     "output_type": "execute_result"
    }
   ],
   "source": [
    "octets.decode('cp1252')"
   ]
  },
  {
   "cell_type": "code",
   "execution_count": 23,
   "id": "aaed33f5-547f-41da-a86c-a822cc121650",
   "metadata": {},
   "outputs": [
    {
     "data": {
      "text/plain": [
       "'Montréal'"
      ]
     },
     "execution_count": 23,
     "metadata": {},
     "output_type": "execute_result"
    }
   ],
   "source": [
    "octets.decode('iso8859-1')"
   ]
  },
  {
   "cell_type": "code",
   "execution_count": 24,
   "id": "2af7177c-b534-477f-9c1e-5860a19beb08",
   "metadata": {},
   "outputs": [
    {
     "data": {
      "text/plain": [
       "'MontrИal'"
      ]
     },
     "execution_count": 24,
     "metadata": {},
     "output_type": "execute_result"
    }
   ],
   "source": [
    "octets.decode('koi8-r')"
   ]
  },
  {
   "cell_type": "code",
   "execution_count": 25,
   "id": "28e97492-9ee3-4fe9-bcb0-ca41b0d1ef78",
   "metadata": {},
   "outputs": [
    {
     "name": "stdout",
     "output_type": "stream",
     "text": [
      "UnicodeDecodeError('utf-8', b'Montr\\xe9al', 5, 6, 'invalid continuation byte')\n"
     ]
    }
   ],
   "source": [
    "try:\n",
    "    octets.decode('utf-8')\n",
    "except UnicodeDecodeError as e:\n",
    "    print(e.__repr__())"
   ]
  },
  {
   "cell_type": "code",
   "execution_count": 26,
   "id": "95fe5176-7169-43b4-8ccb-c2b85911397c",
   "metadata": {},
   "outputs": [
    {
     "data": {
      "text/plain": [
       "'Montr�al'"
      ]
     },
     "execution_count": 26,
     "metadata": {},
     "output_type": "execute_result"
    }
   ],
   "source": [
    "octets.decode('utf-8', errors='replace')  # changes undecoded characters with '�'"
   ]
  },
  {
   "cell_type": "markdown",
   "id": "2d6283d3-c871-4dad-8ca7-324d59890117",
   "metadata": {},
   "source": [
    "<h2>Unicode normalization for reliable comparison</h2>"
   ]
  },
  {
   "cell_type": "markdown",
   "id": "9c5c49fd-1487-4f0d-a9e9-8630c5cc4cfc",
   "metadata": {},
   "source": [
    "`unicodedata.normalize(form, string)` is a function in Python's `unicodedata` module used to normalize Unicode text. It takes two arguments: `form`, which specifies the normalization form to apply, and `string`, the Unicode string to be normalized.\n",
    "\n",
    "- `NFC`: Normalizes the string using the Canonical Composition (NFC) form, which combines characters and diacritics where possible.\n",
    "- `NFD`: Normalizes the string using the Canonical Decomposition (NFD) form, which decomposes characters into their base characters and combining characters.\n",
    "- `NFKC`: Normalizes the string using the Compatibility Composition (NFKC) form, which performs additional compatibility mappings and compositions.\n",
    "- `NFKD`: Normalizes the string using the Compatibility Decomposition (NFKD) form, which performs additional compatibility mappings and decompositions."
   ]
  },
  {
   "cell_type": "code",
   "execution_count": 27,
   "id": "9368315a-3371-4c2c-88ac-c52d2b178dd0",
   "metadata": {},
   "outputs": [],
   "source": [
    "s1 = 'café'\n",
    "s2 = 'cafe\\N{COMBINING ACUTE ACCENT}'  # adds an acute accent to the letter 'e' in 'cafe', producing 'café'."
   ]
  },
  {
   "cell_type": "code",
   "execution_count": 28,
   "id": "ae297746-56d6-4c74-8413-cfb3a0ac82c9",
   "metadata": {},
   "outputs": [
    {
     "data": {
      "text/plain": [
       "('café', 'café')"
      ]
     },
     "execution_count": 28,
     "metadata": {},
     "output_type": "execute_result"
    }
   ],
   "source": [
    "s1, s2"
   ]
  },
  {
   "cell_type": "code",
   "execution_count": 29,
   "id": "6e0747f4-ee94-477a-9c2c-c895b1f43939",
   "metadata": {},
   "outputs": [
    {
     "data": {
      "text/plain": [
       "(4, 5)"
      ]
     },
     "execution_count": 29,
     "metadata": {},
     "output_type": "execute_result"
    }
   ],
   "source": [
    "len(s1), len(s2)"
   ]
  },
  {
   "cell_type": "code",
   "execution_count": 30,
   "id": "35f660df-4da6-4fb8-9f87-d321b013001e",
   "metadata": {},
   "outputs": [
    {
     "data": {
      "text/plain": [
       "False"
      ]
     },
     "execution_count": 30,
     "metadata": {},
     "output_type": "execute_result"
    }
   ],
   "source": [
    "s1 == s2"
   ]
  },
  {
   "cell_type": "code",
   "execution_count": 31,
   "id": "642ca9d6-92bb-464c-8d87-bbbc68ff21ff",
   "metadata": {},
   "outputs": [
    {
     "data": {
      "text/plain": [
       "(4, 4)"
      ]
     },
     "execution_count": 31,
     "metadata": {},
     "output_type": "execute_result"
    }
   ],
   "source": [
    "from unicodedata import normalize, name\n",
    "\n",
    "\n",
    "len(normalize('NFC', s1)), len(normalize('NFC', s2))"
   ]
  },
  {
   "cell_type": "code",
   "execution_count": 32,
   "id": "f2e29101-77b8-4acb-a976-6fc9b18c586b",
   "metadata": {},
   "outputs": [
    {
     "data": {
      "text/plain": [
       "(5, 5)"
      ]
     },
     "execution_count": 32,
     "metadata": {},
     "output_type": "execute_result"
    }
   ],
   "source": [
    "len(normalize('NFD', s1)), len(normalize('NFD', s2))"
   ]
  },
  {
   "cell_type": "code",
   "execution_count": 33,
   "id": "89adbe59-2d7d-47cb-beab-2e56c61c172a",
   "metadata": {},
   "outputs": [
    {
     "data": {
      "text/plain": [
       "True"
      ]
     },
     "execution_count": 33,
     "metadata": {},
     "output_type": "execute_result"
    }
   ],
   "source": [
    "normalize('NFC', s1) == normalize('NFC', s2)"
   ]
  },
  {
   "cell_type": "code",
   "execution_count": 34,
   "id": "1eec29b2-6a30-4983-8929-152c78de61b5",
   "metadata": {},
   "outputs": [
    {
     "data": {
      "text/plain": [
       "'OHM SIGN'"
      ]
     },
     "execution_count": 34,
     "metadata": {},
     "output_type": "execute_result"
    }
   ],
   "source": [
    "ohm = '\\u2126'  # represents the Unicode character \"OHM SIGN\" (Ω)\n",
    "name(ohm)"
   ]
  },
  {
   "cell_type": "code",
   "execution_count": 35,
   "id": "126d7f9a-2400-448c-b160-47294d48406b",
   "metadata": {},
   "outputs": [
    {
     "data": {
      "text/plain": [
       "'GREEK CAPITAL LETTER OMEGA'"
      ]
     },
     "execution_count": 35,
     "metadata": {},
     "output_type": "execute_result"
    }
   ],
   "source": [
    "ohm_c = normalize('NFC', ohm)\n",
    "name(ohm_c)"
   ]
  },
  {
   "cell_type": "code",
   "execution_count": 36,
   "id": "0d450bc9-b31c-4bda-a704-fdb9cd4ebde7",
   "metadata": {},
   "outputs": [
    {
     "data": {
      "text/plain": [
       "False"
      ]
     },
     "execution_count": 36,
     "metadata": {},
     "output_type": "execute_result"
    }
   ],
   "source": [
    "ohm == ohm_c"
   ]
  },
  {
   "cell_type": "code",
   "execution_count": 37,
   "id": "7d36a1c4-e781-4ccc-ac99-8b33515b9cf9",
   "metadata": {},
   "outputs": [
    {
     "data": {
      "text/plain": [
       "True"
      ]
     },
     "execution_count": 37,
     "metadata": {},
     "output_type": "execute_result"
    }
   ],
   "source": [
    "normalize('NFC', ohm) == normalize('NFC', ohm_c)"
   ]
  },
  {
   "cell_type": "code",
   "execution_count": 38,
   "id": "c87ef894-4e71-45eb-a6be-58acffb7cfcc",
   "metadata": {},
   "outputs": [
    {
     "name": "stdout",
     "output_type": "stream",
     "text": [
      "½\n"
     ]
    }
   ],
   "source": [
    "half = '\\N{VULGAR FRACTION ONE HALF}'  # represents the vulgar fraction one-half\n",
    "print(half)"
   ]
  },
  {
   "cell_type": "code",
   "execution_count": 39,
   "id": "795d41a1-71ba-44bc-afa5-64105bfab120",
   "metadata": {},
   "outputs": [
    {
     "data": {
      "text/plain": [
       "'1⁄2'"
      ]
     },
     "execution_count": 39,
     "metadata": {},
     "output_type": "execute_result"
    }
   ],
   "source": [
    "normalize('NFKC', half)"
   ]
  },
  {
   "cell_type": "code",
   "execution_count": 40,
   "id": "ef7672d7-3ba9-4775-a808-bccaf6e66692",
   "metadata": {},
   "outputs": [
    {
     "name": "stdout",
     "output_type": "stream",
     "text": [
      "1 - DIGIT ONE\n",
      "⁄ - FRACTION SLASH\n",
      "2 - DIGIT TWO\n"
     ]
    }
   ],
   "source": [
    "for char in normalize('NFKC', half):\n",
    "    print(char, name(char), sep=' - ')"
   ]
  },
  {
   "cell_type": "code",
   "execution_count": 41,
   "id": "6e747c9c-9b02-45b2-aca3-0f101001b2a3",
   "metadata": {},
   "outputs": [],
   "source": [
    "four_squared = '4²'"
   ]
  },
  {
   "cell_type": "code",
   "execution_count": 42,
   "id": "5b8ef7f2-9cb9-402b-80d2-3f4ce7a37c3b",
   "metadata": {},
   "outputs": [
    {
     "data": {
      "text/plain": [
       "'42'"
      ]
     },
     "execution_count": 42,
     "metadata": {},
     "output_type": "execute_result"
    }
   ],
   "source": [
    "normalize('NFKC', four_squared)"
   ]
  },
  {
   "cell_type": "code",
   "execution_count": 43,
   "id": "b04bfb70-f943-495d-8d88-d543f816abdb",
   "metadata": {},
   "outputs": [],
   "source": [
    "micro = 'µ'"
   ]
  },
  {
   "cell_type": "code",
   "execution_count": 44,
   "id": "571ba35a-bec9-4ae6-83f6-a7040800cd7c",
   "metadata": {},
   "outputs": [],
   "source": [
    "micro_kc = normalize('NFKC', micro)"
   ]
  },
  {
   "cell_type": "code",
   "execution_count": 45,
   "id": "598147cf-b9a8-4c8e-b7b1-99980c5552bb",
   "metadata": {},
   "outputs": [
    {
     "data": {
      "text/plain": [
       "('µ', 'μ')"
      ]
     },
     "execution_count": 45,
     "metadata": {},
     "output_type": "execute_result"
    }
   ],
   "source": [
    "micro, micro_kc"
   ]
  },
  {
   "cell_type": "code",
   "execution_count": 46,
   "id": "49bfcdb7-025e-4462-97d8-d6c262782ea8",
   "metadata": {},
   "outputs": [
    {
     "data": {
      "text/plain": [
       "(181, 956)"
      ]
     },
     "execution_count": 46,
     "metadata": {},
     "output_type": "execute_result"
    }
   ],
   "source": [
    "ord(micro), ord(micro_kc)"
   ]
  },
  {
   "cell_type": "code",
   "execution_count": 47,
   "id": "a266fa70-3861-434e-a268-e92811f014e5",
   "metadata": {},
   "outputs": [
    {
     "data": {
      "text/plain": [
       "('MICRO SIGN', 'GREEK SMALL LETTER MU')"
      ]
     },
     "execution_count": 47,
     "metadata": {},
     "output_type": "execute_result"
    }
   ],
   "source": [
    "name(micro), name(micro_kc)"
   ]
  },
  {
   "cell_type": "markdown",
   "id": "2056fd85-4c99-4c34-a40a-66749cd172b1",
   "metadata": {},
   "source": [
    "<h3>Case collapsing</h3>"
   ]
  },
  {
   "cell_type": "markdown",
   "id": "8fb02771-cd9b-4f8e-92c6-cfd46dab9923",
   "metadata": {},
   "source": [
    "Case collapsing (or case folding) is a text operation that converts characters to a standardized form, typically lowercase, for case-insensitive comparisons."
   ]
  },
  {
   "cell_type": "markdown",
   "id": "d503a7eb-4f40-4b09-9c5b-0f37570decec",
   "metadata": {},
   "source": [
    "`str.casefold()` returns a casefolded version of the string `str`, suitable for case-insensitive comparisons. It is similar to `lower()` but more aggressive in its conversion, making it suitable for Unicode strings."
   ]
  },
  {
   "cell_type": "code",
   "execution_count": 48,
   "id": "eb328f2a-7cf9-4175-a718-511e135f4051",
   "metadata": {},
   "outputs": [
    {
     "data": {
      "text/plain": [
       "'ss'"
      ]
     },
     "execution_count": 48,
     "metadata": {},
     "output_type": "execute_result"
    }
   ],
   "source": [
    "eszett = 'ß'\n",
    "eszett.casefold()"
   ]
  },
  {
   "cell_type": "code",
   "execution_count": 49,
   "id": "8fb6007a-b0a1-4c5c-9655-71b53ec70ce9",
   "metadata": {},
   "outputs": [
    {
     "data": {
      "text/plain": [
       "'διάλεκτοσ'"
      ]
     },
     "execution_count": 49,
     "metadata": {},
     "output_type": "execute_result"
    }
   ],
   "source": [
    "s = 'ΔΙΆΛΕΚΤΟΣ'\n",
    "s.casefold()"
   ]
  },
  {
   "cell_type": "code",
   "execution_count": 50,
   "id": "5a918854-61f6-4738-a794-e326021be385",
   "metadata": {},
   "outputs": [
    {
     "data": {
      "text/plain": [
       "'éléphant'"
      ]
     },
     "execution_count": 50,
     "metadata": {},
     "output_type": "execute_result"
    }
   ],
   "source": [
    "s = 'ÉLÉPHANT'\n",
    "s.casefold()"
   ]
  },
  {
   "cell_type": "markdown",
   "id": "bb2f12a6-5663-4439-bd2d-17ab320e26d6",
   "metadata": {},
   "source": [
    "<h3>Utility functions for normalized Unicode string comparison</h3>"
   ]
  },
  {
   "cell_type": "markdown",
   "id": "4074e590-a2ca-4f0e-83f4-83ca39afee0f",
   "metadata": {},
   "source": [
    "Using normal form `s` case sensitive"
   ]
  },
  {
   "cell_type": "code",
   "execution_count": 51,
   "id": "edddea86-f202-453d-829f-604a6d3a974d",
   "metadata": {},
   "outputs": [],
   "source": [
    "def nfc_equal(str1, str2):\n",
    "    return normalize('NFC', str1) == normalize('NFC', str2)"
   ]
  },
  {
   "cell_type": "code",
   "execution_count": 52,
   "id": "8185384e-0419-4f10-b876-92c49238d2bf",
   "metadata": {},
   "outputs": [
    {
     "data": {
      "text/plain": [
       "False"
      ]
     },
     "execution_count": 52,
     "metadata": {},
     "output_type": "execute_result"
    }
   ],
   "source": [
    "s1 = 'café'\n",
    "s2 = 'cafe\\u0301'\n",
    "\n",
    "s1 == s2"
   ]
  },
  {
   "cell_type": "code",
   "execution_count": 53,
   "id": "b35f93a6-1038-4fcc-acee-093cccfe34bd",
   "metadata": {},
   "outputs": [
    {
     "data": {
      "text/plain": [
       "True"
      ]
     },
     "execution_count": 53,
     "metadata": {},
     "output_type": "execute_result"
    }
   ],
   "source": [
    "nfc_equal(s1, s2)"
   ]
  },
  {
   "cell_type": "code",
   "execution_count": 54,
   "id": "0e64887a-a0c4-4a32-83ae-a745571368d4",
   "metadata": {},
   "outputs": [
    {
     "data": {
      "text/plain": [
       "False"
      ]
     },
     "execution_count": 54,
     "metadata": {},
     "output_type": "execute_result"
    }
   ],
   "source": [
    "nfc_equal('A', 'a')"
   ]
  },
  {
   "cell_type": "markdown",
   "id": "868dcc4e-e8da-43cd-a6d1-661451f557f4",
   "metadata": {},
   "source": [
    "Using normal form `s` using case folding"
   ]
  },
  {
   "cell_type": "code",
   "execution_count": 55,
   "id": "b80ad923-f4fd-4991-a7f9-085326d81bef",
   "metadata": {},
   "outputs": [],
   "source": [
    "def fold_equal(str1, str2):\n",
    "    return (\n",
    "        normalize('NFC', str1).casefold() ==\n",
    "        normalize('NFC', str2).casefold()\n",
    "    )"
   ]
  },
  {
   "cell_type": "code",
   "execution_count": 56,
   "id": "df91d94b-4afb-4aa2-87d3-c3a36f272d05",
   "metadata": {},
   "outputs": [
    {
     "data": {
      "text/plain": [
       "False"
      ]
     },
     "execution_count": 56,
     "metadata": {},
     "output_type": "execute_result"
    }
   ],
   "source": [
    "s3 = 'Straße'\n",
    "s4 = 'strasse'\n",
    "\n",
    "s3 == s4"
   ]
  },
  {
   "cell_type": "code",
   "execution_count": 57,
   "id": "1dbac026-9129-4dc6-8ba2-2ae0d56812b1",
   "metadata": {},
   "outputs": [
    {
     "data": {
      "text/plain": [
       "False"
      ]
     },
     "execution_count": 57,
     "metadata": {},
     "output_type": "execute_result"
    }
   ],
   "source": [
    "nfc_equal(s3, s4)"
   ]
  },
  {
   "cell_type": "code",
   "execution_count": 58,
   "id": "63e1a2db-f94e-44db-a135-2a17aa60bca2",
   "metadata": {},
   "outputs": [
    {
     "data": {
      "text/plain": [
       "True"
      ]
     },
     "execution_count": 58,
     "metadata": {},
     "output_type": "execute_result"
    }
   ],
   "source": [
    "fold_equal(s3, s4)"
   ]
  },
  {
   "cell_type": "code",
   "execution_count": 59,
   "id": "a96572e8-00fa-4d0a-a645-52c185124566",
   "metadata": {},
   "outputs": [
    {
     "data": {
      "text/plain": [
       "True"
      ]
     },
     "execution_count": 59,
     "metadata": {},
     "output_type": "execute_result"
    }
   ],
   "source": [
    "fold_equal('A', 'a')"
   ]
  },
  {
   "cell_type": "markdown",
   "id": "7fca22ef-66ae-465e-ae9c-70359b1e7699",
   "metadata": {},
   "source": [
    "<h3>Extreme \"normalization\": removing diacritical marks</h3>"
   ]
  },
  {
   "cell_type": "markdown",
   "id": "efd807a5-968a-4ebd-879d-1b2bc80f24d1",
   "metadata": {},
   "source": [
    "Function for deleting all modifying characters"
   ]
  },
  {
   "cell_type": "code",
   "execution_count": 60,
   "id": "a045f510-e188-4dba-a762-f7b9c8c0da83",
   "metadata": {},
   "outputs": [],
   "source": [
    "from unicodedata import combining\n",
    "\n",
    "\n",
    "def shave_marks(txt):\n",
    "    # Remove all diacritic marks\n",
    "    norm_txt = normalize('NFD', txt)\n",
    "    shaved = ''.join(\n",
    "        c for c in norm_txt\n",
    "        if not combining(c)  # get all modifying characters\n",
    "    )\n",
    "    return normalize('NFC', shaved)  # reverse the composition"
   ]
  },
  {
   "cell_type": "code",
   "execution_count": 61,
   "id": "eb0eb3bf-0162-4391-8b35-1c3893b572a7",
   "metadata": {},
   "outputs": [
    {
     "data": {
      "text/plain": [
       "'“Herr Voß: • ½ cup of Œtker™ caffe latte • bowl of acai.”'"
      ]
     },
     "execution_count": 61,
     "metadata": {},
     "output_type": "execute_result"
    }
   ],
   "source": [
    "order = '“Herr Voß: • ½ cup of Œtker™ caffè latte • bowl of açaí.”'\n",
    "shave_marks(order)"
   ]
  },
  {
   "cell_type": "code",
   "execution_count": 62,
   "id": "3cf6d88c-77fe-45d0-ba9b-e169dc636eb1",
   "metadata": {},
   "outputs": [
    {
     "data": {
      "text/plain": [
       "'Ζεφυρος, Zefiro'"
      ]
     },
     "execution_count": 62,
     "metadata": {},
     "output_type": "execute_result"
    }
   ],
   "source": [
    "greek = 'Ζέφυρος, Zéfiro'\n",
    "shave_marks(greek)"
   ]
  },
  {
   "cell_type": "markdown",
   "id": "5eaa7c4a-2114-4f2f-9a09-8c2b8d3289ee",
   "metadata": {},
   "source": [
    "Function for removing modifying characters only for symbols from the Latin base"
   ]
  },
  {
   "cell_type": "code",
   "execution_count": 63,
   "id": "c81e56a3-9c7b-4bef-83e2-172cdebc6184",
   "metadata": {},
   "outputs": [],
   "source": [
    "from string import ascii_letters\n",
    "\n",
    "\n",
    "def shave_marks_latin(txt):\n",
    "    # Remove all diacritic marks from Latin base characters\n",
    "    norm_txt = normalize('NFD', txt)\n",
    "    latin_base = False\n",
    "    preserve = []\n",
    "\n",
    "    for c in norm_txt:\n",
    "\n",
    "        if combining(c) and latin_base:\n",
    "            continue  # ignore diacritic in Latin base char\n",
    "        preserve.append(c)\n",
    "\n",
    "        # if it isn't a combining char, it's a new base char\n",
    "        if not combining(c):\n",
    "            latin_base = c in ascii_letters\n",
    "\n",
    "    shaved = ''.join(preserve)\n",
    "\n",
    "    return normalize('NFC', shaved)  # reverse the composition"
   ]
  },
  {
   "cell_type": "code",
   "execution_count": 64,
   "id": "f4004a61-0f23-43ef-833b-1c0f8ef4efc8",
   "metadata": {},
   "outputs": [
    {
     "data": {
      "text/plain": [
       "'“Herr Voß: • ½ cup of Œtker™ caffe latte • bowl of acai.”'"
      ]
     },
     "execution_count": 64,
     "metadata": {},
     "output_type": "execute_result"
    }
   ],
   "source": [
    "shave_marks_latin(order)"
   ]
  },
  {
   "cell_type": "code",
   "execution_count": 65,
   "id": "7fcfd75f-aaca-434f-9682-c45843d7dc38",
   "metadata": {},
   "outputs": [
    {
     "data": {
      "text/plain": [
       "'Ζέφυρος, Zefiro'"
      ]
     },
     "execution_count": 65,
     "metadata": {},
     "output_type": "execute_result"
    }
   ],
   "source": [
    "shave_marks_latin(greek)"
   ]
  },
  {
   "cell_type": "markdown",
   "id": "a901a074-fe07-46d3-9aea-37b308827e91",
   "metadata": {},
   "source": [
    "The transformation of some western typographic symbols into a ASCII"
   ]
  },
  {
   "cell_type": "code",
   "execution_count": 66,
   "id": "5969ee75-2129-478c-ab5e-88f3acafa8db",
   "metadata": {},
   "outputs": [],
   "source": [
    "# Construct a correspondence table for replacing one character with another character \n",
    "single_map = str.maketrans(\"\"\"‚ƒ„ˆ‹‘’“”•–—˜›\"\"\",\n",
    "                           \"\"\"'f\"^<''\"\"---~>\"\"\")\n",
    "\n",
    "# Create a correspondence table for replacing one character with a string of characters\n",
    "multi_map = str.maketrans({\n",
    "    '€': 'EUR',\n",
    "    '…': '...',\n",
    "    'Æ': 'AE',\n",
    "    'æ': 'ae',\n",
    "    'Œ': 'OE',\n",
    "    'œ': 'oe',\n",
    "    '™': '(TM)',\n",
    "    '‰': '<per mille>',\n",
    "    '†': '**',\n",
    "    '‡': '***',\n",
    "})\n",
    "\n",
    "# Merge the correspondence tables\n",
    "multi_map.update(single_map)"
   ]
  },
  {
   "cell_type": "markdown",
   "id": "8cb1bb20-5126-476b-8159-5c0f90d2cfd9",
   "metadata": {},
   "source": [
    "`dewinize()` takes a text input and replaces certain characters or sequences of characters according to a predefined correspondence table."
   ]
  },
  {
   "cell_type": "code",
   "execution_count": 67,
   "id": "86d35b46-172d-45b4-84c4-8147f9e3e3c2",
   "metadata": {},
   "outputs": [],
   "source": [
    "def dewinize(txt):\n",
    "    # Replace Win1252 symbols with ASCII chars of sequences\n",
    "    return txt.translate(multi_map)"
   ]
  },
  {
   "cell_type": "code",
   "execution_count": 68,
   "id": "1544260d-f835-4f37-8e8d-7b6f893d17b1",
   "metadata": {},
   "outputs": [
    {
     "data": {
      "text/plain": [
       "'\"Herr Voß: - ½ cup of OEtker(TM) caffè latte - bowl of açaí.\"'"
      ]
     },
     "execution_count": 68,
     "metadata": {},
     "output_type": "execute_result"
    }
   ],
   "source": [
    "dewinize(order)"
   ]
  },
  {
   "cell_type": "code",
   "execution_count": 69,
   "id": "4019a6da-b0e0-4dbd-9f36-0ac4d1c18f3b",
   "metadata": {},
   "outputs": [
    {
     "data": {
      "text/plain": [
       "'Ζέφυρος, Zéfiro'"
      ]
     },
     "execution_count": 69,
     "metadata": {},
     "output_type": "execute_result"
    }
   ],
   "source": [
    "dewinize(greek)"
   ]
  },
  {
   "cell_type": "markdown",
   "id": "463edaea-ac21-4a6f-818f-7a868caabdbe",
   "metadata": {},
   "source": [
    "`asciize()` calls `dewinize()`, then removes diacritic marks and replaces 'ß'"
   ]
  },
  {
   "cell_type": "code",
   "execution_count": 70,
   "id": "b2054ec6-f49e-43d9-935b-d340c93a1ef3",
   "metadata": {},
   "outputs": [],
   "source": [
    "def asciize(txt):\n",
    "    no_marks = shave_marks_latin(dewinize(txt))  # call dewinize() and remove all diacritic marks\n",
    "    no_marks = no_marks.replace('ß', 'ss')\n",
    "\n",
    "    return normalize('NFKC', no_marks)"
   ]
  },
  {
   "cell_type": "code",
   "execution_count": 71,
   "id": "49273862-08b6-448b-94f5-ab8f1fe363e0",
   "metadata": {},
   "outputs": [
    {
     "data": {
      "text/plain": [
       "'\"Herr Voss: - 1⁄2 cup of OEtker(TM) caffe latte - bowl of acai.\"'"
      ]
     },
     "execution_count": 71,
     "metadata": {},
     "output_type": "execute_result"
    }
   ],
   "source": [
    "asciize(order)"
   ]
  },
  {
   "cell_type": "code",
   "execution_count": 72,
   "id": "0f769ec8-52f7-4c28-83f9-95e0fc086872",
   "metadata": {},
   "outputs": [
    {
     "data": {
      "text/plain": [
       "'Ζέφυρος, Zefiro'"
      ]
     },
     "execution_count": 72,
     "metadata": {},
     "output_type": "execute_result"
    }
   ],
   "source": [
    "asciize(greek)"
   ]
  },
  {
   "cell_type": "markdown",
   "id": "81ce1df8-a474-403b-bf90-cbc32fd53ea2",
   "metadata": {},
   "source": [
    "<h2>Unicode Text Sorting</h2>"
   ]
  },
  {
   "cell_type": "code",
   "execution_count": 73,
   "id": "d5124fac-48ea-491f-a006-5b1dde2aa7e9",
   "metadata": {},
   "outputs": [
    {
     "data": {
      "text/plain": [
       "['acerola', 'atemoia', 'açai', 'caju', 'cajà']"
      ]
     },
     "execution_count": 73,
     "metadata": {},
     "output_type": "execute_result"
    }
   ],
   "source": [
    "fruits = ['caju', 'atemoia', 'cajà', 'açai', 'acerola']\n",
    "sorted(fruits)"
   ]
  },
  {
   "cell_type": "markdown",
   "id": "6596706b-0b90-4935-abb2-b58887d02851",
   "metadata": {},
   "source": [
    "The `locale` module in Python plays a crucial role in Unicode text sorting by providing functions to set and retrieve locale-specific information. By setting the appropriate locale, developers can ensure that Unicode text sorting follows the conventions and rules of the specified language or region. This allows for accurate sorting of Unicode strings based on linguistic and cultural norms, ensuring that text is ordered correctly according to locale-specific collation rules."
   ]
  },
  {
   "cell_type": "markdown",
   "id": "f25c8693-3253-42b5-a273-22e8e177922d",
   "metadata": {},
   "source": [
    "The `locale` module for collation (sorting) using `locale.setlocale()` function with `locale.LC_COLLATE` flag, indicating the collation category, and specifying the desired locale `'pt_BR.UTF-8'` (Portuguese, Brazil) in UTF-8 encoding."
   ]
  },
  {
   "cell_type": "code",
   "execution_count": 74,
   "id": "5c65f193-4b52-488e-afd9-d9dac7c783b5",
   "metadata": {},
   "outputs": [
    {
     "data": {
      "text/plain": [
       "'pt_BR.UTF-8'"
      ]
     },
     "execution_count": 74,
     "metadata": {},
     "output_type": "execute_result"
    }
   ],
   "source": [
    "import locale\n",
    "\n",
    "\n",
    "my_locale = locale.setlocale(category=locale.LC_COLLATE, locale='pt_BR.UTF-8')\n",
    "my_locale"
   ]
  },
  {
   "cell_type": "markdown",
   "id": "fbd7fad1-cb6f-443e-804d-a6101a7b18f8",
   "metadata": {},
   "source": [
    "The locale-aware transformation function used for sorting strings according to locale-specific collation rules"
   ]
  },
  {
   "cell_type": "code",
   "execution_count": 75,
   "id": "d98bbdce-2f60-426a-a6b3-a416e43df6ff",
   "metadata": {},
   "outputs": [
    {
     "data": {
      "text/plain": [
       "['acerola', 'atemoia', 'açai', 'caju', 'cajà']"
      ]
     },
     "execution_count": 75,
     "metadata": {},
     "output_type": "execute_result"
    }
   ],
   "source": [
    "sorted_fruits = sorted(fruits, key=locale.strxfrm)\n",
    "sorted_fruits"
   ]
  },
  {
   "cell_type": "markdown",
   "id": "eabbe856-203d-41f6-81fe-29f1ed349b40",
   "metadata": {},
   "source": [
    "<h3>Sorting with Unicode ordering algorithm</h3>"
   ]
  },
  {
   "cell_type": "markdown",
   "id": "a25ca8e1-d822-48f9-aace-924ca6d39ebe",
   "metadata": {},
   "source": [
    "`pyuca` is a Python library providing Unicode Collation Algorithm (UCA) support, enabling accurate sorting of Unicode strings based on their linguistic and cultural properties. It allows developers to perform locale-aware string comparison and sorting operations, ensuring correct ordering of text according to various language-specific collation rules."
   ]
  },
  {
   "cell_type": "code",
   "execution_count": 76,
   "id": "fd0cf8ed-63d4-45c3-b8fc-cf58756ef525",
   "metadata": {},
   "outputs": [
    {
     "data": {
      "text/plain": [
       "['açai', 'acerola', 'atemoia', 'cajà', 'caju']"
      ]
     },
     "execution_count": 76,
     "metadata": {},
     "output_type": "execute_result"
    }
   ],
   "source": [
    "import pyuca\n",
    "\n",
    "\n",
    "coll = pyuca.Collator()\n",
    "\n",
    "sorted_fruits = sorted(fruits, key=coll.sort_key)\n",
    "sorted_fruits"
   ]
  },
  {
   "cell_type": "markdown",
   "id": "64871f3f-286b-48a4-a042-310ba6f90961",
   "metadata": {},
   "source": [
    "<h2>Unicode Database</h2>"
   ]
  },
  {
   "cell_type": "markdown",
   "id": "c9a606ef-8851-4fa5-8b5e-7617dbaa5ed5",
   "metadata": {},
   "source": [
    "<h3>Character Search by Name</h3>"
   ]
  },
  {
   "cell_type": "markdown",
   "id": "43e6a2fd-a979-47e3-8353-b158c32be626",
   "metadata": {},
   "source": [
    "`unicodedata` is a Python module for accessing Unicode character properties and performing text operations like normalization and case folding."
   ]
  },
  {
   "cell_type": "code",
   "execution_count": 77,
   "id": "0fa3208f-905e-44d9-85a0-13544aa3fde5",
   "metadata": {},
   "outputs": [
    {
     "data": {
      "text/plain": [
       "'LATIN CAPITAL LETTER A'"
      ]
     },
     "execution_count": 77,
     "metadata": {},
     "output_type": "execute_result"
    }
   ],
   "source": [
    "import unicodedata\n",
    "\n",
    "\n",
    "unicodedata.name('A')"
   ]
  },
  {
   "cell_type": "code",
   "execution_count": 78,
   "id": "85c69a43-ae61-4f7d-b194-71ff0e7c3d14",
   "metadata": {},
   "outputs": [
    {
     "data": {
      "text/plain": [
       "'LATIN SMALL LETTER A WITH TILDE'"
      ]
     },
     "execution_count": 78,
     "metadata": {},
     "output_type": "execute_result"
    }
   ],
   "source": [
    "unicodedata.name('ã')"
   ]
  },
  {
   "cell_type": "code",
   "execution_count": 79,
   "id": "953da441-9672-4e76-94a0-9d1669aa8f0e",
   "metadata": {},
   "outputs": [
    {
     "data": {
      "text/plain": [
       "'GRINNING CAT FACE WITH SMILING EYES'"
      ]
     },
     "execution_count": 79,
     "metadata": {},
     "output_type": "execute_result"
    }
   ],
   "source": [
    "unicodedata.name('😸')"
   ]
  },
  {
   "cell_type": "code",
   "execution_count": 80,
   "id": "e49a7c0a-1c15-4c6d-b0cd-45afe3a42fea",
   "metadata": {},
   "outputs": [
    {
     "data": {
      "text/plain": [
       "'FACE WITH NO GOOD GESTURE'"
      ]
     },
     "execution_count": 80,
     "metadata": {},
     "output_type": "execute_result"
    }
   ],
   "source": [
    "unicodedata.name('🙅')"
   ]
  },
  {
   "cell_type": "markdown",
   "id": "34cd47fe-ce34-4721-b340-170c00d00cb1",
   "metadata": {},
   "source": [
    "Character Finder Utility"
   ]
  },
  {
   "cell_type": "code",
   "execution_count": 81,
   "id": "f4c07cdc-d64e-4713-8f1d-758a5636ea52",
   "metadata": {},
   "outputs": [],
   "source": [
    "import sys\n",
    "\n",
    "\n",
    "START, END = ord(' '), sys.maxunicode + 1  # Set START to space character code point, END to cover entire Unicode range\n",
    "\n",
    "def find(*query_words, start=START, end=END):\n",
    "    query = {w.upper() for w in query_words}\n",
    "\n",
    "    for code in range(start, end):\n",
    "        char = chr(code)\n",
    "        char_name = unicodedata.name(char, None)  # get character unicodedata name or None\n",
    "\n",
    "        if char_name and query.issubset(char_name.split()):\n",
    "            print(f\"U+{code:04X}\\t{char}\\t{char_name}\")  # print the symbol, its name, and code position in U+9999 format"
   ]
  },
  {
   "cell_type": "code",
   "execution_count": 82,
   "id": "0a71a5ed-6528-47fb-a258-f2fe479b7568",
   "metadata": {},
   "outputs": [
    {
     "name": "stdout",
     "output_type": "stream",
     "text": [
      "U+2EA8\t⺨\tCJK RADICAL DOG\n",
      "U+2F5D\t⽝\tKANGXI RADICAL DOG\n",
      "U+B3C5\t독\tHANGUL SYLLABLE DOG\n",
      "U+1F32D\t🌭\tHOT DOG\n",
      "U+1F415\t🐕\tDOG\n",
      "U+1F436\t🐶\tDOG FACE\n",
      "U+1F9AE\t🦮\tGUIDE DOG\n"
     ]
    }
   ],
   "source": [
    "find('dog')"
   ]
  },
  {
   "cell_type": "markdown",
   "id": "fe70533e-ca68-4cd1-9cc4-ea8fc168034a",
   "metadata": {},
   "source": [
    "<h3>Numeric Symbols</h3>"
   ]
  },
  {
   "cell_type": "markdown",
   "id": "d6451196-a43a-468a-a772-493bdad10d04",
   "metadata": {},
   "source": [
    "Demonstration of working with numeric character metadata in Unicode database"
   ]
  },
  {
   "cell_type": "code",
   "execution_count": 83,
   "id": "e44e01d7-2ca9-4f63-912a-0e93761b2d93",
   "metadata": {},
   "outputs": [
    {
     "name": "stdout",
     "output_type": "stream",
     "text": [
      "U+0031\t  1   \tre_dig\tisdig\tisnum\t 1.00\tDIGIT ONE\n",
      "U+00BC\t  ¼   \t-\t-\tisnum\t 0.25\tVULGAR FRACTION ONE QUARTER\n",
      "U+00B2\t  ²   \t-\tisdig\tisnum\t 2.00\tSUPERSCRIPT TWO\n",
      "U+0969\t  ३   \tre_dig\tisdig\tisnum\t 3.00\tDEVANAGARI DIGIT THREE\n",
      "U+136B\t  ፫   \t-\tisdig\tisnum\t 3.00\tETHIOPIC DIGIT THREE\n",
      "U+216B\t  Ⅻ   \t-\t-\tisnum\t12.00\tROMAN NUMERAL TWELVE\n",
      "U+2466\t  ⑦   \t-\tisdig\tisnum\t 7.00\tCIRCLED DIGIT SEVEN\n",
      "U+2480\t  ⒀   \t-\t-\tisnum\t13.00\tPARENTHESIZED NUMBER THIRTEEN\n",
      "U+3285\t  ㊅   \t-\t-\tisnum\t 6.00\tCIRCLED IDEOGRAPH SIX\n"
     ]
    }
   ],
   "source": [
    "import re\n",
    "\n",
    "\n",
    "re_digit = re.compile(r'\\d')\n",
    "\n",
    "sample = '1\\xbc\\xb2\\u0969\\u136b\\u216b\\u2466\\u2480\\u3285'\n",
    "\n",
    "for char in sample:\n",
    "    print(\n",
    "        f\"U+{ord(char):04X}\",\n",
    "        char.center(6),  # symbol centered in the length field 6\n",
    "        're_dig' if re_digit.match(char) else '-',\n",
    "        'isdig' if char.isdigit() else '-',\n",
    "        'isnum' if char.isnumeric() else '-',\n",
    "        f\"{unicodedata.numeric(char):5.2f}\",  # get unicodedata numeric value in a 5 wide field with two decimal places\n",
    "        unicodedata.name(char),  # get character unicodedata name\n",
    "        sep='\\t'\n",
    "    )"
   ]
  },
  {
   "cell_type": "code",
   "execution_count": null,
   "id": "c0ffd3ff-fdae-4956-852b-929563c251ca",
   "metadata": {},
   "outputs": [],
   "source": []
  }
 ],
 "metadata": {
  "kernelspec": {
   "display_name": "Python 3 (ipykernel)",
   "language": "python",
   "name": "python3"
  },
  "language_info": {
   "codemirror_mode": {
    "name": "ipython",
    "version": 3
   },
   "file_extension": ".py",
   "mimetype": "text/x-python",
   "name": "python",
   "nbconvert_exporter": "python",
   "pygments_lexer": "ipython3",
   "version": "3.12.1"
  }
 },
 "nbformat": 4,
 "nbformat_minor": 5
}
