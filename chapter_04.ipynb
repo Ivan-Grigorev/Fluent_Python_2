{
 "cells": [
  {
   "cell_type": "markdown",
   "id": "610efe5a-2c5f-4d08-8a10-3a007a0ea389",
   "metadata": {},
   "source": [
    "<h1>Chapter 04. Unicode texts and Bytes</h1>"
   ]
  },
  {
   "cell_type": "markdown",
   "id": "5a8e1734-a7a6-4b1f-ba3f-a5492a9b1068",
   "metadata": {},
   "source": [
    "**Unicode:**\n",
    "Unicode is a standardized encoding system that assigns unique code points to represent characters and text from various writing systems around the world. It provides a universal way to represent text in different languages, ensuring consistency and compatibility across different platforms and applications. Unicode supports a vast range of characters, including letters, digits, symbols, and more, making it essential for multilingual and internationalized software development.\n",
    "\n",
    "**Bytes:**\n",
    "Bytes, in the context of computing, refer to a unit of digital information storage. In programming, the term \"bytes\" is often used to represent sequences of eight bits, and it serves as a fundamental data type. Bytes are versatile and can represent a variety of data, including text characters, binary data, and more. They play a crucial role in low-level operations, file handling, and communication between different parts of a computer system. Understanding how to work with bytes is essential, especially when dealing with tasks like file I/O, networking, and encoding/decoding data."
   ]
  },
  {
   "cell_type": "markdown",
   "id": "6d5b232e-effe-488c-b446-5a673bc9f115",
   "metadata": {},
   "source": [
    "Encoding and decoding"
   ]
  },
  {
   "cell_type": "code",
   "execution_count": 1,
   "id": "b2f49a62-4c09-4bf4-a6cc-8dbf2ccbd227",
   "metadata": {},
   "outputs": [],
   "source": [
    "s = 'café'"
   ]
  },
  {
   "cell_type": "code",
   "execution_count": 2,
   "id": "615cc92d-dad3-4768-8acf-0e235173ef9f",
   "metadata": {},
   "outputs": [
    {
     "data": {
      "text/plain": [
       "4"
      ]
     },
     "execution_count": 2,
     "metadata": {},
     "output_type": "execute_result"
    }
   ],
   "source": [
    "len(s)  # string 'café' consist of 4 Unicode symbols"
   ]
  },
  {
   "cell_type": "code",
   "execution_count": 3,
   "id": "b903d877-304e-4888-9702-1bc1b434665d",
   "metadata": {},
   "outputs": [
    {
     "data": {
      "text/plain": [
       "b'caf\\xc3\\xa9'"
      ]
     },
     "execution_count": 3,
     "metadata": {},
     "output_type": "execute_result"
    }
   ],
   "source": [
    "b = s.encode('utf-8')  # convert str to bytes using UTF-8 encoding\n",
    "b"
   ]
  },
  {
   "cell_type": "code",
   "execution_count": 4,
   "id": "cde90d0a-141d-4181-abd5-ba8c219345bb",
   "metadata": {},
   "outputs": [
    {
     "data": {
      "text/plain": [
       "5"
      ]
     },
     "execution_count": 4,
     "metadata": {},
     "output_type": "execute_result"
    }
   ],
   "source": [
    "len(b)"
   ]
  },
  {
   "cell_type": "code",
   "execution_count": 5,
   "id": "417d3255-85e3-452e-a115-20c5b3be6e51",
   "metadata": {},
   "outputs": [
    {
     "data": {
      "text/plain": [
       "'café'"
      ]
     },
     "execution_count": 5,
     "metadata": {},
     "output_type": "execute_result"
    }
   ],
   "source": [
    "b.decode('utf-8')  # convert back bytes to str"
   ]
  },
  {
   "cell_type": "markdown",
   "id": "b930b42b-0c56-4276-aa02-8b6e0b400a24",
   "metadata": {},
   "source": [
    "`bytes` is immutable sequence of 8-bit integers in Python, used for storing binary data or text.\n",
    "\n",
    "`bytearray` is mutable counterpart to `bytes`, allowing in-place modifications of 8-bit integers."
   ]
  },
  {
   "cell_type": "code",
   "execution_count": 6,
   "id": "4bc6706e-4b8f-4cb6-a6cb-61d81487412d",
   "metadata": {},
   "outputs": [
    {
     "data": {
      "text/plain": [
       "b'caf\\xc3\\xa9'"
      ]
     },
     "execution_count": 6,
     "metadata": {},
     "output_type": "execute_result"
    }
   ],
   "source": [
    "cafe = bytes('café', encoding='utf-8')\n",
    "cafe"
   ]
  },
  {
   "cell_type": "code",
   "execution_count": 7,
   "id": "2c7e1456-4461-45ed-9187-66622d4ad019",
   "metadata": {},
   "outputs": [
    {
     "data": {
      "text/plain": [
       "99"
      ]
     },
     "execution_count": 7,
     "metadata": {},
     "output_type": "execute_result"
    }
   ],
   "source": [
    "cafe[0]  # every item is an integer within range(256)"
   ]
  },
  {
   "cell_type": "code",
   "execution_count": 8,
   "id": "3f7faa89-76e8-492b-97e9-53cc7095f343",
   "metadata": {},
   "outputs": [
    {
     "data": {
      "text/plain": [
       "bytearray(b'caf\\xc3\\xa9')"
      ]
     },
     "execution_count": 8,
     "metadata": {},
     "output_type": "execute_result"
    }
   ],
   "source": [
    "cafe_arr = bytearray(cafe)\n",
    "cafe_arr"
   ]
  },
  {
   "cell_type": "code",
   "execution_count": 9,
   "id": "13186ab3-d157-4fc6-9a53-cadc574a74ef",
   "metadata": {},
   "outputs": [
    {
     "data": {
      "text/plain": [
       "bytearray(b'\\xa9')"
      ]
     },
     "execution_count": 9,
     "metadata": {},
     "output_type": "execute_result"
    }
   ],
   "source": [
    "cafe_arr[-1:]"
   ]
  },
  {
   "cell_type": "markdown",
   "id": "a701dbdf-bc14-4bf9-9cbb-602586a6f6bb",
   "metadata": {},
   "source": [
    "Initialization of bytes with data stored in the array"
   ]
  },
  {
   "cell_type": "code",
   "execution_count": 10,
   "id": "b2839b42-7bd8-4b7c-b228-77686d927a5c",
   "metadata": {},
   "outputs": [
    {
     "data": {
      "text/plain": [
       "array('h', [-2, -1, 0, 1, 2])"
      ]
     },
     "execution_count": 10,
     "metadata": {},
     "output_type": "execute_result"
    }
   ],
   "source": [
    "import array\n",
    "\n",
    "\n",
    "numbers = array.array('h', [-2, -1, 0, 1, 2])  # 'h' means to create an array of numbers (16-bit)\n",
    "numbers"
   ]
  },
  {
   "cell_type": "code",
   "execution_count": 11,
   "id": "8b5ad096-a971-414c-ab2d-d227cb618a5a",
   "metadata": {},
   "outputs": [
    {
     "data": {
      "text/plain": [
       "b'\\xfe\\xff\\xff\\xff\\x00\\x00\\x01\\x00\\x02\\x00'"
      ]
     },
     "execution_count": 11,
     "metadata": {},
     "output_type": "execute_result"
    }
   ],
   "source": [
    "octets = bytes(numbers)\n",
    "octets"
   ]
  },
  {
   "cell_type": "markdown",
   "id": "581068ec-35cd-4886-865c-aeb330855bb8",
   "metadata": {},
   "source": [
    "<h2>Basic encoders and decoders</h2>"
   ]
  },
  {
   "cell_type": "markdown",
   "id": "e20951e3-322a-4de8-b4ae-8f710d01ea2f",
   "metadata": {},
   "source": [
    "The string 'El niño' encoded with three codecs gives completely different byte sequences"
   ]
  },
  {
   "cell_type": "code",
   "execution_count": 12,
   "id": "00f66060-3b90-4731-bb3f-0636a2af9b4e",
   "metadata": {},
   "outputs": [
    {
     "name": "stdout",
     "output_type": "stream",
     "text": [
      "latin-1: b'El Ni\\xf1o'\n",
      "cp437: b'El Ni\\xa4o'\n",
      "utf-8: b'El Ni\\xc3\\xb1o'\n",
      "utf-16: b'\\xff\\xfeE\\x00l\\x00 \\x00N\\x00i\\x00\\xf1\\x00o\\x00'\n"
     ]
    }
   ],
   "source": [
    "coders = ['latin-1','cp437', 'utf-8', 'utf-16']  # list of several common encodings\n",
    "s = 'El Niño'\n",
    "\n",
    "for codec in coders:\n",
    "    print(f\"{codec}: {s.encode(codec)}\")"
   ]
  },
  {
   "cell_type": "markdown",
   "id": "4ee266c5-52c6-4cda-93ef-01ae17413273",
   "metadata": {},
   "source": [
    "<h2>Encoding and Decoding Problems</h2>"
   ]
  },
  {
   "cell_type": "markdown",
   "id": "da26af17-a2d3-40c4-981d-c227dcc9c3dc",
   "metadata": {},
   "source": [
    "<h3><code>UnicodeEncodeError</code> handling</h3>"
   ]
  },
  {
   "cell_type": "markdown",
   "id": "aef27abe-38b8-4ed3-8b7d-2fbb85b829be",
   "metadata": {},
   "source": [
    "Encoding text to bytes: successful completion and error handling"
   ]
  },
  {
   "cell_type": "code",
   "execution_count": 13,
   "id": "9677792c-e35a-41a0-97aa-8864fb95f59e",
   "metadata": {},
   "outputs": [],
   "source": [
    "city = 'São Paulo'"
   ]
  },
  {
   "cell_type": "code",
   "execution_count": 14,
   "id": "bd377edf-13d0-4471-b70f-945b1d176705",
   "metadata": {},
   "outputs": [
    {
     "data": {
      "text/plain": [
       "b'S\\xc3\\xa3o Paulo'"
      ]
     },
     "execution_count": 14,
     "metadata": {},
     "output_type": "execute_result"
    }
   ],
   "source": [
    "city.encode('utf-8')"
   ]
  },
  {
   "cell_type": "code",
   "execution_count": 15,
   "id": "78d7a093-d6e7-433d-9446-50f5b0a31cec",
   "metadata": {},
   "outputs": [
    {
     "data": {
      "text/plain": [
       "b'\\xff\\xfeS\\x00\\xe3\\x00o\\x00 \\x00P\\x00a\\x00u\\x00l\\x00o\\x00'"
      ]
     },
     "execution_count": 15,
     "metadata": {},
     "output_type": "execute_result"
    }
   ],
   "source": [
    "city.encode('utf-16')"
   ]
  },
  {
   "cell_type": "code",
   "execution_count": 16,
   "id": "5fe0b883-c096-4ead-b189-9fb34d072abb",
   "metadata": {},
   "outputs": [
    {
     "data": {
      "text/plain": [
       "b'S\\xe3o Paulo'"
      ]
     },
     "execution_count": 16,
     "metadata": {},
     "output_type": "execute_result"
    }
   ],
   "source": [
    "city.encode('iso8859-1')"
   ]
  },
  {
   "cell_type": "code",
   "execution_count": 18,
   "id": "768e5bfd-fe25-4e94-a1e1-ebe32ed24412",
   "metadata": {},
   "outputs": [
    {
     "name": "stdout",
     "output_type": "stream",
     "text": [
      "UnicodeEncodeError('charmap', 'São Paulo', 1, 2, 'character maps to <undefined>')\n"
     ]
    }
   ],
   "source": [
    "try:\n",
    "    city.encode('cp437')\n",
    "except UnicodeEncodeError as e:\n",
    "    print(e.__repr__())"
   ]
  },
  {
   "cell_type": "markdown",
   "id": "6275c6de-5fb8-48bf-bcdf-2ca699835b97",
   "metadata": {},
   "source": [
    "Add the `errors=` argument to handle errors"
   ]
  },
  {
   "cell_type": "code",
   "execution_count": 19,
   "id": "a8691a93-4c48-48b9-84df-9532c577ece6",
   "metadata": {},
   "outputs": [
    {
     "data": {
      "text/plain": [
       "b'So Paulo'"
      ]
     },
     "execution_count": 19,
     "metadata": {},
     "output_type": "execute_result"
    }
   ],
   "source": [
    "city.encode('cp437', errors='ignore')  # skips unencoded characters"
   ]
  },
  {
   "cell_type": "code",
   "execution_count": 20,
   "id": "5549fd75-974d-444e-b9ec-7c66f601ccfa",
   "metadata": {},
   "outputs": [
    {
     "data": {
      "text/plain": [
       "b'S?o Paulo'"
      ]
     },
     "execution_count": 20,
     "metadata": {},
     "output_type": "execute_result"
    }
   ],
   "source": [
    "city.encode('cp437', errors='replace')  # changes unencoded characters with '?'"
   ]
  },
  {
   "cell_type": "code",
   "execution_count": 21,
   "id": "b5aa7ae4-50c1-4f96-b082-8ecdd59f038f",
   "metadata": {},
   "outputs": [
    {
     "data": {
      "text/plain": [
       "b'S&#227;o Paulo'"
      ]
     },
     "execution_count": 21,
     "metadata": {},
     "output_type": "execute_result"
    }
   ],
   "source": [
    "city.encode('cp437', errors='xmlcharrefreplace')  # changes unencoded characters with XML component"
   ]
  },
  {
   "cell_type": "markdown",
   "id": "c71eec59-6562-4e74-b4c4-bffac3eff84a",
   "metadata": {},
   "source": [
    "<h3><code>UnicodeDecodeError</code> handling</h3>"
   ]
  },
  {
   "cell_type": "markdown",
   "id": "baadd7df-7adf-42eb-b322-bccd84566e17",
   "metadata": {},
   "source": [
    "Decoding bytes to text: successful completion and error handling"
   ]
  },
  {
   "cell_type": "code",
   "execution_count": 22,
   "id": "08f2bb56-ee28-49d6-abe5-2342714064b2",
   "metadata": {},
   "outputs": [],
   "source": [
    "octets = b'Montr\\xe9al'"
   ]
  },
  {
   "cell_type": "code",
   "execution_count": 23,
   "id": "6c9700e9-a0b5-4d62-92c1-085919ed7c1e",
   "metadata": {},
   "outputs": [
    {
     "data": {
      "text/plain": [
       "'Montréal'"
      ]
     },
     "execution_count": 23,
     "metadata": {},
     "output_type": "execute_result"
    }
   ],
   "source": [
    "octets.decode('cp1252')"
   ]
  },
  {
   "cell_type": "code",
   "execution_count": 24,
   "id": "aaed33f5-547f-41da-a86c-a822cc121650",
   "metadata": {},
   "outputs": [
    {
     "data": {
      "text/plain": [
       "'Montréal'"
      ]
     },
     "execution_count": 24,
     "metadata": {},
     "output_type": "execute_result"
    }
   ],
   "source": [
    "octets.decode('iso8859-1')"
   ]
  },
  {
   "cell_type": "code",
   "execution_count": 25,
   "id": "2af7177c-b534-477f-9c1e-5860a19beb08",
   "metadata": {},
   "outputs": [
    {
     "data": {
      "text/plain": [
       "'MontrИal'"
      ]
     },
     "execution_count": 25,
     "metadata": {},
     "output_type": "execute_result"
    }
   ],
   "source": [
    "octets.decode('koi8-r')"
   ]
  },
  {
   "cell_type": "code",
   "execution_count": 26,
   "id": "28e97492-9ee3-4fe9-bcb0-ca41b0d1ef78",
   "metadata": {},
   "outputs": [
    {
     "name": "stdout",
     "output_type": "stream",
     "text": [
      "UnicodeDecodeError('utf-8', b'Montr\\xe9al', 5, 6, 'invalid continuation byte')\n"
     ]
    }
   ],
   "source": [
    "try:\n",
    "    octets.decode('utf-8')\n",
    "except UnicodeDecodeError as e:\n",
    "    print(e.__repr__())"
   ]
  },
  {
   "cell_type": "code",
   "execution_count": 29,
   "id": "95fe5176-7169-43b4-8ccb-c2b85911397c",
   "metadata": {},
   "outputs": [
    {
     "data": {
      "text/plain": [
       "'Montr�al'"
      ]
     },
     "execution_count": 29,
     "metadata": {},
     "output_type": "execute_result"
    }
   ],
   "source": [
    "octets.decode('utf-8', errors='replace')  # changes undecoded characters with '�'"
   ]
  },
  {
   "cell_type": "code",
   "execution_count": null,
   "id": "b6644484-6dff-4fa3-8c9c-5851e2211dc4",
   "metadata": {},
   "outputs": [],
   "source": []
  }
 ],
 "metadata": {
  "kernelspec": {
   "display_name": "Python 3 (ipykernel)",
   "language": "python",
   "name": "python3"
  },
  "language_info": {
   "codemirror_mode": {
    "name": "ipython",
    "version": 3
   },
   "file_extension": ".py",
   "mimetype": "text/x-python",
   "name": "python",
   "nbconvert_exporter": "python",
   "pygments_lexer": "ipython3",
   "version": "3.12.1"
  }
 },
 "nbformat": 4,
 "nbformat_minor": 5
}
