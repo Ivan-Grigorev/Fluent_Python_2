{
 "cells": [
  {
   "cell_type": "markdown",
   "id": "5ceec44a-f8a7-4c35-a192-2b421f9adcc3",
   "metadata": {},
   "source": [
    "<h1>Chapter 03. Dictionaries and Sets.</h1>"
   ]
  },
  {
   "cell_type": "markdown",
   "id": "d435bd76-6d81-4c1d-952c-3dce2fcb07cd",
   "metadata": {},
   "source": [
    "<h2>The Modern Syntax of Dictionaries.</h2>"
   ]
  },
  {
   "cell_type": "markdown",
   "id": "6c20eacc-2137-4bf9-994d-2a089e84f72b",
   "metadata": {},
   "source": [
    "<h3>Dictionary Entries</h3>"
   ]
  },
  {
   "cell_type": "markdown",
   "id": "66e1223d-e0a9-4912-b1b5-be9687190ace",
   "metadata": {},
   "source": [
    "Using dictionary entries to construct two dictionaries from the same tuple list"
   ]
  },
  {
   "cell_type": "code",
   "execution_count": 1,
   "id": "4f122c03-664e-43ae-98fd-6eec228a562a",
   "metadata": {},
   "outputs": [
    {
     "data": {
      "text/plain": [
       "{'Bangladesh': 880,\n",
       " 'Brazil': 55,\n",
       " 'China': 86,\n",
       " 'India': 91,\n",
       " 'Indonesia': 62,\n",
       " 'Japan': 81,\n",
       " 'Nigeria': 234,\n",
       " 'Pakistan': 92,\n",
       " 'Russian Federation': 7,\n",
       " 'United States of America': 1}"
      ]
     },
     "execution_count": 1,
     "metadata": {},
     "output_type": "execute_result"
    }
   ],
   "source": [
    "DIAL_CODES = [\n",
    "    (880, 'Bangladesh'),\n",
    "    (55, 'Brazil'),\n",
    "    (86, 'China'),\n",
    "    (91, 'India'),\n",
    "    (62, 'Indonesia'),\n",
    "    (81, 'Japan'),\n",
    "    (234, 'Nigeria'),\n",
    "    (92, 'Pakistan'),\n",
    "    (7, 'Russian Federation'),\n",
    "    (1, 'United States of America')\n",
    "]\n",
    "\n",
    "country_dial = {\n",
    "    country: code for code,\n",
    "    country in DIAL_CODES\n",
    "}\n",
    "country_dial"
   ]
  },
  {
   "cell_type": "code",
   "execution_count": 2,
   "id": "208806b5-38f5-41b1-b948-89588419b498",
   "metadata": {},
   "outputs": [
    {
     "data": {
      "text/plain": [
       "{55: 'BRAZIL',\n",
       " 62: 'INDONESIA',\n",
       " 7: 'RUSSIAN FEDERATION',\n",
       " 1: 'UNITED STATES OF AMERICA'}"
      ]
     },
     "execution_count": 2,
     "metadata": {},
     "output_type": "execute_result"
    }
   ],
   "source": [
    "{\n",
    "    code: country.upper()\n",
    "    for country, code in sorted(country_dial.items())\n",
    "    if code < 70\n",
    "}"
   ]
  },
  {
   "cell_type": "markdown",
   "id": "be34941a-635a-46d4-8161-bb7704d9eb0d",
   "metadata": {},
   "source": [
    "<h3>Unpacking mappings</h3>"
   ]
  },
  {
   "cell_type": "markdown",
   "id": "f7f23446-4fd8-4487-b21e-a8e18ba1f3d5",
   "metadata": {},
   "source": [
    "The `**` operator unpacks dictionaries, making it easier to pass multiple keyword arguments to functions or merge dictionaries quickly."
   ]
  },
  {
   "cell_type": "code",
   "execution_count": 3,
   "id": "673e2668-e75c-4220-9ecf-e3d6c26f0a65",
   "metadata": {},
   "outputs": [],
   "source": [
    "def dump(**kwargs):\n",
    "    return kwargs"
   ]
  },
  {
   "cell_type": "code",
   "execution_count": 4,
   "id": "e6ad54d4-904e-4683-ab3f-71e7b5e7af80",
   "metadata": {},
   "outputs": [
    {
     "data": {
      "text/plain": [
       "{'x': 1, 'y': 2, 'z': 3}"
      ]
     },
     "execution_count": 4,
     "metadata": {},
     "output_type": "execute_result"
    }
   ],
   "source": [
    "dump(**{'x': 1}, y=2, **{'z': 3})"
   ]
  },
  {
   "cell_type": "code",
   "execution_count": 5,
   "id": "5ec1279b-ae3e-474b-bf52-411217aea28e",
   "metadata": {},
   "outputs": [
    {
     "data": {
      "text/plain": [
       "{'a': 0, 'x': 4, 'y': 2, 'z': 3}"
      ]
     },
     "execution_count": 5,
     "metadata": {},
     "output_type": "execute_result"
    }
   ],
   "source": [
    "{\n",
    "    'a': 0,\n",
    "    **{'x': 1},\n",
    "    'y': 2,\n",
    "    **{'z': 3, 'x': 4}\n",
    "}"
   ]
  },
  {
   "cell_type": "markdown",
   "id": "0a23d1ce-acbd-4c86-b12e-41225b15e3bb",
   "metadata": {},
   "source": [
    "<h3>Unification of mappings by operator <code>|</code></h3>"
   ]
  },
  {
   "cell_type": "code",
   "execution_count": 6,
   "id": "ac30028f-ce46-462b-b460-99f178ba8256",
   "metadata": {},
   "outputs": [],
   "source": [
    "d1 = {'a': 1, 'b': 3}\n",
    "d2 = {'a': 2, 'b': 4, 'c': 6}"
   ]
  },
  {
   "cell_type": "code",
   "execution_count": 7,
   "id": "100aa33c-91ad-4b57-845b-8702911d488b",
   "metadata": {},
   "outputs": [
    {
     "data": {
      "text/plain": [
       "{'a': 2, 'b': 4, 'c': 6}"
      ]
     },
     "execution_count": 7,
     "metadata": {},
     "output_type": "execute_result"
    }
   ],
   "source": [
    "d1 | d2"
   ]
  },
  {
   "cell_type": "code",
   "execution_count": 8,
   "id": "6e378be4-914a-4bf9-b8cd-74fae3654260",
   "metadata": {},
   "outputs": [
    {
     "data": {
      "text/plain": [
       "{'a': 1, 'b': 3}"
      ]
     },
     "execution_count": 8,
     "metadata": {},
     "output_type": "execute_result"
    }
   ],
   "source": [
    "d1"
   ]
  },
  {
   "cell_type": "markdown",
   "id": "87b899ca-b293-4e1e-9995-96286c87025d",
   "metadata": {},
   "source": [
    "`|=` operator modifies existing mappings"
   ]
  },
  {
   "cell_type": "code",
   "execution_count": 9,
   "id": "be7957bd-6ad2-4b8c-af02-4d4888746711",
   "metadata": {},
   "outputs": [],
   "source": [
    "d1 |= d2"
   ]
  },
  {
   "cell_type": "code",
   "execution_count": 10,
   "id": "933ecec6-5945-42e1-bc83-be39e81e6368",
   "metadata": {},
   "outputs": [
    {
     "data": {
      "text/plain": [
       "{'a': 2, 'b': 4, 'c': 6}"
      ]
     },
     "execution_count": 10,
     "metadata": {},
     "output_type": "execute_result"
    }
   ],
   "source": [
    "d1"
   ]
  },
  {
   "cell_type": "markdown",
   "id": "7c8fc054-fa18-4439-849d-11cfc2df9024",
   "metadata": {},
   "source": [
    "<h2>Comparison with a Sample Mapping</h2>"
   ]
  },
  {
   "cell_type": "markdown",
   "id": "ccf3e3a4-c1d2-4260-a108-9159501c6a3a",
   "metadata": {},
   "source": [
    "`get_creator()` highlights author names from notes on works of art"
   ]
  },
  {
   "cell_type": "code",
   "execution_count": 11,
   "id": "6851bae9-1d1b-4dc7-ba15-ae69c0ae6b1f",
   "metadata": {},
   "outputs": [],
   "source": [
    "def get_creator(record: dict) -> list:\n",
    "    match record:\n",
    "        case {'type': 'book', 'api': 2, 'authors': [*names]}:\n",
    "            return names\n",
    "        case {'type': 'book', 'api': 1, 'author': name}:\n",
    "            return [name]\n",
    "        case {'type': 'book'}:\n",
    "            raise ValueError(f\"Invalid 'book' record: {record!r}\")\n",
    "        case {'type': 'movie', 'director': name}:\n",
    "            return [name]\n",
    "        case _:\n",
    "            raise ValueError(f\"Invalid record: {record!r}\")"
   ]
  },
  {
   "cell_type": "code",
   "execution_count": 12,
   "id": "ce73e44d-14b2-40d2-b86d-29fea57ad39d",
   "metadata": {},
   "outputs": [],
   "source": [
    "b1 = dict(\n",
    "    api=1,\n",
    "    author='Douglas Hofstadter',\n",
    "    type='book',\n",
    "    title='Gödel, Escher, Bach'\n",
    ")"
   ]
  },
  {
   "cell_type": "code",
   "execution_count": 13,
   "id": "a98348cd-b7cf-48bf-b02b-7c9bf5d98dc1",
   "metadata": {},
   "outputs": [
    {
     "data": {
      "text/plain": [
       "['Douglas Hofstadter']"
      ]
     },
     "execution_count": 13,
     "metadata": {},
     "output_type": "execute_result"
    }
   ],
   "source": [
    "get_creator(b1)"
   ]
  },
  {
   "cell_type": "code",
   "execution_count": 14,
   "id": "03e86a9d-afea-4dd8-b25a-d765d0280132",
   "metadata": {},
   "outputs": [],
   "source": [
    "from collections import OrderedDict\n",
    "\n",
    "\n",
    "b2 = OrderedDict(\n",
    "    api=2,\n",
    "    type='book',\n",
    "    title='Python in a Nutshell',\n",
    "    authors='Martelli Ravenscroft Holden'.split()\n",
    ")"
   ]
  },
  {
   "cell_type": "code",
   "execution_count": 15,
   "id": "13ddc03f-237b-4d66-8141-11e1c0a9acfc",
   "metadata": {},
   "outputs": [
    {
     "data": {
      "text/plain": [
       "['Martelli', 'Ravenscroft', 'Holden']"
      ]
     },
     "execution_count": 15,
     "metadata": {},
     "output_type": "execute_result"
    }
   ],
   "source": [
    "get_creator(b2)"
   ]
  },
  {
   "cell_type": "code",
   "execution_count": 16,
   "id": "57a70953-9444-481a-a50c-e4d2a67201e5",
   "metadata": {},
   "outputs": [
    {
     "ename": "ValueError",
     "evalue": "Invalid 'book' record: {'type': 'book', 'pages': 770}",
     "output_type": "error",
     "traceback": [
      "\u001b[0;31m---------------------------------------------------------------------------\u001b[0m",
      "\u001b[0;31mValueError\u001b[0m                                Traceback (most recent call last)",
      "Cell \u001b[0;32mIn[16], line 1\u001b[0m\n\u001b[0;32m----> 1\u001b[0m \u001b[43mget_creator\u001b[49m\u001b[43m(\u001b[49m\u001b[43m{\u001b[49m\u001b[38;5;124;43m'\u001b[39;49m\u001b[38;5;124;43mtype\u001b[39;49m\u001b[38;5;124;43m'\u001b[39;49m\u001b[43m:\u001b[49m\u001b[43m \u001b[49m\u001b[38;5;124;43m'\u001b[39;49m\u001b[38;5;124;43mbook\u001b[39;49m\u001b[38;5;124;43m'\u001b[39;49m\u001b[43m,\u001b[49m\u001b[43m \u001b[49m\u001b[38;5;124;43m'\u001b[39;49m\u001b[38;5;124;43mpages\u001b[39;49m\u001b[38;5;124;43m'\u001b[39;49m\u001b[43m:\u001b[49m\u001b[43m \u001b[49m\u001b[38;5;241;43m770\u001b[39;49m\u001b[43m}\u001b[49m\u001b[43m)\u001b[49m\n",
      "Cell \u001b[0;32mIn[11], line 8\u001b[0m, in \u001b[0;36mget_creator\u001b[0;34m(record)\u001b[0m\n\u001b[1;32m      6\u001b[0m     \u001b[38;5;28;01mreturn\u001b[39;00m [name]\n\u001b[1;32m      7\u001b[0m \u001b[38;5;28;01mcase\u001b[39;00m {\u001b[38;5;124m'\u001b[39m\u001b[38;5;124mtype\u001b[39m\u001b[38;5;124m'\u001b[39m: \u001b[38;5;124m'\u001b[39m\u001b[38;5;124mbook\u001b[39m\u001b[38;5;124m'\u001b[39m}:\n\u001b[0;32m----> 8\u001b[0m     \u001b[38;5;28;01mraise\u001b[39;00m \u001b[38;5;167;01mValueError\u001b[39;00m(\u001b[38;5;124mf\u001b[39m\u001b[38;5;124m\"\u001b[39m\u001b[38;5;124mInvalid \u001b[39m\u001b[38;5;124m'\u001b[39m\u001b[38;5;124mbook\u001b[39m\u001b[38;5;124m'\u001b[39m\u001b[38;5;124m record: \u001b[39m\u001b[38;5;132;01m{\u001b[39;00mrecord\u001b[38;5;132;01m!r}\u001b[39;00m\u001b[38;5;124m\"\u001b[39m)\n\u001b[1;32m      9\u001b[0m \u001b[38;5;28;01mcase\u001b[39;00m {\u001b[38;5;124m'\u001b[39m\u001b[38;5;124mtype\u001b[39m\u001b[38;5;124m'\u001b[39m: \u001b[38;5;124m'\u001b[39m\u001b[38;5;124mmovie\u001b[39m\u001b[38;5;124m'\u001b[39m, \u001b[38;5;124m'\u001b[39m\u001b[38;5;124mdirector\u001b[39m\u001b[38;5;124m'\u001b[39m: name}:\n\u001b[1;32m     10\u001b[0m     \u001b[38;5;28;01mreturn\u001b[39;00m [name]\n",
      "\u001b[0;31mValueError\u001b[0m: Invalid 'book' record: {'type': 'book', 'pages': 770}"
     ]
    }
   ],
   "source": [
    "get_creator({'type': 'book', 'pages': 770})"
   ]
  },
  {
   "cell_type": "code",
   "execution_count": 17,
   "id": "7c6fc62b-92b0-49a0-8c6a-23c443fa7615",
   "metadata": {},
   "outputs": [
    {
     "ename": "ValueError",
     "evalue": "Invalid record: 'Spam, spam, spam'",
     "output_type": "error",
     "traceback": [
      "\u001b[0;31m---------------------------------------------------------------------------\u001b[0m",
      "\u001b[0;31mValueError\u001b[0m                                Traceback (most recent call last)",
      "Cell \u001b[0;32mIn[17], line 1\u001b[0m\n\u001b[0;32m----> 1\u001b[0m \u001b[43mget_creator\u001b[49m\u001b[43m(\u001b[49m\u001b[38;5;124;43m'\u001b[39;49m\u001b[38;5;124;43mSpam, spam, spam\u001b[39;49m\u001b[38;5;124;43m'\u001b[39;49m\u001b[43m)\u001b[49m\n",
      "Cell \u001b[0;32mIn[11], line 12\u001b[0m, in \u001b[0;36mget_creator\u001b[0;34m(record)\u001b[0m\n\u001b[1;32m     10\u001b[0m     \u001b[38;5;28;01mreturn\u001b[39;00m [name]\n\u001b[1;32m     11\u001b[0m \u001b[38;5;28;01mcase\u001b[39;00m\u001b[38;5;250m \u001b[39m\u001b[38;5;28;01m_\u001b[39;00m:\n\u001b[0;32m---> 12\u001b[0m     \u001b[38;5;28;01mraise\u001b[39;00m \u001b[38;5;167;01mValueError\u001b[39;00m(\u001b[38;5;124mf\u001b[39m\u001b[38;5;124m\"\u001b[39m\u001b[38;5;124mInvalid record: \u001b[39m\u001b[38;5;132;01m{\u001b[39;00mrecord\u001b[38;5;132;01m!r}\u001b[39;00m\u001b[38;5;124m\"\u001b[39m)\n",
      "\u001b[0;31mValueError\u001b[0m: Invalid record: 'Spam, spam, spam'"
     ]
    }
   ],
   "source": [
    "get_creator('Spam, spam, spam')"
   ]
  },
  {
   "cell_type": "code",
   "execution_count": 18,
   "id": "106d5939-29b9-4591-831d-ad8822fc4748",
   "metadata": {},
   "outputs": [],
   "source": [
    "food = dict(category='ice cream', flavor='vanilla', cost=199)"
   ]
  },
  {
   "cell_type": "code",
   "execution_count": 19,
   "id": "3db9d477-78a9-4cb4-b73e-13050a7339de",
   "metadata": {},
   "outputs": [
    {
     "name": "stdout",
     "output_type": "stream",
     "text": [
      "Ice cream details: {'flavor': 'vanilla', 'cost': 199}\n"
     ]
    }
   ],
   "source": [
    "match food:\n",
    "    case {'category': 'ice cream', **details}:\n",
    "        print(f\"Ice cream details: {details}\")"
   ]
  },
  {
   "cell_type": "markdown",
   "id": "dbc1763c-988c-46c9-a07f-83f6ec324d6f",
   "metadata": {},
   "source": [
    "<h2>Standart API of mapping types</h2>"
   ]
  },
  {
   "cell_type": "markdown",
   "id": "ba21ede1-b6c3-48e9-a918-bb799c52e368",
   "metadata": {},
   "source": [
    "<h3>What does \"hashable\" mean?</h3>"
   ]
  },
  {
   "cell_type": "markdown",
   "id": "a714580d-845e-4207-b8f0-7b7e5e01b449",
   "metadata": {},
   "source": [
    "Hashable objects are those that can be hashed, meaning they have a hash value that remains constant throughout their lifetime and can be used as keys in a dictionary or as elements in a set."
   ]
  },
  {
   "cell_type": "code",
   "execution_count": 20,
   "id": "0c2ec0ee-21d6-4e09-896e-f043d2eb2457",
   "metadata": {},
   "outputs": [
    {
     "data": {
      "text/plain": [
       "3794340727080330424"
      ]
     },
     "execution_count": 20,
     "metadata": {},
     "output_type": "execute_result"
    }
   ],
   "source": [
    "tt = (1, 2, (3, 4))\n",
    "tt.__hash__()"
   ]
  },
  {
   "cell_type": "code",
   "execution_count": 21,
   "id": "21105be2-4fe3-4af7-8181-e2578168d167",
   "metadata": {},
   "outputs": [
    {
     "name": "stdout",
     "output_type": "stream",
     "text": [
      "TypeError(\"unhashable type: 'list'\")\n"
     ]
    }
   ],
   "source": [
    "tl = (1, 2, [3, 4])\n",
    "try:\n",
    "    tl.__hash__()\n",
    "except TypeError as e:\n",
    "    print(e.__repr__())"
   ]
  },
  {
   "cell_type": "markdown",
   "id": "28699986-523f-4531-bc45-2a2f75491e81",
   "metadata": {},
   "source": [
    "`frozenset()` creates an immutable set from an iterable"
   ]
  },
  {
   "cell_type": "code",
   "execution_count": 22,
   "id": "2ca4db02-68f3-4e7c-b9cc-4686508a2739",
   "metadata": {},
   "outputs": [
    {
     "data": {
      "text/plain": [
       "131250961768736263"
      ]
     },
     "execution_count": 22,
     "metadata": {},
     "output_type": "execute_result"
    }
   ],
   "source": [
    "tf = (1, 2, frozenset([3, 4]))\n",
    "tf.__hash__()"
   ]
  },
  {
   "cell_type": "markdown",
   "id": "3ff6c5d8-f679-4510-9079-c71d8389e1b0",
   "metadata": {},
   "source": [
    "<h3>Inserting and updating mutable values</h3>"
   ]
  },
  {
   "cell_type": "code",
   "execution_count": 23,
   "id": "53356aba-fd00-4c4e-8dc7-bd9a389500ef",
   "metadata": {},
   "outputs": [],
   "source": [
    "ZEN_TEXT = \"\"\"\n",
    "The Zen of Python, by Tim Peters\n",
    "\n",
    "Beautiful is better than ugly.\n",
    "Explicit is better than implicit.\n",
    "Simple is better than complex.\n",
    "Complex is better than complicated.\n",
    "Flat is better than nested.\n",
    "Sparse is better than dense.\n",
    "Readability counts.\n",
    "Special cases aren't special enough to break the rules.\n",
    "Although practicality beats purity.\n",
    "Errors should never pass silently.\n",
    "Unless explicitly silenced.\n",
    "In the face of ambiguity, refuse the temptation to guess.\n",
    "There should be one-- and preferably only one --obvious way to do it.\n",
    "Although that way may not be obvious at first unless you're Dutch.\n",
    "Now is better than never.\n",
    "Although never is often better than *right* now.\n",
    "If the implementation is hard to explain, it's a bad idea.\n",
    "If the implementation is easy to explain, it may be a good idea.\n",
    "Namespaces are one honking great idea -- let's do more of those!\"\n",
    "\"\"\""
   ]
  },
  {
   "cell_type": "markdown",
   "id": "dc9a5e3f-eca3-4b2a-967e-57d4a24ba6f0",
   "metadata": {},
   "source": [
    "`ZEN_TEXT` processing. Each line shows a word and a list of its occurences represented in pairs (row number, column number)."
   ]
  },
  {
   "cell_type": "code",
   "execution_count": 24,
   "id": "fdfd1890-e478-48bb-9217-63b00769ad14",
   "metadata": {},
   "outputs": [
    {
     "name": "stdout",
     "output_type": "stream",
     "text": [
      "a [(20, 48), (21, 53)]\n",
      "Although [(12, 1), (17, 1), (19, 1)]\n",
      "ambiguity [(15, 16)]\n",
      "and [(16, 23)]\n",
      "are [(22, 12)]\n",
      "aren [(11, 15)]\n",
      "at [(17, 38)]\n",
      "bad [(20, 50)]\n",
      "be [(16, 14), (17, 27), (21, 50)]\n",
      "beats [(12, 23)]\n"
     ]
    }
   ],
   "source": [
    "import re\n",
    "\n",
    "\n",
    "WORD_RE = re.compile(r'\\w+')\n",
    "\n",
    "index = {}\n",
    "for line_no, line in enumerate(ZEN_TEXT.split('\\n'), start=1):\n",
    "    for match in WORD_RE.finditer(line):\n",
    "        word = match.group()\n",
    "        column_no = match.start() + 1\n",
    "        location = (line_no, column_no)\n",
    "        \n",
    "        occurrences = index.get(word, [])\n",
    "        occurrences.append(location)\n",
    "        \n",
    "        index[word] = occurrences\n",
    "\n",
    "# display in alphabetical order\n",
    "for word in sorted(index, key=str.upper)[:10]:  # let's reduce the output to 10 lines\n",
    "    print(word, index[word])"
   ]
  },
  {
   "cell_type": "markdown",
   "id": "b706b909-44de-4bbf-8aff-100f835394d0",
   "metadata": {},
   "source": [
    "Using method `dict.setdefault()`"
   ]
  },
  {
   "cell_type": "code",
   "execution_count": 25,
   "id": "6dd9237c-a079-45d5-9eb1-0cb617985709",
   "metadata": {},
   "outputs": [
    {
     "name": "stdout",
     "output_type": "stream",
     "text": [
      "a [(20, 48), (21, 53)]\n",
      "Although [(12, 1), (17, 1), (19, 1)]\n",
      "ambiguity [(15, 16)]\n",
      "and [(16, 23)]\n",
      "are [(22, 12)]\n",
      "aren [(11, 15)]\n",
      "at [(17, 38)]\n",
      "bad [(20, 50)]\n",
      "be [(16, 14), (17, 27), (21, 50)]\n",
      "beats [(12, 23)]\n"
     ]
    }
   ],
   "source": [
    "index = {}\n",
    "for line_no, line in enumerate(ZEN_TEXT.split('\\n'), start=1):\n",
    "    for match in WORD_RE.finditer(line):\n",
    "        word = match.group()\n",
    "        column_no = match.start() + 1\n",
    "        location = (line_no, column_no)\n",
    "        \n",
    "        index.setdefault(word, []).append(location)\n",
    "\n",
    "for word in sorted(index, key=str.upper)[:10]:\n",
    "    print(word, index[word])"
   ]
  },
  {
   "cell_type": "markdown",
   "id": "5a902731-248c-4643-918a-176b176a9c7b",
   "metadata": {},
   "source": [
    "<h2>Automatic handling of missing keys</h2>"
   ]
  },
  {
   "cell_type": "markdown",
   "id": "0eced33b-270f-40e6-a6cb-bf0c49194f73",
   "metadata": {},
   "source": [
    "<h3><code>defaultdict</code> another approach to handle missing keys</h3>"
   ]
  },
  {
   "cell_type": "markdown",
   "id": "a9dfd4c2-ca0e-4daf-89d7-eba86b2148ae",
   "metadata": {},
   "source": [
    "Using instance `defaultdict` instead of method `setdefault`"
   ]
  },
  {
   "cell_type": "code",
   "execution_count": 26,
   "id": "6995a844-707f-43df-a8d7-3466dbc59ee7",
   "metadata": {},
   "outputs": [
    {
     "name": "stdout",
     "output_type": "stream",
     "text": [
      "a [(20, 48), (21, 53)]\n",
      "Although [(12, 1), (17, 1), (19, 1)]\n",
      "ambiguity [(15, 16)]\n",
      "and [(16, 23)]\n",
      "are [(22, 12)]\n",
      "aren [(11, 15)]\n",
      "at [(17, 38)]\n",
      "bad [(20, 50)]\n",
      "be [(16, 14), (17, 27), (21, 50)]\n",
      "beats [(12, 23)]\n"
     ]
    }
   ],
   "source": [
    "from collections import defaultdict\n",
    "import re\n",
    "\n",
    "\n",
    "WORD_RE = re.compile(r'\\w+')\n",
    "\n",
    "index = defaultdict(list)  # create 'defaultdict' by setting as 'default_factory' constructor 'list' \n",
    "for line_no, line in enumerate(ZEN_TEXT.split('\\n'), start=1):\n",
    "    for match in WORD_RE.finditer(line):\n",
    "        word = match.group()\n",
    "        column_no = match.start() + 1\n",
    "        location = (line_no, column_no)\n",
    "\n",
    "        index[word].append(location)  # if 'word' is not in 'index', 'default_factory' create an empty list\n",
    "\n",
    "# display in alphabetical order\n",
    "for word in sorted(index, key=str.upper)[:10]:  # let's reduce the output to 10 lines\n",
    "    print(word, index[word])"
   ]
  },
  {
   "cell_type": "markdown",
   "id": "ab831812-47c4-4ef6-8590-a85cc99c1e8c",
   "metadata": {},
   "source": [
    "<h3>Method <code>__missing__</code></h3>"
   ]
  },
  {
   "cell_type": "markdown",
   "id": "73a591db-a9a3-45e0-8d00-3d7b53ce507e",
   "metadata": {},
   "source": [
    "`__missing__` is a special method in dictionaries. It's used to define custom behavior when a requested key is not found. This method allows customization for handling missing keys in dictionary subclasses."
   ]
  },
  {
   "cell_type": "code",
   "execution_count": 27,
   "id": "629baabf-41b8-4eef-8649-095165c57786",
   "metadata": {},
   "outputs": [],
   "source": [
    "class StrKeyDict(dict):\n",
    "\n",
    "    def __missing__(self, key):\n",
    "        if isinstance(key, str):\n",
    "            raise KeyError(key)\n",
    "        return self[str(key)]\n",
    "\n",
    "    def get(self, key, default=None):\n",
    "        try:\n",
    "            return self[key]\n",
    "        except KeyError:\n",
    "            return default\n",
    "\n",
    "    def __contains__(self, key):\n",
    "        return key in self.keys() or str(key) in self.keys()"
   ]
  },
  {
   "cell_type": "markdown",
   "id": "2479dc17-f6d1-4c6a-ae3f-1ffec878bef3",
   "metadata": {},
   "source": [
    "<h2>Variations on theme <code>dict</code></h2>"
   ]
  },
  {
   "cell_type": "markdown",
   "id": "10cf5724-2c4e-44ac-ba1e-eb44afa95dea",
   "metadata": {},
   "source": [
    "<h3><code>collections.OrderedDict</code></h3>"
   ]
  },
  {
   "cell_type": "markdown",
   "id": "a96682db-0435-48f8-97f7-b319aa340cc7",
   "metadata": {},
   "source": [
    "`collections.OrderedDict` is a Python container that maintains the order of inserted key-value pairs. It extends the functionality of a regular dictionary by remembering the order in which items were added."
   ]
  },
  {
   "cell_type": "code",
   "execution_count": 28,
   "id": "9c2db3f7-35f5-4388-bb78-b6873151da20",
   "metadata": {},
   "outputs": [
    {
     "data": {
      "text/plain": [
       "OrderedDict([('one', 1), ('two', 2), ('three', 3)])"
      ]
     },
     "execution_count": 28,
     "metadata": {},
     "output_type": "execute_result"
    }
   ],
   "source": [
    "from collections import OrderedDict\n",
    "\n",
    "\n",
    "ord_dict = OrderedDict()\n",
    "ord_dict['one'] = 1\n",
    "ord_dict['two'] = 2\n",
    "ord_dict['three'] = 3\n",
    "\n",
    "ord_dict"
   ]
  },
  {
   "cell_type": "code",
   "execution_count": 29,
   "id": "f6016945-4923-42ad-826a-f7274d8ee02c",
   "metadata": {},
   "outputs": [],
   "source": [
    "d1['one'] = 1\n",
    "d1['two'] = 2\n",
    "d1['three'] = 3\n",
    "\n",
    "d2['three'] = 3\n",
    "d2['two'] = 2\n",
    "d2['one'] = 1"
   ]
  },
  {
   "cell_type": "code",
   "execution_count": 30,
   "id": "81a02933-2560-4640-a1bc-ea135b4d1215",
   "metadata": {},
   "outputs": [
    {
     "name": "stdout",
     "output_type": "stream",
     "text": [
      "True\n",
      "False\n"
     ]
    }
   ],
   "source": [
    "print(d1 == d2)\n",
    "print(d2 == ord_dict)"
   ]
  },
  {
   "cell_type": "markdown",
   "id": "bb2d5d5b-0155-4f8d-ac1b-e2970d4e9264",
   "metadata": {},
   "source": [
    "<h3><code>collections.ChainMap</code></h3>"
   ]
  },
  {
   "cell_type": "markdown",
   "id": "c7201587-e3e7-4e84-9112-9f59f5a681a2",
   "metadata": {},
   "source": [
    "`collections.ChainMap` in Python is a class that provides the ability to link multiple dictionaries or mappings into a single view. It allows you to access and update the combined mappings as if they were a single dictionary."
   ]
  },
  {
   "cell_type": "code",
   "execution_count": 31,
   "id": "b6746ce7-2a75-4813-9408-30cbff1c2b01",
   "metadata": {},
   "outputs": [],
   "source": [
    "d1 = dict(a=1, b=3)\n",
    "d2 = dict(a=2, b=4, c=6)"
   ]
  },
  {
   "cell_type": "code",
   "execution_count": 32,
   "id": "8dea7814-5cd7-455b-9d2f-66db9aea936b",
   "metadata": {},
   "outputs": [
    {
     "data": {
      "text/plain": [
       "ChainMap({'a': 1, 'b': 3}, {'a': 2, 'b': 4, 'c': 6})"
      ]
     },
     "execution_count": 32,
     "metadata": {},
     "output_type": "execute_result"
    }
   ],
   "source": [
    "from collections import ChainMap\n",
    "\n",
    "\n",
    "chain = ChainMap(d1, d2)\n",
    "chain"
   ]
  },
  {
   "cell_type": "code",
   "execution_count": 33,
   "id": "5dfb0964-b5e3-4e6c-a7b7-f9fbc856e209",
   "metadata": {},
   "outputs": [
    {
     "data": {
      "text/plain": [
       "1"
      ]
     },
     "execution_count": 33,
     "metadata": {},
     "output_type": "execute_result"
    }
   ],
   "source": [
    "chain['a']"
   ]
  },
  {
   "cell_type": "code",
   "execution_count": 34,
   "id": "fe06ca53-1835-4447-a61a-fb88ae0eae33",
   "metadata": {},
   "outputs": [
    {
     "data": {
      "text/plain": [
       "6"
      ]
     },
     "execution_count": 34,
     "metadata": {},
     "output_type": "execute_result"
    }
   ],
   "source": [
    "chain['c']"
   ]
  },
  {
   "cell_type": "markdown",
   "id": "a20b378a-849c-4d62-be08-a5a51896c283",
   "metadata": {},
   "source": [
    "All `ChainMap` modifications and insertions apply only to the first of the input mappings."
   ]
  },
  {
   "cell_type": "code",
   "execution_count": 35,
   "id": "010a7e23-ea78-4631-ac7f-8cdfca8ba231",
   "metadata": {},
   "outputs": [],
   "source": [
    "chain['c'] = -1"
   ]
  },
  {
   "cell_type": "code",
   "execution_count": 36,
   "id": "1417079d-b4ce-4c79-a460-3ef50b77f6bf",
   "metadata": {},
   "outputs": [
    {
     "data": {
      "text/plain": [
       "{'a': 1, 'b': 3, 'c': -1}"
      ]
     },
     "execution_count": 36,
     "metadata": {},
     "output_type": "execute_result"
    }
   ],
   "source": [
    "d1"
   ]
  },
  {
   "cell_type": "code",
   "execution_count": 37,
   "id": "0a1a36d4-29b6-4a22-9d80-ab3f61d7f841",
   "metadata": {},
   "outputs": [
    {
     "data": {
      "text/plain": [
       "{'a': 2, 'b': 4, 'c': 6}"
      ]
     },
     "execution_count": 37,
     "metadata": {},
     "output_type": "execute_result"
    }
   ],
   "source": [
    "d2"
   ]
  },
  {
   "cell_type": "markdown",
   "id": "de3cdf8a-4918-4f11-bdbc-606528f66d29",
   "metadata": {},
   "source": [
    "<h3><code>collections.Counter</code></h3>"
   ]
  },
  {
   "cell_type": "markdown",
   "id": "140ac754-c71b-4574-b61c-78736e71e8b3",
   "metadata": {},
   "source": [
    "`collections.Counter` is used for counting the occurrences of elements in a collection, typically in an iterable like a list or a string. The elements and their counts are stored as dictionary-like key-value pairs."
   ]
  },
  {
   "cell_type": "code",
   "execution_count": 38,
   "id": "b7911d78-35ac-4522-906a-f3606791062d",
   "metadata": {},
   "outputs": [
    {
     "data": {
      "text/plain": [
       "Counter({'a': 5, 'b': 2, 'r': 2, 'c': 1, 'd': 1})"
      ]
     },
     "execution_count": 38,
     "metadata": {},
     "output_type": "execute_result"
    }
   ],
   "source": [
    "from collections import Counter\n",
    "\n",
    "\n",
    "ct = Counter('abracadabra')\n",
    "ct"
   ]
  },
  {
   "cell_type": "code",
   "execution_count": 39,
   "id": "b944289c-613d-4371-9e2f-4da6a759784d",
   "metadata": {},
   "outputs": [
    {
     "data": {
      "text/plain": [
       "Counter({'a': 8, 'z': 3, 'b': 2, 'r': 2, 'c': 1, 'd': 1})"
      ]
     },
     "execution_count": 39,
     "metadata": {},
     "output_type": "execute_result"
    }
   ],
   "source": [
    "ct.update('aaazzz')\n",
    "ct"
   ]
  },
  {
   "cell_type": "markdown",
   "id": "602e39ad-a616-40a9-9d49-528f2d50be1f",
   "metadata": {},
   "source": [
    "<h3>Creating a <code>UserDict</code> subclass instead of <code>dict</code></h3>"
   ]
  },
  {
   "cell_type": "markdown",
   "id": "4fe8f10a-d85d-407a-af30-53901ec0ba28",
   "metadata": {},
   "source": [
    "`UserDict` is a class in Python's `collections` module that provides a simple way to create user-defined dictionary-like objects. It is designed to be subclassed, allowing users to define their own custom dictionary behavior by extending the `UserDict` class."
   ]
  },
  {
   "cell_type": "code",
   "execution_count": 40,
   "id": "61f5754b-f148-4e99-b4a1-a825ed644879",
   "metadata": {},
   "outputs": [],
   "source": [
    "from collections import UserDict\n",
    "\n",
    "\n",
    "class MyDict(UserDict):\n",
    "\n",
    "    def __contains__(self, key):\n",
    "        return key in self.data\n",
    "\n",
    "    def __setitem__(self, key, value):\n",
    "        if key in self.data:\n",
    "            self.data[key] = value  # update existing value\n",
    "        else:\n",
    "            self.data[key] = value  # add new key-value pair\n",
    "\n",
    "    def __delitem__(self, key):\n",
    "        if key in self.data:\n",
    "            del self.data[key]\n",
    "        else:\n",
    "            raise KeyError(key)"
   ]
  },
  {
   "cell_type": "markdown",
   "id": "e0948ee1-1941-4fec-8147-392a79a7fd78",
   "metadata": {},
   "source": [
    "<h2>Immutable mappings</h2>"
   ]
  },
  {
   "cell_type": "markdown",
   "id": "42937c48-ea77-415f-945f-8133a577e43a",
   "metadata": {},
   "source": [
    "`MappingProxyType` in Python's `types` module creates a read-only proxy for mappings (like dictionaries). It enables viewing data without allowing modifications, useful for controlled access and immutability."
   ]
  },
  {
   "cell_type": "code",
   "execution_count": 41,
   "id": "959df983-473f-439c-bf1f-1546d075219c",
   "metadata": {},
   "outputs": [
    {
     "data": {
      "text/plain": [
       "mappingproxy({1: 'A'})"
      ]
     },
     "execution_count": 41,
     "metadata": {},
     "output_type": "execute_result"
    }
   ],
   "source": [
    "from types import MappingProxyType\n",
    "\n",
    "\n",
    "d = {1: 'A'}\n",
    "d_proxy = MappingProxyType(d)\n",
    "\n",
    "d_proxy"
   ]
  },
  {
   "cell_type": "code",
   "execution_count": 42,
   "id": "a7d987fc-fbb6-480c-aed3-19396324e491",
   "metadata": {},
   "outputs": [
    {
     "data": {
      "text/plain": [
       "'A'"
      ]
     },
     "execution_count": 42,
     "metadata": {},
     "output_type": "execute_result"
    }
   ],
   "source": [
    "d_proxy[1]"
   ]
  },
  {
   "cell_type": "code",
   "execution_count": 43,
   "id": "8eaf8db3-4904-4bda-95a0-3f461638df11",
   "metadata": {},
   "outputs": [
    {
     "name": "stdout",
     "output_type": "stream",
     "text": [
      "TypeError(\"'mappingproxy' object does not support item assignment\")\n"
     ]
    }
   ],
   "source": [
    "try:\n",
    "    d_proxy[2] = 'B'\n",
    "except TypeError as e:\n",
    "    print(e.__repr__())"
   ]
  },
  {
   "cell_type": "markdown",
   "id": "19ab7501-7f57-4475-b18f-0518147427d8",
   "metadata": {},
   "source": [
    "The presentation of the `d_proxy` is dynamic: any change is immediately displayed"
   ]
  },
  {
   "cell_type": "code",
   "execution_count": 44,
   "id": "977b4d56-27e7-43a7-8d4e-9951d53bc1f3",
   "metadata": {},
   "outputs": [
    {
     "data": {
      "text/plain": [
       "mappingproxy({1: 'A', 2: 'B'})"
      ]
     },
     "execution_count": 44,
     "metadata": {},
     "output_type": "execute_result"
    }
   ],
   "source": [
    "d[2] = 'B'\n",
    "\n",
    "d_proxy"
   ]
  },
  {
   "cell_type": "code",
   "execution_count": 45,
   "id": "6ec51afc-b27d-45ae-b185-792a36d485fc",
   "metadata": {},
   "outputs": [
    {
     "data": {
      "text/plain": [
       "'B'"
      ]
     },
     "execution_count": 45,
     "metadata": {},
     "output_type": "execute_result"
    }
   ],
   "source": [
    "d_proxy[2]"
   ]
  },
  {
   "cell_type": "markdown",
   "id": "6049f407-4600-42d9-b96e-e855c24ea84b",
   "metadata": {},
   "source": [
    "<h2>Dictionary represantations</h2>"
   ]
  },
  {
   "cell_type": "code",
   "execution_count": 46,
   "id": "8d8abf63-49c8-46f6-a70d-19b01aac4fc7",
   "metadata": {},
   "outputs": [
    {
     "data": {
      "text/plain": [
       "{'a': 10, 'b': 20, 'c': 30}"
      ]
     },
     "execution_count": 46,
     "metadata": {},
     "output_type": "execute_result"
    }
   ],
   "source": [
    "d = dict(a=10, b=20, c=30)\n",
    "d"
   ]
  },
  {
   "cell_type": "code",
   "execution_count": 47,
   "id": "c3c44849-ec6b-4e42-933e-efbcedae243d",
   "metadata": {},
   "outputs": [
    {
     "data": {
      "text/plain": [
       "dict_values([10, 20, 30])"
      ]
     },
     "execution_count": 47,
     "metadata": {},
     "output_type": "execute_result"
    }
   ],
   "source": [
    "values = d.values()\n",
    "values"
   ]
  },
  {
   "cell_type": "code",
   "execution_count": 48,
   "id": "b9875d9e-d2d6-4199-9d48-782bbcb4bae3",
   "metadata": {},
   "outputs": [
    {
     "data": {
      "text/plain": [
       "3"
      ]
     },
     "execution_count": 48,
     "metadata": {},
     "output_type": "execute_result"
    }
   ],
   "source": [
    "len(values)"
   ]
  },
  {
   "cell_type": "code",
   "execution_count": 49,
   "id": "06cdb483-c9ed-4a8b-808a-582011010017",
   "metadata": {},
   "outputs": [
    {
     "data": {
      "text/plain": [
       "[10, 20, 30]"
      ]
     },
     "execution_count": 49,
     "metadata": {},
     "output_type": "execute_result"
    }
   ],
   "source": [
    "list(values)"
   ]
  },
  {
   "cell_type": "code",
   "execution_count": 50,
   "id": "409b783a-2ad3-4f46-9515-fe8eeebb999c",
   "metadata": {},
   "outputs": [
    {
     "data": {
      "text/plain": [
       "<dict_reversevalueiterator at 0x10aae8180>"
      ]
     },
     "execution_count": 50,
     "metadata": {},
     "output_type": "execute_result"
    }
   ],
   "source": [
    "reversed(values)"
   ]
  },
  {
   "cell_type": "code",
   "execution_count": 51,
   "id": "5376b189-7978-4777-b655-ac289264e3e2",
   "metadata": {},
   "outputs": [
    {
     "name": "stdout",
     "output_type": "stream",
     "text": [
      "TypeError(\"'dict_values' object is not subscriptable\")\n"
     ]
    }
   ],
   "source": [
    "try:\n",
    "    values[0]\n",
    "except TypeError as e:\n",
    "    print(e.__repr__())"
   ]
  },
  {
   "cell_type": "code",
   "execution_count": 52,
   "id": "a084b8d7-fe32-466f-9726-b671452958a7",
   "metadata": {},
   "outputs": [
    {
     "data": {
      "text/plain": [
       "{'a': 10, 'b': 20, 'c': 30, 'z': 99}"
      ]
     },
     "execution_count": 52,
     "metadata": {},
     "output_type": "execute_result"
    }
   ],
   "source": [
    "d['z'] = 99\n",
    "d"
   ]
  },
  {
   "cell_type": "code",
   "execution_count": 53,
   "id": "5bdff84d-0147-490a-a11b-32729f5d458a",
   "metadata": {},
   "outputs": [
    {
     "data": {
      "text/plain": [
       "dict_values([10, 20, 30, 99])"
      ]
     },
     "execution_count": 53,
     "metadata": {},
     "output_type": "execute_result"
    }
   ],
   "source": [
    "values"
   ]
  },
  {
   "cell_type": "code",
   "execution_count": 54,
   "id": "8b25c32a-8454-424c-bd63-3163ce83bfd3",
   "metadata": {},
   "outputs": [
    {
     "name": "stdout",
     "output_type": "stream",
     "text": [
      "TypeError(\"cannot create 'dict_values' instances\")\n"
     ]
    }
   ],
   "source": [
    "values_class = type({}.values())\n",
    "try:\n",
    "    v = values_class()\n",
    "except TypeError as e:\n",
    "    print(e.__repr__())"
   ]
  },
  {
   "cell_type": "markdown",
   "id": "171d1f61-0127-4421-a205-c1ff86fa90e8",
   "metadata": {},
   "source": [
    "<h2>Set theory</h2>"
   ]
  },
  {
   "cell_type": "markdown",
   "id": "e7d3b654-0bba-4048-957e-f4bbb9091ce8",
   "metadata": {},
   "source": [
    "A `set` is a collection of unigue objects."
   ]
  },
  {
   "cell_type": "code",
   "execution_count": 55,
   "id": "2976cb01-cf7b-45dc-81ec-6c17e32d8ded",
   "metadata": {},
   "outputs": [
    {
     "data": {
      "text/plain": [
       "{'bacon', 'eggs', 'spam'}"
      ]
     },
     "execution_count": 55,
     "metadata": {},
     "output_type": "execute_result"
    }
   ],
   "source": [
    "l = ['spam', 'spam', 'eggs', 'spam', 'bacon', 'eggs']\n",
    "set(l)"
   ]
  },
  {
   "cell_type": "code",
   "execution_count": 56,
   "id": "f798a274-63e5-4c73-9c6e-00d77f12335d",
   "metadata": {},
   "outputs": [
    {
     "data": {
      "text/plain": [
       "['eggs', 'bacon', 'spam']"
      ]
     },
     "execution_count": 56,
     "metadata": {},
     "output_type": "execute_result"
    }
   ],
   "source": [
    "list(set(l))"
   ]
  },
  {
   "cell_type": "markdown",
   "id": "330ace56-720e-4831-8ee5-0e409a36e80d",
   "metadata": {},
   "source": [
    "Eliminating duplicates while preserving the order of occurance using `dict`"
   ]
  },
  {
   "cell_type": "code",
   "execution_count": 57,
   "id": "3ed9ebd5-3c95-419d-896c-3965fdabc19e",
   "metadata": {},
   "outputs": [
    {
     "data": {
      "text/plain": [
       "['spam', 'eggs', 'bacon']"
      ]
     },
     "execution_count": 57,
     "metadata": {},
     "output_type": "execute_result"
    }
   ],
   "source": [
    "list(dict.fromkeys(l).keys())"
   ]
  },
  {
   "cell_type": "markdown",
   "id": "88aa9ebe-8538-4efb-8acc-bddab8454231",
   "metadata": {},
   "source": [
    "Counting the number of occurances of `needles` in `haystack`"
   ]
  },
  {
   "cell_type": "code",
   "execution_count": 58,
   "id": "7bcd6cb6-8e10-4b09-bf24-526f079bfefb",
   "metadata": {},
   "outputs": [],
   "source": [
    "# if variables are of type set\n",
    "haystack = set()\n",
    "needles = set()\n",
    "found = len(needles & haystack)\n",
    "\n",
    "# if variables are of a different type, for example list\n",
    "haystack = []\n",
    "needles = []\n",
    "found = len(set(needles) & set(haystack))  # option 1\n",
    "found = len(set(needles).intersection(set(haystack)))  # option 2"
   ]
  },
  {
   "cell_type": "markdown",
   "id": "f1e38213-fb3c-4266-9ba5-3642dec4d00f",
   "metadata": {},
   "source": [
    "<h3>Set iclusion <i>(setcomp)</i></h3>"
   ]
  },
  {
   "cell_type": "markdown",
   "id": "6fdd33f5-0d29-452d-9a54-4708494d982e",
   "metadata": {},
   "source": [
    "Construction of a `set` of Latin-1 characters with the word \"SIGN\" in their Unicode names "
   ]
  },
  {
   "cell_type": "code",
   "execution_count": 59,
   "id": "d6474901-2e93-4037-b3bd-534d43df56a4",
   "metadata": {},
   "outputs": [
    {
     "data": {
      "text/plain": [
       "{'#',\n",
       " '$',\n",
       " '%',\n",
       " '+',\n",
       " '<',\n",
       " '=',\n",
       " '>',\n",
       " '¢',\n",
       " '£',\n",
       " '¤',\n",
       " '¥',\n",
       " '§',\n",
       " '©',\n",
       " '¬',\n",
       " '®',\n",
       " '°',\n",
       " '±',\n",
       " 'µ',\n",
       " '¶',\n",
       " '×',\n",
       " '÷'}"
      ]
     },
     "execution_count": 59,
     "metadata": {},
     "output_type": "execute_result"
    }
   ],
   "source": [
    "from unicodedata import name\n",
    "\n",
    "\n",
    "{\n",
    "    chr(i) for i in range(32, 256)\n",
    "    if 'SIGN' in name(chr(i), '')\n",
    "}"
   ]
  }
 ],
 "metadata": {
  "kernelspec": {
   "display_name": "Python 3 (ipykernel)",
   "language": "python",
   "name": "python3"
  },
  "language_info": {
   "codemirror_mode": {
    "name": "ipython",
    "version": 3
   },
   "file_extension": ".py",
   "mimetype": "text/x-python",
   "name": "python",
   "nbconvert_exporter": "python",
   "pygments_lexer": "ipython3",
   "version": "3.12.1"
  }
 },
 "nbformat": 4,
 "nbformat_minor": 5
}
