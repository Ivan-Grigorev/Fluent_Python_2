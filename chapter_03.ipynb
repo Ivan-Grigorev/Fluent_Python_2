{
 "cells": [
  {
   "cell_type": "markdown",
   "id": "5ceec44a-f8a7-4c35-a192-2b421f9adcc3",
   "metadata": {},
   "source": [
    "<h1>Chapter 03. Dictionaries and Sets.</h1>"
   ]
  },
  {
   "cell_type": "markdown",
   "id": "d435bd76-6d81-4c1d-952c-3dce2fcb07cd",
   "metadata": {},
   "source": [
    "<h2>The Modern Syntax of Dictionaries.</h2>"
   ]
  },
  {
   "cell_type": "markdown",
   "id": "6c20eacc-2137-4bf9-994d-2a089e84f72b",
   "metadata": {},
   "source": [
    "<h3>Dictionary Entries</h3>"
   ]
  },
  {
   "cell_type": "markdown",
   "id": "66e1223d-e0a9-4912-b1b5-be9687190ace",
   "metadata": {},
   "source": [
    "Using dictionary entries to construct two dictionaries from the same tuple list"
   ]
  },
  {
   "cell_type": "code",
   "execution_count": 1,
   "id": "4f122c03-664e-43ae-98fd-6eec228a562a",
   "metadata": {},
   "outputs": [
    {
     "data": {
      "text/plain": [
       "{'Bangladesh': 880,\n",
       " 'Brazil': 55,\n",
       " 'China': 86,\n",
       " 'India': 91,\n",
       " 'Indonesia': 62,\n",
       " 'Japan': 81,\n",
       " 'Nigeria': 234,\n",
       " 'Pakistan': 92,\n",
       " 'Russian Federation': 7,\n",
       " 'United States of America': 1}"
      ]
     },
     "execution_count": 1,
     "metadata": {},
     "output_type": "execute_result"
    }
   ],
   "source": [
    "DIAL_CODES = [\n",
    "    (880, 'Bangladesh'),\n",
    "    (55, 'Brazil'),\n",
    "    (86, 'China'),\n",
    "    (91, 'India'),\n",
    "    (62, 'Indonesia'),\n",
    "    (81, 'Japan'),\n",
    "    (234, 'Nigeria'),\n",
    "    (92, 'Pakistan'),\n",
    "    (7, 'Russian Federation'),\n",
    "    (1, 'United States of America')\n",
    "]\n",
    "\n",
    "country_dial = {\n",
    "    country: code for code,\n",
    "    country in DIAL_CODES\n",
    "}\n",
    "country_dial"
   ]
  },
  {
   "cell_type": "code",
   "execution_count": 2,
   "id": "208806b5-38f5-41b1-b948-89588419b498",
   "metadata": {},
   "outputs": [
    {
     "data": {
      "text/plain": [
       "{55: 'BRAZIL',\n",
       " 62: 'INDONESIA',\n",
       " 7: 'RUSSIAN FEDERATION',\n",
       " 1: 'UNITED STATES OF AMERICA'}"
      ]
     },
     "execution_count": 2,
     "metadata": {},
     "output_type": "execute_result"
    }
   ],
   "source": [
    "{\n",
    "    code: country.upper()\n",
    "    for country, code in sorted(country_dial.items())\n",
    "    if code < 70\n",
    "}"
   ]
  },
  {
   "cell_type": "markdown",
   "id": "be34941a-635a-46d4-8161-bb7704d9eb0d",
   "metadata": {},
   "source": [
    "<h3>Unpacking mappings</h3>"
   ]
  },
  {
   "cell_type": "markdown",
   "id": "f7f23446-4fd8-4487-b21e-a8e18ba1f3d5",
   "metadata": {},
   "source": [
    "The `**` operator unpacks dictionaries, making it easier to pass multiple keyword arguments to functions or merge dictionaries quickly."
   ]
  },
  {
   "cell_type": "code",
   "execution_count": 3,
   "id": "673e2668-e75c-4220-9ecf-e3d6c26f0a65",
   "metadata": {},
   "outputs": [],
   "source": [
    "def dump(**kwargs):\n",
    "    return kwargs"
   ]
  },
  {
   "cell_type": "code",
   "execution_count": 4,
   "id": "e6ad54d4-904e-4683-ab3f-71e7b5e7af80",
   "metadata": {},
   "outputs": [
    {
     "data": {
      "text/plain": [
       "{'x': 1, 'y': 2, 'z': 3}"
      ]
     },
     "execution_count": 4,
     "metadata": {},
     "output_type": "execute_result"
    }
   ],
   "source": [
    "dump(**{'x': 1}, y=2, **{'z': 3})"
   ]
  },
  {
   "cell_type": "code",
   "execution_count": 5,
   "id": "5ec1279b-ae3e-474b-bf52-411217aea28e",
   "metadata": {},
   "outputs": [
    {
     "data": {
      "text/plain": [
       "{'a': 0, 'x': 4, 'y': 2, 'z': 3}"
      ]
     },
     "execution_count": 5,
     "metadata": {},
     "output_type": "execute_result"
    }
   ],
   "source": [
    "{\n",
    "    'a': 0,\n",
    "    **{'x': 1},\n",
    "    'y': 2,\n",
    "    **{'z': 3, 'x': 4}\n",
    "}"
   ]
  },
  {
   "cell_type": "markdown",
   "id": "0a23d1ce-acbd-4c86-b12e-41225b15e3bb",
   "metadata": {},
   "source": [
    "<h3>Unification of mappings by operator <code>|</code></h3>"
   ]
  },
  {
   "cell_type": "code",
   "execution_count": 6,
   "id": "ac30028f-ce46-462b-b460-99f178ba8256",
   "metadata": {},
   "outputs": [],
   "source": [
    "d1 = {'a': 1, 'b': 3}\n",
    "d2 = {'a': 2, 'b': 4, 'c': 6}"
   ]
  },
  {
   "cell_type": "code",
   "execution_count": 7,
   "id": "100aa33c-91ad-4b57-845b-8702911d488b",
   "metadata": {},
   "outputs": [
    {
     "data": {
      "text/plain": [
       "{'a': 2, 'b': 4, 'c': 6}"
      ]
     },
     "execution_count": 7,
     "metadata": {},
     "output_type": "execute_result"
    }
   ],
   "source": [
    "d1 | d2"
   ]
  },
  {
   "cell_type": "code",
   "execution_count": 8,
   "id": "6e378be4-914a-4bf9-b8cd-74fae3654260",
   "metadata": {},
   "outputs": [
    {
     "data": {
      "text/plain": [
       "{'a': 1, 'b': 3}"
      ]
     },
     "execution_count": 8,
     "metadata": {},
     "output_type": "execute_result"
    }
   ],
   "source": [
    "d1"
   ]
  },
  {
   "cell_type": "markdown",
   "id": "87b899ca-b293-4e1e-9995-96286c87025d",
   "metadata": {},
   "source": [
    "`|=` operator modifies existing mappings"
   ]
  },
  {
   "cell_type": "code",
   "execution_count": 9,
   "id": "be7957bd-6ad2-4b8c-af02-4d4888746711",
   "metadata": {},
   "outputs": [],
   "source": [
    "d1 |= d2"
   ]
  },
  {
   "cell_type": "code",
   "execution_count": 10,
   "id": "933ecec6-5945-42e1-bc83-be39e81e6368",
   "metadata": {},
   "outputs": [
    {
     "data": {
      "text/plain": [
       "{'a': 2, 'b': 4, 'c': 6}"
      ]
     },
     "execution_count": 10,
     "metadata": {},
     "output_type": "execute_result"
    }
   ],
   "source": [
    "d1"
   ]
  },
  {
   "cell_type": "markdown",
   "id": "7c8fc054-fa18-4439-849d-11cfc2df9024",
   "metadata": {},
   "source": [
    "<h2>Comparison with a Sample Mapping</h2>"
   ]
  },
  {
   "cell_type": "markdown",
   "id": "ccf3e3a4-c1d2-4260-a108-9159501c6a3a",
   "metadata": {},
   "source": [
    "`get_creator()` highlights author names from notes on works of art"
   ]
  },
  {
   "cell_type": "code",
   "execution_count": 11,
   "id": "6851bae9-1d1b-4dc7-ba15-ae69c0ae6b1f",
   "metadata": {},
   "outputs": [],
   "source": [
    "def get_creator(record: dict) -> list:\n",
    "    match record:\n",
    "        case {'type': 'book', 'api': 2, 'authors': [*names]}:\n",
    "            return names\n",
    "        case {'type': 'book', 'api': 1, 'author': name}:\n",
    "            return [name]\n",
    "        case {'type': 'book'}:\n",
    "            raise ValueError(f\"Invalid 'book' record: {record!r}\")\n",
    "        case {'type': 'movie', 'director': name}:\n",
    "            return [name]\n",
    "        case _:\n",
    "            raise ValueError(f\"Invalid record: {record!r}\")"
   ]
  },
  {
   "cell_type": "code",
   "execution_count": 12,
   "id": "ce73e44d-14b2-40d2-b86d-29fea57ad39d",
   "metadata": {},
   "outputs": [],
   "source": [
    "b1 = dict(\n",
    "    api=1,\n",
    "    author='Douglas Hofstadter',\n",
    "    type='book',\n",
    "    title='Gödel, Escher, Bach'\n",
    ")"
   ]
  },
  {
   "cell_type": "code",
   "execution_count": 13,
   "id": "a98348cd-b7cf-48bf-b02b-7c9bf5d98dc1",
   "metadata": {},
   "outputs": [
    {
     "data": {
      "text/plain": [
       "['Douglas Hofstadter']"
      ]
     },
     "execution_count": 13,
     "metadata": {},
     "output_type": "execute_result"
    }
   ],
   "source": [
    "get_creator(b1)"
   ]
  },
  {
   "cell_type": "code",
   "execution_count": 14,
   "id": "03e86a9d-afea-4dd8-b25a-d765d0280132",
   "metadata": {},
   "outputs": [],
   "source": [
    "from collections import OrderedDict\n",
    "\n",
    "\n",
    "b2 = OrderedDict(\n",
    "    api=2,\n",
    "    type='book',\n",
    "    title='Python in a Nutshell',\n",
    "    authors='Martelli Ravenscroft Holden'.split()\n",
    ")"
   ]
  },
  {
   "cell_type": "code",
   "execution_count": 15,
   "id": "13ddc03f-237b-4d66-8141-11e1c0a9acfc",
   "metadata": {},
   "outputs": [
    {
     "data": {
      "text/plain": [
       "['Martelli', 'Ravenscroft', 'Holden']"
      ]
     },
     "execution_count": 15,
     "metadata": {},
     "output_type": "execute_result"
    }
   ],
   "source": [
    "get_creator(b2)"
   ]
  },
  {
   "cell_type": "code",
   "execution_count": 16,
   "id": "57a70953-9444-481a-a50c-e4d2a67201e5",
   "metadata": {},
   "outputs": [
    {
     "ename": "ValueError",
     "evalue": "Invalid 'book' record: {'type': 'book', 'pages': 770}",
     "output_type": "error",
     "traceback": [
      "\u001b[0;31m---------------------------------------------------------------------------\u001b[0m",
      "\u001b[0;31mValueError\u001b[0m                                Traceback (most recent call last)",
      "Cell \u001b[0;32mIn[16], line 1\u001b[0m\n\u001b[0;32m----> 1\u001b[0m \u001b[43mget_creator\u001b[49m\u001b[43m(\u001b[49m\u001b[43m{\u001b[49m\u001b[38;5;124;43m'\u001b[39;49m\u001b[38;5;124;43mtype\u001b[39;49m\u001b[38;5;124;43m'\u001b[39;49m\u001b[43m:\u001b[49m\u001b[43m \u001b[49m\u001b[38;5;124;43m'\u001b[39;49m\u001b[38;5;124;43mbook\u001b[39;49m\u001b[38;5;124;43m'\u001b[39;49m\u001b[43m,\u001b[49m\u001b[43m \u001b[49m\u001b[38;5;124;43m'\u001b[39;49m\u001b[38;5;124;43mpages\u001b[39;49m\u001b[38;5;124;43m'\u001b[39;49m\u001b[43m:\u001b[49m\u001b[43m \u001b[49m\u001b[38;5;241;43m770\u001b[39;49m\u001b[43m}\u001b[49m\u001b[43m)\u001b[49m\n",
      "Cell \u001b[0;32mIn[11], line 8\u001b[0m, in \u001b[0;36mget_creator\u001b[0;34m(record)\u001b[0m\n\u001b[1;32m      6\u001b[0m     \u001b[38;5;28;01mreturn\u001b[39;00m [name]\n\u001b[1;32m      7\u001b[0m \u001b[38;5;28;01mcase\u001b[39;00m {\u001b[38;5;124m'\u001b[39m\u001b[38;5;124mtype\u001b[39m\u001b[38;5;124m'\u001b[39m: \u001b[38;5;124m'\u001b[39m\u001b[38;5;124mbook\u001b[39m\u001b[38;5;124m'\u001b[39m}:\n\u001b[0;32m----> 8\u001b[0m     \u001b[38;5;28;01mraise\u001b[39;00m \u001b[38;5;167;01mValueError\u001b[39;00m(\u001b[38;5;124mf\u001b[39m\u001b[38;5;124m\"\u001b[39m\u001b[38;5;124mInvalid \u001b[39m\u001b[38;5;124m'\u001b[39m\u001b[38;5;124mbook\u001b[39m\u001b[38;5;124m'\u001b[39m\u001b[38;5;124m record: \u001b[39m\u001b[38;5;132;01m{\u001b[39;00mrecord\u001b[38;5;132;01m!r}\u001b[39;00m\u001b[38;5;124m\"\u001b[39m)\n\u001b[1;32m      9\u001b[0m \u001b[38;5;28;01mcase\u001b[39;00m {\u001b[38;5;124m'\u001b[39m\u001b[38;5;124mtype\u001b[39m\u001b[38;5;124m'\u001b[39m: \u001b[38;5;124m'\u001b[39m\u001b[38;5;124mmovie\u001b[39m\u001b[38;5;124m'\u001b[39m, \u001b[38;5;124m'\u001b[39m\u001b[38;5;124mdirector\u001b[39m\u001b[38;5;124m'\u001b[39m: name}:\n\u001b[1;32m     10\u001b[0m     \u001b[38;5;28;01mreturn\u001b[39;00m [name]\n",
      "\u001b[0;31mValueError\u001b[0m: Invalid 'book' record: {'type': 'book', 'pages': 770}"
     ]
    }
   ],
   "source": [
    "get_creator({'type': 'book', 'pages': 770})"
   ]
  },
  {
   "cell_type": "code",
   "execution_count": 17,
   "id": "7c6fc62b-92b0-49a0-8c6a-23c443fa7615",
   "metadata": {},
   "outputs": [
    {
     "ename": "ValueError",
     "evalue": "Invalid record: 'Spam, spam, spam'",
     "output_type": "error",
     "traceback": [
      "\u001b[0;31m---------------------------------------------------------------------------\u001b[0m",
      "\u001b[0;31mValueError\u001b[0m                                Traceback (most recent call last)",
      "Cell \u001b[0;32mIn[17], line 1\u001b[0m\n\u001b[0;32m----> 1\u001b[0m \u001b[43mget_creator\u001b[49m\u001b[43m(\u001b[49m\u001b[38;5;124;43m'\u001b[39;49m\u001b[38;5;124;43mSpam, spam, spam\u001b[39;49m\u001b[38;5;124;43m'\u001b[39;49m\u001b[43m)\u001b[49m\n",
      "Cell \u001b[0;32mIn[11], line 12\u001b[0m, in \u001b[0;36mget_creator\u001b[0;34m(record)\u001b[0m\n\u001b[1;32m     10\u001b[0m     \u001b[38;5;28;01mreturn\u001b[39;00m [name]\n\u001b[1;32m     11\u001b[0m \u001b[38;5;28;01mcase\u001b[39;00m\u001b[38;5;250m \u001b[39m\u001b[38;5;28;01m_\u001b[39;00m:\n\u001b[0;32m---> 12\u001b[0m     \u001b[38;5;28;01mraise\u001b[39;00m \u001b[38;5;167;01mValueError\u001b[39;00m(\u001b[38;5;124mf\u001b[39m\u001b[38;5;124m\"\u001b[39m\u001b[38;5;124mInvalid record: \u001b[39m\u001b[38;5;132;01m{\u001b[39;00mrecord\u001b[38;5;132;01m!r}\u001b[39;00m\u001b[38;5;124m\"\u001b[39m)\n",
      "\u001b[0;31mValueError\u001b[0m: Invalid record: 'Spam, spam, spam'"
     ]
    }
   ],
   "source": [
    "get_creator('Spam, spam, spam')"
   ]
  },
  {
   "cell_type": "code",
   "execution_count": 18,
   "id": "106d5939-29b9-4591-831d-ad8822fc4748",
   "metadata": {},
   "outputs": [],
   "source": [
    "food = dict(category='ice cream', flavor='vanilla', cost=199)"
   ]
  },
  {
   "cell_type": "code",
   "execution_count": 19,
   "id": "3db9d477-78a9-4cb4-b73e-13050a7339de",
   "metadata": {},
   "outputs": [
    {
     "name": "stdout",
     "output_type": "stream",
     "text": [
      "Ice cream details: {'flavor': 'vanilla', 'cost': 199}\n"
     ]
    }
   ],
   "source": [
    "match food:\n",
    "    case {'category': 'ice cream', **details}:\n",
    "        print(f\"Ice cream details: {details}\")"
   ]
  },
  {
   "cell_type": "markdown",
   "id": "dbc1763c-988c-46c9-a07f-83f6ec324d6f",
   "metadata": {},
   "source": [
    "<h2>Standart API of mapping types</h2>"
   ]
  },
  {
   "cell_type": "markdown",
   "id": "ba21ede1-b6c3-48e9-a918-bb799c52e368",
   "metadata": {},
   "source": [
    "<h3>What does \"hashable\" mean?</h3>"
   ]
  },
  {
   "cell_type": "markdown",
   "id": "a714580d-845e-4207-b8f0-7b7e5e01b449",
   "metadata": {},
   "source": [
    "Hashable objects are those that can be hashed, meaning they have a hash value that remains constant throughout their lifetime and can be used as keys in a dictionary or as elements in a set."
   ]
  },
  {
   "cell_type": "code",
   "execution_count": 20,
   "id": "0c2ec0ee-21d6-4e09-896e-f043d2eb2457",
   "metadata": {},
   "outputs": [
    {
     "data": {
      "text/plain": [
       "3794340727080330424"
      ]
     },
     "execution_count": 20,
     "metadata": {},
     "output_type": "execute_result"
    }
   ],
   "source": [
    "tt = (1, 2, (3, 4))\n",
    "tt.__hash__()"
   ]
  },
  {
   "cell_type": "code",
   "execution_count": 21,
   "id": "21105be2-4fe3-4af7-8181-e2578168d167",
   "metadata": {},
   "outputs": [
    {
     "ename": "TypeError",
     "evalue": "unhashable type: 'list'",
     "output_type": "error",
     "traceback": [
      "\u001b[0;31m---------------------------------------------------------------------------\u001b[0m",
      "\u001b[0;31mTypeError\u001b[0m                                 Traceback (most recent call last)",
      "Cell \u001b[0;32mIn[21], line 2\u001b[0m\n\u001b[1;32m      1\u001b[0m tl \u001b[38;5;241m=\u001b[39m (\u001b[38;5;241m1\u001b[39m, \u001b[38;5;241m2\u001b[39m, [\u001b[38;5;241m3\u001b[39m, \u001b[38;5;241m4\u001b[39m])\n\u001b[0;32m----> 2\u001b[0m \u001b[43mtl\u001b[49m\u001b[38;5;241;43m.\u001b[39;49m\u001b[38;5;21;43m__hash__\u001b[39;49m\u001b[43m(\u001b[49m\u001b[43m)\u001b[49m\n",
      "\u001b[0;31mTypeError\u001b[0m: unhashable type: 'list'"
     ]
    }
   ],
   "source": [
    "tl = (1, 2, [3, 4])\n",
    "tl.__hash__()"
   ]
  },
  {
   "cell_type": "markdown",
   "id": "28699986-523f-4531-bc45-2a2f75491e81",
   "metadata": {},
   "source": [
    "`frozenset()` creates an immutable set from an iterable"
   ]
  },
  {
   "cell_type": "code",
   "execution_count": 22,
   "id": "2ca4db02-68f3-4e7c-b9cc-4686508a2739",
   "metadata": {},
   "outputs": [
    {
     "data": {
      "text/plain": [
       "131250961768736263"
      ]
     },
     "execution_count": 22,
     "metadata": {},
     "output_type": "execute_result"
    }
   ],
   "source": [
    "tf = (1, 2, frozenset([3, 4]))\n",
    "tf.__hash__()"
   ]
  },
  {
   "cell_type": "markdown",
   "id": "3ff6c5d8-f679-4510-9079-c71d8389e1b0",
   "metadata": {},
   "source": [
    "<h3>Inserting and updating mutable values</h3>"
   ]
  },
  {
   "cell_type": "code",
   "execution_count": 23,
   "id": "53356aba-fd00-4c4e-8dc7-bd9a389500ef",
   "metadata": {},
   "outputs": [],
   "source": [
    "ZEN_TEXT = \"\"\"\n",
    "The Zen of Python, by Tim Peters\n",
    "\n",
    "Beautiful is better than ugly.\n",
    "Explicit is better than implicit.\n",
    "Simple is better than complex.\n",
    "Complex is better than complicated.\n",
    "Flat is better than nested.\n",
    "Sparse is better than dense.\n",
    "Readability counts.\n",
    "Special cases aren't special enough to break the rules.\n",
    "Although practicality beats purity.\n",
    "Errors should never pass silently.\n",
    "Unless explicitly silenced.\n",
    "In the face of ambiguity, refuse the temptation to guess.\n",
    "There should be one-- and preferably only one --obvious way to do it.\n",
    "Although that way may not be obvious at first unless you're Dutch.\n",
    "Now is better than never.\n",
    "Although never is often better than *right* now.\n",
    "If the implementation is hard to explain, it's a bad idea.\n",
    "If the implementation is easy to explain, it may be a good idea.\n",
    "Namespaces are one honking great idea -- let's do more of those!\"\n",
    "\"\"\""
   ]
  },
  {
   "cell_type": "markdown",
   "id": "dc9a5e3f-eca3-4b2a-967e-57d4a24ba6f0",
   "metadata": {},
   "source": [
    "`ZEN_TEXT` processing. Each line shows a word and a list of its occurences represented in pairs (row number, column number)."
   ]
  },
  {
   "cell_type": "code",
   "execution_count": 24,
   "id": "fdfd1890-e478-48bb-9217-63b00769ad14",
   "metadata": {},
   "outputs": [
    {
     "name": "stdout",
     "output_type": "stream",
     "text": [
      "a [(20, 48), (21, 53)]\n",
      "Although [(12, 1), (17, 1), (19, 1)]\n",
      "ambiguity [(15, 16)]\n",
      "and [(16, 23)]\n",
      "are [(22, 12)]\n",
      "aren [(11, 15)]\n",
      "at [(17, 38)]\n",
      "bad [(20, 50)]\n",
      "be [(16, 14), (17, 27), (21, 50)]\n",
      "beats [(12, 23)]\n"
     ]
    }
   ],
   "source": [
    "import re\n",
    "\n",
    "\n",
    "WORD_RE = re.compile(r'\\w+')\n",
    "\n",
    "index = {}\n",
    "for line_no, line in enumerate(ZEN_TEXT.split('\\n'), start=1):\n",
    "    for match in WORD_RE.finditer(line):\n",
    "        word = match.group()\n",
    "        column_no = match.start() + 1\n",
    "        location = (line_no, column_no)\n",
    "        \n",
    "        occurrences = index.get(word, [])\n",
    "        occurrences.append(location)\n",
    "        \n",
    "        index[word] = occurrences\n",
    "\n",
    "# display in alphabetical order\n",
    "for word in sorted(index, key=str.upper)[:10]:  # let's reduce the output to 10 lines\n",
    "    print(word, index[word])"
   ]
  },
  {
   "cell_type": "markdown",
   "id": "b706b909-44de-4bbf-8aff-100f835394d0",
   "metadata": {},
   "source": [
    "Using method `dict.setdefault()`"
   ]
  },
  {
   "cell_type": "code",
   "execution_count": 25,
   "id": "6dd9237c-a079-45d5-9eb1-0cb617985709",
   "metadata": {},
   "outputs": [
    {
     "name": "stdout",
     "output_type": "stream",
     "text": [
      "a [(20, 48), (21, 53)]\n",
      "Although [(12, 1), (17, 1), (19, 1)]\n",
      "ambiguity [(15, 16)]\n",
      "and [(16, 23)]\n",
      "are [(22, 12)]\n",
      "aren [(11, 15)]\n",
      "at [(17, 38)]\n",
      "bad [(20, 50)]\n",
      "be [(16, 14), (17, 27), (21, 50)]\n",
      "beats [(12, 23)]\n"
     ]
    }
   ],
   "source": [
    "index = {}\n",
    "for line_no, line in enumerate(ZEN_TEXT.split('\\n'), start=1):\n",
    "    for match in WORD_RE.finditer(line):\n",
    "        word = match.group()\n",
    "        column_no = match.start() + 1\n",
    "        location = (line_no, column_no)\n",
    "        \n",
    "        index.setdefault(word, []).append(location)\n",
    "\n",
    "for word in sorted(index, key=str.upper)[:10]:\n",
    "    print(word, index[word])"
   ]
  },
  {
   "cell_type": "markdown",
   "id": "5a902731-248c-4643-918a-176b176a9c7b",
   "metadata": {},
   "source": [
    "<h2>Automatic handling of missing keys</h2>"
   ]
  },
  {
   "cell_type": "markdown",
   "id": "0eced33b-270f-40e6-a6cb-bf0c49194f73",
   "metadata": {},
   "source": [
    "<h3><code>defaultdict</code> another approach to handle missing keys</h3>"
   ]
  },
  {
   "cell_type": "markdown",
   "id": "a9dfd4c2-ca0e-4daf-89d7-eba86b2148ae",
   "metadata": {},
   "source": [
    "Using instance `defaultdict` instead of method `setdefault`"
   ]
  },
  {
   "cell_type": "code",
   "execution_count": 26,
   "id": "6995a844-707f-43df-a8d7-3466dbc59ee7",
   "metadata": {},
   "outputs": [
    {
     "name": "stdout",
     "output_type": "stream",
     "text": [
      "a [(20, 48), (21, 53)]\n",
      "Although [(12, 1), (17, 1), (19, 1)]\n",
      "ambiguity [(15, 16)]\n",
      "and [(16, 23)]\n",
      "are [(22, 12)]\n",
      "aren [(11, 15)]\n",
      "at [(17, 38)]\n",
      "bad [(20, 50)]\n",
      "be [(16, 14), (17, 27), (21, 50)]\n",
      "beats [(12, 23)]\n"
     ]
    }
   ],
   "source": [
    "from collections import defaultdict\n",
    "import re\n",
    "\n",
    "\n",
    "WORD_RE = re.compile(r'\\w+')\n",
    "\n",
    "index = defaultdict(list)  # create 'defaultdict' by setting as 'default_factory' constructor 'list' \n",
    "for line_no, line in enumerate(ZEN_TEXT.split('\\n'), start=1):\n",
    "    for match in WORD_RE.finditer(line):\n",
    "        word = match.group()\n",
    "        column_no = match.start() + 1\n",
    "        location = (line_no, column_no)\n",
    "\n",
    "        index[word].append(location)  # if 'word' is not in 'index', 'default_factory' create an empty list\n",
    "\n",
    "# display in alphabetical order\n",
    "for word in sorted(index, key=str.upper)[:10]:  # let's reduce the output to 10 lines\n",
    "    print(word, index[word])"
   ]
  },
  {
   "cell_type": "markdown",
   "id": "ab831812-47c4-4ef6-8590-a85cc99c1e8c",
   "metadata": {},
   "source": [
    "<h3>Method <code>__missing__</code></h3>"
   ]
  },
  {
   "cell_type": "markdown",
   "id": "73a591db-a9a3-45e0-8d00-3d7b53ce507e",
   "metadata": {},
   "source": [
    "`__missing__` is a special method in dictionaries. It's used to define custom behavior when a requested key is not found. This method allows customization for handling missing keys in dictionary subclasses."
   ]
  },
  {
   "cell_type": "code",
   "execution_count": 27,
   "id": "629baabf-41b8-4eef-8649-095165c57786",
   "metadata": {},
   "outputs": [],
   "source": [
    "class StrKeyDict(dict):\n",
    "\n",
    "    def __missing__(self, key):\n",
    "        if isinstance(key, str):\n",
    "            raise KeyError(key)\n",
    "        return self[str(key)]\n",
    "\n",
    "    def get(self, key, default=None):\n",
    "        try:\n",
    "            return self[key]\n",
    "        except KeyError:\n",
    "            return default\n",
    "\n",
    "    def __contains__(self, key):\n",
    "        return key in self.keys() or str(key) in self.keys()"
   ]
  }
 ],
 "metadata": {
  "kernelspec": {
   "display_name": "Python 3 (ipykernel)",
   "language": "python",
   "name": "python3"
  },
  "language_info": {
   "codemirror_mode": {
    "name": "ipython",
    "version": 3
   },
   "file_extension": ".py",
   "mimetype": "text/x-python",
   "name": "python",
   "nbconvert_exporter": "python",
   "pygments_lexer": "ipython3",
   "version": "3.12.0"
  }
 },
 "nbformat": 4,
 "nbformat_minor": 5
}
