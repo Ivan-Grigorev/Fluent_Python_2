{
 "cells": [
  {
   "cell_type": "markdown",
   "id": "e5ce52f2-31e9-44b4-937d-b5ccb45f151b",
   "metadata": {},
   "source": [
    "<h1>Chapter 08. Type Annotations in Functions.</h1>"
   ]
  },
  {
   "cell_type": "markdown",
   "id": "716b41bd-d09b-4f8f-98ae-1ad3c4d4901c",
   "metadata": {},
   "source": [
    "Type annotations in functions in Python allow you to specify the types of parameters and return values. They provide clarity about the expected types of input and output, making code easier to understand and maintain. Type annotations are optional but can be beneficial for documentation, static analysis, and catching type-related bugs early."
   ]
  },
  {
   "cell_type": "markdown",
   "id": "d6762ec6-fea5-4bea-a43c-06d984a90f1c",
   "metadata": {},
   "source": [
    "<h2>Stepwise Typing in Practice</h2>"
   ]
  },
  {
   "cell_type": "markdown",
   "id": "8095eac0-8cc2-43c5-b413-dc74564c6282",
   "metadata": {},
   "source": [
    "Function `show_count` without type annotations"
   ]
  },
  {
   "cell_type": "code",
   "execution_count": 1,
   "id": "9141cfbf-fabc-407a-9b89-a042c6895d17",
   "metadata": {},
   "outputs": [],
   "source": [
    "def show_count(count, word):\n",
    "    if count == 1:\n",
    "        return f\"1 {word}\"\n",
    "    \n",
    "    count_str = str(count) if count else 'No'\n",
    "\n",
    "    return f\"{count_str} {word}s\""
   ]
  },
  {
   "cell_type": "code",
   "execution_count": 2,
   "id": "9d9ec0da-db5b-4645-ae92-9d8fbde60008",
   "metadata": {},
   "outputs": [
    {
     "data": {
      "text/plain": [
       "'1 bird'"
      ]
     },
     "execution_count": 2,
     "metadata": {},
     "output_type": "execute_result"
    }
   ],
   "source": [
    "show_count(1, 'bird')"
   ]
  },
  {
   "cell_type": "code",
   "execution_count": 3,
   "id": "e459b620-0335-479e-b114-6a41532c4192",
   "metadata": {},
   "outputs": [
    {
     "data": {
      "text/plain": [
       "'2 birds'"
      ]
     },
     "execution_count": 3,
     "metadata": {},
     "output_type": "execute_result"
    }
   ],
   "source": [
    "show_count(2, 'bird')"
   ]
  },
  {
   "cell_type": "code",
   "execution_count": 4,
   "id": "fc59de40-d7e2-46d4-a3cf-ee7eb7e5d615",
   "metadata": {},
   "outputs": [
    {
     "data": {
      "text/plain": [
       "'No birds'"
      ]
     },
     "execution_count": 4,
     "metadata": {},
     "output_type": "execute_result"
    }
   ],
   "source": [
    "show_count(0, 'bird')"
   ]
  },
  {
   "cell_type": "markdown",
   "id": "b8a04b8a-adf9-4092-9aa5-004077157e25",
   "metadata": {},
   "source": [
    "<h3>Start working with <code>mypy</code></h3>"
   ]
  },
  {
   "cell_type": "markdown",
   "id": "2386caa3-a2a1-4ddd-bf1d-39c144bd197c",
   "metadata": {},
   "source": [
    "`mypy` is a static type checker for Python that analyzes code for type errors and inconsistencies, helping to catch bugs and improve code quality."
   ]
  },
  {
   "cell_type": "markdown",
   "id": "0e63f268-a673-4881-892a-2bd01a4f1c42",
   "metadata": {},
   "source": [
    "Running the `mypy` command for script with `show_count` function:\n",
    "\n",
    "`Success: no issues found in 1 source file`"
   ]
  },
  {
   "cell_type": "markdown",
   "id": "ae4be3f7-cce3-4826-b2bd-4ddabe43024a",
   "metadata": {},
   "source": [
    "`show_count` function tests without type annotations"
   ]
  },
  {
   "cell_type": "code",
   "execution_count": 5,
   "id": "ae3d8fcc-79e5-4484-8528-afd4d4510bb3",
   "metadata": {},
   "outputs": [],
   "source": [
    "from pytest import mark\n",
    "\n",
    "\n",
    "# Define multiply sets of input data for a test function\n",
    "@mark.parametrize('qty, expected', [\n",
    "    (1, '1 part'),\n",
    "    (2, '2 parts')\n",
    "])\n",
    "\n",
    "def test_show_count(qty, expected):\n",
    "    got = show_count(qty, 'part')\n",
    "    \n",
    "    assert got == expected\n",
    "\n",
    "def test_show_count_zero():\n",
    "    got = show_count(0, 'part')\n",
    "\n",
    "    assert got == 'No parts'"
   ]
  },
  {
   "cell_type": "markdown",
   "id": "9f0311a9-5e02-48e1-a92a-d74b61a4c7fe",
   "metadata": {},
   "source": [
    "Running the `mypy` command for script with `show_count` function tests with the `--disallow-untyped-defs` parameter, which forces `mypy` to mark all function definitions that do not have type annotations:\n",
    "\n",
    "<code>error: Function is missing a type annotation\n",
    "error: Function is missing a return type annotation\n",
    "note: Use \"-> None\" if function does not return a value\n",
    "Found 2 errors in 1 file (checked 1 source file)</code>"
   ]
  },
  {
   "cell_type": "markdown",
   "id": "d1bb990f-85f6-449d-b6b1-ee35330ac3de",
   "metadata": {},
   "source": [
    "<h3>Default Parameter Value</h3>"
   ]
  },
  {
   "cell_type": "markdown",
   "id": "a0ffb160-e594-4dc8-93d8-b51b8838ce8a",
   "metadata": {},
   "source": [
    "Function `show_count` with optional parameter"
   ]
  },
  {
   "cell_type": "code",
   "execution_count": 6,
   "id": "57b54f9d-b5b8-4309-a5ef-9d907f681b32",
   "metadata": {},
   "outputs": [],
   "source": [
    "def show_count(count: int, singular: str, plural: str = '') -> str:\n",
    "    if count == 1:\n",
    "        return f\"1 {singular}\"\n",
    "\n",
    "    count_str = str(count) if count else 'No'\n",
    "\n",
    "    if not plural:\n",
    "        plural = singular + 's'\n",
    "\n",
    "    return f\"{count_str} {plural}\""
   ]
  },
  {
   "cell_type": "markdown",
   "id": "6de7858b-9b21-4c60-aab8-02d33bff5ef8",
   "metadata": {},
   "source": [
    "Running the `mypy` command for script with `show_count` function:\n",
    "\n",
    "`Success: no issues found in 1 source file`"
   ]
  },
  {
   "cell_type": "markdown",
   "id": "02b0a4e4-cc01-406d-850e-5becb5ceb97c",
   "metadata": {},
   "source": [
    "<h3><code>None</code> as the Default Value</h3>"
   ]
  },
  {
   "cell_type": "markdown",
   "id": "28242977-65ef-47d0-9999-6201dd8e06d3",
   "metadata": {},
   "source": [
    "`Optional[str]` means that `plural` can be types `str` or `None` "
   ]
  },
  {
   "cell_type": "code",
   "execution_count": 7,
   "id": "c86e452a-3ef5-45e8-ab8b-dbb43c615604",
   "metadata": {},
   "outputs": [],
   "source": [
    "from typing import Optional\n",
    "\n",
    "\n",
    "def show_count(count: int, singular: str, plural: Optional[str] = None) -> str:\n",
    "    if count == 1:\n",
    "        return f\"1 {singular}\"\n",
    "\n",
    "    count_str = str(count) if count else 'No'\n",
    "\n",
    "    if not plural:\n",
    "        plural = singular + 's'\n",
    "\n",
    "    return f\"{count_str} {plural}\""
   ]
  },
  {
   "cell_type": "markdown",
   "id": "ad4c334a-41f0-46c4-b687-fec4ceef9d9b",
   "metadata": {},
   "source": [
    "<h2>Types suiatable for use in Annotations</h2>"
   ]
  },
  {
   "cell_type": "markdown",
   "id": "f5e4f820-a461-4d16-9d6a-3c6e2f6c50f1",
   "metadata": {},
   "source": [
    "<h3>Type <code>Any</code></h3>"
   ]
  },
  {
   "cell_type": "markdown",
   "id": "056c6a84-219f-4fb5-8d8c-0a61ddd4dc85",
   "metadata": {},
   "source": [
    "`Any` indicates that a variable can hold a value of any type, and it is often used to denote dynamic or unspecified types within a program."
   ]
  },
  {
   "cell_type": "code",
   "execution_count": 8,
   "id": "93545cb4-a02f-42a1-b251-e89f0be17e11",
   "metadata": {},
   "outputs": [],
   "source": [
    "from typing import Any\n",
    "\n",
    "\n",
    "def double(x: Any) -> Any:\n",
    "    return x * 2"
   ]
  },
  {
   "cell_type": "markdown",
   "id": "3a20d80c-f237-439c-ab8a-e82445697941",
   "metadata": {},
   "source": [
    "<h3><code>Optional</code> and <code>Union</code> Types</h3>"
   ]
  },
  {
   "cell_type": "markdown",
   "id": "9297f487-91ac-4302-8896-bf0e9d70781e",
   "metadata": {},
   "source": [
    "`Optional` indicates that a variable can be of a specific type or `None`, while `Union` allows specifying multiple possible types."
   ]
  },
  {
   "cell_type": "code",
   "execution_count": 9,
   "id": "8f439dc5-07c7-45c0-a97f-1e4009cc45c2",
   "metadata": {},
   "outputs": [],
   "source": [
    "from typing import Union\n",
    "\n",
    "\n",
    "def ord(c: Union[str, bytes]) -> int:\n",
    "    pass\n",
    "\n",
    "def parse_token(token: str) -> Union[str, float]:\n",
    "    \"\"\"Function that accepts str, but can return str or float\"\"\"\n",
    "    try:\n",
    "        return float(token)\n",
    "    except ValueError:\n",
    "        return token"
   ]
  },
  {
   "cell_type": "markdown",
   "id": "cd6abb7a-a545-4d1e-bc31-e705bb832f43",
   "metadata": {},
   "source": [
    "Starting from Python 3.10, users can use `str | bytes` instead of `Union[str, bytes]`, offering a shorter alternative without needing to import `Optional` and `Union` from the typing module:\n",
    "\n",
    "<code>plural: Optional[str] = None  # before\n",
    "plural: str | None = None  # after</code>"
   ]
  },
  {
   "cell_type": "markdown",
   "id": "e970b9ff-91b7-4a70-9023-73ecfb8f5816",
   "metadata": {},
   "source": [
    "<h3>Tuples Types</h3>"
   ]
  },
  {
   "cell_type": "markdown",
   "id": "a8601e67-849d-46d6-9275-c54a289d3a92",
   "metadata": {},
   "source": [
    "<i>Tuples as records</i>"
   ]
  },
  {
   "cell_type": "markdown",
   "id": "01c34451-c16d-4c3d-80a0-a572b102f4da",
   "metadata": {},
   "source": [
    "To accept tuples containing the name of a city, its population and country, the type annotation should look like this: `tuple[str, float, str]`."
   ]
  },
  {
   "cell_type": "code",
   "execution_count": 10,
   "id": "05420f24-16e9-468d-a564-88d4775d45cf",
   "metadata": {},
   "outputs": [
    {
     "data": {
      "text/plain": [
       "'The city is New York, the population is 8.46 million, the coutry is USA.'"
      ]
     },
     "execution_count": 10,
     "metadata": {},
     "output_type": "execute_result"
    }
   ],
   "source": [
    "def city_info(data: tuple[str, float, str]) -> str:\n",
    "    return f\"The city is {data[0]}, the population is {data[1]} million, the coutry is {data[2]}.\"\n",
    "\n",
    "city_info(('New York', 8.46, 'USA'))"
   ]
  },
  {
   "cell_type": "markdown",
   "id": "d4506411-c07b-425c-ba7f-37c6fca89692",
   "metadata": {},
   "source": [
    "<i>Tuples as records with annotated fields</i>"
   ]
  },
  {
   "cell_type": "markdown",
   "id": "cc48d5dd-5dce-4eb7-ab9e-a8c1384756d7",
   "metadata": {},
   "source": [
    "Using a tuple containing many fields in annotations, or specific tuple types that occur in many places in the code."
   ]
  },
  {
   "cell_type": "code",
   "execution_count": 11,
   "id": "a46cebab-6bc8-45f4-ae72-7dbcd922d225",
   "metadata": {},
   "outputs": [
    {
     "data": {
      "text/plain": [
       "'The city is New York, the population is 8.46, the country is USA.'"
      ]
     },
     "execution_count": 11,
     "metadata": {},
     "output_type": "execute_result"
    }
   ],
   "source": [
    "from typing import NamedTuple\n",
    "\n",
    "\n",
    "class CityInfo(NamedTuple):\n",
    "    name: str\n",
    "    population: float\n",
    "    country: str\n",
    "\n",
    "def city_info(data: CityInfo) -> str:\n",
    "    return f\"The city is {data.name}, the population is {data.population}, the country is {data.country}.\"\n",
    "\n",
    "city_data = CityInfo(\n",
    "    name='New York',\n",
    "    population=8.46,\n",
    "    country='USA'\n",
    ")\n",
    "city_info(city_data)"
   ]
  },
  {
   "cell_type": "markdown",
   "id": "079957de-6f6e-4368-9e82-c4e1f3ba6f93",
   "metadata": {},
   "source": [
    "<i>Tuples as immutable Sequences</i>"
   ]
  },
  {
   "cell_type": "markdown",
   "id": "e5c05486-84a0-428c-8255-4d6a327e95fa",
   "metadata": {},
   "source": [
    "An indefinite-length tuple used as an immutable list in an annotation must be specified with a single type followed by a comma and three dots. Annotation `stuff: tuple[Any, ...]` is a tuple of identifinte-length containing objects of any type."
   ]
  },
  {
   "cell_type": "code",
   "execution_count": 12,
   "id": "2763f090-3455-4839-85ac-b8bfe9295b87",
   "metadata": {},
   "outputs": [],
   "source": [
    "from collections.abc import Sequence\n",
    "\n",
    "\n",
    "def columnize(\n",
    "    sequence: Sequence[str],\n",
    "    num_columns: int = 0,\n",
    ") -> list[tuple[str, ...]]:  # add three dots to accept any number of elemnts\n",
    "    if num_columns == 0:\n",
    "        num_columns = round(len(sequence) ** 0.5)\n",
    "\n",
    "    num_rows, reminder = divmod(len(sequence), num_columns)\n",
    "    num_rows += bool(reminder)\n",
    "\n",
    "    return [\n",
    "        tuple(sequence[i::num_rows])\n",
    "        for i in range(num_rows)\n",
    "    ]"
   ]
  },
  {
   "cell_type": "code",
   "execution_count": 13,
   "id": "f04e2f0c-4449-4817-aa2e-9a4f4e64e0cc",
   "metadata": {},
   "outputs": [
    {
     "name": "stdout",
     "output_type": "stream",
     "text": [
      "drake     koala     yak       \n",
      "fawn      lynx      zapus     \n",
      "heron     tahr      \n",
      "ibex      xerus     \n"
     ]
    }
   ],
   "source": [
    "animals = 'drake fawn heron ibex koala lynx tahr xerus yak zapus'.split()\n",
    "\n",
    "for row in columnize(animals):\n",
    "    print(''.join(f\"{word:10}\" for word in row))"
   ]
  },
  {
   "cell_type": "markdown",
   "id": "8d8cfbef-5625-4734-bb4c-ef1699a84657",
   "metadata": {},
   "source": [
    "<h3>Generalized Mappings</h3>"
   ]
  },
  {
   "cell_type": "markdown",
   "id": "ee98c2e2-adee-4de9-98f1-500c675a9810",
   "metadata": {},
   "source": [
    "**Generalized Mappings** are annotated types of the form `MappingType[KeyType, ValueType]`."
   ]
  },
  {
   "cell_type": "code",
   "execution_count": 14,
   "id": "44443134-fbce-4d43-b341-8081a928c732",
   "metadata": {},
   "outputs": [],
   "source": [
    "import sys\n",
    "import re\n",
    "import unicodedata\n",
    "\n",
    "from collections.abc import Iterator\n",
    "\n",
    "\n",
    "RE_WORD = re.compile(r'\\w+')\n",
    "STOP_CODE = sys.maxunicode + 1\n",
    "\n",
    "def tokenize(text: str) -> Iterator[str]:  # generator function\n",
    "    \"\"\"Return iterable of uppercased words\"\"\"\n",
    "    for match in RE_WORD.finditer(text):\n",
    "        yield match.group().upper()\n",
    "\n",
    "def name_index(start: int = 32, end: int = STOP_CODE) -> dict[str, set[str]]:\n",
    "    index: dict[str, set[str]] = {}  # local variable annotated\n",
    "\n",
    "    for char in (chr(i) for i in range(start, end)):\n",
    "        # Assign the result of unicodedata.name() to variable 'name'\n",
    "        # if it is not empty, else use an empty string\n",
    "        \n",
    "        if name := unicodedata.name(char, ''):\n",
    "            for word in tokenize(name):\n",
    "                index.setdefault(word, set()).add(char)\n",
    "\n",
    "    return index"
   ]
  },
  {
   "cell_type": "code",
   "execution_count": 15,
   "id": "8a8938b1-b7df-4d48-a83d-cc95bbf16ab2",
   "metadata": {},
   "outputs": [
    {
     "data": {
      "text/plain": [
       "{'#', '$', '%', '+', '<', '=', '>'}"
      ]
     },
     "execution_count": 15,
     "metadata": {},
     "output_type": "execute_result"
    }
   ],
   "source": [
    "index = name_index(32, 65)\n",
    "index['SIGN']"
   ]
  },
  {
   "cell_type": "code",
   "execution_count": 16,
   "id": "945209fd-ee3c-467b-a6f6-b633c19f6415",
   "metadata": {},
   "outputs": [
    {
     "data": {
      "text/plain": [
       "{'0', '1', '2', '3', '4', '5', '6', '7', '8', '9'}"
      ]
     },
     "execution_count": 16,
     "metadata": {},
     "output_type": "execute_result"
    }
   ],
   "source": [
    "index['DIGIT']"
   ]
  },
  {
   "cell_type": "code",
   "execution_count": 17,
   "id": "ae7a51e9-1d85-4db3-9538-127521aefdde",
   "metadata": {},
   "outputs": [
    {
     "data": {
      "text/plain": [
       "{'8'}"
      ]
     },
     "execution_count": 17,
     "metadata": {},
     "output_type": "execute_result"
    }
   ],
   "source": [
    "index['DIGIT'] & index['EIGHT']"
   ]
  },
  {
   "cell_type": "markdown",
   "id": "c8df78f8-4cb2-4678-a666-e2f1c8c9b040",
   "metadata": {},
   "source": [
    "<h3>Type <code>Iterable</code></h3>"
   ]
  },
  {
   "cell_type": "markdown",
   "id": "a3a4cb05-ed1b-4764-870f-90bf41809bfd",
   "metadata": {},
   "source": [
    "The `collections.abc` module provides abstract base classes (ABCs) for containers such as sequences, mappings, and sets. The `Iterable` ABC, specifically, represents classes that can be iterated over with a loop or consumed by functions like `list()` or `tuple()`."
   ]
  },
  {
   "cell_type": "code",
   "execution_count": 18,
   "id": "8038a0e9-87ae-45c7-9cb0-5723ade82dd1",
   "metadata": {},
   "outputs": [],
   "source": [
    "from collections.abc import Iterable\n",
    "\n",
    "\n",
    "def zip_replace(text: str, changes: Iterable[tuple[str, str]]) -> str:\n",
    "    for from_, to in changes:\n",
    "        text = text.replace(from_, to)\n",
    "\n",
    "    return text"
   ]
  },
  {
   "cell_type": "code",
   "execution_count": 19,
   "id": "d28e30a5-3ba8-442c-a473-ae0b97dedc37",
   "metadata": {},
   "outputs": [
    {
     "data": {
      "text/plain": [
       "'m4d sk1ll3d n00b p0wn3d l33t'"
      ]
     },
     "execution_count": 19,
     "metadata": {},
     "output_type": "execute_result"
    }
   ],
   "source": [
    "l33t = [\n",
    "    ('a', '4'),\n",
    "    ('e', '3'),\n",
    "    ('i', '1'),\n",
    "    ('o', '0')\n",
    "]\n",
    "text = 'mad skilled noob powned leet'\n",
    "\n",
    "zip_replace(text, l33t)"
   ]
  },
  {
   "cell_type": "code",
   "execution_count": null,
   "id": "dbf10249-b97b-44b1-8ddd-3fd9aeb1b53f",
   "metadata": {},
   "outputs": [],
   "source": []
  }
 ],
 "metadata": {
  "kernelspec": {
   "display_name": "Python 3 (ipykernel)",
   "language": "python",
   "name": "python3"
  },
  "language_info": {
   "codemirror_mode": {
    "name": "ipython",
    "version": 3
   },
   "file_extension": ".py",
   "mimetype": "text/x-python",
   "name": "python",
   "nbconvert_exporter": "python",
   "pygments_lexer": "ipython3",
   "version": "3.12.1"
  }
 },
 "nbformat": 4,
 "nbformat_minor": 5
}
