{
 "cells": [
  {
   "cell_type": "markdown",
   "id": "e5ce52f2-31e9-44b4-937d-b5ccb45f151b",
   "metadata": {},
   "source": [
    "<h1>Chapter 08. Type Annotations in Functions.</h1>"
   ]
  },
  {
   "cell_type": "markdown",
   "id": "716b41bd-d09b-4f8f-98ae-1ad3c4d4901c",
   "metadata": {},
   "source": [
    "Type annotations in functions in Python allow you to specify the types of parameters and return values. They provide clarity about the expected types of input and output, making code easier to understand and maintain. Type annotations are optional but can be beneficial for documentation, static analysis, and catching type-related bugs early."
   ]
  },
  {
   "cell_type": "markdown",
   "id": "d6762ec6-fea5-4bea-a43c-06d984a90f1c",
   "metadata": {},
   "source": [
    "<h2>Stepwise Typing in Practice</h2>"
   ]
  },
  {
   "cell_type": "markdown",
   "id": "8095eac0-8cc2-43c5-b413-dc74564c6282",
   "metadata": {},
   "source": [
    "Function `show_count` without type annotations"
   ]
  },
  {
   "cell_type": "code",
   "execution_count": 1,
   "id": "9141cfbf-fabc-407a-9b89-a042c6895d17",
   "metadata": {},
   "outputs": [],
   "source": [
    "def show_count(count, word):\n",
    "    if count == 1:\n",
    "        return f\"1 {word}\"\n",
    "    \n",
    "    count_str = str(count) if count else 'No'\n",
    "\n",
    "    return f\"{count_str} {word}s\""
   ]
  },
  {
   "cell_type": "code",
   "execution_count": 2,
   "id": "9d9ec0da-db5b-4645-ae92-9d8fbde60008",
   "metadata": {},
   "outputs": [
    {
     "data": {
      "text/plain": [
       "'1 bird'"
      ]
     },
     "execution_count": 2,
     "metadata": {},
     "output_type": "execute_result"
    }
   ],
   "source": [
    "show_count(1, 'bird')"
   ]
  },
  {
   "cell_type": "code",
   "execution_count": 3,
   "id": "e459b620-0335-479e-b114-6a41532c4192",
   "metadata": {},
   "outputs": [
    {
     "data": {
      "text/plain": [
       "'2 birds'"
      ]
     },
     "execution_count": 3,
     "metadata": {},
     "output_type": "execute_result"
    }
   ],
   "source": [
    "show_count(2, 'bird')"
   ]
  },
  {
   "cell_type": "code",
   "execution_count": 4,
   "id": "fc59de40-d7e2-46d4-a3cf-ee7eb7e5d615",
   "metadata": {},
   "outputs": [
    {
     "data": {
      "text/plain": [
       "'No birds'"
      ]
     },
     "execution_count": 4,
     "metadata": {},
     "output_type": "execute_result"
    }
   ],
   "source": [
    "show_count(0, 'bird')"
   ]
  },
  {
   "cell_type": "markdown",
   "id": "b8a04b8a-adf9-4092-9aa5-004077157e25",
   "metadata": {},
   "source": [
    "<h3>Start working with <code>mypy</code></h3>"
   ]
  },
  {
   "cell_type": "markdown",
   "id": "2386caa3-a2a1-4ddd-bf1d-39c144bd197c",
   "metadata": {},
   "source": [
    "`mypy` is a static type checker for Python that analyzes code for type errors and inconsistencies, helping to catch bugs and improve code quality."
   ]
  },
  {
   "cell_type": "markdown",
   "id": "0e63f268-a673-4881-892a-2bd01a4f1c42",
   "metadata": {},
   "source": [
    "Running the `mypy` command for script with `show_count` function:\n",
    "\n",
    "`Success: no issues found in 1 source file`"
   ]
  },
  {
   "cell_type": "markdown",
   "id": "ae4be3f7-cce3-4826-b2bd-4ddabe43024a",
   "metadata": {},
   "source": [
    "`show_count` function tests without type annotations"
   ]
  },
  {
   "cell_type": "code",
   "execution_count": 5,
   "id": "ae3d8fcc-79e5-4484-8528-afd4d4510bb3",
   "metadata": {},
   "outputs": [],
   "source": [
    "from pytest import mark\n",
    "\n",
    "\n",
    "# Define multiply sets of input data for a test function\n",
    "@mark.parametrize('qty, expected', [\n",
    "    (1, '1 part'),\n",
    "    (2, '2 parts')\n",
    "])\n",
    "\n",
    "def test_show_count(qty, expected):\n",
    "    got = show_count(qty, 'part')\n",
    "    \n",
    "    assert got == expected\n",
    "\n",
    "def test_show_count_zero():\n",
    "    got = show_count(0, 'part')\n",
    "\n",
    "    assert got == 'No parts'"
   ]
  },
  {
   "cell_type": "markdown",
   "id": "9f0311a9-5e02-48e1-a92a-d74b61a4c7fe",
   "metadata": {},
   "source": [
    "Running the `mypy` command for script with `show_count` function tests with the `--disallow-untyped-defs` parameter, which forces `mypy` to mark all function definitions that do not have type annotations:\n",
    "\n",
    "<code>error: Function is missing a type annotation\n",
    "error: Function is missing a return type annotation\n",
    "note: Use \"-> None\" if function does not return a value\n",
    "Found 2 errors in 1 file (checked 1 source file)</code>"
   ]
  },
  {
   "cell_type": "markdown",
   "id": "d1bb990f-85f6-449d-b6b1-ee35330ac3de",
   "metadata": {},
   "source": [
    "<h3>Default Parameter Value</h3>"
   ]
  },
  {
   "cell_type": "markdown",
   "id": "a0ffb160-e594-4dc8-93d8-b51b8838ce8a",
   "metadata": {},
   "source": [
    "Function `show_count` with optional parameter"
   ]
  },
  {
   "cell_type": "code",
   "execution_count": 6,
   "id": "57b54f9d-b5b8-4309-a5ef-9d907f681b32",
   "metadata": {},
   "outputs": [],
   "source": [
    "def show_count(count: int, singular: str, plural: str = '') -> str:\n",
    "    if count == 1:\n",
    "        return f\"1 {singular}\"\n",
    "\n",
    "    count_str = str(count) if count else 'No'\n",
    "\n",
    "    if not plural:\n",
    "        plural = singular + 's'\n",
    "\n",
    "    return f\"{count_str} {plural}\""
   ]
  },
  {
   "cell_type": "markdown",
   "id": "6de7858b-9b21-4c60-aab8-02d33bff5ef8",
   "metadata": {},
   "source": [
    "Running the `mypy` command for script with `show_count` function:\n",
    "\n",
    "`Success: no issues found in 1 source file`"
   ]
  },
  {
   "cell_type": "markdown",
   "id": "02b0a4e4-cc01-406d-850e-5becb5ceb97c",
   "metadata": {},
   "source": [
    "<h3><code>None</code> as the Default Value</h3>"
   ]
  },
  {
   "cell_type": "markdown",
   "id": "28242977-65ef-47d0-9999-6201dd8e06d3",
   "metadata": {},
   "source": [
    "`Optional[str]` means that `plural` can be types `str` or `None` "
   ]
  },
  {
   "cell_type": "code",
   "execution_count": 7,
   "id": "89eed141-b4af-43cf-b119-f5e07785e5fb",
   "metadata": {},
   "outputs": [],
   "source": [
    "from typing import Optional\n",
    "\n",
    "\n",
    "def show_count(count: int, singular: str, plural: Optional[str] = None) -> str:\n",
    "    if count == 1:\n",
    "        return f\"1 {singular}\"\n",
    "\n",
    "    count_str = str(count) if count else 'No'\n",
    "\n",
    "    if not plural:\n",
    "        plural = singular + 's'\n",
    "\n",
    "    return f\"{count_str} {plural}\""
   ]
  },
  {
   "cell_type": "code",
   "execution_count": null,
   "id": "bbfb5ad0-ffc5-4351-b3cb-575175e0a9ee",
   "metadata": {},
   "outputs": [],
   "source": []
  }
 ],
 "metadata": {
  "kernelspec": {
   "display_name": "Python 3 (ipykernel)",
   "language": "python",
   "name": "python3"
  },
  "language_info": {
   "codemirror_mode": {
    "name": "ipython",
    "version": 3
   },
   "file_extension": ".py",
   "mimetype": "text/x-python",
   "name": "python",
   "nbconvert_exporter": "python",
   "pygments_lexer": "ipython3",
   "version": "3.12.1"
  }
 },
 "nbformat": 4,
 "nbformat_minor": 5
}
