{
 "cells": [
  {
   "cell_type": "markdown",
   "id": "e1cc3ea2-8c14-4d08-8815-06519b8611a9",
   "metadata": {},
   "source": [
    "<h1>Chapter 09. Decorators and Closures.</h1>"
   ]
  },
  {
   "cell_type": "markdown",
   "id": "03571a57-ff6d-4b6b-9149-147da83854e3",
   "metadata": {},
   "source": [
    "A Decorator is a callable object that accepts another function as an argument (the function to be decorated).\n",
    "A Decorator can perform some operations on a function and returns either the function itself or another substitute function or called object.\n",
    "Decorators are a powerful feature that allows you to modify or extend the behavior of functions or methods without directly modifying their code. They are typically used to add functionality such as logging, caching, or authentication to functions in a modular and reusable way. "
   ]
  },
  {
   "cell_type": "code",
   "execution_count": 1,
   "id": "a353b067-7834-4138-832d-3c21c6f4cbaf",
   "metadata": {},
   "outputs": [
    {
     "name": "stdout",
     "output_type": "stream",
     "text": [
      "Running inner() function\n"
     ]
    }
   ],
   "source": [
    "def deco(func):    \n",
    "    def inner():\n",
    "        print('Running inner() function')\n",
    "        \n",
    "    return inner  # deco() returns its inner() function object\n",
    "\n",
    "\n",
    "@deco\n",
    "def target():  # function decorated deco()\n",
    "    ptint('Running target() function')\n",
    "\n",
    "\n",
    "# Calling the decorated target() function actually executes inner()\n",
    "target()"
   ]
  },
  {
   "cell_type": "markdown",
   "id": "28459c71-7efc-440e-9e36-ae9c231e0986",
   "metadata": {},
   "source": [
    "Inspection shows that `target()` now refers to `inner()`"
   ]
  },
  {
   "cell_type": "code",
   "execution_count": 2,
   "id": "a7ca34ef-50ef-4389-8764-da2f3158b452",
   "metadata": {},
   "outputs": [
    {
     "data": {
      "text/plain": [
       "<function __main__.deco.<locals>.inner()>"
      ]
     },
     "execution_count": 2,
     "metadata": {},
     "output_type": "execute_result"
    }
   ],
   "source": [
    "target"
   ]
  },
  {
   "cell_type": "markdown",
   "id": "b18b8a1c-42b5-48e1-a240-43c5bd4bdd4b",
   "metadata": {},
   "source": [
    "<h2>When Python executes Decorators</h2>"
   ]
  },
  {
   "cell_type": "markdown",
   "id": "caf12b48-06fb-45b4-8bd2-20c60fc98519",
   "metadata": {},
   "source": [
    "The main feature of decorators is that they are perfomed as soon as the decorated function is defined. "
   ]
  },
  {
   "cell_type": "code",
   "execution_count": 3,
   "id": "bf45cacf-9594-4dcc-a836-bce09bdf7067",
   "metadata": {},
   "outputs": [
    {
     "name": "stdout",
     "output_type": "stream",
     "text": [
      "Running register(<function f1 at 0x10a7fdee0>)\n",
      "Running register(<function f2 at 0x10a92e160>)\n",
      "Registry -> [<function f1 at 0x10a7fdee0>, <function f2 at 0x10a92e160>]\n",
      "Running f1()\n",
      "Running f2()\n",
      "Running f3()\n"
     ]
    }
   ],
   "source": [
    "# Store references to functions decorated with @register\n",
    "registry = []\n",
    "\n",
    "\n",
    "def register(func):\n",
    "    print(f\"Running register({func})\")  # print which function is being decorated\n",
    "    registry.append(func)  # add func to registry\n",
    "    return func\n",
    "\n",
    "\n",
    "@register\n",
    "def f1():\n",
    "    print('Running f1()')\n",
    "\n",
    "\n",
    "@register\n",
    "def f2():\n",
    "    print('Running f2()')\n",
    "\n",
    "\n",
    "def f3():\n",
    "    print('Running f3()')\n",
    "\n",
    "\n",
    "print(f\"Registry -> {registry}\")\n",
    "f1()\n",
    "f2()\n",
    "f3()"
   ]
  },
  {
   "cell_type": "markdown",
   "id": "02dec198-732d-45af-b1c1-4445b59b9916",
   "metadata": {},
   "source": [
    "<h2>Closures</h2>"
   ]
  },
  {
   "cell_type": "markdown",
   "id": "e4310307-87ba-43e0-b2b3-325b689148e3",
   "metadata": {},
   "source": [
    "A closure is a function, e.g. 'f', with an extended scope that covers variables referenced in the body of 'f', but which are neither global nor local variables of 'f'. Such variables must come from the local scope of the external function enclosing 'f'. Such variables must come from the local scope of the external function enclosing 'f'."
   ]
  },
  {
   "cell_type": "markdown",
   "id": "2eb25dd7-7614-418d-90e3-f78a72abf560",
   "metadata": {},
   "source": [
    "Class-based realization"
   ]
  },
  {
   "cell_type": "code",
   "execution_count": 4,
   "id": "6b17297e-003a-449b-b1f8-056b6c050b79",
   "metadata": {},
   "outputs": [],
   "source": [
    "class Averager():\n",
    "\n",
    "    def __init__(self):\n",
    "        self.series = []\n",
    "\n",
    "    def __call__(self, new_value):\n",
    "        self.series.append(new_value)\n",
    "        total = sum(self.series)\n",
    "        return f\"The average value of {self.series} is {total / len(self.series)}\""
   ]
  },
  {
   "cell_type": "code",
   "execution_count": 5,
   "id": "78559044-f23e-481b-9a17-466140fd494d",
   "metadata": {},
   "outputs": [
    {
     "data": {
      "text/plain": [
       "'The average value of [10] is 10.0'"
      ]
     },
     "execution_count": 5,
     "metadata": {},
     "output_type": "execute_result"
    }
   ],
   "source": [
    "avg = Averager()\n",
    "\n",
    "avg(10)"
   ]
  },
  {
   "cell_type": "code",
   "execution_count": 6,
   "id": "13a48417-578d-4c8a-8dd8-c2bbbc2fb5d4",
   "metadata": {},
   "outputs": [
    {
     "data": {
      "text/plain": [
       "'The average value of [10, 11] is 10.5'"
      ]
     },
     "execution_count": 6,
     "metadata": {},
     "output_type": "execute_result"
    }
   ],
   "source": [
    "avg(11)"
   ]
  },
  {
   "cell_type": "code",
   "execution_count": 7,
   "id": "017e72be-c1b4-4cbe-b4c4-4882c3e7dc93",
   "metadata": {},
   "outputs": [
    {
     "data": {
      "text/plain": [
       "'The average value of [10, 11, 12] is 11.0'"
      ]
     },
     "execution_count": 7,
     "metadata": {},
     "output_type": "execute_result"
    }
   ],
   "source": [
    "avg(12)"
   ]
  },
  {
   "cell_type": "markdown",
   "id": "5977744e-8a8a-42ce-a3f1-0331d5617e53",
   "metadata": {},
   "source": [
    "Realization using the higher-order function `make_averager`"
   ]
  },
  {
   "cell_type": "code",
   "execution_count": 8,
   "id": "674f30eb-f4ca-405d-a214-93a8844a71a3",
   "metadata": {},
   "outputs": [],
   "source": [
    "def make_averager():\n",
    "    series = []\n",
    "\n",
    "    # averager closure extends the scope of the functionto include\n",
    "    # the binding of free variable series\n",
    "    def averager(new_value):\n",
    "        series.append(new_value)\n",
    "        total = sum(series)\n",
    "        return f\"The average value of {series} is {total / len(series)}\"\n",
    "\n",
    "    return averager"
   ]
  },
  {
   "cell_type": "code",
   "execution_count": 9,
   "id": "4ff826eb-07a2-4e56-8880-e4b12c58aeed",
   "metadata": {},
   "outputs": [
    {
     "data": {
      "text/plain": [
       "'The average value of [10] is 10.0'"
      ]
     },
     "execution_count": 9,
     "metadata": {},
     "output_type": "execute_result"
    }
   ],
   "source": [
    "avg = make_averager()\n",
    "\n",
    "avg(10)"
   ]
  },
  {
   "cell_type": "code",
   "execution_count": 10,
   "id": "aeed8561-3a60-4a84-8be3-b7a05137271c",
   "metadata": {},
   "outputs": [
    {
     "data": {
      "text/plain": [
       "'The average value of [10, 11] is 10.5'"
      ]
     },
     "execution_count": 10,
     "metadata": {},
     "output_type": "execute_result"
    }
   ],
   "source": [
    "avg(11)"
   ]
  },
  {
   "cell_type": "code",
   "execution_count": 11,
   "id": "b0ea5a5d-8ac3-4d1c-af85-eb5a637c9aa2",
   "metadata": {},
   "outputs": [
    {
     "data": {
      "text/plain": [
       "'The average value of [10, 11, 12] is 11.0'"
      ]
     },
     "execution_count": 11,
     "metadata": {},
     "output_type": "execute_result"
    }
   ],
   "source": [
    "avg(12)"
   ]
  },
  {
   "cell_type": "markdown",
   "id": "45dca6b7-ad14-45c4-823b-7b378c1edc82",
   "metadata": {},
   "source": [
    "Inspection of the function created by the `make_averager()` function"
   ]
  },
  {
   "cell_type": "code",
   "execution_count": 12,
   "id": "94b08e3d-f653-45ba-9e3e-5bd4acb85edc",
   "metadata": {},
   "outputs": [
    {
     "data": {
      "text/plain": [
       "('new_value', 'total')"
      ]
     },
     "execution_count": 12,
     "metadata": {},
     "output_type": "execute_result"
    }
   ],
   "source": [
    "# Retrieve the variable names\n",
    "avg.__code__.co_varnames"
   ]
  },
  {
   "cell_type": "code",
   "execution_count": 13,
   "id": "97f3b5fa-6ea7-4c75-8ff7-67d417109b2b",
   "metadata": {},
   "outputs": [
    {
     "data": {
      "text/plain": [
       "('series',)"
      ]
     },
     "execution_count": 13,
     "metadata": {},
     "output_type": "execute_result"
    }
   ],
   "source": [
    "# Retrieve the free variable names\n",
    "avg.__code__.co_freevars"
   ]
  },
  {
   "cell_type": "code",
   "execution_count": 14,
   "id": "8dc0821b-e74c-4826-9427-62cf487a3be8",
   "metadata": {},
   "outputs": [
    {
     "data": {
      "text/plain": [
       "(<cell at 0x10a9237f0: list object at 0x10a93a600>,)"
      ]
     },
     "execution_count": 14,
     "metadata": {},
     "output_type": "execute_result"
    }
   ],
   "source": [
    "# Retrieve the closure\n",
    "avg.__closure__"
   ]
  },
  {
   "cell_type": "markdown",
   "id": "0615eb35-d0ef-47fb-a5b2-d638eee63caa",
   "metadata": {},
   "source": [
    "<h2><code>nonlocal</code> Announcement</h2>"
   ]
  },
  {
   "cell_type": "markdown",
   "id": "049d6006-cb29-4ffb-a19f-7820217a2ed9",
   "metadata": {},
   "source": [
    "`nonlocal` is a keyword in Python used within nested functions to indicate that a variable is not local to the innermost function's scope but is in an enclosing (non-global) scope. It allows you to modify variables in the enclosing scope from within the nested function."
   ]
  },
  {
   "cell_type": "markdown",
   "id": "532685bd-f5c6-4756-ac72-a1ebba6a0062",
   "metadata": {},
   "source": [
    "Calculating the cumulative average without storing the entire history"
   ]
  },
  {
   "cell_type": "code",
   "execution_count": 15,
   "id": "27e56d74-8e87-497e-837e-b89cb74dd60c",
   "metadata": {},
   "outputs": [],
   "source": [
    "def make_averager():\n",
    "    count = 0\n",
    "    total = 0\n",
    "\n",
    "    def averager(new_value):\n",
    "        nonlocal count, total\n",
    "        count += 1\n",
    "        total += new_value\n",
    "        return f\"The average value of {total} is {total / count}.\"\n",
    "\n",
    "    return averager"
   ]
  },
  {
   "cell_type": "code",
   "execution_count": 16,
   "id": "ee64135b-720a-47d1-b287-65433d540aed",
   "metadata": {},
   "outputs": [
    {
     "data": {
      "text/plain": [
       "'The average value of 10 is 10.0.'"
      ]
     },
     "execution_count": 16,
     "metadata": {},
     "output_type": "execute_result"
    }
   ],
   "source": [
    "avg = make_averager()\n",
    "\n",
    "avg(10)"
   ]
  },
  {
   "cell_type": "code",
   "execution_count": 17,
   "id": "82ed1c90-9f12-4537-b23c-f191ad292742",
   "metadata": {},
   "outputs": [
    {
     "data": {
      "text/plain": [
       "'The average value of 21 is 10.5.'"
      ]
     },
     "execution_count": 17,
     "metadata": {},
     "output_type": "execute_result"
    }
   ],
   "source": [
    "avg(11)"
   ]
  },
  {
   "cell_type": "code",
   "execution_count": 18,
   "id": "2897813e-3546-4e9e-8f90-8d5f978d51a6",
   "metadata": {},
   "outputs": [
    {
     "data": {
      "text/plain": [
       "'The average value of 33 is 11.0.'"
      ]
     },
     "execution_count": 18,
     "metadata": {},
     "output_type": "execute_result"
    }
   ],
   "source": [
    "avg(12)"
   ]
  },
  {
   "cell_type": "markdown",
   "id": "3b8b0fb0-531b-4ada-9ea5-a39dee6b1043",
   "metadata": {},
   "source": [
    "<h2>Realization of a Simple Decorator</h2>"
   ]
  },
  {
   "cell_type": "markdown",
   "id": "a0809e7e-4729-451e-a896-a8fad5c20264",
   "metadata": {},
   "source": [
    "Simple decorator for outputting function execution time"
   ]
  },
  {
   "cell_type": "code",
   "execution_count": 19,
   "id": "0b61c42a-e761-41a1-b73f-0b5312b9e15b",
   "metadata": {},
   "outputs": [],
   "source": [
    "import time\n",
    "\n",
    "\n",
    "# Define the clock decorator\n",
    "def clock(func):\n",
    "    def clocked(*args):\n",
    "        t0 = time.perf_counter()\n",
    "        result = func(*args)  # clocked closure includes a free variable 'func'\n",
    "        elapsed = time.perf_counter() - t0\n",
    "        name = func.__name__\n",
    "        arg_str = ', '.join(repr(arg) for arg in args)\n",
    "        print(f\"[{elapsed:0.8f}s] {name}({arg_str}) -> {result!r}\")\n",
    "        return result  # return the internal function instead of the decorated function\n",
    "\n",
    "    return clocked"
   ]
  },
  {
   "cell_type": "markdown",
   "id": "9c621e4a-98cc-4b39-92e0-dbc461274437",
   "metadata": {},
   "source": [
    "Using decorator `@clock`"
   ]
  },
  {
   "cell_type": "code",
   "execution_count": 20,
   "id": "2a999741-a2d6-4ab1-a0a1-0861ad609c21",
   "metadata": {},
   "outputs": [],
   "source": [
    "@clock\n",
    "def snooze(seconds):\n",
    "    time.sleep(seconds)\n",
    "\n",
    "\n",
    "@clock\n",
    "def factorial(n):\n",
    "    return 1 if n < 2 else n * factorial(n - 1)"
   ]
  },
  {
   "cell_type": "code",
   "execution_count": 21,
   "id": "253a0bef-557e-48a4-a7d2-41e45a771cd0",
   "metadata": {},
   "outputs": [
    {
     "name": "stdout",
     "output_type": "stream",
     "text": [
      "Calling snooze(.123):\n",
      "[0.12633311s] snooze(0.123) -> None\n",
      "Calling factorial(6):\n",
      "[0.00000069s] factorial(1) -> 1\n",
      "[0.00003861s] factorial(2) -> 2\n",
      "[0.00005643s] factorial(3) -> 6\n",
      "[0.00007183s] factorial(4) -> 24\n",
      "[0.00008921s] factorial(5) -> 120\n",
      "[0.00010648s] factorial(6) -> 720\n"
     ]
    },
    {
     "data": {
      "text/plain": [
       "720"
      ]
     },
     "execution_count": 21,
     "metadata": {},
     "output_type": "execute_result"
    }
   ],
   "source": [
    "print('Calling snooze(.123):')\n",
    "snooze(.123)\n",
    "\n",
    "print('Calling factorial(6):')\n",
    "factorial(6)"
   ]
  },
  {
   "cell_type": "markdown",
   "id": "e97357ce-664e-42eb-825b-575afb816356",
   "metadata": {},
   "source": [
    "Improved `@clock` decorator"
   ]
  },
  {
   "cell_type": "markdown",
   "id": "fbca3e8f-f47b-4a69-a5a7-c35cce855ae8",
   "metadata": {},
   "source": [
    "`@functools.wraps()` is a decorator used to copy metadata (like name and docstring) from the original function to a wrapper function, ensuring the wrapped function retains its identity and documentation."
   ]
  },
  {
   "cell_type": "code",
   "execution_count": 22,
   "id": "f9762967-123b-4262-89d1-d46a51389c35",
   "metadata": {},
   "outputs": [],
   "source": [
    "import functools\n",
    "import time\n",
    "\n",
    "\n",
    "def clock(func):\n",
    "    @functools.wraps(func)\n",
    "    def clocked(*args, **kwargs):\n",
    "        t0 = time.perf_counter()\n",
    "        result = func(*args, **kwargs)\n",
    "        elapsed = time.perf_counter() - t0\n",
    "        name = func.__name__\n",
    "        arg_lst = [repr(arg) for arg in args]\n",
    "        arg_lst.extend(f\"{k} = {v!r}\" for k, v in kwargs.items())\n",
    "        arg_str = ', '.join(arg_lst)\n",
    "        print(f\"[{elapsed:0.8f}s] {name}({arg_str}) -> {result!r}\")\n",
    "        return result\n",
    "\n",
    "    return clocked"
   ]
  },
  {
   "cell_type": "code",
   "execution_count": 23,
   "id": "a5c1fe42-3ab6-4e1e-aa0e-7f9cd101d089",
   "metadata": {},
   "outputs": [
    {
     "name": "stdout",
     "output_type": "stream",
     "text": [
      "Calling snooze(.123):\n",
      "[0.12331671s] snooze(0.123) -> None\n",
      "Calling factorial(6):\n",
      "[0.00000088s] factorial(1) -> 1\n",
      "[0.00003072s] factorial(2) -> 2\n",
      "[0.00004379s] factorial(3) -> 6\n",
      "[0.00005579s] factorial(4) -> 24\n",
      "[0.00006889s] factorial(5) -> 120\n",
      "[0.00008252s] factorial(6) -> 720\n"
     ]
    },
    {
     "data": {
      "text/plain": [
       "720"
      ]
     },
     "execution_count": 23,
     "metadata": {},
     "output_type": "execute_result"
    }
   ],
   "source": [
    "print('Calling snooze(.123):')\n",
    "snooze(.123)\n",
    "\n",
    "print('Calling factorial(6):')\n",
    "factorial(6)"
   ]
  },
  {
   "cell_type": "markdown",
   "id": "72b3af23-c74d-4699-8276-f97f6c4558b4",
   "metadata": {},
   "source": [
    "<h2>Decorators in the Standard Library</h2>"
   ]
  },
  {
   "cell_type": "markdown",
   "id": "8c53c9fc-4c5e-4e8f-a444-3d36bad6839b",
   "metadata": {},
   "source": [
    "<h3>Memorization with <code>functools.cache</code></h3>"
   ]
  },
  {
   "cell_type": "markdown",
   "id": "f1c29843-628e-4718-9c97-647645327392",
   "metadata": {},
   "source": [
    "A very overhead recursive way to calculate the `n`th Fibonacci number"
   ]
  },
  {
   "cell_type": "code",
   "execution_count": 24,
   "id": "a567299b-e241-497a-bac4-4cb4f7fd6aac",
   "metadata": {},
   "outputs": [
    {
     "name": "stdout",
     "output_type": "stream",
     "text": [
      "[0.00000062s] fibonacci(0) -> 0\n",
      "[0.00000152s] fibonacci(1) -> 1\n",
      "[0.00036264s] fibonacci(2) -> 1\n",
      "[0.00000040s] fibonacci(1) -> 1\n",
      "[0.00000040s] fibonacci(0) -> 0\n",
      "[0.00000064s] fibonacci(1) -> 1\n",
      "[0.00002192s] fibonacci(2) -> 1\n",
      "[0.00004427s] fibonacci(3) -> 2\n",
      "[0.00042947s] fibonacci(4) -> 3\n",
      "[0.00000029s] fibonacci(1) -> 1\n",
      "[0.00000039s] fibonacci(0) -> 0\n",
      "[0.00000058s] fibonacci(1) -> 1\n",
      "[0.00002212s] fibonacci(2) -> 1\n",
      "[0.00004190s] fibonacci(3) -> 2\n",
      "[0.00000029s] fibonacci(0) -> 0\n",
      "[0.00000056s] fibonacci(1) -> 1\n",
      "[0.00002155s] fibonacci(2) -> 1\n",
      "[0.00000036s] fibonacci(1) -> 1\n",
      "[0.00000031s] fibonacci(0) -> 0\n",
      "[0.00000055s] fibonacci(1) -> 1\n",
      "[0.00002241s] fibonacci(2) -> 1\n",
      "[0.00004171s] fibonacci(3) -> 2\n",
      "[0.00008177s] fibonacci(4) -> 3\n",
      "[0.00014245s] fibonacci(5) -> 5\n",
      "[0.00059473s] fibonacci(6) -> 8\n"
     ]
    },
    {
     "data": {
      "text/plain": [
       "8"
      ]
     },
     "execution_count": 24,
     "metadata": {},
     "output_type": "execute_result"
    }
   ],
   "source": [
    "@clock\n",
    "def fibonacci(n):\n",
    "    if n < 2:\n",
    "        return n\n",
    "\n",
    "    return fibonacci(n - 2) + fibonacci(n - 1)\n",
    "\n",
    "\n",
    "fibonacci(6)"
   ]
  },
  {
   "cell_type": "markdown",
   "id": "e38b3ff7-4445-469a-b54e-b9ff3431dafb",
   "metadata": {},
   "source": [
    "`functools.cache` is a decorator used to cache the results of a function call, storing them in memory to improve performance by avoiding redundant computations for repeated inputs."
   ]
  },
  {
   "cell_type": "markdown",
   "id": "64098929-61e1-42b0-9840-0ba53a4acfb3",
   "metadata": {},
   "source": [
    "Faster realization using caching"
   ]
  },
  {
   "cell_type": "code",
   "execution_count": 25,
   "id": "82efed5f-486d-4064-bfd3-82dd3b7c66f8",
   "metadata": {},
   "outputs": [
    {
     "name": "stdout",
     "output_type": "stream",
     "text": [
      "[0.00000045s] fibonacci(0) -> 0\n",
      "[0.00000129s] fibonacci(1) -> 1\n",
      "[0.00024390s] fibonacci(2) -> 1\n",
      "[0.00000112s] fibonacci(3) -> 2\n",
      "[0.00026428s] fibonacci(4) -> 3\n",
      "[0.00000073s] fibonacci(5) -> 5\n",
      "[0.00028290s] fibonacci(6) -> 8\n"
     ]
    },
    {
     "data": {
      "text/plain": [
       "8"
      ]
     },
     "execution_count": 25,
     "metadata": {},
     "output_type": "execute_result"
    }
   ],
   "source": [
    "import functools\n",
    "\n",
    "\n",
    "@functools.cache\n",
    "@clock\n",
    "def fibonacci(n):\n",
    "    if n < 2:\n",
    "        return n\n",
    "\n",
    "    return fibonacci(n - 2) + fibonacci(n - 1)\n",
    "\n",
    "\n",
    "fibonacci(6)"
   ]
  },
  {
   "cell_type": "markdown",
   "id": "8ce4e145-816e-4697-b84d-37f30a1feb7f",
   "metadata": {},
   "source": [
    "<h3>Using <code>functools.lru_cache</code></h3>"
   ]
  },
  {
   "cell_type": "markdown",
   "id": "6361aec5-d60a-46b1-9531-66b16a69150e",
   "metadata": {},
   "source": [
    "`functools.lru_cache` is a decorator used to cache the results of a function call with a least-recently-used (LRU) eviction strategy, which discards the least recently used cache entries when the cache reaches its maximum size. This helps improve performance by storing and reusing previously computed results."
   ]
  },
  {
   "cell_type": "code",
   "execution_count": 26,
   "id": "ed198208-51f5-4145-acbf-971a84930dd7",
   "metadata": {},
   "outputs": [
    {
     "name": "stdout",
     "output_type": "stream",
     "text": [
      "[0.00000033s] fibonacci(0) -> 0\n",
      "[0.00000074s] fibonacci(1) -> 1\n",
      "[0.00008367s] fibonacci(2) -> 1\n",
      "[0.00000140s] fibonacci(3) -> 2\n",
      "[0.00010486s] fibonacci(4) -> 3\n",
      "[0.00000101s] fibonacci(5) -> 5\n",
      "[0.00012445s] fibonacci(6) -> 8\n"
     ]
    },
    {
     "data": {
      "text/plain": [
       "8"
      ]
     },
     "execution_count": 26,
     "metadata": {},
     "output_type": "execute_result"
    }
   ],
   "source": [
    "import functools\n",
    "\n",
    "\n",
    "# Set maximum cache size and enable type-based caching\n",
    "@functools.lru_cache(maxsize=5, typed=True)\n",
    "@clock\n",
    "def fibonacci(n):\n",
    "    if n < 2:\n",
    "        return n\n",
    "\n",
    "    return fibonacci(n - 2) + fibonacci(n - 1)\n",
    "\n",
    "\n",
    "fibonacci(6)"
   ]
  },
  {
   "cell_type": "markdown",
   "id": "d1ac9dd3-342d-42d3-a515-f7ab263e16de",
   "metadata": {},
   "source": [
    "<h3>Function <code>singledispatch</code></h3>"
   ]
  },
  {
   "cell_type": "markdown",
   "id": "4b827cee-bf9f-426b-94fa-5ca7b2d302b6",
   "metadata": {},
   "source": [
    "`functools.singledispatch` is a decorator allows you to define a single generic function and then register specialized implementations for different types or classes. This enables function overloading based on the type of arguments passed to the function."
   ]
  },
  {
   "cell_type": "markdown",
   "id": "f2fcc7d8-8ad6-4555-800c-1b963dd0bede",
   "metadata": {},
   "source": [
    "The `htmlize()` function serves as a tool for debugging web applications by generating HTML representations of Python objects of various types. While it accommodates any Python type, it also provides specialized views for certain types to enhance debugging capabilities.\n",
    "The `singledispatch` decorator creates the `@htmlize.register` function to combine multiple functions into one generalized function. The type of the first argument determines which specialized function is used at runtime. Specialized function names are unimportant, indicated by the use of `_` as the name."
   ]
  },
  {
   "cell_type": "code",
   "execution_count": 27,
   "id": "94270150-f75a-438a-9a78-c6ef10824ceb",
   "metadata": {},
   "outputs": [],
   "source": [
    "import decimal\n",
    "import fractions\n",
    "import html\n",
    "import numbers\n",
    "\n",
    "from collections import abc\n",
    "from functools import singledispatch\n",
    "\n",
    "\n",
    "# Mark the base function that handles the object type\n",
    "@singledispatch\n",
    "def htmlize(obj: object) -> str:\n",
    "    content = html.escape(repr(obj))\n",
    "\n",
    "    return f\"<pre>{content}</pre>\"\n",
    "\n",
    "\n",
    "# Specialize each function with a @htmlize.register decorator\n",
    "@htmlize.register\n",
    "def _(text: str) -> str:\n",
    "    content = html.escape(text).replace('\\n', '<br/>\\n')\n",
    "\n",
    "    return f\"<p>{content}</p>\"\n",
    "\n",
    "\n",
    "@htmlize.register\n",
    "def _(seq: abc.Sequence) -> str:\n",
    "    inner = '</li>\\n<li>'.join(htmlize(item) for item in seq)\n",
    "\n",
    "    return '<ul>\\n<li>' + inner + '</li>\\n<ul>'\n",
    "\n",
    "\n",
    "@htmlize.register\n",
    "def _(n: numbers.Integral) -> str:\n",
    "    return f\"<pre>{n} (0x{n:x})</pre>\"\n",
    "\n",
    "\n",
    "@htmlize.register\n",
    "def _(n: bool) -> str:\n",
    "    return f\"<pre>{n}</pre>\"\n",
    "\n",
    "\n",
    "@htmlize.register(fractions.Fraction)\n",
    "def _(x) -> str:\n",
    "    frac = fractions.Fraction(x)\n",
    "\n",
    "    return f\"<pre>{frac.numerator}/{frac.denominator}</pre>\"\n",
    "\n",
    "\n",
    "@htmlize.register(decimal.Decimal)\n",
    "@htmlize.register(float)\n",
    "def _(x) -> str:\n",
    "    frac = fractions.Fraction(x).limit_denominator()\n",
    "    \n",
    "    return f\"<pre>{x} ({frac.numerator}/{frac.denominator})</pre>\""
   ]
  },
  {
   "cell_type": "code",
   "execution_count": 28,
   "id": "0acde1d3-a50a-430b-9ab3-b4b4c65b3b68",
   "metadata": {},
   "outputs": [
    {
     "data": {
      "text/plain": [
       "'<pre>{1, 2, 3}</pre>'"
      ]
     },
     "execution_count": 28,
     "metadata": {},
     "output_type": "execute_result"
    }
   ],
   "source": [
    "htmlize({1, 2, 3})"
   ]
  },
  {
   "cell_type": "code",
   "execution_count": 29,
   "id": "63e38f3f-0905-4ff1-8ef1-b332353bd706",
   "metadata": {},
   "outputs": [
    {
     "data": {
      "text/plain": [
       "'<pre>&lt;built-in function abs&gt;</pre>'"
      ]
     },
     "execution_count": 29,
     "metadata": {},
     "output_type": "execute_result"
    }
   ],
   "source": [
    "htmlize(abs)"
   ]
  },
  {
   "cell_type": "code",
   "execution_count": 30,
   "id": "87411a2d-23ff-4151-8f15-332084f0d078",
   "metadata": {},
   "outputs": [
    {
     "data": {
      "text/plain": [
       "'<p>Heimlich &amp; Co.<br/>\\n- a game</p>'"
      ]
     },
     "execution_count": 30,
     "metadata": {},
     "output_type": "execute_result"
    }
   ],
   "source": [
    "htmlize('Heimlich & Co.\\n- a game')"
   ]
  },
  {
   "cell_type": "code",
   "execution_count": 31,
   "id": "8eecde8e-f899-4554-be6b-e7e08cc33366",
   "metadata": {},
   "outputs": [
    {
     "data": {
      "text/plain": [
       "'<pre>42 (0x2a)</pre>'"
      ]
     },
     "execution_count": 31,
     "metadata": {},
     "output_type": "execute_result"
    }
   ],
   "source": [
    "htmlize(42)"
   ]
  },
  {
   "cell_type": "code",
   "execution_count": 32,
   "id": "0ae8d85a-f0d3-4073-a16c-5aa999d92f82",
   "metadata": {},
   "outputs": [
    {
     "name": "stdout",
     "output_type": "stream",
     "text": [
      "<ul>\n",
      "<li><p>aplha</p></li>\n",
      "<li><pre>66 (0x42)</pre></li>\n",
      "<li><pre>{1, 2, 3}</pre></li>\n",
      "<ul>\n"
     ]
    }
   ],
   "source": [
    "print(htmlize(['aplha', 66, {3, 2, 1}]))"
   ]
  },
  {
   "cell_type": "code",
   "execution_count": 33,
   "id": "48907db0-7138-4248-83da-756512bc8a2a",
   "metadata": {},
   "outputs": [
    {
     "data": {
      "text/plain": [
       "'<pre>True</pre>'"
      ]
     },
     "execution_count": 33,
     "metadata": {},
     "output_type": "execute_result"
    }
   ],
   "source": [
    "htmlize(True)"
   ]
  },
  {
   "cell_type": "code",
   "execution_count": 34,
   "id": "7d43a0cc-e902-419a-a54c-20ed2c20e8ff",
   "metadata": {},
   "outputs": [
    {
     "data": {
      "text/plain": [
       "'<pre>2/3</pre>'"
      ]
     },
     "execution_count": 34,
     "metadata": {},
     "output_type": "execute_result"
    }
   ],
   "source": [
    "htmlize(fractions.Fraction(2, 3))"
   ]
  },
  {
   "cell_type": "code",
   "execution_count": 35,
   "id": "26bfb8e8-20b7-45d6-b21f-d0bd14d4ff9c",
   "metadata": {},
   "outputs": [
    {
     "data": {
      "text/plain": [
       "'<pre>0.6666666666666666 (2/3)</pre>'"
      ]
     },
     "execution_count": 35,
     "metadata": {},
     "output_type": "execute_result"
    }
   ],
   "source": [
    "htmlize(2/3)"
   ]
  },
  {
   "cell_type": "code",
   "execution_count": 36,
   "id": "fa3fa565-d2ec-4d99-88fe-003d53c15422",
   "metadata": {},
   "outputs": [
    {
     "data": {
      "text/plain": [
       "'<pre>0.02380952 (1/42)</pre>'"
      ]
     },
     "execution_count": 36,
     "metadata": {},
     "output_type": "execute_result"
    }
   ],
   "source": [
    "htmlize(decimal.Decimal('0.02380952'))"
   ]
  },
  {
   "cell_type": "code",
   "execution_count": null,
   "id": "8d3edfbb-b857-433f-9c2f-63805ccdb906",
   "metadata": {},
   "outputs": [],
   "source": []
  }
 ],
 "metadata": {
  "kernelspec": {
   "display_name": "Python 3 (ipykernel)",
   "language": "python",
   "name": "python3"
  },
  "language_info": {
   "codemirror_mode": {
    "name": "ipython",
    "version": 3
   },
   "file_extension": ".py",
   "mimetype": "text/x-python",
   "name": "python",
   "nbconvert_exporter": "python",
   "pygments_lexer": "ipython3",
   "version": "3.12.1"
  }
 },
 "nbformat": 4,
 "nbformat_minor": 5
}
