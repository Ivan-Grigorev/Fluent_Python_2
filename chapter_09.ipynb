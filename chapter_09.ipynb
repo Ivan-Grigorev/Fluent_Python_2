{
 "cells": [
  {
   "cell_type": "markdown",
   "id": "e1cc3ea2-8c14-4d08-8815-06519b8611a9",
   "metadata": {},
   "source": [
    "<h1>Chapter 09. Decorators and Closures.</h1>"
   ]
  },
  {
   "cell_type": "markdown",
   "id": "03571a57-ff6d-4b6b-9149-147da83854e3",
   "metadata": {},
   "source": [
    "A Decorator is a callable object that accepts another function as an argument (the function to be decorated).\n",
    "A Decorator can perform some operations on a function and returns either the function itself or another substitute function or called object.\n",
    "Decorators are a powerful feature that allows you to modify or extend the behavior of functions or methods without directly modifying their code. They are typically used to add functionality such as logging, caching, or authentication to functions in a modular and reusable way. "
   ]
  },
  {
   "cell_type": "code",
   "execution_count": 1,
   "id": "a353b067-7834-4138-832d-3c21c6f4cbaf",
   "metadata": {},
   "outputs": [
    {
     "name": "stdout",
     "output_type": "stream",
     "text": [
      "Running inner() function\n"
     ]
    }
   ],
   "source": [
    "def deco(func):    \n",
    "    def inner():\n",
    "        print('Running inner() function')\n",
    "        \n",
    "    return inner  # deco() returns its inner() function object\n",
    "\n",
    "\n",
    "@deco\n",
    "def target():  # function decorated deco()\n",
    "    ptint('Running target() function')\n",
    "\n",
    "\n",
    "# Calling the decorated target() function actually executes inner()\n",
    "target()"
   ]
  },
  {
   "cell_type": "markdown",
   "id": "28459c71-7efc-440e-9e36-ae9c231e0986",
   "metadata": {},
   "source": [
    "Inspection shows that `target()` now refers to `inner()`"
   ]
  },
  {
   "cell_type": "code",
   "execution_count": 2,
   "id": "a7ca34ef-50ef-4389-8764-da2f3158b452",
   "metadata": {},
   "outputs": [
    {
     "data": {
      "text/plain": [
       "<function __main__.deco.<locals>.inner()>"
      ]
     },
     "execution_count": 2,
     "metadata": {},
     "output_type": "execute_result"
    }
   ],
   "source": [
    "target"
   ]
  },
  {
   "cell_type": "markdown",
   "id": "b18b8a1c-42b5-48e1-a240-43c5bd4bdd4b",
   "metadata": {},
   "source": [
    "<h2>When Python executes Decorators</h2>"
   ]
  },
  {
   "cell_type": "markdown",
   "id": "caf12b48-06fb-45b4-8bd2-20c60fc98519",
   "metadata": {},
   "source": [
    "The main feature of decorators is that they are perfomed as soon as the decorated function is defined. "
   ]
  },
  {
   "cell_type": "code",
   "execution_count": 3,
   "id": "bf45cacf-9594-4dcc-a836-bce09bdf7067",
   "metadata": {},
   "outputs": [
    {
     "name": "stdout",
     "output_type": "stream",
     "text": [
      "Running register(<function f1 at 0x112425ee0>)\n",
      "Running register(<function f2 at 0x1125627a0>)\n",
      "Registry -> [<function f1 at 0x112425ee0>, <function f2 at 0x1125627a0>]\n",
      "Running f1()\n",
      "Running f2()\n",
      "Running f3()\n"
     ]
    }
   ],
   "source": [
    "# Store references to functions decorated with @register\n",
    "registry = []\n",
    "\n",
    "\n",
    "def register(func):\n",
    "    print(f\"Running register({func})\")  # print which function is being decorated\n",
    "    registry.append(func)  # add func to registry\n",
    "    return func\n",
    "\n",
    "\n",
    "@register\n",
    "def f1():\n",
    "    print('Running f1()')\n",
    "\n",
    "\n",
    "@register\n",
    "def f2():\n",
    "    print('Running f2()')\n",
    "\n",
    "\n",
    "def f3():\n",
    "    print('Running f3()')\n",
    "\n",
    "\n",
    "print(f\"Registry -> {registry}\")\n",
    "f1()\n",
    "f2()\n",
    "f3()"
   ]
  },
  {
   "cell_type": "markdown",
   "id": "02dec198-732d-45af-b1c1-4445b59b9916",
   "metadata": {},
   "source": [
    "<h2>Closures</h2>"
   ]
  },
  {
   "cell_type": "markdown",
   "id": "e4310307-87ba-43e0-b2b3-325b689148e3",
   "metadata": {},
   "source": [
    "A closure is a function, e.g. 'f', with an extended scope that covers variables referenced in the body of 'f', but which are neither global nor local variables of 'f'. Such variables must come from the local scope of the external function enclosing 'f'. Such variables must come from the local scope of the external function enclosing 'f'."
   ]
  },
  {
   "cell_type": "markdown",
   "id": "2eb25dd7-7614-418d-90e3-f78a72abf560",
   "metadata": {},
   "source": [
    "Class-based realization"
   ]
  },
  {
   "cell_type": "code",
   "execution_count": 4,
   "id": "6b17297e-003a-449b-b1f8-056b6c050b79",
   "metadata": {},
   "outputs": [],
   "source": [
    "class Averager():\n",
    "\n",
    "    def __init__(self):\n",
    "        self.series = []\n",
    "\n",
    "    def __call__(self, new_value):\n",
    "        self.series.append(new_value)\n",
    "        total = sum(self.series)\n",
    "        return f\"The average value of {self.series} is {total / len(self.series)}\""
   ]
  },
  {
   "cell_type": "code",
   "execution_count": 5,
   "id": "78559044-f23e-481b-9a17-466140fd494d",
   "metadata": {},
   "outputs": [
    {
     "data": {
      "text/plain": [
       "'The average value of [10] is 10.0'"
      ]
     },
     "execution_count": 5,
     "metadata": {},
     "output_type": "execute_result"
    }
   ],
   "source": [
    "avg = Averager()\n",
    "\n",
    "avg(10)"
   ]
  },
  {
   "cell_type": "code",
   "execution_count": 6,
   "id": "13a48417-578d-4c8a-8dd8-c2bbbc2fb5d4",
   "metadata": {},
   "outputs": [
    {
     "data": {
      "text/plain": [
       "'The average value of [10, 11] is 10.5'"
      ]
     },
     "execution_count": 6,
     "metadata": {},
     "output_type": "execute_result"
    }
   ],
   "source": [
    "avg(11)"
   ]
  },
  {
   "cell_type": "code",
   "execution_count": 7,
   "id": "017e72be-c1b4-4cbe-b4c4-4882c3e7dc93",
   "metadata": {},
   "outputs": [
    {
     "data": {
      "text/plain": [
       "'The average value of [10, 11, 12] is 11.0'"
      ]
     },
     "execution_count": 7,
     "metadata": {},
     "output_type": "execute_result"
    }
   ],
   "source": [
    "avg(12)"
   ]
  },
  {
   "cell_type": "markdown",
   "id": "5977744e-8a8a-42ce-a3f1-0331d5617e53",
   "metadata": {},
   "source": [
    "Realization using the higher-order function `make_averager`"
   ]
  },
  {
   "cell_type": "code",
   "execution_count": 8,
   "id": "674f30eb-f4ca-405d-a214-93a8844a71a3",
   "metadata": {},
   "outputs": [],
   "source": [
    "def make_averager():\n",
    "    series = []\n",
    "\n",
    "    # averager closure extends the scope of the functionto include\n",
    "    # the binding of free variable series\n",
    "    def averager(new_value):\n",
    "        series.append(new_value)\n",
    "        total = sum(series)\n",
    "        return f\"The average value of {series} is {total / len(series)}\"\n",
    "\n",
    "    return averager"
   ]
  },
  {
   "cell_type": "code",
   "execution_count": 9,
   "id": "4ff826eb-07a2-4e56-8880-e4b12c58aeed",
   "metadata": {},
   "outputs": [
    {
     "data": {
      "text/plain": [
       "'The average value of [10] is 10.0'"
      ]
     },
     "execution_count": 9,
     "metadata": {},
     "output_type": "execute_result"
    }
   ],
   "source": [
    "avg = make_averager()\n",
    "\n",
    "avg(10)"
   ]
  },
  {
   "cell_type": "code",
   "execution_count": 10,
   "id": "aeed8561-3a60-4a84-8be3-b7a05137271c",
   "metadata": {},
   "outputs": [
    {
     "data": {
      "text/plain": [
       "'The average value of [10, 11] is 10.5'"
      ]
     },
     "execution_count": 10,
     "metadata": {},
     "output_type": "execute_result"
    }
   ],
   "source": [
    "avg(11)"
   ]
  },
  {
   "cell_type": "code",
   "execution_count": 11,
   "id": "b0ea5a5d-8ac3-4d1c-af85-eb5a637c9aa2",
   "metadata": {},
   "outputs": [
    {
     "data": {
      "text/plain": [
       "'The average value of [10, 11, 12] is 11.0'"
      ]
     },
     "execution_count": 11,
     "metadata": {},
     "output_type": "execute_result"
    }
   ],
   "source": [
    "avg(12)"
   ]
  },
  {
   "cell_type": "markdown",
   "id": "45dca6b7-ad14-45c4-823b-7b378c1edc82",
   "metadata": {},
   "source": [
    "Inspection of the function created by the `make_averager()` function"
   ]
  },
  {
   "cell_type": "code",
   "execution_count": 12,
   "id": "94b08e3d-f653-45ba-9e3e-5bd4acb85edc",
   "metadata": {},
   "outputs": [
    {
     "data": {
      "text/plain": [
       "('new_value', 'total')"
      ]
     },
     "execution_count": 12,
     "metadata": {},
     "output_type": "execute_result"
    }
   ],
   "source": [
    "# Retrieve the variable names\n",
    "avg.__code__.co_varnames"
   ]
  },
  {
   "cell_type": "code",
   "execution_count": 13,
   "id": "97f3b5fa-6ea7-4c75-8ff7-67d417109b2b",
   "metadata": {},
   "outputs": [
    {
     "data": {
      "text/plain": [
       "('series',)"
      ]
     },
     "execution_count": 13,
     "metadata": {},
     "output_type": "execute_result"
    }
   ],
   "source": [
    "# Retrieve the free variable names\n",
    "avg.__code__.co_freevars"
   ]
  },
  {
   "cell_type": "code",
   "execution_count": 14,
   "id": "8dc0821b-e74c-4826-9427-62cf487a3be8",
   "metadata": {},
   "outputs": [
    {
     "data": {
      "text/plain": [
       "(<cell at 0x112557100: list object at 0x1124d48c0>,)"
      ]
     },
     "execution_count": 14,
     "metadata": {},
     "output_type": "execute_result"
    }
   ],
   "source": [
    "# Retrieve the closure\n",
    "avg.__closure__"
   ]
  },
  {
   "cell_type": "markdown",
   "id": "0615eb35-d0ef-47fb-a5b2-d638eee63caa",
   "metadata": {},
   "source": [
    "<h2><code>nonlocal</code> Announcement</h2>"
   ]
  },
  {
   "cell_type": "markdown",
   "id": "049d6006-cb29-4ffb-a19f-7820217a2ed9",
   "metadata": {},
   "source": [
    "`nonlocal` is a keyword in Python used within nested functions to indicate that a variable is not local to the innermost function's scope but is in an enclosing (non-global) scope. It allows you to modify variables in the enclosing scope from within the nested function."
   ]
  },
  {
   "cell_type": "markdown",
   "id": "532685bd-f5c6-4756-ac72-a1ebba6a0062",
   "metadata": {},
   "source": [
    "Calculating the cumulative average without storing the entire history"
   ]
  },
  {
   "cell_type": "code",
   "execution_count": 15,
   "id": "27e56d74-8e87-497e-837e-b89cb74dd60c",
   "metadata": {},
   "outputs": [],
   "source": [
    "def make_averager():\n",
    "    count = 0\n",
    "    total = 0\n",
    "\n",
    "    def averager(new_value):\n",
    "        nonlocal count, total\n",
    "        count += 1\n",
    "        total += new_value\n",
    "        return f\"The average value of {total} is {total / count}.\"\n",
    "\n",
    "    return averager"
   ]
  },
  {
   "cell_type": "code",
   "execution_count": 16,
   "id": "ee64135b-720a-47d1-b287-65433d540aed",
   "metadata": {},
   "outputs": [
    {
     "data": {
      "text/plain": [
       "'The average value of 10 is 10.0.'"
      ]
     },
     "execution_count": 16,
     "metadata": {},
     "output_type": "execute_result"
    }
   ],
   "source": [
    "avg = make_averager()\n",
    "\n",
    "avg(10)"
   ]
  },
  {
   "cell_type": "code",
   "execution_count": 17,
   "id": "82ed1c90-9f12-4537-b23c-f191ad292742",
   "metadata": {},
   "outputs": [
    {
     "data": {
      "text/plain": [
       "'The average value of 21 is 10.5.'"
      ]
     },
     "execution_count": 17,
     "metadata": {},
     "output_type": "execute_result"
    }
   ],
   "source": [
    "avg(11)"
   ]
  },
  {
   "cell_type": "code",
   "execution_count": 18,
   "id": "2897813e-3546-4e9e-8f90-8d5f978d51a6",
   "metadata": {},
   "outputs": [
    {
     "data": {
      "text/plain": [
       "'The average value of 33 is 11.0.'"
      ]
     },
     "execution_count": 18,
     "metadata": {},
     "output_type": "execute_result"
    }
   ],
   "source": [
    "avg(12)"
   ]
  },
  {
   "cell_type": "code",
   "execution_count": null,
   "id": "c1c9b3ea-c03e-4864-8fb2-5afd3b59ac1e",
   "metadata": {},
   "outputs": [],
   "source": []
  }
 ],
 "metadata": {
  "kernelspec": {
   "display_name": "Python 3 (ipykernel)",
   "language": "python",
   "name": "python3"
  },
  "language_info": {
   "codemirror_mode": {
    "name": "ipython",
    "version": 3
   },
   "file_extension": ".py",
   "mimetype": "text/x-python",
   "name": "python",
   "nbconvert_exporter": "python",
   "pygments_lexer": "ipython3",
   "version": "3.12.1"
  }
 },
 "nbformat": 4,
 "nbformat_minor": 5
}
