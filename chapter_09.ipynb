{
 "cells": [
  {
   "cell_type": "markdown",
   "id": "e1cc3ea2-8c14-4d08-8815-06519b8611a9",
   "metadata": {},
   "source": [
    "<h1>Chapter 09. Decorators and Closures.</h1>"
   ]
  },
  {
   "cell_type": "markdown",
   "id": "03571a57-ff6d-4b6b-9149-147da83854e3",
   "metadata": {},
   "source": [
    "A Decorator is a callable object that accepts another function as an argument (the function to be decorated).\n",
    "A Decorator can perform some operations on a function and returns either the function itself or another substitute function or called object.\n",
    "Decorators are a powerful feature that allows you to modify or extend the behavior of functions or methods without directly modifying their code. They are typically used to add functionality such as logging, caching, or authentication to functions in a modular and reusable way. "
   ]
  },
  {
   "cell_type": "code",
   "execution_count": 1,
   "id": "a353b067-7834-4138-832d-3c21c6f4cbaf",
   "metadata": {},
   "outputs": [
    {
     "name": "stdout",
     "output_type": "stream",
     "text": [
      "Running inner() function\n"
     ]
    }
   ],
   "source": [
    "def deco(func):\n",
    "    def inner():\n",
    "        print('Running inner() function')\n",
    "    return inner  # deco() returns its inner() function object\n",
    "\n",
    "@deco\n",
    "def target():  # function decorated deco()\n",
    "    ptint('Running target() function')\n",
    "\n",
    "# Calling the decorated target() function actually executes inner()\n",
    "target()"
   ]
  },
  {
   "cell_type": "markdown",
   "id": "28459c71-7efc-440e-9e36-ae9c231e0986",
   "metadata": {},
   "source": [
    "Inspection shows that `target()` now refers to `inner()`"
   ]
  },
  {
   "cell_type": "code",
   "execution_count": 2,
   "id": "a7ca34ef-50ef-4389-8764-da2f3158b452",
   "metadata": {},
   "outputs": [
    {
     "data": {
      "text/plain": [
       "<function __main__.deco.<locals>.inner()>"
      ]
     },
     "execution_count": 2,
     "metadata": {},
     "output_type": "execute_result"
    }
   ],
   "source": [
    "target"
   ]
  },
  {
   "cell_type": "markdown",
   "id": "b18b8a1c-42b5-48e1-a240-43c5bd4bdd4b",
   "metadata": {},
   "source": [
    "<h2>When Python executes Decorators</h2>"
   ]
  },
  {
   "cell_type": "markdown",
   "id": "caf12b48-06fb-45b4-8bd2-20c60fc98519",
   "metadata": {},
   "source": [
    "The main feature of decorators is that they are perfomed as soon as the decorated function is defined. "
   ]
  },
  {
   "cell_type": "code",
   "execution_count": 3,
   "id": "d7761158-503a-4561-84c1-32b2cc42018a",
   "metadata": {},
   "outputs": [
    {
     "name": "stdout",
     "output_type": "stream",
     "text": [
      "Running register(<function f1 at 0x10928e480>)\n",
      "Running register(<function f2 at 0x107846520>)\n",
      "Registry -> [<function f1 at 0x10928e480>, <function f2 at 0x107846520>]\n",
      "Running f1()\n",
      "Running f2()\n",
      "Running f3()\n"
     ]
    }
   ],
   "source": [
    "# Store references to functions decorated with @register\n",
    "registry = []\n",
    "\n",
    "def register(func):\n",
    "    print(f\"Running register({func})\")  # print which function is being decorated\n",
    "    registry.append(func)  # add func to registry\n",
    "    return func\n",
    "\n",
    "@register\n",
    "def f1():\n",
    "    print('Running f1()')\n",
    "\n",
    "@register\n",
    "def f2():\n",
    "    print('Running f2()')\n",
    "\n",
    "def f3():\n",
    "    print('Running f3()')\n",
    "\n",
    "\n",
    "print(f\"Registry -> {registry}\")\n",
    "f1()\n",
    "f2()\n",
    "f3()"
   ]
  },
  {
   "cell_type": "code",
   "execution_count": null,
   "id": "9e0c978a-7530-4ebc-8545-ffaeb0add80a",
   "metadata": {},
   "outputs": [],
   "source": []
  }
 ],
 "metadata": {
  "kernelspec": {
   "display_name": "Python 3 (ipykernel)",
   "language": "python",
   "name": "python3"
  },
  "language_info": {
   "codemirror_mode": {
    "name": "ipython",
    "version": 3
   },
   "file_extension": ".py",
   "mimetype": "text/x-python",
   "name": "python",
   "nbconvert_exporter": "python",
   "pygments_lexer": "ipython3",
   "version": "3.12.1"
  }
 },
 "nbformat": 4,
 "nbformat_minor": 5
}
