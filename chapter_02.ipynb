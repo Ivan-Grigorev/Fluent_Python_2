{
 "cells": [
  {
   "cell_type": "markdown",
   "id": "69180627-3307-44ea-8e59-f024a7ba4a1e",
   "metadata": {},
   "source": [
    "<h1>Chapter 02. An Array  Sequences.</h1>"
   ]
  },
  {
   "cell_type": "markdown",
   "id": "e1c1979c-79ae-4d46-9ea6-ec84bec2172a",
   "metadata": {},
   "source": [
    "<h2>List Comprehensions and Generator Expressions</h2>"
   ]
  },
  {
   "cell_type": "markdown",
   "id": "3ba8d895-523a-42b6-8e1a-ea0fa0308a50",
   "metadata": {},
   "source": [
    "Build a list of Unicode codepoints from a string"
   ]
  },
  {
   "cell_type": "code",
   "execution_count": 1,
   "id": "2ffc6ebe-abbe-428e-b854-8052c118e6ca",
   "metadata": {},
   "outputs": [
    {
     "data": {
      "text/plain": [
       "[36, 162, 163, 165, 8364, 164]"
      ]
     },
     "execution_count": 1,
     "metadata": {},
     "output_type": "execute_result"
    }
   ],
   "source": [
    "symbols = '$¢£¥€¤'\n",
    "codes = []\n",
    "\n",
    "for symbol in symbols:\n",
    "    codes.append(ord(symbol))\n",
    "\n",
    "codes"
   ]
  },
  {
   "cell_type": "markdown",
   "id": "5fe92b83-beac-4aad-aea0-9592b7302012",
   "metadata": {},
   "source": [
    "Build a list of Unicodse codepoints from a string using list comprehension"
   ]
  },
  {
   "cell_type": "code",
   "execution_count": 2,
   "id": "3f1b3259-cdb9-4de6-b396-b2e6d533a4c9",
   "metadata": {},
   "outputs": [
    {
     "data": {
      "text/plain": [
       "[36, 162, 163, 165, 8364, 164]"
      ]
     },
     "execution_count": 2,
     "metadata": {},
     "output_type": "execute_result"
    }
   ],
   "source": [
    "symbols = '$¢£¥€¤'\n",
    "codes = [\n",
    "    ord(symbol) for symbol in symbols\n",
    "]\n",
    "\n",
    "codes"
   ]
  },
  {
   "cell_type": "markdown",
   "id": "0107cdbe-1605-4708-9e51-12fc41b2f8bd",
   "metadata": {},
   "source": [
    "The same list built by a listcomp and map/filter composition"
   ]
  },
  {
   "cell_type": "code",
   "execution_count": 3,
   "id": "a04c826b-0a0a-4494-9b33-81d80a4adacf",
   "metadata": {},
   "outputs": [
    {
     "data": {
      "text/plain": [
       "[162, 163, 165, 8364, 164]"
      ]
     },
     "execution_count": 3,
     "metadata": {},
     "output_type": "execute_result"
    }
   ],
   "source": [
    "symbols = '$¢£¥€¤'\n",
    "beyond_ascii = [\n",
    "    ord(s) for s in symbols if ord(s) > 127\n",
    "]\n",
    "\n",
    "beyond_ascii"
   ]
  },
  {
   "cell_type": "code",
   "execution_count": 4,
   "id": "c0af503b-16e6-4d06-85e9-bccf1b5fff0a",
   "metadata": {},
   "outputs": [
    {
     "data": {
      "text/plain": [
       "[162, 163, 165, 8364, 164]"
      ]
     },
     "execution_count": 4,
     "metadata": {},
     "output_type": "execute_result"
    }
   ],
   "source": [
    "symbols = '$¢£¥€¤'\n",
    "beyond_ascii = list(filter(lambda c: c > 127, map(ord, symbols)))\n",
    "\n",
    "beyond_ascii"
   ]
  },
  {
   "cell_type": "markdown",
   "id": "34658c43-a8f4-4992-80a2-e3bc4bbf6bec",
   "metadata": {},
   "source": [
    "Cartesian product usin a list comprehension"
   ]
  },
  {
   "cell_type": "code",
   "execution_count": 5,
   "id": "fb2c3467-5304-45f3-8921-04596c5f9793",
   "metadata": {},
   "outputs": [
    {
     "data": {
      "text/plain": [
       "[('black', 'S'),\n",
       " ('black', 'M'),\n",
       " ('black', 'L'),\n",
       " ('white', 'S'),\n",
       " ('white', 'M'),\n",
       " ('white', 'L')]"
      ]
     },
     "execution_count": 5,
     "metadata": {},
     "output_type": "execute_result"
    }
   ],
   "source": [
    "colors = ['black', 'white']\n",
    "sizes = ['S', 'M', 'L']\n",
    "\n",
    "tshirts = [\n",
    "    (color, size) for color in colors\n",
    "    for size in sizes\n",
    "]\n",
    "\n",
    "tshirts"
   ]
  },
  {
   "cell_type": "code",
   "execution_count": 6,
   "id": "405283c5-a555-4494-bf22-d65c71a9a0b1",
   "metadata": {},
   "outputs": [
    {
     "name": "stdout",
     "output_type": "stream",
     "text": [
      "('black', 'S')\n",
      "('black', 'M')\n",
      "('black', 'L')\n",
      "('white', 'S')\n",
      "('white', 'M')\n",
      "('white', 'L')\n"
     ]
    }
   ],
   "source": [
    "for color in colors:\n",
    "    for size in sizes:\n",
    "        print((color, size))"
   ]
  },
  {
   "cell_type": "code",
   "execution_count": 7,
   "id": "bca92cc1-f49a-4264-93e9-7f1b9f07d82e",
   "metadata": {},
   "outputs": [
    {
     "data": {
      "text/plain": [
       "[('black', 'S'),\n",
       " ('white', 'S'),\n",
       " ('black', 'M'),\n",
       " ('white', 'M'),\n",
       " ('black', 'L'),\n",
       " ('white', 'L')]"
      ]
     },
     "execution_count": 7,
     "metadata": {},
     "output_type": "execute_result"
    }
   ],
   "source": [
    "tshirts = [\n",
    "    (color, size) for size in sizes\n",
    "    for color in colors\n",
    "]\n",
    "\n",
    "tshirts"
   ]
  },
  {
   "cell_type": "markdown",
   "id": "d22096ba-d0c9-45b9-934e-42d152790d48",
   "metadata": {},
   "source": [
    "Initializing a tuple and an array from a generator expression"
   ]
  },
  {
   "cell_type": "code",
   "execution_count": 8,
   "id": "47699e2d-d9af-46dc-a146-cfdfc8b667a3",
   "metadata": {},
   "outputs": [
    {
     "data": {
      "text/plain": [
       "(36, 162, 163, 165, 8364, 164)"
      ]
     },
     "execution_count": 8,
     "metadata": {},
     "output_type": "execute_result"
    }
   ],
   "source": [
    "symbols = '$¢£¥€¤'\n",
    "tuple(ord(symbol) for symbol in symbols)"
   ]
  },
  {
   "cell_type": "code",
   "execution_count": 10,
   "id": "5cbd686c-5f01-4d90-be17-17df543ca8ba",
   "metadata": {},
   "outputs": [
    {
     "data": {
      "text/plain": [
       "array('I', [36, 162, 163, 165, 8364, 164])"
      ]
     },
     "execution_count": 10,
     "metadata": {},
     "output_type": "execute_result"
    }
   ],
   "source": [
    "import array\n",
    "\n",
    "\n",
    "array.array('I', (ord(symbol) for symbol in symbols))"
   ]
  },
  {
   "cell_type": "markdown",
   "id": "811ba25d-3444-4628-9a71-f1407e5678af",
   "metadata": {},
   "source": [
    "Cartesian product in a generator expression"
   ]
  },
  {
   "cell_type": "code",
   "execution_count": 12,
   "id": "7564c0ce-9be8-44bb-8d5c-2dd82e879552",
   "metadata": {},
   "outputs": [
    {
     "name": "stdout",
     "output_type": "stream",
     "text": [
      "black S\n",
      "black M\n",
      "black L\n",
      "white S\n",
      "white M\n",
      "white L\n"
     ]
    }
   ],
   "source": [
    "colors = ['black', 'white']\n",
    "sizes = ['S', 'M', 'L']\n",
    "\n",
    "for tshirt in (f'{c} {s}' for c in colors for s in sizes):\n",
    "    print(tshirt)"
   ]
  },
  {
   "cell_type": "code",
   "execution_count": null,
   "id": "64c550f3-4442-4786-a033-9836b1cfe09e",
   "metadata": {},
   "outputs": [],
   "source": []
  }
 ],
 "metadata": {
  "kernelspec": {
   "display_name": "Python 3 (ipykernel)",
   "language": "python",
   "name": "python3"
  },
  "language_info": {
   "codemirror_mode": {
    "name": "ipython",
    "version": 3
   },
   "file_extension": ".py",
   "mimetype": "text/x-python",
   "name": "python",
   "nbconvert_exporter": "python",
   "pygments_lexer": "ipython3",
   "version": "3.12.0"
  }
 },
 "nbformat": 4,
 "nbformat_minor": 5
}
