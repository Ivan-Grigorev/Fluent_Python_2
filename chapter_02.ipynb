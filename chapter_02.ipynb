{
 "cells": [
  {
   "cell_type": "code",
   "execution_count": null,
   "id": "59ccb94b-b438-4a1a-933b-53c9728d19ef",
   "metadata": {},
   "outputs": [],
   "source": [
    "<h1>Chapter 02. An Array  Sequences.</h1>"
   ]
  },
  {
   "cell_type": "code",
   "execution_count": null,
   "id": "b15c68af-e1d1-4202-b1a4-4df1b585b385",
   "metadata": {},
   "outputs": [],
   "source": []
  }
 ],
 "metadata": {
  "kernelspec": {
   "display_name": "Python 3 (ipykernel)",
   "language": "python",
   "name": "python3"
  },
  "language_info": {
   "codemirror_mode": {
    "name": "ipython",
    "version": 3
   },
   "file_extension": ".py",
   "mimetype": "text/x-python",
   "name": "python",
   "nbconvert_exporter": "python",
   "pygments_lexer": "ipython3",
   "version": "3.11.6"
  }
 },
 "nbformat": 4,
 "nbformat_minor": 5
}
