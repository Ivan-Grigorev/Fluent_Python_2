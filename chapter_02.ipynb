{
 "cells": [
  {
   "cell_type": "markdown",
   "id": "69180627-3307-44ea-8e59-f024a7ba4a1e",
   "metadata": {},
   "source": [
    "<h1>Chapter 02. An Array  Sequences.</h1>"
   ]
  },
  {
   "cell_type": "markdown",
   "id": "e1c1979c-79ae-4d46-9ea6-ec84bec2172a",
   "metadata": {},
   "source": [
    "<h2>List Comprehensions and Generator Expressions</h2>"
   ]
  },
  {
   "cell_type": "markdown",
   "id": "3ba8d895-523a-42b6-8e1a-ea0fa0308a50",
   "metadata": {},
   "source": [
    "Build a list of Unicode codepoints from a string"
   ]
  },
  {
   "cell_type": "code",
   "execution_count": 1,
   "id": "2ffc6ebe-abbe-428e-b854-8052c118e6ca",
   "metadata": {},
   "outputs": [
    {
     "data": {
      "text/plain": [
       "[36, 162, 163, 165, 8364, 164]"
      ]
     },
     "execution_count": 1,
     "metadata": {},
     "output_type": "execute_result"
    }
   ],
   "source": [
    "symbols = '$¢£¥€¤'\n",
    "codes = []\n",
    "\n",
    "for symbol in symbols:\n",
    "    codes.append(ord(symbol))\n",
    "\n",
    "codes"
   ]
  },
  {
   "cell_type": "markdown",
   "id": "5fe92b83-beac-4aad-aea0-9592b7302012",
   "metadata": {},
   "source": [
    "Build a list of Unicodse codepoints from a string using list comprehension"
   ]
  },
  {
   "cell_type": "code",
   "execution_count": 2,
   "id": "3f1b3259-cdb9-4de6-b396-b2e6d533a4c9",
   "metadata": {},
   "outputs": [
    {
     "data": {
      "text/plain": [
       "[36, 162, 163, 165, 8364, 164]"
      ]
     },
     "execution_count": 2,
     "metadata": {},
     "output_type": "execute_result"
    }
   ],
   "source": [
    "symbols = '$¢£¥€¤'\n",
    "codes = [\n",
    "    ord(symbol) for symbol in symbols\n",
    "]\n",
    "\n",
    "codes"
   ]
  },
  {
   "cell_type": "markdown",
   "id": "0107cdbe-1605-4708-9e51-12fc41b2f8bd",
   "metadata": {},
   "source": [
    "The same list built by a listcomp and map/filter composition"
   ]
  },
  {
   "cell_type": "code",
   "execution_count": 3,
   "id": "a04c826b-0a0a-4494-9b33-81d80a4adacf",
   "metadata": {},
   "outputs": [
    {
     "data": {
      "text/plain": [
       "[162, 163, 165, 8364, 164]"
      ]
     },
     "execution_count": 3,
     "metadata": {},
     "output_type": "execute_result"
    }
   ],
   "source": [
    "symbols = '$¢£¥€¤'\n",
    "beyond_ascii = [\n",
    "    ord(s) for s in symbols if ord(s) > 127\n",
    "]\n",
    "\n",
    "beyond_ascii"
   ]
  },
  {
   "cell_type": "code",
   "execution_count": 4,
   "id": "c0af503b-16e6-4d06-85e9-bccf1b5fff0a",
   "metadata": {},
   "outputs": [
    {
     "data": {
      "text/plain": [
       "[162, 163, 165, 8364, 164]"
      ]
     },
     "execution_count": 4,
     "metadata": {},
     "output_type": "execute_result"
    }
   ],
   "source": [
    "symbols = '$¢£¥€¤'\n",
    "beyond_ascii = list(filter(lambda c: c > 127, map(ord, symbols)))\n",
    "\n",
    "beyond_ascii"
   ]
  },
  {
   "cell_type": "markdown",
   "id": "ac8be9ad-284b-4d61-a382-e62f5f00e105",
   "metadata": {},
   "source": [
    "Cartesian product using a list comprehension"
   ]
  },
  {
   "cell_type": "code",
   "execution_count": 5,
   "id": "fb2c3467-5304-45f3-8921-04596c5f9793",
   "metadata": {},
   "outputs": [
    {
     "data": {
      "text/plain": [
       "[('black', 'S'),\n",
       " ('black', 'M'),\n",
       " ('black', 'L'),\n",
       " ('white', 'S'),\n",
       " ('white', 'M'),\n",
       " ('white', 'L')]"
      ]
     },
     "execution_count": 5,
     "metadata": {},
     "output_type": "execute_result"
    }
   ],
   "source": [
    "colors = ['black', 'white']\n",
    "sizes = ['S', 'M', 'L']\n",
    "\n",
    "tshirts = [\n",
    "    (color, size) for color in colors\n",
    "    for size in sizes\n",
    "]\n",
    "\n",
    "tshirts"
   ]
  },
  {
   "cell_type": "code",
   "execution_count": 6,
   "id": "405283c5-a555-4494-bf22-d65c71a9a0b1",
   "metadata": {},
   "outputs": [
    {
     "name": "stdout",
     "output_type": "stream",
     "text": [
      "('black', 'S')\n",
      "('black', 'M')\n",
      "('black', 'L')\n",
      "('white', 'S')\n",
      "('white', 'M')\n",
      "('white', 'L')\n"
     ]
    }
   ],
   "source": [
    "for color in colors:\n",
    "    for size in sizes:\n",
    "        print((color, size))"
   ]
  },
  {
   "cell_type": "code",
   "execution_count": 7,
   "id": "bca92cc1-f49a-4264-93e9-7f1b9f07d82e",
   "metadata": {},
   "outputs": [
    {
     "data": {
      "text/plain": [
       "[('black', 'S'),\n",
       " ('white', 'S'),\n",
       " ('black', 'M'),\n",
       " ('white', 'M'),\n",
       " ('black', 'L'),\n",
       " ('white', 'L')]"
      ]
     },
     "execution_count": 7,
     "metadata": {},
     "output_type": "execute_result"
    }
   ],
   "source": [
    "tshirts = [\n",
    "    (color, size) for size in sizes\n",
    "    for color in colors\n",
    "]\n",
    "\n",
    "tshirts"
   ]
  },
  {
   "cell_type": "markdown",
   "id": "d22096ba-d0c9-45b9-934e-42d152790d48",
   "metadata": {},
   "source": [
    "Initializing a tuple and an array from a generator expression"
   ]
  },
  {
   "cell_type": "code",
   "execution_count": 8,
   "id": "47699e2d-d9af-46dc-a146-cfdfc8b667a3",
   "metadata": {},
   "outputs": [
    {
     "data": {
      "text/plain": [
       "(36, 162, 163, 165, 8364, 164)"
      ]
     },
     "execution_count": 8,
     "metadata": {},
     "output_type": "execute_result"
    }
   ],
   "source": [
    "symbols = '$¢£¥€¤'\n",
    "tuple(ord(symbol) for symbol in symbols)"
   ]
  },
  {
   "cell_type": "code",
   "execution_count": 9,
   "id": "5cbd686c-5f01-4d90-be17-17df543ca8ba",
   "metadata": {},
   "outputs": [
    {
     "data": {
      "text/plain": [
       "array('I', [36, 162, 163, 165, 8364, 164])"
      ]
     },
     "execution_count": 9,
     "metadata": {},
     "output_type": "execute_result"
    }
   ],
   "source": [
    "import array\n",
    "\n",
    "\n",
    "array.array('I', (ord(symbol) for symbol in symbols))"
   ]
  },
  {
   "cell_type": "markdown",
   "id": "811ba25d-3444-4628-9a71-f1407e5678af",
   "metadata": {},
   "source": [
    "Cartesian product in a generator expression"
   ]
  },
  {
   "cell_type": "code",
   "execution_count": 10,
   "id": "7564c0ce-9be8-44bb-8d5c-2dd82e879552",
   "metadata": {},
   "outputs": [
    {
     "name": "stdout",
     "output_type": "stream",
     "text": [
      "black S\n",
      "black M\n",
      "black L\n",
      "white S\n",
      "white M\n",
      "white L\n"
     ]
    }
   ],
   "source": [
    "colors = ['black', 'white']\n",
    "sizes = ['S', 'M', 'L']\n",
    "\n",
    "for tshirt in (f'{c} {s}' for c in colors for s in sizes):\n",
    "    print(tshirt)"
   ]
  },
  {
   "cell_type": "markdown",
   "id": "e529f9f6-9a0a-44d0-b905-626d6c51539e",
   "metadata": {},
   "source": [
    "<h2>Tuples are not only Immutable Lists</h2>"
   ]
  },
  {
   "cell_type": "markdown",
   "id": "fe26af77-70ed-4992-b96d-800956f049eb",
   "metadata": {},
   "source": [
    "Tuples used as records"
   ]
  },
  {
   "cell_type": "code",
   "execution_count": 11,
   "id": "19fb0e11-287f-4e9f-9715-1216b112511e",
   "metadata": {},
   "outputs": [
    {
     "name": "stdout",
     "output_type": "stream",
     "text": [
      "BRA/CE342567\n",
      "ESP/XDA205856\n",
      "USA/31195855\n"
     ]
    }
   ],
   "source": [
    "lax_coordinates = (33.9425, -118.408056)\n",
    "city, year, pop, chg, area = ('Tokyo', 2003, 32_450, 0.66, 8014)\n",
    "traveler_ids = [\n",
    "    ('USA', '31195855'),\n",
    "    ('BRA', 'CE342567'),\n",
    "    ('ESP', 'XDA205856')\n",
    "]\n",
    "\n",
    "for passport in sorted(traveler_ids):\n",
    "    print('%s/%s' % passport)"
   ]
  },
  {
   "cell_type": "code",
   "execution_count": 12,
   "id": "08d5a028-cfb7-476b-8588-05cd231632a6",
   "metadata": {},
   "outputs": [
    {
     "name": "stdout",
     "output_type": "stream",
     "text": [
      "USA\n",
      "BRA\n",
      "ESP\n"
     ]
    }
   ],
   "source": [
    "for country, _ in traveler_ids:\n",
    "    print(country)"
   ]
  },
  {
   "cell_type": "markdown",
   "id": "4687b2ab-3aae-4844-9a6f-834509d23e54",
   "metadata": {},
   "source": [
    "Tuples as Immutable Lists"
   ]
  },
  {
   "cell_type": "code",
   "execution_count": 13,
   "id": "8e03d07a-3f1d-4c53-b437-a349ef3d00e5",
   "metadata": {},
   "outputs": [
    {
     "data": {
      "text/plain": [
       "True"
      ]
     },
     "execution_count": 13,
     "metadata": {},
     "output_type": "execute_result"
    }
   ],
   "source": [
    "a = (10, 'alpha', [1, 2])\n",
    "b = (10, 'alpha', [1, 2])\n",
    "a == b"
   ]
  },
  {
   "cell_type": "code",
   "execution_count": 14,
   "id": "30489a30-4740-456e-8711-e6cc896a9fa0",
   "metadata": {},
   "outputs": [
    {
     "data": {
      "text/plain": [
       "False"
      ]
     },
     "execution_count": 14,
     "metadata": {},
     "output_type": "execute_result"
    }
   ],
   "source": [
    "b[-1].append(99)\n",
    "a == b"
   ]
  },
  {
   "cell_type": "code",
   "execution_count": 15,
   "id": "2625f7f5-c5e2-445f-b77a-6ef0e2913934",
   "metadata": {},
   "outputs": [
    {
     "data": {
      "text/plain": [
       "(10, 'alpha', [1, 2, 99])"
      ]
     },
     "execution_count": 15,
     "metadata": {},
     "output_type": "execute_result"
    }
   ],
   "source": [
    "b"
   ]
  },
  {
   "cell_type": "code",
   "execution_count": 16,
   "id": "18cf7b45-bbc6-4a14-98cd-e8e9b15e1930",
   "metadata": {},
   "outputs": [
    {
     "data": {
      "text/plain": [
       "True"
      ]
     },
     "execution_count": 16,
     "metadata": {},
     "output_type": "execute_result"
    }
   ],
   "source": [
    "def fixed(o):\n",
    "    try:\n",
    "        hash(o)\n",
    "    except TypeError:\n",
    "        return False\n",
    "    return True\n",
    "\n",
    "tf = (10, 'alpha', (1, 2))  # contains no mutable items\n",
    "tm = (10, 'alpha', [1, 2])  # contains a mutable items (list)\n",
    "fixed(tf)"
   ]
  },
  {
   "cell_type": "code",
   "execution_count": 17,
   "id": "778d2306-cb84-4230-89b7-4195298a7c29",
   "metadata": {},
   "outputs": [
    {
     "data": {
      "text/plain": [
       "False"
      ]
     },
     "execution_count": 17,
     "metadata": {},
     "output_type": "execute_result"
    }
   ],
   "source": [
    "fixed(tm)"
   ]
  },
  {
   "cell_type": "markdown",
   "id": "ad1280ee-2abb-48c9-a3cd-9d420123b075",
   "metadata": {},
   "source": [
    "<h2>Unpacking Sequences and Iterables</h2>"
   ]
  },
  {
   "cell_type": "code",
   "execution_count": 18,
   "id": "83ab3e62-fee2-4c89-81f8-e48caa1fc0cb",
   "metadata": {},
   "outputs": [],
   "source": [
    "lax_coordinates = (33.9425, -118.408056)\n",
    "latitude, longitude = lax_coordinates  # unpacking"
   ]
  },
  {
   "cell_type": "code",
   "execution_count": 19,
   "id": "cb5300c2-142e-4cd8-9afc-f3b2077cbfbd",
   "metadata": {},
   "outputs": [
    {
     "data": {
      "text/plain": [
       "33.9425"
      ]
     },
     "execution_count": 19,
     "metadata": {},
     "output_type": "execute_result"
    }
   ],
   "source": [
    "latitude"
   ]
  },
  {
   "cell_type": "code",
   "execution_count": 20,
   "id": "21e397dc-6b54-4126-800e-844401f35741",
   "metadata": {},
   "outputs": [
    {
     "data": {
      "text/plain": [
       "-118.408056"
      ]
     },
     "execution_count": 20,
     "metadata": {},
     "output_type": "execute_result"
    }
   ],
   "source": [
    "longitude"
   ]
  },
  {
   "cell_type": "code",
   "execution_count": 21,
   "id": "c33cbc08-2c28-4466-bd1f-ab45d27c183c",
   "metadata": {},
   "outputs": [
    {
     "data": {
      "text/plain": [
       "(2, 4)"
      ]
     },
     "execution_count": 21,
     "metadata": {},
     "output_type": "execute_result"
    }
   ],
   "source": [
    "divmod(20, 8)"
   ]
  },
  {
   "cell_type": "code",
   "execution_count": 22,
   "id": "549f1c3a-4361-447b-98d7-c530f15f5d03",
   "metadata": {},
   "outputs": [
    {
     "data": {
      "text/plain": [
       "(2, 4)"
      ]
     },
     "execution_count": 22,
     "metadata": {},
     "output_type": "execute_result"
    }
   ],
   "source": [
    "t = (20, 8)\n",
    "divmod(*t)"
   ]
  },
  {
   "cell_type": "code",
   "execution_count": 23,
   "id": "9c9b9468-51b2-41b5-85bd-8036440e7fec",
   "metadata": {},
   "outputs": [
    {
     "data": {
      "text/plain": [
       "(2, 4)"
      ]
     },
     "execution_count": 23,
     "metadata": {},
     "output_type": "execute_result"
    }
   ],
   "source": [
    "quotient, reminder = divmod(*t)\n",
    "quotient, reminder"
   ]
  },
  {
   "cell_type": "markdown",
   "id": "37edeb62-de93-4bfd-8d80-422f924dfc4e",
   "metadata": {},
   "source": [
    "<h3>Using <code>*</code> to grab excess items</h3>"
   ]
  },
  {
   "cell_type": "code",
   "execution_count": 24,
   "id": "d97a3808-0f67-474e-a04a-7656b35279f8",
   "metadata": {},
   "outputs": [
    {
     "data": {
      "text/plain": [
       "(0, 1, [2, 3, 4])"
      ]
     },
     "execution_count": 24,
     "metadata": {},
     "output_type": "execute_result"
    }
   ],
   "source": [
    "a, b, *rest = range(5)\n",
    "a, b, rest"
   ]
  },
  {
   "cell_type": "code",
   "execution_count": 25,
   "id": "5b5c62e7-1c8d-440c-84e4-5a4aac616171",
   "metadata": {},
   "outputs": [
    {
     "data": {
      "text/plain": [
       "(0, 1, [2])"
      ]
     },
     "execution_count": 25,
     "metadata": {},
     "output_type": "execute_result"
    }
   ],
   "source": [
    "a, b, *rest = range(3)\n",
    "a, b, rest"
   ]
  },
  {
   "cell_type": "code",
   "execution_count": 26,
   "id": "4547613a-18f1-4850-bc6a-9d314c1a9755",
   "metadata": {},
   "outputs": [
    {
     "data": {
      "text/plain": [
       "(0, 1, [])"
      ]
     },
     "execution_count": 26,
     "metadata": {},
     "output_type": "execute_result"
    }
   ],
   "source": [
    "a, b, *rest = range(2)\n",
    "a, b, rest"
   ]
  },
  {
   "cell_type": "code",
   "execution_count": 27,
   "id": "0a7b6c51-4d06-43b5-b317-d3c35da102e2",
   "metadata": {},
   "outputs": [
    {
     "data": {
      "text/plain": [
       "(0, [1, 2], 3, 4)"
      ]
     },
     "execution_count": 27,
     "metadata": {},
     "output_type": "execute_result"
    }
   ],
   "source": [
    "a, *body, c, d = range(5)\n",
    "a, body, c, d"
   ]
  },
  {
   "cell_type": "code",
   "execution_count": 28,
   "id": "f01c3448-51e4-4ebe-b127-d9b8800b82c4",
   "metadata": {},
   "outputs": [
    {
     "data": {
      "text/plain": [
       "([0, 1], 2, 3, 4)"
      ]
     },
     "execution_count": 28,
     "metadata": {},
     "output_type": "execute_result"
    }
   ],
   "source": [
    "*head, b, c, d = range(5)\n",
    "head, b, c, d"
   ]
  },
  {
   "cell_type": "markdown",
   "id": "285106b4-bce8-4673-9991-823a83d1ad4b",
   "metadata": {},
   "source": [
    "<h3>Unpacking with <code>*</code> in function calls and sequence literals</h3>"
   ]
  },
  {
   "cell_type": "code",
   "execution_count": 29,
   "id": "7f53494c-e050-4f41-9c0e-20693dc050bd",
   "metadata": {},
   "outputs": [
    {
     "data": {
      "text/plain": [
       "(1, 2, 3, 4, (5, 6))"
      ]
     },
     "execution_count": 29,
     "metadata": {},
     "output_type": "execute_result"
    }
   ],
   "source": [
    "def fun(a, b, c, d, *rest):\n",
    "    return a, b, c, d, rest\n",
    "\n",
    "fun(*[1, 2], 3, *range(4, 7))"
   ]
  },
  {
   "cell_type": "code",
   "execution_count": 30,
   "id": "3787b7bc-55e2-4dbf-af3d-96405d6fc163",
   "metadata": {},
   "outputs": [
    {
     "data": {
      "text/plain": [
       "(0, 1, 2, 3, 4)"
      ]
     },
     "execution_count": 30,
     "metadata": {},
     "output_type": "execute_result"
    }
   ],
   "source": [
    "*range(4), 4"
   ]
  },
  {
   "cell_type": "code",
   "execution_count": 31,
   "id": "f4a9530c-2bd3-491c-a286-7c4e3e789311",
   "metadata": {},
   "outputs": [
    {
     "data": {
      "text/plain": [
       "[0, 1, 2, 3, 4]"
      ]
     },
     "execution_count": 31,
     "metadata": {},
     "output_type": "execute_result"
    }
   ],
   "source": [
    "[*range(4), 4]"
   ]
  },
  {
   "cell_type": "code",
   "execution_count": 32,
   "id": "161d3956-25f5-469d-873a-dacb85991d86",
   "metadata": {},
   "outputs": [
    {
     "data": {
      "text/plain": [
       "{0, 1, 2, 3, 4, 5, 6, 7}"
      ]
     },
     "execution_count": 32,
     "metadata": {},
     "output_type": "execute_result"
    }
   ],
   "source": [
    "{*range(4), 4, *(5, 6, 7)}"
   ]
  },
  {
   "cell_type": "markdown",
   "id": "55134179-8ad4-497c-9186-d2400538058e",
   "metadata": {},
   "source": [
    "<h3>Unpacking nested objects</h3>"
   ]
  },
  {
   "cell_type": "markdown",
   "id": "edb1b9d7-e097-41d1-bbd7-2d3d29e6dc3f",
   "metadata": {},
   "source": [
    "Unpacking nested tuples to access the longitude"
   ]
  },
  {
   "cell_type": "code",
   "execution_count": 33,
   "id": "669f64c0-36e9-4256-8092-f2642b7000e2",
   "metadata": {},
   "outputs": [
    {
     "name": "stdout",
     "output_type": "stream",
     "text": [
      "                |  latitude | longitude\n",
      "Mexico City     |   19.4333 |  -99.1333\n",
      "New York-Newark |   40.8086 |  -74.0204\n",
      "São Paulo       |  -23.5478 |  -46.6358\n"
     ]
    }
   ],
   "source": [
    "METRO_AREAS = [\n",
    "    ('Tokyo', 'JP', 36.933, (35.689722, 139.691667)),\n",
    "    ('Delhi NCR', 'IN', 21.935, (28.613889, 77.208889)),\n",
    "    ('Mexico City', 'MX', 20.142, (19.433333, -99.133333)),\n",
    "    ('New York-Newark', 'US', 20.104, (40.808611, -74.020386)),\n",
    "    ('São Paulo', 'BR', 19.649, (-23.547778, -46.635833))\n",
    "]\n",
    "\n",
    "\n",
    "def main():\n",
    "    print(f\"{'':15} | {'latitude':>9} | {'longitude':>9}\")\n",
    "    \n",
    "    for name, _, _, (lat, lon) in METRO_AREAS:\n",
    "        if lon <= 0:  # only megacities in the Western hemisphere\n",
    "            print(f\"{name:15} | {lat:9.4f} | {lon:9.4f}\")\n",
    "\n",
    "\n",
    "if __name__ == '__main__':\n",
    "    main()   "
   ]
  },
  {
   "cell_type": "markdown",
   "id": "7946b897-1b5d-4bae-96b2-d5a231ff30a2",
   "metadata": {},
   "source": [
    "<h2>Pattern matching with Sequences</h2>"
   ]
  },
  {
   "cell_type": "markdown",
   "id": "53c5ba87-45ec-4313-ae4b-685e3f574ff1",
   "metadata": {},
   "source": [
    "Method from an imaginary Robot class"
   ]
  },
  {
   "cell_type": "code",
   "execution_count": 34,
   "id": "5db22b40-5d3e-46f2-97fc-a4866150c99f",
   "metadata": {},
   "outputs": [],
   "source": [
    "# class Robot:\n",
    "\n",
    "#     def handle_command(self, message):\n",
    "#         match message:\n",
    "#             case ['BEEPER', frequency, times]:\n",
    "#                 self.beep(times, frequency)\n",
    "#             case ['NECK', angle]:\n",
    "#                 self.rotate_neck(angle)\n",
    "#             case ['LED', ident, intensity]:\n",
    "#                 self.leds[ident].set_brightness(ident, intensity)\n",
    "#             case ['LED', ident, red, green, blue]:\n",
    "#                 self.leds[ident].set_color(ident, red, green, blue)\n",
    "#             case _:\n",
    "#                 raise InvalidCommand(message)"
   ]
  },
  {
   "cell_type": "markdown",
   "id": "c749b592-c654-4b42-a28b-4ee4feabb470",
   "metadata": {},
   "source": [
    "Destructuring nested tuples (requires Python >= 3.10)"
   ]
  },
  {
   "cell_type": "code",
   "execution_count": 35,
   "id": "9c594bee-53e2-4393-8831-191e11affecb",
   "metadata": {},
   "outputs": [
    {
     "name": "stdout",
     "output_type": "stream",
     "text": [
      "                |  latitude | longitude\n",
      "Mexico City     |   19.4333 |  -99.1333\n",
      "New York-Newark |   40.8086 |  -74.0204\n",
      "São Paulo       |  -23.5478 |  -46.6358\n"
     ]
    }
   ],
   "source": [
    "METRO_AREAS = [\n",
    "    ('Tokyo', 'JP', 36.933, (35.689722, 139.691667)),\n",
    "    ('Delhi NCR', 'IN', 21.935, (28.613889, 77.208889)),\n",
    "    ('Mexico City', 'MX', 20.142, (19.433333, -99.133333)),\n",
    "    ('New York-Newark', 'US', 20.104, (40.808611, -74.020386)),\n",
    "    ('São Paulo', 'BR', 19.649, (-23.547778, -46.635833))\n",
    "]\n",
    "\n",
    "\n",
    "# using match/case\n",
    "def main():\n",
    "    print(f\"{'':15} | {'latitude':>9} | {'longitude':>9}\")\n",
    "\n",
    "    for record in METRO_AREAS:\n",
    "        match record:\n",
    "            case [name, _, _, (lat, lon)] if lon <= 0:\n",
    "                print(f\"{name:15} | {lat:9.4f} | {lon:9.4f}\")\n",
    "\n",
    "\n",
    "if __name__ == '__main__':\n",
    "    main()"
   ]
  },
  {
   "cell_type": "markdown",
   "id": "2ea01aa6-f87d-4270-bf56-8be553218b62",
   "metadata": {},
   "source": [
    "<h3>Pattern Matching Sequences in an Interpreter</h3>"
   ]
  },
  {
   "cell_type": "markdown",
   "id": "df1152d1-dddf-45f9-a252-cfbf6c15f2a4",
   "metadata": {},
   "source": [
    "Pattern matching with match/case"
   ]
  },
  {
   "cell_type": "code",
   "execution_count": 36,
   "id": "ebe155c6-33a7-4716-ae6b-dc49a14e42a7",
   "metadata": {},
   "outputs": [
    {
     "name": "stdout",
     "output_type": "stream",
     "text": [
      "Hello World!\n",
      "Args sum: 60\n",
      "Exiting the interpreter...\n",
      "Invalid or unsupported command\n"
     ]
    }
   ],
   "source": [
    "class Command:\n",
    "    def __init__(self, name, *args):\n",
    "        self.name = name\n",
    "        self.args = args\n",
    "\n",
    "def interpret_command(commands):\n",
    "    for cmd in commands:\n",
    "        match cmd:\n",
    "            case Command(name='print', args=args) if all(isinstance(arg, str) for arg in args):\n",
    "                print(' '.join(args) + '!')\n",
    "            case Command(name='sum', args=args) if all(isinstance(arg, int) for arg in args):\n",
    "                print(f\"Args sum: {sum(args)}\")\n",
    "            case Command(name='exit'):\n",
    "                print(\"Exiting the interpreter...\")\n",
    "            case _:\n",
    "                print(\"Invalid or unsupported command\")\n",
    "\n",
    "# Sample command sequences to interpret\n",
    "commands = [\n",
    "    Command('print', 'Hello', 'World'),\n",
    "    Command('sum', 10, 20, 30),\n",
    "    Command('exit'),\n",
    "    Command('unknown')\n",
    "]\n",
    "\n",
    "# Interpret each command\n",
    "interpret_command(commands)"
   ]
  },
  {
   "cell_type": "markdown",
   "id": "f9dcfbc8-9fa9-437f-bb7a-c165134dd517",
   "metadata": {},
   "source": [
    "<h2>Slicing</h2>"
   ]
  },
  {
   "cell_type": "markdown",
   "id": "8740c36a-50e7-4df6-9896-f7efeb8670b4",
   "metadata": {},
   "source": [
    "<h3>Why Slices and Range exclude the Last Item</h3>"
   ]
  },
  {
   "cell_type": "markdown",
   "id": "5c3988d4-580b-4d88-9739-e40585448ee5",
   "metadata": {},
   "source": [
    "Because it's indexed from 0, you'll get the length, but not the last element."
   ]
  },
  {
   "cell_type": "code",
   "execution_count": 37,
   "id": "c0015af0-b905-4301-870c-966504161d74",
   "metadata": {},
   "outputs": [
    {
     "data": {
      "text/plain": [
       "[0, 1, 2, 3, 4]"
      ]
     },
     "execution_count": 37,
     "metadata": {},
     "output_type": "execute_result"
    }
   ],
   "source": [
    "my_list = list(range(5))  # length 5\n",
    "my_list"
   ]
  },
  {
   "cell_type": "code",
   "execution_count": 38,
   "id": "53261dd6-a190-4465-a430-a17ff521f745",
   "metadata": {},
   "outputs": [
    {
     "data": {
      "text/plain": [
       "[0, 1, 2, 3, 4]"
      ]
     },
     "execution_count": 38,
     "metadata": {},
     "output_type": "execute_result"
    }
   ],
   "source": [
    "my_list[:5]  # length 5"
   ]
  },
  {
   "cell_type": "markdown",
   "id": "916ac9de-dda1-49a8-94ce-3763bbac39da",
   "metadata": {},
   "source": [
    "<h3>Slice Objects</h3>"
   ]
  },
  {
   "cell_type": "code",
   "execution_count": 39,
   "id": "e39b1ddd-b7aa-4751-b5ee-8b4634f133d7",
   "metadata": {},
   "outputs": [
    {
     "data": {
      "text/plain": [
       "'bye'"
      ]
     },
     "execution_count": 39,
     "metadata": {},
     "output_type": "execute_result"
    }
   ],
   "source": [
    "s = 'bicycle'\n",
    "s[::3]"
   ]
  },
  {
   "cell_type": "code",
   "execution_count": 40,
   "id": "dfe1a810-5779-4ac8-a33d-0cdb1482ca5a",
   "metadata": {},
   "outputs": [
    {
     "data": {
      "text/plain": [
       "'elcycib'"
      ]
     },
     "execution_count": 40,
     "metadata": {},
     "output_type": "execute_result"
    }
   ],
   "source": [
    "s[::-1]"
   ]
  },
  {
   "cell_type": "code",
   "execution_count": 41,
   "id": "898f0702-1e45-4693-8307-9caca1ea95f2",
   "metadata": {},
   "outputs": [
    {
     "data": {
      "text/plain": [
       "'eccb'"
      ]
     },
     "execution_count": 41,
     "metadata": {},
     "output_type": "execute_result"
    }
   ],
   "source": [
    "s[::-2]"
   ]
  },
  {
   "cell_type": "markdown",
   "id": "c12385b7-7def-44be-a656-4be4e28a48fc",
   "metadata": {},
   "source": [
    "To calculate the expression `seq[start:stop:slice]`, Python calls method `seq.__getitem__(slice(start, stop, step))`"
   ]
  },
  {
   "cell_type": "markdown",
   "id": "e618d993-35d7-4368-8b9e-00bd661879bf",
   "metadata": {},
   "source": [
    "Line items from a flat-line invoice"
   ]
  },
  {
   "cell_type": "code",
   "execution_count": 42,
   "id": "14fe17a1-a7a0-4a72-a04c-de10ed29606f",
   "metadata": {},
   "outputs": [
    {
     "name": "stdout",
     "output_type": "stream",
     "text": [
      "    $17.50   Pimoroni PiBrella                  \n",
      "     $4.95   6mm Tactile Switch x20             \n",
      "    $28.00   Panavise Jr. - PV-201              \n",
      "    $34.95   PiTFT Mini Kit 320x240             \n",
      " \n"
     ]
    }
   ],
   "source": [
    "INVOICE = \"\"\"\n",
    "0....5..................................40........52...55........\n",
    "1909 Pimoroni PiBrella                      $17.50    3    $52.50\n",
    "1489 6mm Tactile Switch x20                  $4.95    2    $9.90\n",
    "1510 Panavise Jr. - PV-201                  $28.00    1    $28.00\n",
    "1601 PiTFT Mini Kit 320x240                 $34.95    1    $34.95\n",
    "\"\"\"\n",
    "\n",
    "SKU = slice(0, 6)\n",
    "DESCRIPTION = slice(5, 40)\n",
    "UNIT_PRICE = slice(40, 52)\n",
    "QUANTITY = slice(52, 55)\n",
    "ITEM_TOTAL = slice(55, None)\n",
    "\n",
    "line_items = INVOICE.split('\\n')[2:]\n",
    "\n",
    "for item in line_items:\n",
    "    print(item[UNIT_PRICE], item[DESCRIPTION])"
   ]
  },
  {
   "cell_type": "markdown",
   "id": "06ae8628-36fd-42fb-b6ff-89e8145686e8",
   "metadata": {},
   "source": [
    "<h3>Assigning to Slices</h3>"
   ]
  },
  {
   "cell_type": "code",
   "execution_count": 43,
   "id": "fc4c4e11-3de6-48af-9968-eb8004260393",
   "metadata": {},
   "outputs": [
    {
     "data": {
      "text/plain": [
       "[0, 1, 2, 3, 4, 5, 6, 7, 8, 9]"
      ]
     },
     "execution_count": 43,
     "metadata": {},
     "output_type": "execute_result"
    }
   ],
   "source": [
    "l = list(range(10))\n",
    "l"
   ]
  },
  {
   "cell_type": "code",
   "execution_count": 44,
   "id": "6bfd52ee-02ea-4251-9b35-727b73864029",
   "metadata": {},
   "outputs": [
    {
     "data": {
      "text/plain": [
       "[0, 1, 20, 30, 5, 6, 7, 8, 9]"
      ]
     },
     "execution_count": 44,
     "metadata": {},
     "output_type": "execute_result"
    }
   ],
   "source": [
    "l[2:5] = [20, 30]\n",
    "l"
   ]
  },
  {
   "cell_type": "code",
   "execution_count": 45,
   "id": "ac23d8cf-4647-4b3b-93b5-579ee9890560",
   "metadata": {},
   "outputs": [
    {
     "data": {
      "text/plain": [
       "[0, 1, 20, 30, 5, 8, 9]"
      ]
     },
     "execution_count": 45,
     "metadata": {},
     "output_type": "execute_result"
    }
   ],
   "source": [
    "del l[5:7]\n",
    "l"
   ]
  },
  {
   "cell_type": "code",
   "execution_count": 46,
   "id": "7ed47616-3c40-456c-b800-9d50b66b4b23",
   "metadata": {},
   "outputs": [
    {
     "data": {
      "text/plain": [
       "[0, 1, 20, 11, 5, 22, 9]"
      ]
     },
     "execution_count": 46,
     "metadata": {},
     "output_type": "execute_result"
    }
   ],
   "source": [
    "l[3::2] = [11, 22]\n",
    "l"
   ]
  },
  {
   "cell_type": "code",
   "execution_count": 47,
   "id": "f731e962-18e2-4ca0-ac6d-a6172b9a5fcb",
   "metadata": {},
   "outputs": [
    {
     "name": "stdout",
     "output_type": "stream",
     "text": [
      "TypeError('can only assign an iterable')\n"
     ]
    }
   ],
   "source": [
    "try:\n",
    "    l[2:5] = 100\n",
    "except TypeError as e:\n",
    "    print(e.__repr__())"
   ]
  },
  {
   "cell_type": "code",
   "execution_count": 48,
   "id": "62ccd1b2-1ea5-4073-9206-02a9fa5a8b72",
   "metadata": {},
   "outputs": [
    {
     "data": {
      "text/plain": [
       "[0, 1, 100, 22, 9]"
      ]
     },
     "execution_count": 48,
     "metadata": {},
     "output_type": "execute_result"
    }
   ],
   "source": [
    "l[2:5] = [100]\n",
    "l"
   ]
  },
  {
   "cell_type": "markdown",
   "id": "102753f1-b955-40bd-b14c-1f4be94da4ce",
   "metadata": {},
   "source": [
    "<h3>Using <code>+</code> and <code>*</code> with Sequences</h3>"
   ]
  },
  {
   "cell_type": "code",
   "execution_count": 49,
   "id": "6be4575e-8936-4b0c-ac34-50f9f72f9ad7",
   "metadata": {},
   "outputs": [
    {
     "data": {
      "text/plain": [
       "[1, 2, 3, 1, 2, 3, 1, 2, 3, 1, 2, 3, 1, 2, 3]"
      ]
     },
     "execution_count": 49,
     "metadata": {},
     "output_type": "execute_result"
    }
   ],
   "source": [
    "l = [1, 2, 3]\n",
    "l * 5"
   ]
  },
  {
   "cell_type": "code",
   "execution_count": 50,
   "id": "e64db2ac-a29e-4fbe-b2ed-a526f3cd4eb6",
   "metadata": {},
   "outputs": [
    {
     "data": {
      "text/plain": [
       "[1, 2, 3, 4, 5, 6]"
      ]
     },
     "execution_count": 50,
     "metadata": {},
     "output_type": "execute_result"
    }
   ],
   "source": [
    "l1 = [4, 5, 6]\n",
    "l + l1"
   ]
  },
  {
   "cell_type": "code",
   "execution_count": 51,
   "id": "8f38a206-cdaf-4744-970b-1a89b4336b31",
   "metadata": {},
   "outputs": [
    {
     "data": {
      "text/plain": [
       "'abc_abc_abc_abc_abc_'"
      ]
     },
     "execution_count": 51,
     "metadata": {},
     "output_type": "execute_result"
    }
   ],
   "source": [
    "5 * 'abc_'"
   ]
  },
  {
   "cell_type": "markdown",
   "id": "eb6597c8-4559-4a1d-8d3b-fc016c08c8c7",
   "metadata": {},
   "source": [
    "<h3>Building a Lists of Lists</h3>"
   ]
  },
  {
   "cell_type": "markdown",
   "id": "acca13f9-94a6-4938-a290-a528a78e8d27",
   "metadata": {},
   "source": [
    "A list with three lists of length 3 can represent a tic-tac-toe board "
   ]
  },
  {
   "cell_type": "code",
   "execution_count": 52,
   "id": "4b012784-ed3b-400b-b55c-5be1fdf3e3a1",
   "metadata": {},
   "outputs": [
    {
     "data": {
      "text/plain": [
       "[['_', '_', '_'], ['_', '_', '_'], ['_', '_', '_']]"
      ]
     },
     "execution_count": 52,
     "metadata": {},
     "output_type": "execute_result"
    }
   ],
   "source": [
    "board = [['_'] * 3 for _ in range(3)]\n",
    "board"
   ]
  },
  {
   "cell_type": "code",
   "execution_count": 53,
   "id": "932c416b-29e0-4581-b4ab-ce897f13363c",
   "metadata": {},
   "outputs": [
    {
     "data": {
      "text/plain": [
       "[['_', '_', '_'], ['_', '_', 'X'], ['_', '_', '_']]"
      ]
     },
     "execution_count": 53,
     "metadata": {},
     "output_type": "execute_result"
    }
   ],
   "source": [
    "board[1][2] = 'X'\n",
    "board"
   ]
  },
  {
   "cell_type": "markdown",
   "id": "9a59c2d3-1b06-461b-8b0e-8b8a4a80b663",
   "metadata": {},
   "source": [
    "A list with three references to the same list is useless"
   ]
  },
  {
   "cell_type": "code",
   "execution_count": 54,
   "id": "2d7f0b4e-dc2e-48a6-b0b8-313b22c885d8",
   "metadata": {},
   "outputs": [
    {
     "data": {
      "text/plain": [
       "[['_', '_', '_'], ['_', '_', '_'], ['_', '_', '_']]"
      ]
     },
     "execution_count": 54,
     "metadata": {},
     "output_type": "execute_result"
    }
   ],
   "source": [
    "weird_board = [['_'] * 3] * 3\n",
    "weird_board"
   ]
  },
  {
   "cell_type": "code",
   "execution_count": 55,
   "id": "a9a1c7d2-23f5-4e10-a884-71868213a5aa",
   "metadata": {},
   "outputs": [
    {
     "data": {
      "text/plain": [
       "[['_', '_', 'O'], ['_', '_', 'O'], ['_', '_', 'O']]"
      ]
     },
     "execution_count": 55,
     "metadata": {},
     "output_type": "execute_result"
    }
   ],
   "source": [
    "weird_board[1][2] = 'O'\n",
    "weird_board"
   ]
  },
  {
   "cell_type": "markdown",
   "id": "c3af8432-80fc-48ee-acb6-84ae2c46575e",
   "metadata": {},
   "source": [
    "`weird_board` works like the folowing code"
   ]
  },
  {
   "cell_type": "code",
   "execution_count": 56,
   "id": "1487ff75-6ccd-428a-889e-6c7448b8a0fa",
   "metadata": {},
   "outputs": [],
   "source": [
    "row = ['_'] * 3\n",
    "weird_board = []\n",
    "for i in range(3):\n",
    "    weird_board.append(row)  # same object is added three times"
   ]
  },
  {
   "cell_type": "markdown",
   "id": "447010ca-57d9-46e7-85ec-5a717ae79e87",
   "metadata": {},
   "source": [
    "`board` works like the following code"
   ]
  },
  {
   "cell_type": "code",
   "execution_count": 57,
   "id": "8c484735-f20e-4109-9a7e-e91d61c44eb3",
   "metadata": {},
   "outputs": [],
   "source": [
    "board = []\n",
    "for i in range(3):\n",
    "    row = ['_'] * 3  # each iteration builds a new row\n",
    "    board.append(row)"
   ]
  },
  {
   "cell_type": "markdown",
   "id": "4893abaa-24ea-4b10-85b0-44410caf3460",
   "metadata": {},
   "source": [
    "<h2>Augmented Assignment with Sequences</h2>"
   ]
  },
  {
   "cell_type": "code",
   "execution_count": 58,
   "id": "490cd8d1-098f-4d3e-b486-719253c22722",
   "metadata": {},
   "outputs": [
    {
     "data": {
      "text/plain": [
       "4434766464"
      ]
     },
     "execution_count": 58,
     "metadata": {},
     "output_type": "execute_result"
    }
   ],
   "source": [
    "l = [1, 2, 3]\n",
    "id(l)  # get list id"
   ]
  },
  {
   "cell_type": "code",
   "execution_count": 59,
   "id": "75106c08-d9cf-4b40-a68c-cb0deff047be",
   "metadata": {},
   "outputs": [
    {
     "data": {
      "text/plain": [
       "[1, 2, 3, 1, 2, 3]"
      ]
     },
     "execution_count": 59,
     "metadata": {},
     "output_type": "execute_result"
    }
   ],
   "source": [
    "l *= 2\n",
    "l"
   ]
  },
  {
   "cell_type": "code",
   "execution_count": 60,
   "id": "9f133f07-dd7e-4ee0-8179-88de812fb312",
   "metadata": {},
   "outputs": [
    {
     "data": {
      "text/plain": [
       "4434766464"
      ]
     },
     "execution_count": 60,
     "metadata": {},
     "output_type": "execute_result"
    }
   ],
   "source": [
    "id(l)  # get list id again"
   ]
  },
  {
   "cell_type": "markdown",
   "id": "bf9c23b5-349f-4cd8-93a3-2ddca52469d2",
   "metadata": {},
   "source": [
    "After multiplication, the list is the same."
   ]
  },
  {
   "cell_type": "code",
   "execution_count": 61,
   "id": "f7416697-39a0-4361-b09b-c5f9bd3be32c",
   "metadata": {},
   "outputs": [
    {
     "data": {
      "text/plain": [
       "4434693568"
      ]
     },
     "execution_count": 61,
     "metadata": {},
     "output_type": "execute_result"
    }
   ],
   "source": [
    "t = (1, 2, 3)\n",
    "id(t)  # get tuple id"
   ]
  },
  {
   "cell_type": "code",
   "execution_count": 62,
   "id": "cbccf6ae-6c51-4f6c-989e-a8d5665029ae",
   "metadata": {},
   "outputs": [
    {
     "data": {
      "text/plain": [
       "(1, 2, 3, 1, 2, 3)"
      ]
     },
     "execution_count": 62,
     "metadata": {},
     "output_type": "execute_result"
    }
   ],
   "source": [
    "t *= 2\n",
    "t"
   ]
  },
  {
   "cell_type": "code",
   "execution_count": 63,
   "id": "9e5dd122-2d44-4fb1-ba1e-b5820e327e5d",
   "metadata": {},
   "outputs": [
    {
     "data": {
      "text/plain": [
       "4433696352"
      ]
     },
     "execution_count": 63,
     "metadata": {},
     "output_type": "execute_result"
    }
   ],
   "source": [
    "id(t)  # get tuple id again"
   ]
  },
  {
   "cell_type": "markdown",
   "id": "d8b667ad-400c-436e-bfe2-a98fcd7d323b",
   "metadata": {},
   "source": [
    "After multiplication, a new tuple is created."
   ]
  },
  {
   "cell_type": "markdown",
   "id": "d6f77109-61e8-4414-921a-a79be962cfd5",
   "metadata": {},
   "source": [
    "<h3>A <code>+=</code> Assigment Puzzler</h3>"
   ]
  },
  {
   "cell_type": "markdown",
   "id": "0a4cd2e6-0e3d-416f-83a7-384478e41ee9",
   "metadata": {},
   "source": [
    "A riddle"
   ]
  },
  {
   "cell_type": "code",
   "execution_count": 64,
   "id": "b256440f-3975-49b3-b4f7-f0d8665664c9",
   "metadata": {},
   "outputs": [
    {
     "name": "stdout",
     "output_type": "stream",
     "text": [
      "TypeError(\"'tuple' object does not support item assignment\")\n"
     ]
    }
   ],
   "source": [
    "t = (1, 2, [30, 40])\n",
    "try:\n",
    "    t[2] += [50, 60]\n",
    "except TypeError as e:\n",
    "    print(e.__repr__())"
   ]
  },
  {
   "cell_type": "markdown",
   "id": "39f94826-72c9-44f4-85c6-be169c3d4cc0",
   "metadata": {},
   "source": [
    "The unexpected result: item `t` is changed and an exception is raised"
   ]
  },
  {
   "cell_type": "code",
   "execution_count": 65,
   "id": "51a1c3c7-7098-4d52-a2d2-280db47e17f3",
   "metadata": {},
   "outputs": [
    {
     "data": {
      "text/plain": [
       "(1, 2, [30, 40, 50, 60])"
      ]
     },
     "execution_count": 65,
     "metadata": {},
     "output_type": "execute_result"
    }
   ],
   "source": [
    "t"
   ]
  },
  {
   "cell_type": "markdown",
   "id": "6732cffc-6d90-47b3-b936-2993b5b506bf",
   "metadata": {},
   "source": [
    "Bytecode for the expression `s[a] += b`"
   ]
  },
  {
   "cell_type": "code",
   "execution_count": 66,
   "id": "bfd0b14c-ff30-4901-8519-07cc4b6b7ef3",
   "metadata": {},
   "outputs": [
    {
     "name": "stdout",
     "output_type": "stream",
     "text": [
      "  0           0 RESUME                   0\n",
      "\n",
      "  1           2 LOAD_NAME                0 (s)\n",
      "              4 LOAD_NAME                1 (a)\n",
      "              6 COPY                     2\n",
      "              8 COPY                     2\n",
      "             10 BINARY_SUBSCR\n",
      "             14 LOAD_NAME                2 (b)\n",
      "             16 BINARY_OP               13 (+=)\n",
      "             20 SWAP                     3\n",
      "             22 SWAP                     2\n",
      "             24 STORE_SUBSCR\n",
      "             28 RETURN_CONST             0 (None)\n"
     ]
    }
   ],
   "source": [
    "import dis\n",
    "\n",
    "\n",
    "dis.dis('s[a] += b')"
   ]
  },
  {
   "cell_type": "markdown",
   "id": "135bea72-ecc9-4744-8f54-6efdb1f0b970",
   "metadata": {},
   "source": [
    "<h2>The Method <code>list.sort()</code> and <code>sorted()</code> Built-in Function</h2>"
   ]
  },
  {
   "cell_type": "markdown",
   "id": "8a9f6f10-9beb-4681-970d-33543e759d4e",
   "metadata": {},
   "source": [
    "`sort()` is a method that sorts the elements of a list in place (modifies the original list).\n",
    "`sorted()` is a built-in function that returns a new sorted list from the elements of any iterable. "
   ]
  },
  {
   "cell_type": "code",
   "execution_count": 67,
   "id": "d334fd17-d22e-4899-8651-47dd19857884",
   "metadata": {},
   "outputs": [
    {
     "data": {
      "text/plain": [
       "['apple', 'banana', 'grape', 'raspberry']"
      ]
     },
     "execution_count": 67,
     "metadata": {},
     "output_type": "execute_result"
    }
   ],
   "source": [
    "fruits = ['grape', 'raspberry', 'apple', 'banana']\n",
    "sorted(fruits)"
   ]
  },
  {
   "cell_type": "code",
   "execution_count": 68,
   "id": "144265b8-7e5b-4aba-a57d-28f96f15fe8d",
   "metadata": {},
   "outputs": [
    {
     "data": {
      "text/plain": [
       "['grape', 'raspberry', 'apple', 'banana']"
      ]
     },
     "execution_count": 68,
     "metadata": {},
     "output_type": "execute_result"
    }
   ],
   "source": [
    "fruits  # original list is not changed"
   ]
  },
  {
   "cell_type": "code",
   "execution_count": 69,
   "id": "ee02bfa9-1a32-4d0d-9277-1150b83f2977",
   "metadata": {},
   "outputs": [
    {
     "data": {
      "text/plain": [
       "['grape', 'apple', 'banana', 'raspberry']"
      ]
     },
     "execution_count": 69,
     "metadata": {},
     "output_type": "execute_result"
    }
   ],
   "source": [
    "sorted(fruits, key=len)"
   ]
  },
  {
   "cell_type": "code",
   "execution_count": 70,
   "id": "401839aa-4f32-4235-be1b-09c324fb58ee",
   "metadata": {},
   "outputs": [
    {
     "data": {
      "text/plain": [
       "['raspberry', 'banana', 'grape', 'apple']"
      ]
     },
     "execution_count": 70,
     "metadata": {},
     "output_type": "execute_result"
    }
   ],
   "source": [
    "sorted(fruits, key=len, reverse=True)"
   ]
  },
  {
   "cell_type": "code",
   "execution_count": 71,
   "id": "66586700-82b2-437f-aa97-17f476017d1f",
   "metadata": {},
   "outputs": [
    {
     "data": {
      "text/plain": [
       "['grape', 'raspberry', 'apple', 'banana']"
      ]
     },
     "execution_count": 71,
     "metadata": {},
     "output_type": "execute_result"
    }
   ],
   "source": [
    "fruits  # original list still unchanged"
   ]
  },
  {
   "cell_type": "code",
   "execution_count": 72,
   "id": "35744b1c-0aa6-43f4-8550-a2b70f3b3b40",
   "metadata": {},
   "outputs": [
    {
     "data": {
      "text/plain": [
       "['apple', 'banana', 'grape', 'raspberry']"
      ]
     },
     "execution_count": 72,
     "metadata": {},
     "output_type": "execute_result"
    }
   ],
   "source": [
    "fruits.sort()\n",
    "fruits  # original list is changed"
   ]
  },
  {
   "cell_type": "markdown",
   "id": "8ee679db-5458-421a-a89a-244b95ede910",
   "metadata": {},
   "source": [
    "<h2>When a List is not the Answer</h2>"
   ]
  },
  {
   "cell_type": "markdown",
   "id": "2d8a9988-5ba5-48f8-9275-7fd8940291ac",
   "metadata": {},
   "source": [
    "<h3>Arrays</h3>"
   ]
  },
  {
   "cell_type": "markdown",
   "id": "21a1b54a-caf0-46d2-b5ff-408fefac7cf1",
   "metadata": {},
   "source": [
    "Creating, saving and loading a large array of floats"
   ]
  },
  {
   "cell_type": "code",
   "execution_count": 73,
   "id": "cfc57f00-1736-4a40-99f7-871f90b71c18",
   "metadata": {},
   "outputs": [
    {
     "data": {
      "text/plain": [
       "0.8190492979077034"
      ]
     },
     "execution_count": 73,
     "metadata": {},
     "output_type": "execute_result"
    }
   ],
   "source": [
    "from array import array\n",
    "from random import random, seed\n",
    "\n",
    "\n",
    "seed(10)  # use to make the output consistent\n",
    "\n",
    "# Generates an array of double-precision floats using 'd' type\n",
    "floats = array('d', (random() for _ in range(10 ** 7)))\n",
    "floats[-1]"
   ]
  },
  {
   "cell_type": "code",
   "execution_count": 74,
   "id": "e11daeca-1d4d-4c5d-8d55-9cab9b50e496",
   "metadata": {},
   "outputs": [],
   "source": [
    "with open('floats.bin', 'wb') as fp:\n",
    "    floats.tofile(fp)"
   ]
  },
  {
   "cell_type": "code",
   "execution_count": 75,
   "id": "e7522e8f-c51f-409c-a30e-687fbe80a2a7",
   "metadata": {},
   "outputs": [
    {
     "data": {
      "text/plain": [
       "0.8190492979077034"
      ]
     },
     "execution_count": 75,
     "metadata": {},
     "output_type": "execute_result"
    }
   ],
   "source": [
    "# Create an empty array of double-precision floating-point numbers\n",
    "floats2 = array('d')\n",
    "\n",
    "with open('floats.bin', 'rb') as fp:\n",
    "    floats2.fromfile(fp, 10 ** 7)   # read 10 million numbers from a binary file\n",
    "\n",
    "floats2[-1]"
   ]
  },
  {
   "cell_type": "code",
   "execution_count": 76,
   "id": "75415716-fbcf-4015-a0a0-530ca547dc86",
   "metadata": {},
   "outputs": [
    {
     "data": {
      "text/plain": [
       "True"
      ]
     },
     "execution_count": 76,
     "metadata": {},
     "output_type": "execute_result"
    }
   ],
   "source": [
    "floats2 == floats"
   ]
  },
  {
   "cell_type": "markdown",
   "id": "c9d15ed9-77db-42a1-95ff-89777ef20e45",
   "metadata": {},
   "source": [
    "<h3>Memory Views</h3>"
   ]
  },
  {
   "cell_type": "markdown",
   "id": "ed705dc5-04ff-4e1c-a054-bcad55188181",
   "metadata": {},
   "source": [
    "`memoryview` is a Python built-in class that offers a non-copying, efficient view into the memory of objects supporting the buffer protocol. It allows direct access to an object's internal data without creating duplicates, enabling efficient manipulation of large data objects like bytes or arrays."
   ]
  },
  {
   "cell_type": "markdown",
   "id": "ea577222-27df-4c22-9094-56ada8b651b1",
   "metadata": {},
   "source": [
    "Hadling 6 bytes memory of as 1x6, 2x3, and 3x2 views"
   ]
  },
  {
   "cell_type": "code",
   "execution_count": 77,
   "id": "2e674002-f593-4299-a616-8be51a71edfd",
   "metadata": {},
   "outputs": [
    {
     "data": {
      "text/plain": [
       "[0, 1, 2, 3, 4, 5]"
      ]
     },
     "execution_count": 77,
     "metadata": {},
     "output_type": "execute_result"
    }
   ],
   "source": [
    "from array import array\n",
    "\n",
    "\n",
    "# Create an array with a 6-byte ('B' type code)\n",
    "octets = array('B', range(6))\n",
    "\n",
    "m1 = memoryview(octets)\n",
    "m1.tolist()"
   ]
  },
  {
   "cell_type": "code",
   "execution_count": 78,
   "id": "c143a5f9-1cdb-4cdc-b1e8-6c488f786b12",
   "metadata": {},
   "outputs": [
    {
     "data": {
      "text/plain": [
       "[[0, 1, 2], [3, 4, 5]]"
      ]
     },
     "execution_count": 78,
     "metadata": {},
     "output_type": "execute_result"
    }
   ],
   "source": [
    "# Create a new memoryview using the previous one, but with 2 rows and 3 columns\n",
    "m2 = m1.cast('B', [2, 3])\n",
    "m2.tolist()"
   ]
  },
  {
   "cell_type": "code",
   "execution_count": 79,
   "id": "bd6015ef-57e8-464f-8573-fec4018322f1",
   "metadata": {},
   "outputs": [
    {
     "data": {
      "text/plain": [
       "[[0, 1], [2, 3], [4, 5]]"
      ]
     },
     "execution_count": 79,
     "metadata": {},
     "output_type": "execute_result"
    }
   ],
   "source": [
    "# Create a new memoryview using the previous one, but with 3 rows and 2 columns\n",
    "m3 = m1.cast('B', [3, 2])\n",
    "m3.tolist()"
   ]
  },
  {
   "cell_type": "code",
   "execution_count": 80,
   "id": "a7475063-68c4-4ebb-a60c-6504acb74009",
   "metadata": {},
   "outputs": [
    {
     "data": {
      "text/plain": [
       "array('B', [0, 1, 2, 33, 22, 5])"
      ]
     },
     "execution_count": 80,
     "metadata": {},
     "output_type": "execute_result"
    }
   ],
   "source": [
    "# Reassign byte in row 1 column 1\n",
    "m2[1, 1] = 22\n",
    "m3[1, 1] = 33\n",
    "\n",
    "octets"
   ]
  },
  {
   "cell_type": "markdown",
   "id": "2ac6140e-b56d-41e4-8be7-1232db0dd827",
   "metadata": {},
   "source": [
    "Changing the value of a 16-bit integer array item by poking one of its bytes"
   ]
  },
  {
   "cell_type": "code",
   "execution_count": 81,
   "id": "19fe0875-a482-41ce-b2e7-5eb01715a3c0",
   "metadata": {},
   "outputs": [
    {
     "data": {
      "text/plain": [
       "[-2, -1, 0, 1, 2]"
      ]
     },
     "execution_count": 81,
     "metadata": {},
     "output_type": "execute_result"
    }
   ],
   "source": [
    "# Generate an array of signed short integers using 'h' type\n",
    "numbers = array('h', [-2, -1, 0, 1, 2])\n",
    "\n",
    "memv = memoryview(numbers)\n",
    "memv.tolist()"
   ]
  },
  {
   "cell_type": "code",
   "execution_count": 82,
   "id": "043aa70b-e6f7-49d0-a7b3-29be4c2287fa",
   "metadata": {},
   "outputs": [
    {
     "data": {
      "text/plain": [
       "5"
      ]
     },
     "execution_count": 82,
     "metadata": {},
     "output_type": "execute_result"
    }
   ],
   "source": [
    "len(memv)"
   ]
  },
  {
   "cell_type": "code",
   "execution_count": 83,
   "id": "314c9b73-0773-4b81-9c57-ff2ffc6bdf38",
   "metadata": {},
   "outputs": [
    {
     "data": {
      "text/plain": [
       "-2"
      ]
     },
     "execution_count": 83,
     "metadata": {},
     "output_type": "execute_result"
    }
   ],
   "source": [
    "memv[0]"
   ]
  },
  {
   "cell_type": "code",
   "execution_count": 84,
   "id": "3af960bf-1268-4715-8f41-4fcddc66dbb8",
   "metadata": {},
   "outputs": [
    {
     "data": {
      "text/plain": [
       "[254, 255, 255, 255, 0, 0, 1, 0, 2, 0]"
      ]
     },
     "execution_count": 84,
     "metadata": {},
     "output_type": "execute_result"
    }
   ],
   "source": [
    "# Create an object by converting elements to type 'B' code\n",
    "memv_oct = memv.cast('B')\n",
    "memv_oct.tolist()"
   ]
  },
  {
   "cell_type": "code",
   "execution_count": 85,
   "id": "dd89b8f2-1602-4093-961b-cc9f1d1d865f",
   "metadata": {},
   "outputs": [
    {
     "data": {
      "text/plain": [
       "array('h', [-2, -1, 1024, 1, 2])"
      ]
     },
     "execution_count": 85,
     "metadata": {},
     "output_type": "execute_result"
    }
   ],
   "source": [
    "memv_oct[5] = 4\n",
    "numbers"
   ]
  },
  {
   "cell_type": "markdown",
   "id": "137d7cca-854f-42a6-9ec0-c2ef9619737b",
   "metadata": {},
   "source": [
    "<h3>NumPy</h3>"
   ]
  },
  {
   "cell_type": "markdown",
   "id": "fc8e154e-952c-43b3-8696-f164783cbf4c",
   "metadata": {},
   "source": [
    "NumPy is a powerful Python library for numerical computations, specifically designed to handle arrays and matrices."
   ]
  },
  {
   "cell_type": "markdown",
   "id": "6a05085c-5024-49f4-a8b5-04f1399c6ab1",
   "metadata": {},
   "source": [
    "Basic operations with rows and columns in a `numpy.ndarray`"
   ]
  },
  {
   "cell_type": "code",
   "execution_count": 86,
   "id": "7d5e4a02-4934-46a1-bfc9-f8eb8c2bf4b2",
   "metadata": {},
   "outputs": [
    {
     "data": {
      "text/plain": [
       "array([ 0,  1,  2,  3,  4,  5,  6,  7,  8,  9, 10, 11])"
      ]
     },
     "execution_count": 86,
     "metadata": {},
     "output_type": "execute_result"
    }
   ],
   "source": [
    "import numpy as np\n",
    "\n",
    "\n",
    "a = np.arange(12)\n",
    "a"
   ]
  },
  {
   "cell_type": "code",
   "execution_count": 87,
   "id": "276b9562-b14f-407f-a3a4-9f897c4f5f6e",
   "metadata": {},
   "outputs": [
    {
     "data": {
      "text/plain": [
       "numpy.ndarray"
      ]
     },
     "execution_count": 87,
     "metadata": {},
     "output_type": "execute_result"
    }
   ],
   "source": [
    "type(a)"
   ]
  },
  {
   "cell_type": "code",
   "execution_count": 88,
   "id": "9b398de6-9adc-411a-ad1f-ae5053558258",
   "metadata": {},
   "outputs": [
    {
     "data": {
      "text/plain": [
       "(12,)"
      ]
     },
     "execution_count": 88,
     "metadata": {},
     "output_type": "execute_result"
    }
   ],
   "source": [
    "# Print the array dimensions\n",
    "a.shape"
   ]
  },
  {
   "cell_type": "code",
   "execution_count": 89,
   "id": "4b8cde70-2f69-481f-a990-bb9f7754e2b5",
   "metadata": {},
   "outputs": [
    {
     "data": {
      "text/plain": [
       "array([[ 0,  1,  2,  3],\n",
       "       [ 4,  5,  6,  7],\n",
       "       [ 8,  9, 10, 11]])"
      ]
     },
     "execution_count": 89,
     "metadata": {},
     "output_type": "execute_result"
    }
   ],
   "source": [
    "# Change arrays form\n",
    "a.shape = 3, 4\n",
    "a"
   ]
  },
  {
   "cell_type": "code",
   "execution_count": 90,
   "id": "c171a083-b22e-4b43-b39d-c768117cbbae",
   "metadata": {},
   "outputs": [
    {
     "data": {
      "text/plain": [
       "array([ 8,  9, 10, 11])"
      ]
     },
     "execution_count": 90,
     "metadata": {},
     "output_type": "execute_result"
    }
   ],
   "source": [
    "a[2]  # get row with index 2"
   ]
  },
  {
   "cell_type": "code",
   "execution_count": 91,
   "id": "fd3b4dd1-3132-4b76-8f08-9ced986fff44",
   "metadata": {},
   "outputs": [
    {
     "data": {
      "text/plain": [
       "9"
      ]
     },
     "execution_count": 91,
     "metadata": {},
     "output_type": "execute_result"
    }
   ],
   "source": [
    "a[2][1]  # get item from row 2, column 1"
   ]
  },
  {
   "cell_type": "code",
   "execution_count": 92,
   "id": "9d77be42-cb98-4050-a450-628c5e57ffcf",
   "metadata": {},
   "outputs": [
    {
     "data": {
      "text/plain": [
       "array([1, 5, 9])"
      ]
     },
     "execution_count": 92,
     "metadata": {},
     "output_type": "execute_result"
    }
   ],
   "source": [
    "a[:, 1]  # get column with index 1"
   ]
  },
  {
   "cell_type": "code",
   "execution_count": 93,
   "id": "acdaef3e-0a63-4d8a-859d-16e3199b874b",
   "metadata": {},
   "outputs": [
    {
     "data": {
      "text/plain": [
       "array([[ 0,  4,  8],\n",
       "       [ 1,  5,  9],\n",
       "       [ 2,  6, 10],\n",
       "       [ 3,  7, 11]])"
      ]
     },
     "execution_count": 93,
     "metadata": {},
     "output_type": "execute_result"
    }
   ],
   "source": [
    "# Create a new array by transposing the original array (rearranging rows and columns)\n",
    "a.transpose()"
   ]
  },
  {
   "cell_type": "markdown",
   "id": "91afa736-4da6-4e22-a8c4-47c92734d113",
   "metadata": {},
   "source": [
    "Loading, saving, and vectorized operations"
   ]
  },
  {
   "cell_type": "code",
   "execution_count": 94,
   "id": "9d37e9e1-fee3-4f7a-85be-a25cc5103e9b",
   "metadata": {},
   "outputs": [],
   "source": [
    "with open('floats-1M-lines.txt', 'wt') as fp:\n",
    "    for _ in range(1000000):\n",
    "        fp.write(f\"{random()}\\n\")"
   ]
  },
  {
   "cell_type": "code",
   "execution_count": 95,
   "id": "0de5f348-dd25-4848-a77b-94f169d95e77",
   "metadata": {},
   "outputs": [],
   "source": [
    "floats = np.loadtxt('floats-1M-lines.txt')"
   ]
  },
  {
   "cell_type": "code",
   "execution_count": 96,
   "id": "b703fc00-a304-4d1a-9f48-6dde3caa09f8",
   "metadata": {},
   "outputs": [
    {
     "data": {
      "text/plain": [
       "array([0.06078257, 0.61741189, 0.84349987])"
      ]
     },
     "execution_count": 96,
     "metadata": {},
     "output_type": "execute_result"
    }
   ],
   "source": [
    "floats[-3:]"
   ]
  },
  {
   "cell_type": "code",
   "execution_count": 97,
   "id": "253b6538-9f03-4a44-adac-4ad5d612d3ea",
   "metadata": {},
   "outputs": [
    {
     "data": {
      "text/plain": [
       "array([0.03039128, 0.30870594, 0.42174994])"
      ]
     },
     "execution_count": 97,
     "metadata": {},
     "output_type": "execute_result"
    }
   ],
   "source": [
    "floats *= 0.5  # multiply each element by 0.5\n",
    "floats[-3:]"
   ]
  },
  {
   "cell_type": "code",
   "execution_count": 98,
   "id": "ccbd089a-73c4-499a-97d0-97864604434f",
   "metadata": {},
   "outputs": [
    {
     "name": "stdout",
     "output_type": "stream",
     "text": [
      "The division process time is 0.002 seconds.\n"
     ]
    }
   ],
   "source": [
    "from time import perf_counter\n",
    "\n",
    "\n",
    "t0 = perf_counter()\n",
    "floats /= 3\n",
    "print(f\"The division process time is {round((perf_counter() - t0), 3)} seconds.\")"
   ]
  },
  {
   "cell_type": "code",
   "execution_count": 99,
   "id": "af8a184e-b942-48a7-bbf6-1e316ad1550f",
   "metadata": {},
   "outputs": [],
   "source": [
    "np.save('floats-1M', floats)"
   ]
  },
  {
   "cell_type": "code",
   "execution_count": 100,
   "id": "6d4e9a71-c960-4ea1-a20e-922054d3b7d9",
   "metadata": {},
   "outputs": [
    {
     "data": {
      "text/plain": [
       "memmap([0.06078257, 0.61741189, 0.84349987])"
      ]
     },
     "execution_count": 100,
     "metadata": {},
     "output_type": "execute_result"
    }
   ],
   "source": [
    "floats2 = np.load('floats-1M.npy', 'r+')\n",
    "floats2 *= 6\n",
    "floats2[-3:]"
   ]
  },
  {
   "cell_type": "markdown",
   "id": "ff337955-61cf-4362-ab07-4328e4da194a",
   "metadata": {},
   "source": [
    "<h3>Deques and Other Queues</h3>"
   ]
  },
  {
   "cell_type": "markdown",
   "id": "ced5371d-7c1a-4720-a8d3-6ebc48e0ef0d",
   "metadata": {},
   "source": [
    "`collections.deque`: Double-ended queue implementation in Python's collections module for efficient and thread-safe manipulation of items with fast appends and pops on both ends."
   ]
  },
  {
   "cell_type": "markdown",
   "id": "e0f24b2e-d0f7-41fc-917c-61b9025df056",
   "metadata": {},
   "source": [
    "Working with deque"
   ]
  },
  {
   "cell_type": "code",
   "execution_count": 101,
   "id": "02263963-fcdb-407c-84ab-0faa510d3f92",
   "metadata": {},
   "outputs": [
    {
     "data": {
      "text/plain": [
       "deque([0, 1, 2, 3, 4, 5, 6, 7, 8, 9], maxlen=10)"
      ]
     },
     "execution_count": 101,
     "metadata": {},
     "output_type": "execute_result"
    }
   ],
   "source": [
    "from collections import deque\n",
    "\n",
    "\n",
    "dq = deque(range(10), maxlen=10)  # the optional argument maxlen= specifies the maximum number of elements\n",
    "dq"
   ]
  },
  {
   "cell_type": "code",
   "execution_count": 102,
   "id": "35b74a4d-7da4-4213-a010-62b405be5bfc",
   "metadata": {},
   "outputs": [
    {
     "data": {
      "text/plain": [
       "deque([7, 8, 9, 0, 1, 2, 3, 4, 5, 6], maxlen=10)"
      ]
     },
     "execution_count": 102,
     "metadata": {},
     "output_type": "execute_result"
    }
   ],
   "source": [
    "dq.rotate(3)  # move 3 elements from one end to other\n",
    "dq"
   ]
  },
  {
   "cell_type": "code",
   "execution_count": 103,
   "id": "375ecf8d-c2d5-46f1-9069-0441e985f2b4",
   "metadata": {},
   "outputs": [
    {
     "data": {
      "text/plain": [
       "deque([0, 1, 2, 3, 4, 5, 6, 7, 8, 9], maxlen=10)"
      ]
     },
     "execution_count": 103,
     "metadata": {},
     "output_type": "execute_result"
    }
   ],
   "source": [
    "dq.rotate(-3)\n",
    "dq"
   ]
  },
  {
   "cell_type": "code",
   "execution_count": 104,
   "id": "e2fd37cd-a04b-4ac0-8d29-e51a56270592",
   "metadata": {},
   "outputs": [
    {
     "data": {
      "text/plain": [
       "deque([-1, 0, 1, 2, 3, 4, 5, 6, 7, 8], maxlen=10)"
      ]
     },
     "execution_count": 104,
     "metadata": {},
     "output_type": "execute_result"
    }
   ],
   "source": [
    "dq.appendleft(-1)\n",
    "dq"
   ]
  },
  {
   "cell_type": "code",
   "execution_count": 105,
   "id": "103b0bdc-df0d-46e2-b4de-9de6ddf3d83a",
   "metadata": {},
   "outputs": [
    {
     "data": {
      "text/plain": [
       "deque([2, 3, 4, 5, 6, 7, 8, 11, 22, 33], maxlen=10)"
      ]
     },
     "execution_count": 105,
     "metadata": {},
     "output_type": "execute_result"
    }
   ],
   "source": [
    "dq.extend([11, 22, 33])\n",
    "dq"
   ]
  },
  {
   "cell_type": "code",
   "execution_count": 106,
   "id": "6cbe9df3-3915-4396-9839-74b517c71001",
   "metadata": {},
   "outputs": [
    {
     "data": {
      "text/plain": [
       "deque([30, 20, 10, 2, 3, 4, 5, 6, 7, 8], maxlen=10)"
      ]
     },
     "execution_count": 106,
     "metadata": {},
     "output_type": "execute_result"
    }
   ],
   "source": [
    "dq.extendleft([10, 20, 30])\n",
    "dq"
   ]
  },
  {
   "cell_type": "markdown",
   "id": "77d14ac4-aec8-4a23-99e8-0abe5aa831be",
   "metadata": {},
   "source": [
    "<h2>Mixed Lists</h2>"
   ]
  },
  {
   "cell_type": "markdown",
   "id": "1fefc345-2bf4-4e6d-a026-4c3c2afacf40",
   "metadata": {},
   "source": [
    "<h3><code>key=</code> is Brilliant</h3>"
   ]
  },
  {
   "cell_type": "code",
   "execution_count": 107,
   "id": "04fa1d84-4833-4455-b41b-99c22bc3bb13",
   "metadata": {},
   "outputs": [
    {
     "name": "stdout",
     "output_type": "stream",
     "text": [
      "TypeError(\"'<' not supported between instances of 'str' and 'int'\")\n"
     ]
    }
   ],
   "source": [
    "l = [28, 14, '28', 5, '9', '1', 0, 6, '23', 19]\n",
    "\n",
    "try:\n",
    "    sorted(l)\n",
    "except TypeError as e:\n",
    "    print(e.__repr__())"
   ]
  },
  {
   "cell_type": "markdown",
   "id": "3208302a-2576-4054-96b0-4d3b428fe6ee",
   "metadata": {},
   "source": [
    "`key=int` sorts list numerically treating elements as integers"
   ]
  },
  {
   "cell_type": "code",
   "execution_count": 108,
   "id": "a8b2fc64-1e91-4c62-a01e-389d84322979",
   "metadata": {},
   "outputs": [
    {
     "data": {
      "text/plain": [
       "[0, '1', 5, 6, '9', 14, 19, '23', 28, '28']"
      ]
     },
     "execution_count": 108,
     "metadata": {},
     "output_type": "execute_result"
    }
   ],
   "source": [
    "sorted(l, key=int)"
   ]
  },
  {
   "cell_type": "markdown",
   "id": "8b48f35f-1068-4254-a08a-127e52ba46c4",
   "metadata": {},
   "source": [
    "`key=str` sorts list lexicographically considering elements as strings"
   ]
  },
  {
   "cell_type": "code",
   "execution_count": 109,
   "id": "702e7346-4615-4220-998e-2eddcb1aa1f1",
   "metadata": {},
   "outputs": [
    {
     "data": {
      "text/plain": [
       "[0, '1', 14, 19, '23', 28, '28', 5, 6, '9']"
      ]
     },
     "execution_count": 109,
     "metadata": {},
     "output_type": "execute_result"
    }
   ],
   "source": [
    "sorted(l, key=str)"
   ]
  }
 ],
 "metadata": {
  "kernelspec": {
   "display_name": "Python 3 (ipykernel)",
   "language": "python",
   "name": "python3"
  },
  "language_info": {
   "codemirror_mode": {
    "name": "ipython",
    "version": 3
   },
   "file_extension": ".py",
   "mimetype": "text/x-python",
   "name": "python",
   "nbconvert_exporter": "python",
   "pygments_lexer": "ipython3",
   "version": "3.12.0"
  }
 },
 "nbformat": 4,
 "nbformat_minor": 5
}
