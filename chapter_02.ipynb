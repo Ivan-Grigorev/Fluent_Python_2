{
 "cells": [
  {
   "cell_type": "markdown",
   "id": "69180627-3307-44ea-8e59-f024a7ba4a1e",
   "metadata": {},
   "source": [
    "<h1>Chapter 02. An Array  Sequences.</h1>"
   ]
  },
  {
   "cell_type": "markdown",
   "id": "e1c1979c-79ae-4d46-9ea6-ec84bec2172a",
   "metadata": {},
   "source": [
    "<h2>List Comprehensions and Generator Expressions</h2>"
   ]
  },
  {
   "cell_type": "markdown",
   "id": "3ba8d895-523a-42b6-8e1a-ea0fa0308a50",
   "metadata": {},
   "source": [
    "Build a list of Unicode codepoints from a string"
   ]
  },
  {
   "cell_type": "code",
   "execution_count": 1,
   "id": "2ffc6ebe-abbe-428e-b854-8052c118e6ca",
   "metadata": {},
   "outputs": [
    {
     "data": {
      "text/plain": [
       "[36, 162, 163, 165, 8364, 164]"
      ]
     },
     "execution_count": 1,
     "metadata": {},
     "output_type": "execute_result"
    }
   ],
   "source": [
    "symbols = '$¢£¥€¤'\n",
    "codes = []\n",
    "\n",
    "for symbol in symbols:\n",
    "    codes.append(ord(symbol))\n",
    "\n",
    "codes"
   ]
  },
  {
   "cell_type": "markdown",
   "id": "5fe92b83-beac-4aad-aea0-9592b7302012",
   "metadata": {},
   "source": [
    "Build a list of Unicodse codepoints from a string using list comprehension"
   ]
  },
  {
   "cell_type": "code",
   "execution_count": 2,
   "id": "3f1b3259-cdb9-4de6-b396-b2e6d533a4c9",
   "metadata": {},
   "outputs": [
    {
     "data": {
      "text/plain": [
       "[36, 162, 163, 165, 8364, 164]"
      ]
     },
     "execution_count": 2,
     "metadata": {},
     "output_type": "execute_result"
    }
   ],
   "source": [
    "symbols = '$¢£¥€¤'\n",
    "codes = [\n",
    "    ord(symbol) for symbol in symbols\n",
    "]\n",
    "\n",
    "codes"
   ]
  },
  {
   "cell_type": "markdown",
   "id": "0107cdbe-1605-4708-9e51-12fc41b2f8bd",
   "metadata": {},
   "source": [
    "The same list built by a listcomp and map/filter composition"
   ]
  },
  {
   "cell_type": "code",
   "execution_count": 3,
   "id": "a04c826b-0a0a-4494-9b33-81d80a4adacf",
   "metadata": {},
   "outputs": [
    {
     "data": {
      "text/plain": [
       "[162, 163, 165, 8364, 164]"
      ]
     },
     "execution_count": 3,
     "metadata": {},
     "output_type": "execute_result"
    }
   ],
   "source": [
    "symbols = '$¢£¥€¤'\n",
    "beyond_ascii = [\n",
    "    ord(s) for s in symbols if ord(s) > 127\n",
    "]\n",
    "\n",
    "beyond_ascii"
   ]
  },
  {
   "cell_type": "code",
   "execution_count": 4,
   "id": "c0af503b-16e6-4d06-85e9-bccf1b5fff0a",
   "metadata": {},
   "outputs": [
    {
     "data": {
      "text/plain": [
       "[162, 163, 165, 8364, 164]"
      ]
     },
     "execution_count": 4,
     "metadata": {},
     "output_type": "execute_result"
    }
   ],
   "source": [
    "symbols = '$¢£¥€¤'\n",
    "beyond_ascii = list(filter(lambda c: c > 127, map(ord, symbols)))\n",
    "\n",
    "beyond_ascii"
   ]
  },
  {
   "cell_type": "markdown",
   "id": "34658c43-a8f4-4992-80a2-e3bc4bbf6bec",
   "metadata": {},
   "source": [
    "Cartesian product usin a list comprehension"
   ]
  },
  {
   "cell_type": "code",
   "execution_count": 5,
   "id": "fb2c3467-5304-45f3-8921-04596c5f9793",
   "metadata": {},
   "outputs": [
    {
     "data": {
      "text/plain": [
       "[('black', 'S'),\n",
       " ('black', 'M'),\n",
       " ('black', 'L'),\n",
       " ('white', 'S'),\n",
       " ('white', 'M'),\n",
       " ('white', 'L')]"
      ]
     },
     "execution_count": 5,
     "metadata": {},
     "output_type": "execute_result"
    }
   ],
   "source": [
    "colors = ['black', 'white']\n",
    "sizes = ['S', 'M', 'L']\n",
    "\n",
    "tshirts = [\n",
    "    (color, size) for color in colors\n",
    "    for size in sizes\n",
    "]\n",
    "\n",
    "tshirts"
   ]
  },
  {
   "cell_type": "code",
   "execution_count": 6,
   "id": "405283c5-a555-4494-bf22-d65c71a9a0b1",
   "metadata": {},
   "outputs": [
    {
     "name": "stdout",
     "output_type": "stream",
     "text": [
      "('black', 'S')\n",
      "('black', 'M')\n",
      "('black', 'L')\n",
      "('white', 'S')\n",
      "('white', 'M')\n",
      "('white', 'L')\n"
     ]
    }
   ],
   "source": [
    "for color in colors:\n",
    "    for size in sizes:\n",
    "        print((color, size))"
   ]
  },
  {
   "cell_type": "code",
   "execution_count": 7,
   "id": "bca92cc1-f49a-4264-93e9-7f1b9f07d82e",
   "metadata": {},
   "outputs": [
    {
     "data": {
      "text/plain": [
       "[('black', 'S'),\n",
       " ('white', 'S'),\n",
       " ('black', 'M'),\n",
       " ('white', 'M'),\n",
       " ('black', 'L'),\n",
       " ('white', 'L')]"
      ]
     },
     "execution_count": 7,
     "metadata": {},
     "output_type": "execute_result"
    }
   ],
   "source": [
    "tshirts = [\n",
    "    (color, size) for size in sizes\n",
    "    for color in colors\n",
    "]\n",
    "\n",
    "tshirts"
   ]
  },
  {
   "cell_type": "markdown",
   "id": "d22096ba-d0c9-45b9-934e-42d152790d48",
   "metadata": {},
   "source": [
    "Initializing a tuple and an array from a generator expression"
   ]
  },
  {
   "cell_type": "code",
   "execution_count": 8,
   "id": "47699e2d-d9af-46dc-a146-cfdfc8b667a3",
   "metadata": {},
   "outputs": [
    {
     "data": {
      "text/plain": [
       "(36, 162, 163, 165, 8364, 164)"
      ]
     },
     "execution_count": 8,
     "metadata": {},
     "output_type": "execute_result"
    }
   ],
   "source": [
    "symbols = '$¢£¥€¤'\n",
    "tuple(ord(symbol) for symbol in symbols)"
   ]
  },
  {
   "cell_type": "code",
   "execution_count": 9,
   "id": "5cbd686c-5f01-4d90-be17-17df543ca8ba",
   "metadata": {},
   "outputs": [
    {
     "data": {
      "text/plain": [
       "array('I', [36, 162, 163, 165, 8364, 164])"
      ]
     },
     "execution_count": 9,
     "metadata": {},
     "output_type": "execute_result"
    }
   ],
   "source": [
    "import array\n",
    "\n",
    "\n",
    "array.array('I', (ord(symbol) for symbol in symbols))"
   ]
  },
  {
   "cell_type": "markdown",
   "id": "811ba25d-3444-4628-9a71-f1407e5678af",
   "metadata": {},
   "source": [
    "Cartesian product in a generator expression"
   ]
  },
  {
   "cell_type": "code",
   "execution_count": 10,
   "id": "7564c0ce-9be8-44bb-8d5c-2dd82e879552",
   "metadata": {},
   "outputs": [
    {
     "name": "stdout",
     "output_type": "stream",
     "text": [
      "black S\n",
      "black M\n",
      "black L\n",
      "white S\n",
      "white M\n",
      "white L\n"
     ]
    }
   ],
   "source": [
    "colors = ['black', 'white']\n",
    "sizes = ['S', 'M', 'L']\n",
    "\n",
    "for tshirt in (f'{c} {s}' for c in colors for s in sizes):\n",
    "    print(tshirt)"
   ]
  },
  {
   "cell_type": "markdown",
   "id": "e529f9f6-9a0a-44d0-b905-626d6c51539e",
   "metadata": {},
   "source": [
    "<h2>Tuples are not only Immutable Lists</h2>"
   ]
  },
  {
   "cell_type": "markdown",
   "id": "fe26af77-70ed-4992-b96d-800956f049eb",
   "metadata": {},
   "source": [
    "Tuples used as records"
   ]
  },
  {
   "cell_type": "code",
   "execution_count": 11,
   "id": "19fb0e11-287f-4e9f-9715-1216b112511e",
   "metadata": {},
   "outputs": [
    {
     "name": "stdout",
     "output_type": "stream",
     "text": [
      "BRA/CE342567\n",
      "ESP/XDA205856\n",
      "USA/31195855\n"
     ]
    }
   ],
   "source": [
    "lax_coordinates = (33.9425, -118.408056)\n",
    "city, year, pop, chg, area = ('Tokyo', 2003, 32_450, 0.66, 8014)\n",
    "traveler_ids = [\n",
    "    ('USA', '31195855'),\n",
    "    ('BRA', 'CE342567'),\n",
    "    ('ESP', 'XDA205856')\n",
    "]\n",
    "\n",
    "for passport in sorted(traveler_ids):\n",
    "    print('%s/%s' % passport)"
   ]
  },
  {
   "cell_type": "code",
   "execution_count": 12,
   "id": "08d5a028-cfb7-476b-8588-05cd231632a6",
   "metadata": {},
   "outputs": [
    {
     "name": "stdout",
     "output_type": "stream",
     "text": [
      "USA\n",
      "BRA\n",
      "ESP\n"
     ]
    }
   ],
   "source": [
    "for country, _ in traveler_ids:\n",
    "    print(country)"
   ]
  },
  {
   "cell_type": "markdown",
   "id": "4687b2ab-3aae-4844-9a6f-834509d23e54",
   "metadata": {},
   "source": [
    "Tuples as Immutable Lists"
   ]
  },
  {
   "cell_type": "code",
   "execution_count": 13,
   "id": "8e03d07a-3f1d-4c53-b437-a349ef3d00e5",
   "metadata": {},
   "outputs": [
    {
     "data": {
      "text/plain": [
       "True"
      ]
     },
     "execution_count": 13,
     "metadata": {},
     "output_type": "execute_result"
    }
   ],
   "source": [
    "a = (10, 'alpha', [1, 2])\n",
    "b = (10, 'alpha', [1, 2])\n",
    "a == b"
   ]
  },
  {
   "cell_type": "code",
   "execution_count": 14,
   "id": "30489a30-4740-456e-8711-e6cc896a9fa0",
   "metadata": {},
   "outputs": [
    {
     "data": {
      "text/plain": [
       "False"
      ]
     },
     "execution_count": 14,
     "metadata": {},
     "output_type": "execute_result"
    }
   ],
   "source": [
    "b[-1].append(99)\n",
    "a == b"
   ]
  },
  {
   "cell_type": "code",
   "execution_count": 15,
   "id": "2625f7f5-c5e2-445f-b77a-6ef0e2913934",
   "metadata": {},
   "outputs": [
    {
     "data": {
      "text/plain": [
       "(10, 'alpha', [1, 2, 99])"
      ]
     },
     "execution_count": 15,
     "metadata": {},
     "output_type": "execute_result"
    }
   ],
   "source": [
    "b"
   ]
  },
  {
   "cell_type": "code",
   "execution_count": 16,
   "id": "18cf7b45-bbc6-4a14-98cd-e8e9b15e1930",
   "metadata": {},
   "outputs": [
    {
     "data": {
      "text/plain": [
       "True"
      ]
     },
     "execution_count": 16,
     "metadata": {},
     "output_type": "execute_result"
    }
   ],
   "source": [
    "def fixed(o):\n",
    "    try:\n",
    "        hash(o)\n",
    "    except TypeError:\n",
    "        return False\n",
    "    return True\n",
    "\n",
    "tf = (10, 'alpha', (1, 2))  # contains no mutable items\n",
    "tm = (10, 'alpha', [1, 2])  # contains a mutable items (list)\n",
    "fixed(tf)"
   ]
  },
  {
   "cell_type": "code",
   "execution_count": 17,
   "id": "778d2306-cb84-4230-89b7-4195298a7c29",
   "metadata": {},
   "outputs": [
    {
     "data": {
      "text/plain": [
       "False"
      ]
     },
     "execution_count": 17,
     "metadata": {},
     "output_type": "execute_result"
    }
   ],
   "source": [
    "fixed(tm)"
   ]
  },
  {
   "cell_type": "markdown",
   "id": "ad1280ee-2abb-48c9-a3cd-9d420123b075",
   "metadata": {},
   "source": [
    "<h2>Unpacking Sequences and Iterables</h2>"
   ]
  },
  {
   "cell_type": "code",
   "execution_count": 18,
   "id": "83ab3e62-fee2-4c89-81f8-e48caa1fc0cb",
   "metadata": {},
   "outputs": [],
   "source": [
    "lax_coordinates = (33.9425, -118.408056)\n",
    "latitude, longitude = lax_coordinates  # unpacking"
   ]
  },
  {
   "cell_type": "code",
   "execution_count": 19,
   "id": "cb5300c2-142e-4cd8-9afc-f3b2077cbfbd",
   "metadata": {},
   "outputs": [
    {
     "data": {
      "text/plain": [
       "33.9425"
      ]
     },
     "execution_count": 19,
     "metadata": {},
     "output_type": "execute_result"
    }
   ],
   "source": [
    "latitude"
   ]
  },
  {
   "cell_type": "code",
   "execution_count": 20,
   "id": "21e397dc-6b54-4126-800e-844401f35741",
   "metadata": {},
   "outputs": [
    {
     "data": {
      "text/plain": [
       "-118.408056"
      ]
     },
     "execution_count": 20,
     "metadata": {},
     "output_type": "execute_result"
    }
   ],
   "source": [
    "longitude"
   ]
  },
  {
   "cell_type": "code",
   "execution_count": 21,
   "id": "c33cbc08-2c28-4466-bd1f-ab45d27c183c",
   "metadata": {},
   "outputs": [
    {
     "data": {
      "text/plain": [
       "(2, 4)"
      ]
     },
     "execution_count": 21,
     "metadata": {},
     "output_type": "execute_result"
    }
   ],
   "source": [
    "divmod(20, 8)"
   ]
  },
  {
   "cell_type": "code",
   "execution_count": 22,
   "id": "549f1c3a-4361-447b-98d7-c530f15f5d03",
   "metadata": {},
   "outputs": [
    {
     "data": {
      "text/plain": [
       "(2, 4)"
      ]
     },
     "execution_count": 22,
     "metadata": {},
     "output_type": "execute_result"
    }
   ],
   "source": [
    "t = (20, 8)\n",
    "divmod(*t)"
   ]
  },
  {
   "cell_type": "code",
   "execution_count": 23,
   "id": "9c9b9468-51b2-41b5-85bd-8036440e7fec",
   "metadata": {},
   "outputs": [
    {
     "data": {
      "text/plain": [
       "(2, 4)"
      ]
     },
     "execution_count": 23,
     "metadata": {},
     "output_type": "execute_result"
    }
   ],
   "source": [
    "quotient, reminder = divmod(*t)\n",
    "quotient, reminder"
   ]
  },
  {
   "cell_type": "markdown",
   "id": "2ca641e4-fa3a-48a2-9b13-81d675d7183d",
   "metadata": {},
   "source": [
    "<h3>Using * to grab excess items</h3>"
   ]
  },
  {
   "cell_type": "code",
   "execution_count": 26,
   "id": "d97a3808-0f67-474e-a04a-7656b35279f8",
   "metadata": {},
   "outputs": [
    {
     "data": {
      "text/plain": [
       "(0, 1, [2, 3, 4])"
      ]
     },
     "execution_count": 26,
     "metadata": {},
     "output_type": "execute_result"
    }
   ],
   "source": [
    "a, b, *rest = range(5)\n",
    "a, b, rest"
   ]
  },
  {
   "cell_type": "code",
   "execution_count": 27,
   "id": "5b5c62e7-1c8d-440c-84e4-5a4aac616171",
   "metadata": {},
   "outputs": [
    {
     "data": {
      "text/plain": [
       "(0, 1, [2])"
      ]
     },
     "execution_count": 27,
     "metadata": {},
     "output_type": "execute_result"
    }
   ],
   "source": [
    "a, b, *rest = range(3)\n",
    "a, b, rest"
   ]
  },
  {
   "cell_type": "code",
   "execution_count": 28,
   "id": "4547613a-18f1-4850-bc6a-9d314c1a9755",
   "metadata": {},
   "outputs": [
    {
     "data": {
      "text/plain": [
       "(0, 1, [])"
      ]
     },
     "execution_count": 28,
     "metadata": {},
     "output_type": "execute_result"
    }
   ],
   "source": [
    "a, b, *rest = range(2)\n",
    "a, b, rest"
   ]
  },
  {
   "cell_type": "code",
   "execution_count": 29,
   "id": "0a7b6c51-4d06-43b5-b317-d3c35da102e2",
   "metadata": {},
   "outputs": [
    {
     "data": {
      "text/plain": [
       "(0, [1, 2], 3, 4)"
      ]
     },
     "execution_count": 29,
     "metadata": {},
     "output_type": "execute_result"
    }
   ],
   "source": [
    "a, *body, c, d = range(5)\n",
    "a, body, c, d"
   ]
  },
  {
   "cell_type": "code",
   "execution_count": 30,
   "id": "f01c3448-51e4-4ebe-b127-d9b8800b82c4",
   "metadata": {},
   "outputs": [
    {
     "data": {
      "text/plain": [
       "([0, 1], 2, 3, 4)"
      ]
     },
     "execution_count": 30,
     "metadata": {},
     "output_type": "execute_result"
    }
   ],
   "source": [
    "*head, b, c, d = range(5)\n",
    "head, b, c, d"
   ]
  },
  {
   "cell_type": "markdown",
   "id": "538ac613-1d10-4d26-939a-c35daf1a585e",
   "metadata": {},
   "source": [
    "<h3>Unpacking with * in function calls and sequence literals</h3>"
   ]
  },
  {
   "cell_type": "code",
   "execution_count": 32,
   "id": "7f53494c-e050-4f41-9c0e-20693dc050bd",
   "metadata": {},
   "outputs": [
    {
     "data": {
      "text/plain": [
       "(1, 2, 3, 4, (5, 6))"
      ]
     },
     "execution_count": 32,
     "metadata": {},
     "output_type": "execute_result"
    }
   ],
   "source": [
    "def fun(a, b, c, d, *rest):\n",
    "    return a, b, c, d, rest\n",
    "\n",
    "fun(*[1, 2], 3, *range(4, 7))"
   ]
  },
  {
   "cell_type": "code",
   "execution_count": 33,
   "id": "3787b7bc-55e2-4dbf-af3d-96405d6fc163",
   "metadata": {},
   "outputs": [
    {
     "data": {
      "text/plain": [
       "(0, 1, 2, 3, 4)"
      ]
     },
     "execution_count": 33,
     "metadata": {},
     "output_type": "execute_result"
    }
   ],
   "source": [
    "*range(4), 4"
   ]
  },
  {
   "cell_type": "code",
   "execution_count": 34,
   "id": "f4a9530c-2bd3-491c-a286-7c4e3e789311",
   "metadata": {},
   "outputs": [
    {
     "data": {
      "text/plain": [
       "[0, 1, 2, 3, 4]"
      ]
     },
     "execution_count": 34,
     "metadata": {},
     "output_type": "execute_result"
    }
   ],
   "source": [
    "[*range(4), 4]"
   ]
  },
  {
   "cell_type": "code",
   "execution_count": 35,
   "id": "161d3956-25f5-469d-873a-dacb85991d86",
   "metadata": {},
   "outputs": [
    {
     "data": {
      "text/plain": [
       "{0, 1, 2, 3, 4, 5, 6, 7}"
      ]
     },
     "execution_count": 35,
     "metadata": {},
     "output_type": "execute_result"
    }
   ],
   "source": [
    "{*range(4), 4, *(5, 6, 7)}"
   ]
  },
  {
   "cell_type": "markdown",
   "id": "55134179-8ad4-497c-9186-d2400538058e",
   "metadata": {},
   "source": [
    "<h3>Unpacking nested objects</h3>"
   ]
  },
  {
   "cell_type": "markdown",
   "id": "edb1b9d7-e097-41d1-bbd7-2d3d29e6dc3f",
   "metadata": {},
   "source": [
    "Unpacking nested tuples to access the longitude"
   ]
  },
  {
   "cell_type": "code",
   "execution_count": 40,
   "id": "669f64c0-36e9-4256-8092-f2642b7000e2",
   "metadata": {},
   "outputs": [
    {
     "name": "stdout",
     "output_type": "stream",
     "text": [
      "                |  latitude | longitude\n",
      "Mexico City     |   19.4333 |  -99.1333\n",
      "New York-Newark |   40.8086 |  -74.0204\n",
      "São Paulo       |  -23.5478 |  -46.6358\n"
     ]
    }
   ],
   "source": [
    "METRO_AREAS = [\n",
    "    ('Tokyo', 'JP', 36.933, (35.689722, 139.691667)),\n",
    "    ('Delhi NCR', 'IN', 21.935, (28.613889, 77.208889)),\n",
    "    ('Mexico City', 'MX', 20.142, (19.433333, -99.133333)),\n",
    "    ('New York-Newark', 'US', 20.104, (40.808611, -74.020386)),\n",
    "    ('São Paulo', 'BR', 19.649, (-23.547778, -46.635833))\n",
    "]\n",
    "\n",
    "\n",
    "def main():\n",
    "    print(f\"{'':15} | {'latitude':>9} | {'longitude':>9}\")\n",
    "    \n",
    "    for name, _, _, (lat, lon) in METRO_AREAS:\n",
    "        if lon <= 0:  # only megacities in the Western hemisphere\n",
    "            print(f\"{name:15} | {lat:9.4f} | {lon:9.4f}\")\n",
    "\n",
    "\n",
    "if __name__ == '__main__':\n",
    "    main()   "
   ]
  },
  {
   "cell_type": "markdown",
   "id": "7946b897-1b5d-4bae-96b2-d5a231ff30a2",
   "metadata": {},
   "source": [
    "<h2>Pattern matching with Sequences</h2>"
   ]
  },
  {
   "cell_type": "markdown",
   "id": "53c5ba87-45ec-4313-ae4b-685e3f574ff1",
   "metadata": {},
   "source": [
    "Method from an imaginary Robot class"
   ]
  },
  {
   "cell_type": "code",
   "execution_count": 41,
   "id": "5db22b40-5d3e-46f2-97fc-a4866150c99f",
   "metadata": {},
   "outputs": [],
   "source": [
    "# class Robot:\n",
    "\n",
    "#     def handle_command(self, message):\n",
    "#         match message:\n",
    "#             case ['BEEPER', frequency, times]:\n",
    "#                 self.beep(times, frequency)\n",
    "#             case ['NECK', angle]:\n",
    "#                 self.rotate_neck(angle)\n",
    "#             case ['LED', ident, intensity]:\n",
    "#                 self.leds[ident].set_brightness(ident, intensity)\n",
    "#             case ['LED', ident, red, green, blue]:\n",
    "#                 self.leds[ident].set_color(ident, red, green, blue)\n",
    "#             case _:\n",
    "#                 raise InvalidCommand(message)"
   ]
  },
  {
   "cell_type": "markdown",
   "id": "c749b592-c654-4b42-a28b-4ee4feabb470",
   "metadata": {},
   "source": [
    "Destructuring nested tuples (requires Python >= 3.10)"
   ]
  },
  {
   "cell_type": "code",
   "execution_count": 43,
   "id": "9c594bee-53e2-4393-8831-191e11affecb",
   "metadata": {},
   "outputs": [
    {
     "name": "stdout",
     "output_type": "stream",
     "text": [
      "                |  latitude | longitude\n",
      "Mexico City     |   19.4333 |  -99.1333\n",
      "New York-Newark |   40.8086 |  -74.0204\n",
      "São Paulo       |  -23.5478 |  -46.6358\n"
     ]
    }
   ],
   "source": [
    "METRO_AREAS = [\n",
    "    ('Tokyo', 'JP', 36.933, (35.689722, 139.691667)),\n",
    "    ('Delhi NCR', 'IN', 21.935, (28.613889, 77.208889)),\n",
    "    ('Mexico City', 'MX', 20.142, (19.433333, -99.133333)),\n",
    "    ('New York-Newark', 'US', 20.104, (40.808611, -74.020386)),\n",
    "    ('São Paulo', 'BR', 19.649, (-23.547778, -46.635833))\n",
    "]\n",
    "\n",
    "\n",
    "# using match/case\n",
    "def main():\n",
    "    print(f\"{'':15} | {'latitude':>9} | {'longitude':>9}\")\n",
    "\n",
    "    for record in METRO_AREAS:\n",
    "        match record:\n",
    "            case [name, _, _, (lat, lon)] if lon <= 0:\n",
    "                print(f\"{name:15} | {lat:9.4f} | {lon:9.4f}\")\n",
    "\n",
    "\n",
    "if __name__ == '__main__':\n",
    "    main()"
   ]
  },
  {
   "cell_type": "code",
   "execution_count": null,
   "id": "79da10c4-b2b0-4692-a3cf-e0c6c877d3ef",
   "metadata": {},
   "outputs": [],
   "source": []
  }
 ],
 "metadata": {
  "kernelspec": {
   "display_name": "Python 3 (ipykernel)",
   "language": "python",
   "name": "python3"
  },
  "language_info": {
   "codemirror_mode": {
    "name": "ipython",
    "version": 3
   },
   "file_extension": ".py",
   "mimetype": "text/x-python",
   "name": "python",
   "nbconvert_exporter": "python",
   "pygments_lexer": "ipython3",
   "version": "3.12.0"
  }
 },
 "nbformat": 4,
 "nbformat_minor": 5
}
